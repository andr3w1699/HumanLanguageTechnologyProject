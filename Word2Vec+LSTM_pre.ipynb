{
  "nbformat": 4,
  "nbformat_minor": 0,
  "metadata": {
    "colab": {
      "provenance": [],
      "gpuType": "L4"
    },
    "kernelspec": {
      "name": "python3",
      "display_name": "Python 3"
    },
    "language_info": {
      "name": "python"
    },
    "accelerator": "GPU"
  },
  "cells": [
    {
      "cell_type": "markdown",
      "source": [
        "# Word2Vec + LSTM\n",
        "\n",
        "In this notebook, we implement an approach that combines Word2Vec and LSTM to tackle sentiment classification on our dataset. The rationale behind this method is to leverage the strengths of both techniques: Word2Vec for capturing semantic relationships between words by representing them in a continuous vector space, and LSTM for modeling the sequential nature and contextual dependencies within the text."
      ],
      "metadata": {
        "id": "iZX3hEsfQW8z"
      }
    },
    {
      "cell_type": "code",
      "execution_count": 1,
      "metadata": {
        "id": "CLrcGAoxyI8N"
      },
      "outputs": [],
      "source": [
        "!pip install -q gdown gensim"
      ]
    },
    {
      "cell_type": "code",
      "source": [
        "# import\n",
        "import tarfile\n",
        "import pandas as pd\n",
        "import matplotlib.pyplot as plt\n",
        "import numpy as np\n",
        "import gdown\n",
        "from tensorflow.keras.preprocessing.text import Tokenizer\n",
        "from tensorflow.keras.preprocessing.sequence import pad_sequences\n",
        "from tensorflow.keras.layers import LSTM, Dense, Embedding\n",
        "from tensorflow.keras.models import Sequential\n",
        "from sklearn.model_selection import train_test_split\n",
        "from sklearn.metrics import classification_report, confusion_matrix\n",
        "from gensim.models import KeyedVectors"
      ],
      "metadata": {
        "id": "onVZmNvjyWcj"
      },
      "execution_count": 2,
      "outputs": []
    },
    {
      "cell_type": "markdown",
      "source": [
        "# Load Dataset, Data Understanding"
      ],
      "metadata": {
        "id": "WAP_VUVVy9ND"
      }
    },
    {
      "cell_type": "markdown",
      "source": [
        "In this section, we download a 500k-row subset of the Amazon Review Full dataset from Google Drive. The dataset is preprocessed."
      ],
      "metadata": {
        "id": "ZU1c5MTWV6Z4"
      }
    },
    {
      "cell_type": "code",
      "source": [
        "file_id = '1-37ppWxcfONOFxooGUIulpp6y1h_af2f'\n",
        "output_name = 'dataset_v2_500K_p.csv'\n",
        "\n",
        "!gdown --id {file_id} -O {output_name}"
      ],
      "metadata": {
        "colab": {
          "base_uri": "https://localhost:8080/"
        },
        "id": "-WBpvfI-zIuy",
        "outputId": "19fbef19-0e53-42ad-ff73-1d0a0be189de"
      },
      "execution_count": 3,
      "outputs": [
        {
          "output_type": "stream",
          "name": "stdout",
          "text": [
            "/usr/local/lib/python3.11/dist-packages/gdown/__main__.py:140: FutureWarning: Option `--id` was deprecated in version 4.3.1 and will be removed in 5.0. You don't need to pass it anymore to use a file ID.\n",
            "  warnings.warn(\n",
            "Downloading...\n",
            "From (original): https://drive.google.com/uc?id=1-37ppWxcfONOFxooGUIulpp6y1h_af2f\n",
            "From (redirected): https://drive.google.com/uc?id=1-37ppWxcfONOFxooGUIulpp6y1h_af2f&confirm=t&uuid=0a2f4b10-a52f-42c2-b593-2798da1f6179\n",
            "To: /content/dataset_v2_500K_p.csv\n",
            "100% 141M/141M [00:00<00:00, 201MB/s]\n"
          ]
        }
      ]
    },
    {
      "cell_type": "code",
      "source": [
        "# Set options to show full text and all rows\n",
        "pd.set_option('display.max_colwidth', None)\n",
        "# Read the training data into a DataFrame\n",
        "df_train = pd.read_csv('dataset_v2_500K_p.csv', header=None)\n",
        "df_train.columns = ['Text', 'Rating']\n",
        "# Display the first few rows\n",
        "df_train.head()"
      ],
      "metadata": {
        "colab": {
          "base_uri": "https://localhost:8080/",
          "height": 277
        },
        "id": "9dM8WUH6zUAU",
        "outputId": "e13757c0-3ee6-4b9e-a631-113621d63abd"
      },
      "execution_count": 4,
      "outputs": [
        {
          "output_type": "stream",
          "name": "stderr",
          "text": [
            "<ipython-input-4-017c3f3f5487>:4: DtypeWarning: Columns (1) have mixed types. Specify dtype option on import or set low_memory=False.\n",
            "  df_train = pd.read_csv('dataset_v2_500K_p.csv', header=None)\n"
          ]
        },
        {
          "output_type": "execute_result",
          "data": {
            "text/plain": [
              "                                                                                                                                                                                                                                                                                                                                                                                                                                                              Text  \\\n",
              "0                                                                                                                                                                                                                                                                                                                                                                                                                                                             Text   \n",
              "1                                                                                                               no lonesome dove lonesome dive one good book ever read dead man walk can not hold candle ranger portray bumble idiot capture ambush easily pick baby especially not like end think call gus would buffalo hump not not spoil end still good read no lonesome dove street laredo excellent read find garage sale thrift store cheap price mean pick   \n",
              "2                                                                                                                                                                                                                     not hoping not expect magicali pretty easy tool not toughon one stuck bolt first one use break without even give fight nd one grab well bu bent like piece licoricei would recommend lightduty workfortunately amazon amazing return process   \n",
              "3                                                                                                                                                                                                                                                                                                                                                                                roof bag bag hold good however not waterproof dry clothe arrive atour destination   \n",
              "4  suspensful truly read review write previous reader book read book intrigue ultimately premise story bengal tiger lose north georgia awesome all_caps read first half story find comparison movie jaw mystique suspense great story tell depict warner speilber second half story wander bit root go metaphorical shift one manhood truly wish many read story could not put _ also jim grahams character story truly charasmatic geniune read all_caps all_caps   \n",
              "\n",
              "   Rating  \n",
              "0  Rating  \n",
              "1       3  \n",
              "2       2  \n",
              "3       2  \n",
              "4       5  "
            ],
            "text/html": [
              "\n",
              "  <div id=\"df-e6a8d8fb-8d77-4922-98b4-4a5e0609d0c4\" class=\"colab-df-container\">\n",
              "    <div>\n",
              "<style scoped>\n",
              "    .dataframe tbody tr th:only-of-type {\n",
              "        vertical-align: middle;\n",
              "    }\n",
              "\n",
              "    .dataframe tbody tr th {\n",
              "        vertical-align: top;\n",
              "    }\n",
              "\n",
              "    .dataframe thead th {\n",
              "        text-align: right;\n",
              "    }\n",
              "</style>\n",
              "<table border=\"1\" class=\"dataframe\">\n",
              "  <thead>\n",
              "    <tr style=\"text-align: right;\">\n",
              "      <th></th>\n",
              "      <th>Text</th>\n",
              "      <th>Rating</th>\n",
              "    </tr>\n",
              "  </thead>\n",
              "  <tbody>\n",
              "    <tr>\n",
              "      <th>0</th>\n",
              "      <td>Text</td>\n",
              "      <td>Rating</td>\n",
              "    </tr>\n",
              "    <tr>\n",
              "      <th>1</th>\n",
              "      <td>no lonesome dove lonesome dive one good book ever read dead man walk can not hold candle ranger portray bumble idiot capture ambush easily pick baby especially not like end think call gus would buffalo hump not not spoil end still good read no lonesome dove street laredo excellent read find garage sale thrift store cheap price mean pick</td>\n",
              "      <td>3</td>\n",
              "    </tr>\n",
              "    <tr>\n",
              "      <th>2</th>\n",
              "      <td>not hoping not expect magicali pretty easy tool not toughon one stuck bolt first one use break without even give fight nd one grab well bu bent like piece licoricei would recommend lightduty workfortunately amazon amazing return process</td>\n",
              "      <td>2</td>\n",
              "    </tr>\n",
              "    <tr>\n",
              "      <th>3</th>\n",
              "      <td>roof bag bag hold good however not waterproof dry clothe arrive atour destination</td>\n",
              "      <td>2</td>\n",
              "    </tr>\n",
              "    <tr>\n",
              "      <th>4</th>\n",
              "      <td>suspensful truly read review write previous reader book read book intrigue ultimately premise story bengal tiger lose north georgia awesome all_caps read first half story find comparison movie jaw mystique suspense great story tell depict warner speilber second half story wander bit root go metaphorical shift one manhood truly wish many read story could not put _ also jim grahams character story truly charasmatic geniune read all_caps all_caps</td>\n",
              "      <td>5</td>\n",
              "    </tr>\n",
              "  </tbody>\n",
              "</table>\n",
              "</div>\n",
              "    <div class=\"colab-df-buttons\">\n",
              "\n",
              "  <div class=\"colab-df-container\">\n",
              "    <button class=\"colab-df-convert\" onclick=\"convertToInteractive('df-e6a8d8fb-8d77-4922-98b4-4a5e0609d0c4')\"\n",
              "            title=\"Convert this dataframe to an interactive table.\"\n",
              "            style=\"display:none;\">\n",
              "\n",
              "  <svg xmlns=\"http://www.w3.org/2000/svg\" height=\"24px\" viewBox=\"0 -960 960 960\">\n",
              "    <path d=\"M120-120v-720h720v720H120Zm60-500h600v-160H180v160Zm220 220h160v-160H400v160Zm0 220h160v-160H400v160ZM180-400h160v-160H180v160Zm440 0h160v-160H620v160ZM180-180h160v-160H180v160Zm440 0h160v-160H620v160Z\"/>\n",
              "  </svg>\n",
              "    </button>\n",
              "\n",
              "  <style>\n",
              "    .colab-df-container {\n",
              "      display:flex;\n",
              "      gap: 12px;\n",
              "    }\n",
              "\n",
              "    .colab-df-convert {\n",
              "      background-color: #E8F0FE;\n",
              "      border: none;\n",
              "      border-radius: 50%;\n",
              "      cursor: pointer;\n",
              "      display: none;\n",
              "      fill: #1967D2;\n",
              "      height: 32px;\n",
              "      padding: 0 0 0 0;\n",
              "      width: 32px;\n",
              "    }\n",
              "\n",
              "    .colab-df-convert:hover {\n",
              "      background-color: #E2EBFA;\n",
              "      box-shadow: 0px 1px 2px rgba(60, 64, 67, 0.3), 0px 1px 3px 1px rgba(60, 64, 67, 0.15);\n",
              "      fill: #174EA6;\n",
              "    }\n",
              "\n",
              "    .colab-df-buttons div {\n",
              "      margin-bottom: 4px;\n",
              "    }\n",
              "\n",
              "    [theme=dark] .colab-df-convert {\n",
              "      background-color: #3B4455;\n",
              "      fill: #D2E3FC;\n",
              "    }\n",
              "\n",
              "    [theme=dark] .colab-df-convert:hover {\n",
              "      background-color: #434B5C;\n",
              "      box-shadow: 0px 1px 3px 1px rgba(0, 0, 0, 0.15);\n",
              "      filter: drop-shadow(0px 1px 2px rgba(0, 0, 0, 0.3));\n",
              "      fill: #FFFFFF;\n",
              "    }\n",
              "  </style>\n",
              "\n",
              "    <script>\n",
              "      const buttonEl =\n",
              "        document.querySelector('#df-e6a8d8fb-8d77-4922-98b4-4a5e0609d0c4 button.colab-df-convert');\n",
              "      buttonEl.style.display =\n",
              "        google.colab.kernel.accessAllowed ? 'block' : 'none';\n",
              "\n",
              "      async function convertToInteractive(key) {\n",
              "        const element = document.querySelector('#df-e6a8d8fb-8d77-4922-98b4-4a5e0609d0c4');\n",
              "        const dataTable =\n",
              "          await google.colab.kernel.invokeFunction('convertToInteractive',\n",
              "                                                    [key], {});\n",
              "        if (!dataTable) return;\n",
              "\n",
              "        const docLinkHtml = 'Like what you see? Visit the ' +\n",
              "          '<a target=\"_blank\" href=https://colab.research.google.com/notebooks/data_table.ipynb>data table notebook</a>'\n",
              "          + ' to learn more about interactive tables.';\n",
              "        element.innerHTML = '';\n",
              "        dataTable['output_type'] = 'display_data';\n",
              "        await google.colab.output.renderOutput(dataTable, element);\n",
              "        const docLink = document.createElement('div');\n",
              "        docLink.innerHTML = docLinkHtml;\n",
              "        element.appendChild(docLink);\n",
              "      }\n",
              "    </script>\n",
              "  </div>\n",
              "\n",
              "\n",
              "    <div id=\"df-aabcc679-f2aa-4fad-bb47-ba671a3e95fb\">\n",
              "      <button class=\"colab-df-quickchart\" onclick=\"quickchart('df-aabcc679-f2aa-4fad-bb47-ba671a3e95fb')\"\n",
              "                title=\"Suggest charts\"\n",
              "                style=\"display:none;\">\n",
              "\n",
              "<svg xmlns=\"http://www.w3.org/2000/svg\" height=\"24px\"viewBox=\"0 0 24 24\"\n",
              "     width=\"24px\">\n",
              "    <g>\n",
              "        <path d=\"M19 3H5c-1.1 0-2 .9-2 2v14c0 1.1.9 2 2 2h14c1.1 0 2-.9 2-2V5c0-1.1-.9-2-2-2zM9 17H7v-7h2v7zm4 0h-2V7h2v10zm4 0h-2v-4h2v4z\"/>\n",
              "    </g>\n",
              "</svg>\n",
              "      </button>\n",
              "\n",
              "<style>\n",
              "  .colab-df-quickchart {\n",
              "      --bg-color: #E8F0FE;\n",
              "      --fill-color: #1967D2;\n",
              "      --hover-bg-color: #E2EBFA;\n",
              "      --hover-fill-color: #174EA6;\n",
              "      --disabled-fill-color: #AAA;\n",
              "      --disabled-bg-color: #DDD;\n",
              "  }\n",
              "\n",
              "  [theme=dark] .colab-df-quickchart {\n",
              "      --bg-color: #3B4455;\n",
              "      --fill-color: #D2E3FC;\n",
              "      --hover-bg-color: #434B5C;\n",
              "      --hover-fill-color: #FFFFFF;\n",
              "      --disabled-bg-color: #3B4455;\n",
              "      --disabled-fill-color: #666;\n",
              "  }\n",
              "\n",
              "  .colab-df-quickchart {\n",
              "    background-color: var(--bg-color);\n",
              "    border: none;\n",
              "    border-radius: 50%;\n",
              "    cursor: pointer;\n",
              "    display: none;\n",
              "    fill: var(--fill-color);\n",
              "    height: 32px;\n",
              "    padding: 0;\n",
              "    width: 32px;\n",
              "  }\n",
              "\n",
              "  .colab-df-quickchart:hover {\n",
              "    background-color: var(--hover-bg-color);\n",
              "    box-shadow: 0 1px 2px rgba(60, 64, 67, 0.3), 0 1px 3px 1px rgba(60, 64, 67, 0.15);\n",
              "    fill: var(--button-hover-fill-color);\n",
              "  }\n",
              "\n",
              "  .colab-df-quickchart-complete:disabled,\n",
              "  .colab-df-quickchart-complete:disabled:hover {\n",
              "    background-color: var(--disabled-bg-color);\n",
              "    fill: var(--disabled-fill-color);\n",
              "    box-shadow: none;\n",
              "  }\n",
              "\n",
              "  .colab-df-spinner {\n",
              "    border: 2px solid var(--fill-color);\n",
              "    border-color: transparent;\n",
              "    border-bottom-color: var(--fill-color);\n",
              "    animation:\n",
              "      spin 1s steps(1) infinite;\n",
              "  }\n",
              "\n",
              "  @keyframes spin {\n",
              "    0% {\n",
              "      border-color: transparent;\n",
              "      border-bottom-color: var(--fill-color);\n",
              "      border-left-color: var(--fill-color);\n",
              "    }\n",
              "    20% {\n",
              "      border-color: transparent;\n",
              "      border-left-color: var(--fill-color);\n",
              "      border-top-color: var(--fill-color);\n",
              "    }\n",
              "    30% {\n",
              "      border-color: transparent;\n",
              "      border-left-color: var(--fill-color);\n",
              "      border-top-color: var(--fill-color);\n",
              "      border-right-color: var(--fill-color);\n",
              "    }\n",
              "    40% {\n",
              "      border-color: transparent;\n",
              "      border-right-color: var(--fill-color);\n",
              "      border-top-color: var(--fill-color);\n",
              "    }\n",
              "    60% {\n",
              "      border-color: transparent;\n",
              "      border-right-color: var(--fill-color);\n",
              "    }\n",
              "    80% {\n",
              "      border-color: transparent;\n",
              "      border-right-color: var(--fill-color);\n",
              "      border-bottom-color: var(--fill-color);\n",
              "    }\n",
              "    90% {\n",
              "      border-color: transparent;\n",
              "      border-bottom-color: var(--fill-color);\n",
              "    }\n",
              "  }\n",
              "</style>\n",
              "\n",
              "      <script>\n",
              "        async function quickchart(key) {\n",
              "          const quickchartButtonEl =\n",
              "            document.querySelector('#' + key + ' button');\n",
              "          quickchartButtonEl.disabled = true;  // To prevent multiple clicks.\n",
              "          quickchartButtonEl.classList.add('colab-df-spinner');\n",
              "          try {\n",
              "            const charts = await google.colab.kernel.invokeFunction(\n",
              "                'suggestCharts', [key], {});\n",
              "          } catch (error) {\n",
              "            console.error('Error during call to suggestCharts:', error);\n",
              "          }\n",
              "          quickchartButtonEl.classList.remove('colab-df-spinner');\n",
              "          quickchartButtonEl.classList.add('colab-df-quickchart-complete');\n",
              "        }\n",
              "        (() => {\n",
              "          let quickchartButtonEl =\n",
              "            document.querySelector('#df-aabcc679-f2aa-4fad-bb47-ba671a3e95fb button');\n",
              "          quickchartButtonEl.style.display =\n",
              "            google.colab.kernel.accessAllowed ? 'block' : 'none';\n",
              "        })();\n",
              "      </script>\n",
              "    </div>\n",
              "\n",
              "    </div>\n",
              "  </div>\n"
            ],
            "application/vnd.google.colaboratory.intrinsic+json": {
              "type": "dataframe",
              "variable_name": "df_train"
            }
          },
          "metadata": {},
          "execution_count": 4
        }
      ]
    },
    {
      "cell_type": "markdown",
      "source": [
        "After that, we perform some basic operations and checks on the DataFrame."
      ],
      "metadata": {
        "id": "js4ep-Fmb2dT"
      }
    },
    {
      "cell_type": "code",
      "source": [
        "df_train['Rating'] = pd.to_numeric(df_train['Rating'], errors='coerce').astype('Int64')\n",
        "df_train = df_train.drop(index=0).reset_index(drop=True)\n",
        "df_train.head()"
      ],
      "metadata": {
        "colab": {
          "base_uri": "https://localhost:8080/",
          "height": 241
        },
        "id": "xIKdo7egZS-u",
        "outputId": "e74a96fc-3194-4a60-da27-921392b8a3c3"
      },
      "execution_count": 5,
      "outputs": [
        {
          "output_type": "execute_result",
          "data": {
            "text/plain": [
              "                                                                                                                                                                                                                                                                                                                                                                                                                                                              Text  \\\n",
              "0                                                                                                               no lonesome dove lonesome dive one good book ever read dead man walk can not hold candle ranger portray bumble idiot capture ambush easily pick baby especially not like end think call gus would buffalo hump not not spoil end still good read no lonesome dove street laredo excellent read find garage sale thrift store cheap price mean pick   \n",
              "1                                                                                                                                                                                                                     not hoping not expect magicali pretty easy tool not toughon one stuck bolt first one use break without even give fight nd one grab well bu bent like piece licoricei would recommend lightduty workfortunately amazon amazing return process   \n",
              "2                                                                                                                                                                                                                                                                                                                                                                                roof bag bag hold good however not waterproof dry clothe arrive atour destination   \n",
              "3  suspensful truly read review write previous reader book read book intrigue ultimately premise story bengal tiger lose north georgia awesome all_caps read first half story find comparison movie jaw mystique suspense great story tell depict warner speilber second half story wander bit root go metaphorical shift one manhood truly wish many read story could not put _ also jim grahams character story truly charasmatic geniune read all_caps all_caps   \n",
              "4                                                                                                                                                                                                                                                                                                                                                                      receive broken son receive gift bowl break tell call company not do yet not know resolution   \n",
              "\n",
              "   Rating  \n",
              "0       3  \n",
              "1       2  \n",
              "2       2  \n",
              "3       5  \n",
              "4       2  "
            ],
            "text/html": [
              "\n",
              "  <div id=\"df-3377a0c6-8f8c-4bb1-b0ec-b3743e0a8cfa\" class=\"colab-df-container\">\n",
              "    <div>\n",
              "<style scoped>\n",
              "    .dataframe tbody tr th:only-of-type {\n",
              "        vertical-align: middle;\n",
              "    }\n",
              "\n",
              "    .dataframe tbody tr th {\n",
              "        vertical-align: top;\n",
              "    }\n",
              "\n",
              "    .dataframe thead th {\n",
              "        text-align: right;\n",
              "    }\n",
              "</style>\n",
              "<table border=\"1\" class=\"dataframe\">\n",
              "  <thead>\n",
              "    <tr style=\"text-align: right;\">\n",
              "      <th></th>\n",
              "      <th>Text</th>\n",
              "      <th>Rating</th>\n",
              "    </tr>\n",
              "  </thead>\n",
              "  <tbody>\n",
              "    <tr>\n",
              "      <th>0</th>\n",
              "      <td>no lonesome dove lonesome dive one good book ever read dead man walk can not hold candle ranger portray bumble idiot capture ambush easily pick baby especially not like end think call gus would buffalo hump not not spoil end still good read no lonesome dove street laredo excellent read find garage sale thrift store cheap price mean pick</td>\n",
              "      <td>3</td>\n",
              "    </tr>\n",
              "    <tr>\n",
              "      <th>1</th>\n",
              "      <td>not hoping not expect magicali pretty easy tool not toughon one stuck bolt first one use break without even give fight nd one grab well bu bent like piece licoricei would recommend lightduty workfortunately amazon amazing return process</td>\n",
              "      <td>2</td>\n",
              "    </tr>\n",
              "    <tr>\n",
              "      <th>2</th>\n",
              "      <td>roof bag bag hold good however not waterproof dry clothe arrive atour destination</td>\n",
              "      <td>2</td>\n",
              "    </tr>\n",
              "    <tr>\n",
              "      <th>3</th>\n",
              "      <td>suspensful truly read review write previous reader book read book intrigue ultimately premise story bengal tiger lose north georgia awesome all_caps read first half story find comparison movie jaw mystique suspense great story tell depict warner speilber second half story wander bit root go metaphorical shift one manhood truly wish many read story could not put _ also jim grahams character story truly charasmatic geniune read all_caps all_caps</td>\n",
              "      <td>5</td>\n",
              "    </tr>\n",
              "    <tr>\n",
              "      <th>4</th>\n",
              "      <td>receive broken son receive gift bowl break tell call company not do yet not know resolution</td>\n",
              "      <td>2</td>\n",
              "    </tr>\n",
              "  </tbody>\n",
              "</table>\n",
              "</div>\n",
              "    <div class=\"colab-df-buttons\">\n",
              "\n",
              "  <div class=\"colab-df-container\">\n",
              "    <button class=\"colab-df-convert\" onclick=\"convertToInteractive('df-3377a0c6-8f8c-4bb1-b0ec-b3743e0a8cfa')\"\n",
              "            title=\"Convert this dataframe to an interactive table.\"\n",
              "            style=\"display:none;\">\n",
              "\n",
              "  <svg xmlns=\"http://www.w3.org/2000/svg\" height=\"24px\" viewBox=\"0 -960 960 960\">\n",
              "    <path d=\"M120-120v-720h720v720H120Zm60-500h600v-160H180v160Zm220 220h160v-160H400v160Zm0 220h160v-160H400v160ZM180-400h160v-160H180v160Zm440 0h160v-160H620v160ZM180-180h160v-160H180v160Zm440 0h160v-160H620v160Z\"/>\n",
              "  </svg>\n",
              "    </button>\n",
              "\n",
              "  <style>\n",
              "    .colab-df-container {\n",
              "      display:flex;\n",
              "      gap: 12px;\n",
              "    }\n",
              "\n",
              "    .colab-df-convert {\n",
              "      background-color: #E8F0FE;\n",
              "      border: none;\n",
              "      border-radius: 50%;\n",
              "      cursor: pointer;\n",
              "      display: none;\n",
              "      fill: #1967D2;\n",
              "      height: 32px;\n",
              "      padding: 0 0 0 0;\n",
              "      width: 32px;\n",
              "    }\n",
              "\n",
              "    .colab-df-convert:hover {\n",
              "      background-color: #E2EBFA;\n",
              "      box-shadow: 0px 1px 2px rgba(60, 64, 67, 0.3), 0px 1px 3px 1px rgba(60, 64, 67, 0.15);\n",
              "      fill: #174EA6;\n",
              "    }\n",
              "\n",
              "    .colab-df-buttons div {\n",
              "      margin-bottom: 4px;\n",
              "    }\n",
              "\n",
              "    [theme=dark] .colab-df-convert {\n",
              "      background-color: #3B4455;\n",
              "      fill: #D2E3FC;\n",
              "    }\n",
              "\n",
              "    [theme=dark] .colab-df-convert:hover {\n",
              "      background-color: #434B5C;\n",
              "      box-shadow: 0px 1px 3px 1px rgba(0, 0, 0, 0.15);\n",
              "      filter: drop-shadow(0px 1px 2px rgba(0, 0, 0, 0.3));\n",
              "      fill: #FFFFFF;\n",
              "    }\n",
              "  </style>\n",
              "\n",
              "    <script>\n",
              "      const buttonEl =\n",
              "        document.querySelector('#df-3377a0c6-8f8c-4bb1-b0ec-b3743e0a8cfa button.colab-df-convert');\n",
              "      buttonEl.style.display =\n",
              "        google.colab.kernel.accessAllowed ? 'block' : 'none';\n",
              "\n",
              "      async function convertToInteractive(key) {\n",
              "        const element = document.querySelector('#df-3377a0c6-8f8c-4bb1-b0ec-b3743e0a8cfa');\n",
              "        const dataTable =\n",
              "          await google.colab.kernel.invokeFunction('convertToInteractive',\n",
              "                                                    [key], {});\n",
              "        if (!dataTable) return;\n",
              "\n",
              "        const docLinkHtml = 'Like what you see? Visit the ' +\n",
              "          '<a target=\"_blank\" href=https://colab.research.google.com/notebooks/data_table.ipynb>data table notebook</a>'\n",
              "          + ' to learn more about interactive tables.';\n",
              "        element.innerHTML = '';\n",
              "        dataTable['output_type'] = 'display_data';\n",
              "        await google.colab.output.renderOutput(dataTable, element);\n",
              "        const docLink = document.createElement('div');\n",
              "        docLink.innerHTML = docLinkHtml;\n",
              "        element.appendChild(docLink);\n",
              "      }\n",
              "    </script>\n",
              "  </div>\n",
              "\n",
              "\n",
              "    <div id=\"df-9bc30a8a-749d-4190-a7ab-26e16ce249d0\">\n",
              "      <button class=\"colab-df-quickchart\" onclick=\"quickchart('df-9bc30a8a-749d-4190-a7ab-26e16ce249d0')\"\n",
              "                title=\"Suggest charts\"\n",
              "                style=\"display:none;\">\n",
              "\n",
              "<svg xmlns=\"http://www.w3.org/2000/svg\" height=\"24px\"viewBox=\"0 0 24 24\"\n",
              "     width=\"24px\">\n",
              "    <g>\n",
              "        <path d=\"M19 3H5c-1.1 0-2 .9-2 2v14c0 1.1.9 2 2 2h14c1.1 0 2-.9 2-2V5c0-1.1-.9-2-2-2zM9 17H7v-7h2v7zm4 0h-2V7h2v10zm4 0h-2v-4h2v4z\"/>\n",
              "    </g>\n",
              "</svg>\n",
              "      </button>\n",
              "\n",
              "<style>\n",
              "  .colab-df-quickchart {\n",
              "      --bg-color: #E8F0FE;\n",
              "      --fill-color: #1967D2;\n",
              "      --hover-bg-color: #E2EBFA;\n",
              "      --hover-fill-color: #174EA6;\n",
              "      --disabled-fill-color: #AAA;\n",
              "      --disabled-bg-color: #DDD;\n",
              "  }\n",
              "\n",
              "  [theme=dark] .colab-df-quickchart {\n",
              "      --bg-color: #3B4455;\n",
              "      --fill-color: #D2E3FC;\n",
              "      --hover-bg-color: #434B5C;\n",
              "      --hover-fill-color: #FFFFFF;\n",
              "      --disabled-bg-color: #3B4455;\n",
              "      --disabled-fill-color: #666;\n",
              "  }\n",
              "\n",
              "  .colab-df-quickchart {\n",
              "    background-color: var(--bg-color);\n",
              "    border: none;\n",
              "    border-radius: 50%;\n",
              "    cursor: pointer;\n",
              "    display: none;\n",
              "    fill: var(--fill-color);\n",
              "    height: 32px;\n",
              "    padding: 0;\n",
              "    width: 32px;\n",
              "  }\n",
              "\n",
              "  .colab-df-quickchart:hover {\n",
              "    background-color: var(--hover-bg-color);\n",
              "    box-shadow: 0 1px 2px rgba(60, 64, 67, 0.3), 0 1px 3px 1px rgba(60, 64, 67, 0.15);\n",
              "    fill: var(--button-hover-fill-color);\n",
              "  }\n",
              "\n",
              "  .colab-df-quickchart-complete:disabled,\n",
              "  .colab-df-quickchart-complete:disabled:hover {\n",
              "    background-color: var(--disabled-bg-color);\n",
              "    fill: var(--disabled-fill-color);\n",
              "    box-shadow: none;\n",
              "  }\n",
              "\n",
              "  .colab-df-spinner {\n",
              "    border: 2px solid var(--fill-color);\n",
              "    border-color: transparent;\n",
              "    border-bottom-color: var(--fill-color);\n",
              "    animation:\n",
              "      spin 1s steps(1) infinite;\n",
              "  }\n",
              "\n",
              "  @keyframes spin {\n",
              "    0% {\n",
              "      border-color: transparent;\n",
              "      border-bottom-color: var(--fill-color);\n",
              "      border-left-color: var(--fill-color);\n",
              "    }\n",
              "    20% {\n",
              "      border-color: transparent;\n",
              "      border-left-color: var(--fill-color);\n",
              "      border-top-color: var(--fill-color);\n",
              "    }\n",
              "    30% {\n",
              "      border-color: transparent;\n",
              "      border-left-color: var(--fill-color);\n",
              "      border-top-color: var(--fill-color);\n",
              "      border-right-color: var(--fill-color);\n",
              "    }\n",
              "    40% {\n",
              "      border-color: transparent;\n",
              "      border-right-color: var(--fill-color);\n",
              "      border-top-color: var(--fill-color);\n",
              "    }\n",
              "    60% {\n",
              "      border-color: transparent;\n",
              "      border-right-color: var(--fill-color);\n",
              "    }\n",
              "    80% {\n",
              "      border-color: transparent;\n",
              "      border-right-color: var(--fill-color);\n",
              "      border-bottom-color: var(--fill-color);\n",
              "    }\n",
              "    90% {\n",
              "      border-color: transparent;\n",
              "      border-bottom-color: var(--fill-color);\n",
              "    }\n",
              "  }\n",
              "</style>\n",
              "\n",
              "      <script>\n",
              "        async function quickchart(key) {\n",
              "          const quickchartButtonEl =\n",
              "            document.querySelector('#' + key + ' button');\n",
              "          quickchartButtonEl.disabled = true;  // To prevent multiple clicks.\n",
              "          quickchartButtonEl.classList.add('colab-df-spinner');\n",
              "          try {\n",
              "            const charts = await google.colab.kernel.invokeFunction(\n",
              "                'suggestCharts', [key], {});\n",
              "          } catch (error) {\n",
              "            console.error('Error during call to suggestCharts:', error);\n",
              "          }\n",
              "          quickchartButtonEl.classList.remove('colab-df-spinner');\n",
              "          quickchartButtonEl.classList.add('colab-df-quickchart-complete');\n",
              "        }\n",
              "        (() => {\n",
              "          let quickchartButtonEl =\n",
              "            document.querySelector('#df-9bc30a8a-749d-4190-a7ab-26e16ce249d0 button');\n",
              "          quickchartButtonEl.style.display =\n",
              "            google.colab.kernel.accessAllowed ? 'block' : 'none';\n",
              "        })();\n",
              "      </script>\n",
              "    </div>\n",
              "\n",
              "    </div>\n",
              "  </div>\n"
            ],
            "application/vnd.google.colaboratory.intrinsic+json": {
              "type": "dataframe",
              "variable_name": "df_train"
            }
          },
          "metadata": {},
          "execution_count": 5
        }
      ]
    },
    {
      "cell_type": "code",
      "source": [
        "# Show total null values in each column\n",
        "df_train.isnull().sum()"
      ],
      "metadata": {
        "colab": {
          "base_uri": "https://localhost:8080/",
          "height": 147
        },
        "id": "EMxe6wGNza_G",
        "outputId": "24d2bac6-4158-41b9-e0e8-ddb23091646c"
      },
      "execution_count": 6,
      "outputs": [
        {
          "output_type": "execute_result",
          "data": {
            "text/plain": [
              "Text      4\n",
              "Rating    0\n",
              "dtype: int64"
            ],
            "text/html": [
              "<div>\n",
              "<style scoped>\n",
              "    .dataframe tbody tr th:only-of-type {\n",
              "        vertical-align: middle;\n",
              "    }\n",
              "\n",
              "    .dataframe tbody tr th {\n",
              "        vertical-align: top;\n",
              "    }\n",
              "\n",
              "    .dataframe thead th {\n",
              "        text-align: right;\n",
              "    }\n",
              "</style>\n",
              "<table border=\"1\" class=\"dataframe\">\n",
              "  <thead>\n",
              "    <tr style=\"text-align: right;\">\n",
              "      <th></th>\n",
              "      <th>0</th>\n",
              "    </tr>\n",
              "  </thead>\n",
              "  <tbody>\n",
              "    <tr>\n",
              "      <th>Text</th>\n",
              "      <td>4</td>\n",
              "    </tr>\n",
              "    <tr>\n",
              "      <th>Rating</th>\n",
              "      <td>0</td>\n",
              "    </tr>\n",
              "  </tbody>\n",
              "</table>\n",
              "</div><br><label><b>dtype:</b> int64</label>"
            ]
          },
          "metadata": {},
          "execution_count": 6
        }
      ]
    },
    {
      "cell_type": "code",
      "source": [
        "df_train = df_train.dropna().reset_index(drop=True)\n",
        "df_train.isnull().sum()"
      ],
      "metadata": {
        "colab": {
          "base_uri": "https://localhost:8080/",
          "height": 147
        },
        "id": "fO8bQjmuzlWQ",
        "outputId": "ad655b8a-a28e-4ec9-8cbc-c11c91ef1d76"
      },
      "execution_count": 7,
      "outputs": [
        {
          "output_type": "execute_result",
          "data": {
            "text/plain": [
              "Text      0\n",
              "Rating    0\n",
              "dtype: int64"
            ],
            "text/html": [
              "<div>\n",
              "<style scoped>\n",
              "    .dataframe tbody tr th:only-of-type {\n",
              "        vertical-align: middle;\n",
              "    }\n",
              "\n",
              "    .dataframe tbody tr th {\n",
              "        vertical-align: top;\n",
              "    }\n",
              "\n",
              "    .dataframe thead th {\n",
              "        text-align: right;\n",
              "    }\n",
              "</style>\n",
              "<table border=\"1\" class=\"dataframe\">\n",
              "  <thead>\n",
              "    <tr style=\"text-align: right;\">\n",
              "      <th></th>\n",
              "      <th>0</th>\n",
              "    </tr>\n",
              "  </thead>\n",
              "  <tbody>\n",
              "    <tr>\n",
              "      <th>Text</th>\n",
              "      <td>0</td>\n",
              "    </tr>\n",
              "    <tr>\n",
              "      <th>Rating</th>\n",
              "      <td>0</td>\n",
              "    </tr>\n",
              "  </tbody>\n",
              "</table>\n",
              "</div><br><label><b>dtype:</b> int64</label>"
            ]
          },
          "metadata": {},
          "execution_count": 7
        }
      ]
    },
    {
      "cell_type": "code",
      "source": [
        "# Check how many duplicate rows exist\n",
        "df_train.duplicated().sum()"
      ],
      "metadata": {
        "colab": {
          "base_uri": "https://localhost:8080/"
        },
        "id": "FxI1WUv5zmvS",
        "outputId": "0f453ec7-d143-4eaf-f4c9-14ea0446b0d7"
      },
      "execution_count": 8,
      "outputs": [
        {
          "output_type": "execute_result",
          "data": {
            "text/plain": [
              "25"
            ]
          },
          "metadata": {},
          "execution_count": 8
        }
      ]
    },
    {
      "cell_type": "code",
      "source": [
        "df_train = df_train.drop_duplicates().reset_index(drop=True)\n",
        "df_train.duplicated().sum()"
      ],
      "metadata": {
        "colab": {
          "base_uri": "https://localhost:8080/"
        },
        "id": "znOmcGgkkCha",
        "outputId": "95b9fca3-089a-457d-f735-44a675e82d63"
      },
      "execution_count": 9,
      "outputs": [
        {
          "output_type": "execute_result",
          "data": {
            "text/plain": [
              "0"
            ]
          },
          "metadata": {},
          "execution_count": 9
        }
      ]
    },
    {
      "cell_type": "markdown",
      "source": [
        "The rating distribution is well balanced, with each class representing roughly 20% of the data. This reduces the risk of class imbalance affecting model performance."
      ],
      "metadata": {
        "id": "3zmCOdiwcF3l"
      }
    },
    {
      "cell_type": "code",
      "source": [
        "df_train['Rating'].value_counts(normalize=True) * 100"
      ],
      "metadata": {
        "colab": {
          "base_uri": "https://localhost:8080/",
          "height": 272
        },
        "id": "LLs8jsgZzqkv",
        "outputId": "a6c2cbc1-6f14-4c85-cbcb-4793c20149e0"
      },
      "execution_count": 10,
      "outputs": [
        {
          "output_type": "execute_result",
          "data": {
            "text/plain": [
              "Rating\n",
              "5    20.053363\n",
              "3    20.045163\n",
              "1    20.023561\n",
              "2    19.944757\n",
              "4    19.933156\n",
              "Name: proportion, dtype: Float64"
            ],
            "text/html": [
              "<div>\n",
              "<style scoped>\n",
              "    .dataframe tbody tr th:only-of-type {\n",
              "        vertical-align: middle;\n",
              "    }\n",
              "\n",
              "    .dataframe tbody tr th {\n",
              "        vertical-align: top;\n",
              "    }\n",
              "\n",
              "    .dataframe thead th {\n",
              "        text-align: right;\n",
              "    }\n",
              "</style>\n",
              "<table border=\"1\" class=\"dataframe\">\n",
              "  <thead>\n",
              "    <tr style=\"text-align: right;\">\n",
              "      <th></th>\n",
              "      <th>proportion</th>\n",
              "    </tr>\n",
              "    <tr>\n",
              "      <th>Rating</th>\n",
              "      <th></th>\n",
              "    </tr>\n",
              "  </thead>\n",
              "  <tbody>\n",
              "    <tr>\n",
              "      <th>5</th>\n",
              "      <td>20.053363</td>\n",
              "    </tr>\n",
              "    <tr>\n",
              "      <th>3</th>\n",
              "      <td>20.045163</td>\n",
              "    </tr>\n",
              "    <tr>\n",
              "      <th>1</th>\n",
              "      <td>20.023561</td>\n",
              "    </tr>\n",
              "    <tr>\n",
              "      <th>2</th>\n",
              "      <td>19.944757</td>\n",
              "    </tr>\n",
              "    <tr>\n",
              "      <th>4</th>\n",
              "      <td>19.933156</td>\n",
              "    </tr>\n",
              "  </tbody>\n",
              "</table>\n",
              "</div><br><label><b>dtype:</b> Float64</label>"
            ]
          },
          "metadata": {},
          "execution_count": 10
        }
      ]
    },
    {
      "cell_type": "code",
      "source": [
        "# Number of rows\n",
        "print(\"Number of rows:\", len(df_train))\n",
        "\n",
        "# Check for null values\n",
        "if df_train.isnull().values.any():\n",
        "    print(\"There are null elements in the DataFrame.\")\n",
        "else:\n",
        "    print(\"There are no null elements in the DataFrame.\")"
      ],
      "metadata": {
        "colab": {
          "base_uri": "https://localhost:8080/"
        },
        "id": "zUY4jxaRzrl3",
        "outputId": "e481ee6d-9aed-4e1c-d9d5-77d6f4c6b265"
      },
      "execution_count": 11,
      "outputs": [
        {
          "output_type": "stream",
          "name": "stdout",
          "text": [
            "Number of rows: 499971\n",
            "There are no null elements in the DataFrame.\n"
          ]
        }
      ]
    },
    {
      "cell_type": "markdown",
      "source": [
        "To simplify the classification task, we convert the problem to binary sentiment analysis.\n",
        "Ratings of 4 and 5 are labeled as positive (1), while 1 and 2 are labeled as negative (0).\n",
        "Neutral reviews (rating = 3) are excluded from the dataset."
      ],
      "metadata": {
        "id": "OmL85gu2cQkl"
      }
    },
    {
      "cell_type": "code",
      "source": [
        "# Keep only positive (4,5) and negative (1,2) ratings\n",
        "# throw away neutral reviews with rating = 3\n",
        "df_train = df_train[df_train['Rating'] != 3].copy()\n",
        "\n",
        "df_train['sentiment'] = df_train['Rating'].apply(lambda x: 1 if x > 3 else 0)"
      ],
      "metadata": {
        "id": "bMPRw5XV0heh"
      },
      "execution_count": 12,
      "outputs": []
    },
    {
      "cell_type": "code",
      "source": [
        "df_train['sentiment'].value_counts()"
      ],
      "metadata": {
        "colab": {
          "base_uri": "https://localhost:8080/",
          "height": 178
        },
        "id": "eLBoMPDj0iCN",
        "outputId": "d16d2aef-2597-48c5-b113-1c2fb227ca58"
      },
      "execution_count": 13,
      "outputs": [
        {
          "output_type": "execute_result",
          "data": {
            "text/plain": [
              "sentiment\n",
              "1    199921\n",
              "0    199830\n",
              "Name: count, dtype: int64"
            ],
            "text/html": [
              "<div>\n",
              "<style scoped>\n",
              "    .dataframe tbody tr th:only-of-type {\n",
              "        vertical-align: middle;\n",
              "    }\n",
              "\n",
              "    .dataframe tbody tr th {\n",
              "        vertical-align: top;\n",
              "    }\n",
              "\n",
              "    .dataframe thead th {\n",
              "        text-align: right;\n",
              "    }\n",
              "</style>\n",
              "<table border=\"1\" class=\"dataframe\">\n",
              "  <thead>\n",
              "    <tr style=\"text-align: right;\">\n",
              "      <th></th>\n",
              "      <th>count</th>\n",
              "    </tr>\n",
              "    <tr>\n",
              "      <th>sentiment</th>\n",
              "      <th></th>\n",
              "    </tr>\n",
              "  </thead>\n",
              "  <tbody>\n",
              "    <tr>\n",
              "      <th>1</th>\n",
              "      <td>199921</td>\n",
              "    </tr>\n",
              "    <tr>\n",
              "      <th>0</th>\n",
              "      <td>199830</td>\n",
              "    </tr>\n",
              "  </tbody>\n",
              "</table>\n",
              "</div><br><label><b>dtype:</b> int64</label>"
            ]
          },
          "metadata": {},
          "execution_count": 13
        }
      ]
    },
    {
      "cell_type": "code",
      "source": [
        "df_train.head(10)"
      ],
      "metadata": {
        "colab": {
          "base_uri": "https://localhost:8080/",
          "height": 485
        },
        "id": "dKa28DzG0pb1",
        "outputId": "3ee54988-e39b-4b37-b13d-2f6feca1b96c"
      },
      "execution_count": 14,
      "outputs": [
        {
          "output_type": "execute_result",
          "data": {
            "text/plain": [
              "                                                                                                                                                                                                                                                                                                                                                                                                                                                               Text  \\\n",
              "1                                                                                                                                                                                                                      not hoping not expect magicali pretty easy tool not toughon one stuck bolt first one use break without even give fight nd one grab well bu bent like piece licoricei would recommend lightduty workfortunately amazon amazing return process   \n",
              "2                                                                                                                                                                                                                                                                                                                                                                                 roof bag bag hold good however not waterproof dry clothe arrive atour destination   \n",
              "3   suspensful truly read review write previous reader book read book intrigue ultimately premise story bengal tiger lose north georgia awesome all_caps read first half story find comparison movie jaw mystique suspense great story tell depict warner speilber second half story wander bit root go metaphorical shift one manhood truly wish many read story could not put _ also jim grahams character story truly charasmatic geniune read all_caps all_caps   \n",
              "4                                                                                                                                                                                                                                                                                                                                                                       receive broken son receive gift bowl break tell call company not do yet not know resolution   \n",
              "5                                                                                                                                computer literate little bit not read may already notice title review one bad technothriller one could choose reading would really annoyed dilettante write regard author knowledge cryptography computer mind popularity dan brown one good sell author book complete waste time sorry say give book unfortunately no star rating   \n",
              "6                                                     not all_caps sequel iron monkey run mill hong kong actioner fan probably enjoy although not much donnie yen good action fighting sequence good yuen will ping design fight filming edit overall quality mediocre fan expect sort low budget quality hk all_caps action film really believe tai seng attempt cash popularity iron monkey frankly do poor job serious fan detect absolutely no connection story   \n",
              "7                                                                                                                                                                                                      nice read read many singer bio come across simionato decide read ok book not entertain basically chronology performance critical review real biography varnay c ludwigs b nilssons bio far entertain thorough tribute chapter way long all_caps hardcore fan   \n",
              "8                                                                         cheaply make buy digital camera vacation embarrase ever since cheapness quality camera battery door fall battery run quickly not stay second cause picture taker miss shot spend good deal camera upgrade digital card rarely use piece junk not buy another vivitar one worth money buy well brand like canon nikon nikon coolpix love wish would spend money first time instead vivitar   \n",
              "9                                                                                                                                                                                                                                                                                                                            work ps ok all_caps let get straight yes all_caps work ps becuase ps ps outlet type electricy quantity lcd all_caps screen tv car must   \n",
              "10                                                                              interesting introduction philosophy another review book point fact not cover classic philosophy find interesting introduction discipline book require reading master level philosophy course thus force read find enlightening due naturei try circle classic often difficult time relate modern world book use modern writer great job connect basic problem philosophy modern day   \n",
              "\n",
              "    Rating  sentiment  \n",
              "1        2          0  \n",
              "2        2          0  \n",
              "3        5          1  \n",
              "4        2          0  \n",
              "5        1          0  \n",
              "6        2          0  \n",
              "7        4          1  \n",
              "8        1          0  \n",
              "9        5          1  \n",
              "10       4          1  "
            ],
            "text/html": [
              "\n",
              "  <div id=\"df-30118a30-878c-4d6a-928c-6541b3c1a36a\" class=\"colab-df-container\">\n",
              "    <div>\n",
              "<style scoped>\n",
              "    .dataframe tbody tr th:only-of-type {\n",
              "        vertical-align: middle;\n",
              "    }\n",
              "\n",
              "    .dataframe tbody tr th {\n",
              "        vertical-align: top;\n",
              "    }\n",
              "\n",
              "    .dataframe thead th {\n",
              "        text-align: right;\n",
              "    }\n",
              "</style>\n",
              "<table border=\"1\" class=\"dataframe\">\n",
              "  <thead>\n",
              "    <tr style=\"text-align: right;\">\n",
              "      <th></th>\n",
              "      <th>Text</th>\n",
              "      <th>Rating</th>\n",
              "      <th>sentiment</th>\n",
              "    </tr>\n",
              "  </thead>\n",
              "  <tbody>\n",
              "    <tr>\n",
              "      <th>1</th>\n",
              "      <td>not hoping not expect magicali pretty easy tool not toughon one stuck bolt first one use break without even give fight nd one grab well bu bent like piece licoricei would recommend lightduty workfortunately amazon amazing return process</td>\n",
              "      <td>2</td>\n",
              "      <td>0</td>\n",
              "    </tr>\n",
              "    <tr>\n",
              "      <th>2</th>\n",
              "      <td>roof bag bag hold good however not waterproof dry clothe arrive atour destination</td>\n",
              "      <td>2</td>\n",
              "      <td>0</td>\n",
              "    </tr>\n",
              "    <tr>\n",
              "      <th>3</th>\n",
              "      <td>suspensful truly read review write previous reader book read book intrigue ultimately premise story bengal tiger lose north georgia awesome all_caps read first half story find comparison movie jaw mystique suspense great story tell depict warner speilber second half story wander bit root go metaphorical shift one manhood truly wish many read story could not put _ also jim grahams character story truly charasmatic geniune read all_caps all_caps</td>\n",
              "      <td>5</td>\n",
              "      <td>1</td>\n",
              "    </tr>\n",
              "    <tr>\n",
              "      <th>4</th>\n",
              "      <td>receive broken son receive gift bowl break tell call company not do yet not know resolution</td>\n",
              "      <td>2</td>\n",
              "      <td>0</td>\n",
              "    </tr>\n",
              "    <tr>\n",
              "      <th>5</th>\n",
              "      <td>computer literate little bit not read may already notice title review one bad technothriller one could choose reading would really annoyed dilettante write regard author knowledge cryptography computer mind popularity dan brown one good sell author book complete waste time sorry say give book unfortunately no star rating</td>\n",
              "      <td>1</td>\n",
              "      <td>0</td>\n",
              "    </tr>\n",
              "    <tr>\n",
              "      <th>6</th>\n",
              "      <td>not all_caps sequel iron monkey run mill hong kong actioner fan probably enjoy although not much donnie yen good action fighting sequence good yuen will ping design fight filming edit overall quality mediocre fan expect sort low budget quality hk all_caps action film really believe tai seng attempt cash popularity iron monkey frankly do poor job serious fan detect absolutely no connection story</td>\n",
              "      <td>2</td>\n",
              "      <td>0</td>\n",
              "    </tr>\n",
              "    <tr>\n",
              "      <th>7</th>\n",
              "      <td>nice read read many singer bio come across simionato decide read ok book not entertain basically chronology performance critical review real biography varnay c ludwigs b nilssons bio far entertain thorough tribute chapter way long all_caps hardcore fan</td>\n",
              "      <td>4</td>\n",
              "      <td>1</td>\n",
              "    </tr>\n",
              "    <tr>\n",
              "      <th>8</th>\n",
              "      <td>cheaply make buy digital camera vacation embarrase ever since cheapness quality camera battery door fall battery run quickly not stay second cause picture taker miss shot spend good deal camera upgrade digital card rarely use piece junk not buy another vivitar one worth money buy well brand like canon nikon nikon coolpix love wish would spend money first time instead vivitar</td>\n",
              "      <td>1</td>\n",
              "      <td>0</td>\n",
              "    </tr>\n",
              "    <tr>\n",
              "      <th>9</th>\n",
              "      <td>work ps ok all_caps let get straight yes all_caps work ps becuase ps ps outlet type electricy quantity lcd all_caps screen tv car must</td>\n",
              "      <td>5</td>\n",
              "      <td>1</td>\n",
              "    </tr>\n",
              "    <tr>\n",
              "      <th>10</th>\n",
              "      <td>interesting introduction philosophy another review book point fact not cover classic philosophy find interesting introduction discipline book require reading master level philosophy course thus force read find enlightening due naturei try circle classic often difficult time relate modern world book use modern writer great job connect basic problem philosophy modern day</td>\n",
              "      <td>4</td>\n",
              "      <td>1</td>\n",
              "    </tr>\n",
              "  </tbody>\n",
              "</table>\n",
              "</div>\n",
              "    <div class=\"colab-df-buttons\">\n",
              "\n",
              "  <div class=\"colab-df-container\">\n",
              "    <button class=\"colab-df-convert\" onclick=\"convertToInteractive('df-30118a30-878c-4d6a-928c-6541b3c1a36a')\"\n",
              "            title=\"Convert this dataframe to an interactive table.\"\n",
              "            style=\"display:none;\">\n",
              "\n",
              "  <svg xmlns=\"http://www.w3.org/2000/svg\" height=\"24px\" viewBox=\"0 -960 960 960\">\n",
              "    <path d=\"M120-120v-720h720v720H120Zm60-500h600v-160H180v160Zm220 220h160v-160H400v160Zm0 220h160v-160H400v160ZM180-400h160v-160H180v160Zm440 0h160v-160H620v160ZM180-180h160v-160H180v160Zm440 0h160v-160H620v160Z\"/>\n",
              "  </svg>\n",
              "    </button>\n",
              "\n",
              "  <style>\n",
              "    .colab-df-container {\n",
              "      display:flex;\n",
              "      gap: 12px;\n",
              "    }\n",
              "\n",
              "    .colab-df-convert {\n",
              "      background-color: #E8F0FE;\n",
              "      border: none;\n",
              "      border-radius: 50%;\n",
              "      cursor: pointer;\n",
              "      display: none;\n",
              "      fill: #1967D2;\n",
              "      height: 32px;\n",
              "      padding: 0 0 0 0;\n",
              "      width: 32px;\n",
              "    }\n",
              "\n",
              "    .colab-df-convert:hover {\n",
              "      background-color: #E2EBFA;\n",
              "      box-shadow: 0px 1px 2px rgba(60, 64, 67, 0.3), 0px 1px 3px 1px rgba(60, 64, 67, 0.15);\n",
              "      fill: #174EA6;\n",
              "    }\n",
              "\n",
              "    .colab-df-buttons div {\n",
              "      margin-bottom: 4px;\n",
              "    }\n",
              "\n",
              "    [theme=dark] .colab-df-convert {\n",
              "      background-color: #3B4455;\n",
              "      fill: #D2E3FC;\n",
              "    }\n",
              "\n",
              "    [theme=dark] .colab-df-convert:hover {\n",
              "      background-color: #434B5C;\n",
              "      box-shadow: 0px 1px 3px 1px rgba(0, 0, 0, 0.15);\n",
              "      filter: drop-shadow(0px 1px 2px rgba(0, 0, 0, 0.3));\n",
              "      fill: #FFFFFF;\n",
              "    }\n",
              "  </style>\n",
              "\n",
              "    <script>\n",
              "      const buttonEl =\n",
              "        document.querySelector('#df-30118a30-878c-4d6a-928c-6541b3c1a36a button.colab-df-convert');\n",
              "      buttonEl.style.display =\n",
              "        google.colab.kernel.accessAllowed ? 'block' : 'none';\n",
              "\n",
              "      async function convertToInteractive(key) {\n",
              "        const element = document.querySelector('#df-30118a30-878c-4d6a-928c-6541b3c1a36a');\n",
              "        const dataTable =\n",
              "          await google.colab.kernel.invokeFunction('convertToInteractive',\n",
              "                                                    [key], {});\n",
              "        if (!dataTable) return;\n",
              "\n",
              "        const docLinkHtml = 'Like what you see? Visit the ' +\n",
              "          '<a target=\"_blank\" href=https://colab.research.google.com/notebooks/data_table.ipynb>data table notebook</a>'\n",
              "          + ' to learn more about interactive tables.';\n",
              "        element.innerHTML = '';\n",
              "        dataTable['output_type'] = 'display_data';\n",
              "        await google.colab.output.renderOutput(dataTable, element);\n",
              "        const docLink = document.createElement('div');\n",
              "        docLink.innerHTML = docLinkHtml;\n",
              "        element.appendChild(docLink);\n",
              "      }\n",
              "    </script>\n",
              "  </div>\n",
              "\n",
              "\n",
              "    <div id=\"df-a55535ab-ee6a-4f85-90ee-b5b309564e10\">\n",
              "      <button class=\"colab-df-quickchart\" onclick=\"quickchart('df-a55535ab-ee6a-4f85-90ee-b5b309564e10')\"\n",
              "                title=\"Suggest charts\"\n",
              "                style=\"display:none;\">\n",
              "\n",
              "<svg xmlns=\"http://www.w3.org/2000/svg\" height=\"24px\"viewBox=\"0 0 24 24\"\n",
              "     width=\"24px\">\n",
              "    <g>\n",
              "        <path d=\"M19 3H5c-1.1 0-2 .9-2 2v14c0 1.1.9 2 2 2h14c1.1 0 2-.9 2-2V5c0-1.1-.9-2-2-2zM9 17H7v-7h2v7zm4 0h-2V7h2v10zm4 0h-2v-4h2v4z\"/>\n",
              "    </g>\n",
              "</svg>\n",
              "      </button>\n",
              "\n",
              "<style>\n",
              "  .colab-df-quickchart {\n",
              "      --bg-color: #E8F0FE;\n",
              "      --fill-color: #1967D2;\n",
              "      --hover-bg-color: #E2EBFA;\n",
              "      --hover-fill-color: #174EA6;\n",
              "      --disabled-fill-color: #AAA;\n",
              "      --disabled-bg-color: #DDD;\n",
              "  }\n",
              "\n",
              "  [theme=dark] .colab-df-quickchart {\n",
              "      --bg-color: #3B4455;\n",
              "      --fill-color: #D2E3FC;\n",
              "      --hover-bg-color: #434B5C;\n",
              "      --hover-fill-color: #FFFFFF;\n",
              "      --disabled-bg-color: #3B4455;\n",
              "      --disabled-fill-color: #666;\n",
              "  }\n",
              "\n",
              "  .colab-df-quickchart {\n",
              "    background-color: var(--bg-color);\n",
              "    border: none;\n",
              "    border-radius: 50%;\n",
              "    cursor: pointer;\n",
              "    display: none;\n",
              "    fill: var(--fill-color);\n",
              "    height: 32px;\n",
              "    padding: 0;\n",
              "    width: 32px;\n",
              "  }\n",
              "\n",
              "  .colab-df-quickchart:hover {\n",
              "    background-color: var(--hover-bg-color);\n",
              "    box-shadow: 0 1px 2px rgba(60, 64, 67, 0.3), 0 1px 3px 1px rgba(60, 64, 67, 0.15);\n",
              "    fill: var(--button-hover-fill-color);\n",
              "  }\n",
              "\n",
              "  .colab-df-quickchart-complete:disabled,\n",
              "  .colab-df-quickchart-complete:disabled:hover {\n",
              "    background-color: var(--disabled-bg-color);\n",
              "    fill: var(--disabled-fill-color);\n",
              "    box-shadow: none;\n",
              "  }\n",
              "\n",
              "  .colab-df-spinner {\n",
              "    border: 2px solid var(--fill-color);\n",
              "    border-color: transparent;\n",
              "    border-bottom-color: var(--fill-color);\n",
              "    animation:\n",
              "      spin 1s steps(1) infinite;\n",
              "  }\n",
              "\n",
              "  @keyframes spin {\n",
              "    0% {\n",
              "      border-color: transparent;\n",
              "      border-bottom-color: var(--fill-color);\n",
              "      border-left-color: var(--fill-color);\n",
              "    }\n",
              "    20% {\n",
              "      border-color: transparent;\n",
              "      border-left-color: var(--fill-color);\n",
              "      border-top-color: var(--fill-color);\n",
              "    }\n",
              "    30% {\n",
              "      border-color: transparent;\n",
              "      border-left-color: var(--fill-color);\n",
              "      border-top-color: var(--fill-color);\n",
              "      border-right-color: var(--fill-color);\n",
              "    }\n",
              "    40% {\n",
              "      border-color: transparent;\n",
              "      border-right-color: var(--fill-color);\n",
              "      border-top-color: var(--fill-color);\n",
              "    }\n",
              "    60% {\n",
              "      border-color: transparent;\n",
              "      border-right-color: var(--fill-color);\n",
              "    }\n",
              "    80% {\n",
              "      border-color: transparent;\n",
              "      border-right-color: var(--fill-color);\n",
              "      border-bottom-color: var(--fill-color);\n",
              "    }\n",
              "    90% {\n",
              "      border-color: transparent;\n",
              "      border-bottom-color: var(--fill-color);\n",
              "    }\n",
              "  }\n",
              "</style>\n",
              "\n",
              "      <script>\n",
              "        async function quickchart(key) {\n",
              "          const quickchartButtonEl =\n",
              "            document.querySelector('#' + key + ' button');\n",
              "          quickchartButtonEl.disabled = true;  // To prevent multiple clicks.\n",
              "          quickchartButtonEl.classList.add('colab-df-spinner');\n",
              "          try {\n",
              "            const charts = await google.colab.kernel.invokeFunction(\n",
              "                'suggestCharts', [key], {});\n",
              "          } catch (error) {\n",
              "            console.error('Error during call to suggestCharts:', error);\n",
              "          }\n",
              "          quickchartButtonEl.classList.remove('colab-df-spinner');\n",
              "          quickchartButtonEl.classList.add('colab-df-quickchart-complete');\n",
              "        }\n",
              "        (() => {\n",
              "          let quickchartButtonEl =\n",
              "            document.querySelector('#df-a55535ab-ee6a-4f85-90ee-b5b309564e10 button');\n",
              "          quickchartButtonEl.style.display =\n",
              "            google.colab.kernel.accessAllowed ? 'block' : 'none';\n",
              "        })();\n",
              "      </script>\n",
              "    </div>\n",
              "\n",
              "    </div>\n",
              "  </div>\n"
            ],
            "application/vnd.google.colaboratory.intrinsic+json": {
              "type": "dataframe",
              "variable_name": "df_train"
            }
          },
          "metadata": {},
          "execution_count": 14
        }
      ]
    },
    {
      "cell_type": "markdown",
      "source": [
        "## Subsample and Splin Train vs Internal Test set"
      ],
      "metadata": {
        "id": "bIJsaHd101TM"
      }
    },
    {
      "cell_type": "markdown",
      "source": [
        "We split the dataset into training and internal test sets, using an 80/20 ratio.\n",
        "Stratified sampling is applied to preserve the original sentiment class distribution in both subsets."
      ],
      "metadata": {
        "id": "ClVACvgadNTO"
      }
    },
    {
      "cell_type": "code",
      "source": [
        "X = df_train['Text']\n",
        "y = df_train['sentiment']\n",
        "\n",
        "X_train, X_test, y_train, y_test = train_test_split(\n",
        "    X, y, test_size=0.2, random_state=42, stratify=y\n",
        ")"
      ],
      "metadata": {
        "id": "bGWmIuMf07lW"
      },
      "execution_count": 15,
      "outputs": []
    },
    {
      "cell_type": "markdown",
      "source": [
        "## Tokenization"
      ],
      "metadata": {
        "id": "9EgtZnGtHsES"
      }
    },
    {
      "cell_type": "markdown",
      "source": [
        "We initialize a Keras tokenizer with a vocabulary size limit of 30,000 words and an out-of-vocabulary token (<OOV>).\n",
        "The tokenizer is fitted on the training set and then used to convert both the training and test texts into sequences of integer tokens."
      ],
      "metadata": {
        "id": "LR7KXQaqdvRc"
      }
    },
    {
      "cell_type": "code",
      "source": [
        "# Set vocabulary size\n",
        "max_words = 30000\n",
        "# Initialize the tokenizer\n",
        "tokenizer = Tokenizer(num_words=max_words, oov_token=\"<OOV>\")\n",
        "# fit the tokenizer on TR set\n",
        "tokenizer.fit_on_texts(X_train)\n",
        "# tokenize TR set\n",
        "train_sequences = tokenizer.texts_to_sequences(X_train)\n",
        "# tokenize TS set\n",
        "test_sequences = tokenizer.texts_to_sequences(X_test)"
      ],
      "metadata": {
        "id": "0s42yDIA1DGp"
      },
      "execution_count": 16,
      "outputs": []
    },
    {
      "cell_type": "code",
      "source": [
        "# analyzing review length distribution before padding\n",
        "lengths = [len(seq) for seq in train_sequences]\n",
        "plt.hist(lengths, bins=50)\n",
        "plt.title(\"Review Length Distribution\")\n",
        "plt.xlabel(\"Tokens per review\")\n",
        "plt.ylabel(\"Count\")\n",
        "plt.show()"
      ],
      "metadata": {
        "colab": {
          "base_uri": "https://localhost:8080/",
          "height": 472
        },
        "id": "_i5F3OeQ1FmB",
        "outputId": "92e771b2-40f6-4493-ab43-ea8f63fbafc0"
      },
      "execution_count": 17,
      "outputs": [
        {
          "output_type": "display_data",
          "data": {
            "text/plain": [
              "<Figure size 640x480 with 1 Axes>"
            ],
            "image/png": "[encoded data removed]"
          },
          "metadata": {}
        }
      ]
    },
    {
      "cell_type": "code",
      "source": [
        "print(\"95th percentile length:\", np.percentile(lengths, 95))"
      ],
      "metadata": {
        "colab": {
          "base_uri": "https://localhost:8080/"
        },
        "id": "FaBB2Qvo1fzC",
        "outputId": "2ece8efb-017c-4ff1-b414-ae2984c7823c"
      },
      "execution_count": 18,
      "outputs": [
        {
          "output_type": "stream",
          "name": "stdout",
          "text": [
            "95th percentile length: 89.0\n"
          ]
        }
      ]
    },
    {
      "cell_type": "markdown",
      "source": [
        "We pad all input sequences to a fixed length of 164 tokens.\n",
        "Padding and truncation are applied at the beginning of the sequences ('pre') to ensure uniform input size for the model."
      ],
      "metadata": {
        "id": "i5c4mG1PeJU5"
      }
    },
    {
      "cell_type": "code",
      "source": [
        "max_len = 89\n",
        "# pad train seq.\n",
        "train_sequences_padded = pad_sequences(train_sequences, maxlen=max_len, padding='pre', truncating='pre')\n",
        "# pad test seq.\n",
        "test_sequences_padded = pad_sequences(test_sequences, maxlen=max_len, padding='pre', truncating='pre')"
      ],
      "metadata": {
        "id": "sEZe8js_1gfF"
      },
      "execution_count": 19,
      "outputs": []
    },
    {
      "cell_type": "markdown",
      "source": [
        "## Word2Vec"
      ],
      "metadata": {
        "id": "moLs-Px8eMAZ"
      }
    },
    {
      "cell_type": "markdown",
      "source": [
        "We download the pre-trained Google News Word2Vec embeddings (300-dimensional), which will be used for the embeddings in our model. These embeddings are widely used and trained on a large corpus of news articles."
      ],
      "metadata": {
        "id": "XiQ3mVVmeVY7"
      }
    },
    {
      "cell_type": "code",
      "source": [
        "file_id = '1Sra_JrYMx7_3ENBHQRkgD0z3NfK_S8qy'\n",
        "output_path = 'GoogleNews-vectors-negative300.bin'\n",
        "gdown.download(f'https://drive.google.com/uc?id={file_id}', output=output_path, quiet=False)"
      ],
      "metadata": {
        "id": "OkxxQHK2wadp",
        "colab": {
          "base_uri": "https://localhost:8080/",
          "height": 125
        },
        "outputId": "b1b19bf3-58c7-464f-e982-b6cb4aa6ce39"
      },
      "execution_count": 20,
      "outputs": [
        {
          "output_type": "stream",
          "name": "stderr",
          "text": [
            "Downloading...\n",
            "From (original): https://drive.google.com/uc?id=1Sra_JrYMx7_3ENBHQRkgD0z3NfK_S8qy\n",
            "From (redirected): https://drive.google.com/uc?id=1Sra_JrYMx7_3ENBHQRkgD0z3NfK_S8qy&confirm=t&uuid=63efa5ab-1093-4099-bbf3-6d4a29c9c66c\n",
            "To: /content/GoogleNews-vectors-negative300.bin\n",
            "100%|██████████| 3.64G/3.64G [01:04<00:00, 56.2MB/s]\n"
          ]
        },
        {
          "output_type": "execute_result",
          "data": {
            "text/plain": [
              "'GoogleNews-vectors-negative300.bin'"
            ],
            "application/vnd.google.colaboratory.intrinsic+json": {
              "type": "string"
            }
          },
          "metadata": {},
          "execution_count": 20
        }
      ]
    },
    {
      "cell_type": "code",
      "source": [
        "w2v_model = KeyedVectors.load_word2vec_format('GoogleNews-vectors-negative300.bin', binary=True)"
      ],
      "metadata": {
        "id": "0Qh7_9Ja4aBs"
      },
      "execution_count": 21,
      "outputs": []
    },
    {
      "cell_type": "markdown",
      "source": [
        "We build the embedding matrix by assigning pre-trained Word2Vec vectors to the words in our vocabulary.\n",
        "Words not found in the Word2Vec model are initialized with random values drawn from a normal distribution (mean = 0, std = 0.6)."
      ],
      "metadata": {
        "id": "_VIH-pbgehz4"
      }
    },
    {
      "cell_type": "code",
      "source": [
        "embedding_dim = 300\n",
        "embedding_matrix = np.zeros((max_words, embedding_dim))\n",
        "\n",
        "for word, i in tokenizer.word_index.items():\n",
        "    if i < max_words:\n",
        "        if word in w2v_model:\n",
        "            embedding_matrix[i] = w2v_model[word]\n",
        "        else:\n",
        "            embedding_matrix[i] = np.random.normal(scale=0.6, size=(embedding_dim,))\n"
      ],
      "metadata": {
        "id": "HdZe6oJ05JBs"
      },
      "execution_count": 22,
      "outputs": []
    },
    {
      "cell_type": "markdown",
      "source": [
        "## Model Definition"
      ],
      "metadata": {
        "id": "KyEi_tEne57c"
      }
    },
    {
      "cell_type": "markdown",
      "source": [
        "We define a simple neural network architecture consisting of:\n",
        "- a frozen embedding layer initialized with pre-trained Word2Vec vectors,\n",
        "- an LSTM layer with 128 units to capture sequential patterns,\n",
        "- and a final dense layer with sigmoid activation for binary classification.\n",
        "\n",
        "The model is compiled with binary crossentropy loss and the Adam optimizer."
      ],
      "metadata": {
        "id": "hgRvjZjfevhI"
      }
    },
    {
      "cell_type": "code",
      "source": [
        "model = Sequential([\n",
        "    Embedding(input_dim=max_words,\n",
        "              output_dim=embedding_dim,\n",
        "              weights=[embedding_matrix],\n",
        "              input_length=max_len,\n",
        "              trainable=False),\n",
        "    LSTM(128),\n",
        "    Dense(1, activation='sigmoid')\n",
        "])\n",
        "\n",
        "model.compile(loss='binary_crossentropy', optimizer='adam', metrics=['accuracy'])"
      ],
      "metadata": {
        "colab": {
          "base_uri": "https://localhost:8080/"
        },
        "id": "z8Dkn-G04qck",
        "outputId": "83981f25-9d95-4c80-e0a9-1db53a436831"
      },
      "execution_count": 23,
      "outputs": [
        {
          "output_type": "stream",
          "name": "stderr",
          "text": [
            "/usr/local/lib/python3.11/dist-packages/keras/src/layers/core/embedding.py:90: UserWarning: Argument `input_length` is deprecated. Just remove it.\n",
            "  warnings.warn(\n"
          ]
        }
      ]
    },
    {
      "cell_type": "markdown",
      "source": [
        "The training accuracy steadily increases across epochs, reaching 94.3%, while the validation accuracy stabilizes around 92.7%, suggesting good generalization without significant overfitting.\n",
        "\n",
        "After training, we evaluate the model on the test set using standard classification metrics:\n",
        "\n",
        "- Precision, Recall, and F1-score are all around 0.93 for both sentiment classes (positive and negative).\n",
        "- The overall accuracy is 93% on a test set of nearly 80,000 samples.\n",
        "- The confusion matrix shows a balanced performance, with slightly more false positives (~3200) than false negatives (~2500), but no severe class imbalance or skew."
      ],
      "metadata": {
        "id": "aVrSFZI5gARi"
      }
    },
    {
      "cell_type": "code",
      "source": [
        "model.fit(train_sequences_padded, y_train, epochs=5,\n",
        "          validation_split=0.2, batch_size=64)"
      ],
      "metadata": {
        "colab": {
          "base_uri": "https://localhost:8080/"
        },
        "id": "c5ov3uzE4rLi",
        "outputId": "d1b039b4-da99-4edb-d6b2-c007d33b7f65"
      },
      "execution_count": 24,
      "outputs": [
        {
          "output_type": "stream",
          "name": "stdout",
          "text": [
            "Epoch 1/5\n",
            "\u001b[1m3998/3998\u001b[0m \u001b[32m━━━━━━━━━━━━━━━━━━━━\u001b[0m\u001b[37m\u001b[0m \u001b[1m31s\u001b[0m 7ms/step - accuracy: 0.8305 - loss: 0.3794 - val_accuracy: 0.8851 - val_loss: 0.2787\n",
            "Epoch 2/5\n",
            "\u001b[1m3998/3998\u001b[0m \u001b[32m━━━━━━━━━━━━━━━━━━━━\u001b[0m\u001b[37m\u001b[0m \u001b[1m28s\u001b[0m 7ms/step - accuracy: 0.8960 - loss: 0.2547 - val_accuracy: 0.9026 - val_loss: 0.2408\n",
            "Epoch 3/5\n",
            "\u001b[1m3998/3998\u001b[0m \u001b[32m━━━━━━━━━━━━━━━━━━━━\u001b[0m\u001b[37m\u001b[0m \u001b[1m28s\u001b[0m 7ms/step - accuracy: 0.9113 - loss: 0.2198 - val_accuracy: 0.9071 - val_loss: 0.2290\n",
            "Epoch 4/5\n",
            "\u001b[1m3998/3998\u001b[0m \u001b[32m━━━━━━━━━━━━━━━━━━━━\u001b[0m\u001b[37m\u001b[0m \u001b[1m27s\u001b[0m 7ms/step - accuracy: 0.9239 - loss: 0.1936 - val_accuracy: 0.9101 - val_loss: 0.2249\n",
            "Epoch 5/5\n",
            "\u001b[1m3998/3998\u001b[0m \u001b[32m━━━━━━━━━━━━━━━━━━━━\u001b[0m\u001b[37m\u001b[0m \u001b[1m27s\u001b[0m 7ms/step - accuracy: 0.9318 - loss: 0.1743 - val_accuracy: 0.9091 - val_loss: 0.2385\n"
          ]
        },
        {
          "output_type": "execute_result",
          "data": {
            "text/plain": [
              "<keras.src.callbacks.history.History at 0x7ba21adb0b90>"
            ]
          },
          "metadata": {},
          "execution_count": 24
        }
      ]
    },
    {
      "cell_type": "code",
      "source": [
        "y_pred_prob = model.predict(test_sequences_padded)\n",
        "y_pred_class = (y_pred_prob > 0.5).astype(int)\n",
        "\n",
        "print(\"Classification Report:\")\n",
        "print(classification_report(y_test, y_pred_class))\n",
        "\n",
        "print(\"Confusion Matrix:\")\n",
        "print(confusion_matrix(y_test, y_pred_class))"
      ],
      "metadata": {
        "colab": {
          "base_uri": "https://localhost:8080/"
        },
        "id": "3deoaVq97WI7",
        "outputId": "dd55be5d-f392-4c88-e7c9-5930b71a11b9"
      },
      "execution_count": 25,
      "outputs": [
        {
          "output_type": "stream",
          "name": "stdout",
          "text": [
            "\u001b[1m2499/2499\u001b[0m \u001b[32m━━━━━━━━━━━━━━━━━━━━\u001b[0m\u001b[37m\u001b[0m \u001b[1m6s\u001b[0m 2ms/step\n",
            "Classification Report:\n",
            "              precision    recall  f1-score   support\n",
            "\n",
            "           0       0.92      0.90      0.91     39966\n",
            "           1       0.90      0.92      0.91     39985\n",
            "\n",
            "    accuracy                           0.91     79951\n",
            "   macro avg       0.91      0.91      0.91     79951\n",
            "weighted avg       0.91      0.91      0.91     79951\n",
            "\n",
            "Confusion Matrix:\n",
            "[[35982  3984]\n",
            " [ 3139 36846]]\n"
          ]
        }
      ]
    },
    {
      "cell_type": "markdown",
      "source": [
        "The Word2Vec + LSTM model achieves high accuracy and balanced precision/recall, making it effective for binary sentiment classification.\n",
        "Further improvements could include tuning hyperparameters, using a trainable embedding layer, or incorporating additional text preprocessing"
      ],
      "metadata": {
        "id": "GjIwAQ91gLt_"
      }
    }
  ]
}