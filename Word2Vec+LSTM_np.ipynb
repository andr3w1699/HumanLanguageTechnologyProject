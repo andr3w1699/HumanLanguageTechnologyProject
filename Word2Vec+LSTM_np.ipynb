{
  "nbformat": 4,
  "nbformat_minor": 0,
  "metadata": {
    "colab": {
      "provenance": [],
      "gpuType": "A100"
    },
    "kernelspec": {
      "name": "python3",
      "display_name": "Python 3"
    },
    "language_info": {
      "name": "python"
    },
    "accelerator": "GPU"
  },
  "cells": [
    {
      "cell_type": "markdown",
      "source": [
        "# Word2Vec + LSTM\n",
        "\n",
        "In this notebook, we implement an approach that combines Word2Vec and LSTM to tackle sentiment classification on our dataset. The rationale behind this method is to leverage the strengths of both techniques: Word2Vec for capturing semantic relationships between words by representing them in a continuous vector space, and LSTM for modeling the sequential nature and contextual dependencies within the text."
      ],
      "metadata": {
        "id": "iZX3hEsfQW8z"
      }
    },
    {
      "cell_type": "code",
      "execution_count": 1,
      "metadata": {
        "id": "CLrcGAoxyI8N"
      },
      "outputs": [],
      "source": [
        "!pip install -q gdown gensim"
      ]
    },
    {
      "cell_type": "code",
      "source": [
        "# import\n",
        "import tarfile\n",
        "import pandas as pd\n",
        "import matplotlib.pyplot as plt\n",
        "import numpy as np\n",
        "import gdown\n",
        "from tensorflow.keras.preprocessing.text import Tokenizer\n",
        "from tensorflow.keras.preprocessing.sequence import pad_sequences\n",
        "from tensorflow.keras.layers import LSTM, Dense, Embedding\n",
        "from tensorflow.keras.models import Sequential\n",
        "from sklearn.model_selection import train_test_split\n",
        "from sklearn.metrics import classification_report, confusion_matrix\n",
        "from gensim.models import KeyedVectors"
      ],
      "metadata": {
        "id": "onVZmNvjyWcj"
      },
      "execution_count": 2,
      "outputs": []
    },
    {
      "cell_type": "markdown",
      "source": [
        "# Load Dataset, Data Understanding and preprocessing"
      ],
      "metadata": {
        "id": "WAP_VUVVy9ND"
      }
    },
    {
      "cell_type": "markdown",
      "source": [
        "In this section, we download a 500k-row subset of the Amazon Review Full dataset from Google Drive. The dataset is in its raw, non-preprocessed form."
      ],
      "metadata": {
        "id": "ZU1c5MTWV6Z4"
      }
    },
    {
      "cell_type": "code",
      "source": [
        "file_id = '1AtYLNOobU6PbvvDATGetGIeVDGYn1uQ2'\n",
        "output_name = 'dataset_v2_500K_np.csv'\n",
        "\n",
        "!gdown --id {file_id} -O {output_name}"
      ],
      "metadata": {
        "colab": {
          "base_uri": "https://localhost:8080/"
        },
        "id": "-WBpvfI-zIuy",
        "outputId": "898fed58-be29-4545-8f0c-dccb473cc55b"
      },
      "execution_count": 6,
      "outputs": [
        {
          "output_type": "stream",
          "name": "stdout",
          "text": [
            "/usr/local/lib/python3.11/dist-packages/gdown/__main__.py:140: FutureWarning: Option `--id` was deprecated in version 4.3.1 and will be removed in 5.0. You don't need to pass it anymore to use a file ID.\n",
            "  warnings.warn(\n",
            "Downloading...\n",
            "From (original): https://drive.google.com/uc?id=1AtYLNOobU6PbvvDATGetGIeVDGYn1uQ2\n",
            "From (redirected): https://drive.google.com/uc?id=1AtYLNOobU6PbvvDATGetGIeVDGYn1uQ2&confirm=t&uuid=ec4929f3-45ba-4cc0-9fa3-a90fe91c12c7\n",
            "To: /content/dataset_v2_500K_np.csv\n",
            "100% 223M/223M [00:01<00:00, 197MB/s]\n"
          ]
        }
      ]
    },
    {
      "cell_type": "code",
      "source": [
        "# Set options to show full text and all rows\n",
        "pd.set_option('display.max_colwidth', None)\n",
        "# Read the training data into a DataFrame\n",
        "df_train = pd.read_csv('dataset_v2_500K_np.csv', header=None)\n",
        "df_train.columns = ['Text', 'Rating']\n",
        "# Display the first few rows\n",
        "df_train.head()"
      ],
      "metadata": {
        "colab": {
          "base_uri": "https://localhost:8080/",
          "height": 329
        },
        "id": "9dM8WUH6zUAU",
        "outputId": "d0b25e97-3ca4-4626-cfac-762d45d71a28"
      },
      "execution_count": 13,
      "outputs": [
        {
          "output_type": "stream",
          "name": "stderr",
          "text": [
            "<ipython-input-13-55d99585b619>:4: DtypeWarning: Columns (1) have mixed types. Specify dtype option on import or set low_memory=False.\n",
            "  df_train = pd.read_csv('dataset_v2_500K_np.csv', header=None)\n"
          ]
        },
        {
          "output_type": "execute_result",
          "data": {
            "text/plain": [
              "                                                                                                                                                                                                                                                                                                                                                                                                                                                                                                                                                                                                                                                                                    Text  \\\n",
              "0                                                                                                                                                                                                                                                                                                                                                                                                                                                                                                                                                                                                                                                                                   Text   \n",
              "1                                                                                                                 No Lonesome Dove Lonesome Dove is one of the best books I've ever read but Dead's Man Walk can't hold a candle to it. The Rangers are portrayed as bumbling idiots who are captured or ambushed as easily as picking up a baby. I especially didn't like the ending. I thought Call and Gus would have it out with Buffalo Hump but not to be (I won't spoil the ending). It's still a good read but it's no Lonesome Dove or Streets of Laredo (an excellent read!!). If you find it at a garage sale or thrift store for a cheap price then by all means pick it up.   \n",
              "2                                                                                                                                                                                                                                                                                                                   Not I was hoping for Don't expect these to be magical.I am pretty easy on tools, but these aren't that tough.On one stuck bolt, the first one I used broke without even giving up a fight. The 2nd one grabbed well, bu then it bent like a piece of licorice.I would recommend these for very light-duty work.Fortunately Amazon was amazing in the return process.   \n",
              "3                                                                                                                                                                                                                                                                                                                                                                                                                                                                                                                                                     roof bag This bag held up good however it is not at all waterproof we had to dry all our clothes when we arrived atOur destination   \n",
              "4  Suspensful Truly after reading the reviews written by previous readers about this book, i just had to read the book. I was intrigued ultimately about the premise of the story, a bengal tiger lose in north Georgia, AWESOME. Reading the first half of the story i found comparisons to that of the movie \"Jaws\", mystique, suspense, and great story telling both depicted by Warner and Speilber. The second half of the story then wandered a bit from the roots and went into a metaphorical shift to ones manhood. But i do truly wish many to read this story which i couldnt put down!!! Also Jim Grahams character in this story is truly charasmatic and geniune!! READ IT   \n",
              "\n",
              "   Rating  \n",
              "0  Rating  \n",
              "1       3  \n",
              "2       2  \n",
              "3       2  \n",
              "4       5  "
            ],
            "text/html": [
              "\n",
              "  <div id=\"df-fcf92640-2007-483c-bc5a-de3553959af5\" class=\"colab-df-container\">\n",
              "    <div>\n",
              "<style scoped>\n",
              "    .dataframe tbody tr th:only-of-type {\n",
              "        vertical-align: middle;\n",
              "    }\n",
              "\n",
              "    .dataframe tbody tr th {\n",
              "        vertical-align: top;\n",
              "    }\n",
              "\n",
              "    .dataframe thead th {\n",
              "        text-align: right;\n",
              "    }\n",
              "</style>\n",
              "<table border=\"1\" class=\"dataframe\">\n",
              "  <thead>\n",
              "    <tr style=\"text-align: right;\">\n",
              "      <th></th>\n",
              "      <th>Text</th>\n",
              "      <th>Rating</th>\n",
              "    </tr>\n",
              "  </thead>\n",
              "  <tbody>\n",
              "    <tr>\n",
              "      <th>0</th>\n",
              "      <td>Text</td>\n",
              "      <td>Rating</td>\n",
              "    </tr>\n",
              "    <tr>\n",
              "      <th>1</th>\n",
              "      <td>No Lonesome Dove Lonesome Dove is one of the best books I've ever read but Dead's Man Walk can't hold a candle to it. The Rangers are portrayed as bumbling idiots who are captured or ambushed as easily as picking up a baby. I especially didn't like the ending. I thought Call and Gus would have it out with Buffalo Hump but not to be (I won't spoil the ending). It's still a good read but it's no Lonesome Dove or Streets of Laredo (an excellent read!!). If you find it at a garage sale or thrift store for a cheap price then by all means pick it up.</td>\n",
              "      <td>3</td>\n",
              "    </tr>\n",
              "    <tr>\n",
              "      <th>2</th>\n",
              "      <td>Not I was hoping for Don't expect these to be magical.I am pretty easy on tools, but these aren't that tough.On one stuck bolt, the first one I used broke without even giving up a fight. The 2nd one grabbed well, bu then it bent like a piece of licorice.I would recommend these for very light-duty work.Fortunately Amazon was amazing in the return process.</td>\n",
              "      <td>2</td>\n",
              "    </tr>\n",
              "    <tr>\n",
              "      <th>3</th>\n",
              "      <td>roof bag This bag held up good however it is not at all waterproof we had to dry all our clothes when we arrived atOur destination</td>\n",
              "      <td>2</td>\n",
              "    </tr>\n",
              "    <tr>\n",
              "      <th>4</th>\n",
              "      <td>Suspensful Truly after reading the reviews written by previous readers about this book, i just had to read the book. I was intrigued ultimately about the premise of the story, a bengal tiger lose in north Georgia, AWESOME. Reading the first half of the story i found comparisons to that of the movie \"Jaws\", mystique, suspense, and great story telling both depicted by Warner and Speilber. The second half of the story then wandered a bit from the roots and went into a metaphorical shift to ones manhood. But i do truly wish many to read this story which i couldnt put down!!! Also Jim Grahams character in this story is truly charasmatic and geniune!! READ IT</td>\n",
              "      <td>5</td>\n",
              "    </tr>\n",
              "  </tbody>\n",
              "</table>\n",
              "</div>\n",
              "    <div class=\"colab-df-buttons\">\n",
              "\n",
              "  <div class=\"colab-df-container\">\n",
              "    <button class=\"colab-df-convert\" onclick=\"convertToInteractive('df-fcf92640-2007-483c-bc5a-de3553959af5')\"\n",
              "            title=\"Convert this dataframe to an interactive table.\"\n",
              "            style=\"display:none;\">\n",
              "\n",
              "  <svg xmlns=\"http://www.w3.org/2000/svg\" height=\"24px\" viewBox=\"0 -960 960 960\">\n",
              "    <path d=\"M120-120v-720h720v720H120Zm60-500h600v-160H180v160Zm220 220h160v-160H400v160Zm0 220h160v-160H400v160ZM180-400h160v-160H180v160Zm440 0h160v-160H620v160ZM180-180h160v-160H180v160Zm440 0h160v-160H620v160Z\"/>\n",
              "  </svg>\n",
              "    </button>\n",
              "\n",
              "  <style>\n",
              "    .colab-df-container {\n",
              "      display:flex;\n",
              "      gap: 12px;\n",
              "    }\n",
              "\n",
              "    .colab-df-convert {\n",
              "      background-color: #E8F0FE;\n",
              "      border: none;\n",
              "      border-radius: 50%;\n",
              "      cursor: pointer;\n",
              "      display: none;\n",
              "      fill: #1967D2;\n",
              "      height: 32px;\n",
              "      padding: 0 0 0 0;\n",
              "      width: 32px;\n",
              "    }\n",
              "\n",
              "    .colab-df-convert:hover {\n",
              "      background-color: #E2EBFA;\n",
              "      box-shadow: 0px 1px 2px rgba(60, 64, 67, 0.3), 0px 1px 3px 1px rgba(60, 64, 67, 0.15);\n",
              "      fill: #174EA6;\n",
              "    }\n",
              "\n",
              "    .colab-df-buttons div {\n",
              "      margin-bottom: 4px;\n",
              "    }\n",
              "\n",
              "    [theme=dark] .colab-df-convert {\n",
              "      background-color: #3B4455;\n",
              "      fill: #D2E3FC;\n",
              "    }\n",
              "\n",
              "    [theme=dark] .colab-df-convert:hover {\n",
              "      background-color: #434B5C;\n",
              "      box-shadow: 0px 1px 3px 1px rgba(0, 0, 0, 0.15);\n",
              "      filter: drop-shadow(0px 1px 2px rgba(0, 0, 0, 0.3));\n",
              "      fill: #FFFFFF;\n",
              "    }\n",
              "  </style>\n",
              "\n",
              "    <script>\n",
              "      const buttonEl =\n",
              "        document.querySelector('#df-fcf92640-2007-483c-bc5a-de3553959af5 button.colab-df-convert');\n",
              "      buttonEl.style.display =\n",
              "        google.colab.kernel.accessAllowed ? 'block' : 'none';\n",
              "\n",
              "      async function convertToInteractive(key) {\n",
              "        const element = document.querySelector('#df-fcf92640-2007-483c-bc5a-de3553959af5');\n",
              "        const dataTable =\n",
              "          await google.colab.kernel.invokeFunction('convertToInteractive',\n",
              "                                                    [key], {});\n",
              "        if (!dataTable) return;\n",
              "\n",
              "        const docLinkHtml = 'Like what you see? Visit the ' +\n",
              "          '<a target=\"_blank\" href=https://colab.research.google.com/notebooks/data_table.ipynb>data table notebook</a>'\n",
              "          + ' to learn more about interactive tables.';\n",
              "        element.innerHTML = '';\n",
              "        dataTable['output_type'] = 'display_data';\n",
              "        await google.colab.output.renderOutput(dataTable, element);\n",
              "        const docLink = document.createElement('div');\n",
              "        docLink.innerHTML = docLinkHtml;\n",
              "        element.appendChild(docLink);\n",
              "      }\n",
              "    </script>\n",
              "  </div>\n",
              "\n",
              "\n",
              "    <div id=\"df-110057f9-ffb9-457d-a991-33b480d10bd0\">\n",
              "      <button class=\"colab-df-quickchart\" onclick=\"quickchart('df-110057f9-ffb9-457d-a991-33b480d10bd0')\"\n",
              "                title=\"Suggest charts\"\n",
              "                style=\"display:none;\">\n",
              "\n",
              "<svg xmlns=\"http://www.w3.org/2000/svg\" height=\"24px\"viewBox=\"0 0 24 24\"\n",
              "     width=\"24px\">\n",
              "    <g>\n",
              "        <path d=\"M19 3H5c-1.1 0-2 .9-2 2v14c0 1.1.9 2 2 2h14c1.1 0 2-.9 2-2V5c0-1.1-.9-2-2-2zM9 17H7v-7h2v7zm4 0h-2V7h2v10zm4 0h-2v-4h2v4z\"/>\n",
              "    </g>\n",
              "</svg>\n",
              "      </button>\n",
              "\n",
              "<style>\n",
              "  .colab-df-quickchart {\n",
              "      --bg-color: #E8F0FE;\n",
              "      --fill-color: #1967D2;\n",
              "      --hover-bg-color: #E2EBFA;\n",
              "      --hover-fill-color: #174EA6;\n",
              "      --disabled-fill-color: #AAA;\n",
              "      --disabled-bg-color: #DDD;\n",
              "  }\n",
              "\n",
              "  [theme=dark] .colab-df-quickchart {\n",
              "      --bg-color: #3B4455;\n",
              "      --fill-color: #D2E3FC;\n",
              "      --hover-bg-color: #434B5C;\n",
              "      --hover-fill-color: #FFFFFF;\n",
              "      --disabled-bg-color: #3B4455;\n",
              "      --disabled-fill-color: #666;\n",
              "  }\n",
              "\n",
              "  .colab-df-quickchart {\n",
              "    background-color: var(--bg-color);\n",
              "    border: none;\n",
              "    border-radius: 50%;\n",
              "    cursor: pointer;\n",
              "    display: none;\n",
              "    fill: var(--fill-color);\n",
              "    height: 32px;\n",
              "    padding: 0;\n",
              "    width: 32px;\n",
              "  }\n",
              "\n",
              "  .colab-df-quickchart:hover {\n",
              "    background-color: var(--hover-bg-color);\n",
              "    box-shadow: 0 1px 2px rgba(60, 64, 67, 0.3), 0 1px 3px 1px rgba(60, 64, 67, 0.15);\n",
              "    fill: var(--button-hover-fill-color);\n",
              "  }\n",
              "\n",
              "  .colab-df-quickchart-complete:disabled,\n",
              "  .colab-df-quickchart-complete:disabled:hover {\n",
              "    background-color: var(--disabled-bg-color);\n",
              "    fill: var(--disabled-fill-color);\n",
              "    box-shadow: none;\n",
              "  }\n",
              "\n",
              "  .colab-df-spinner {\n",
              "    border: 2px solid var(--fill-color);\n",
              "    border-color: transparent;\n",
              "    border-bottom-color: var(--fill-color);\n",
              "    animation:\n",
              "      spin 1s steps(1) infinite;\n",
              "  }\n",
              "\n",
              "  @keyframes spin {\n",
              "    0% {\n",
              "      border-color: transparent;\n",
              "      border-bottom-color: var(--fill-color);\n",
              "      border-left-color: var(--fill-color);\n",
              "    }\n",
              "    20% {\n",
              "      border-color: transparent;\n",
              "      border-left-color: var(--fill-color);\n",
              "      border-top-color: var(--fill-color);\n",
              "    }\n",
              "    30% {\n",
              "      border-color: transparent;\n",
              "      border-left-color: var(--fill-color);\n",
              "      border-top-color: var(--fill-color);\n",
              "      border-right-color: var(--fill-color);\n",
              "    }\n",
              "    40% {\n",
              "      border-color: transparent;\n",
              "      border-right-color: var(--fill-color);\n",
              "      border-top-color: var(--fill-color);\n",
              "    }\n",
              "    60% {\n",
              "      border-color: transparent;\n",
              "      border-right-color: var(--fill-color);\n",
              "    }\n",
              "    80% {\n",
              "      border-color: transparent;\n",
              "      border-right-color: var(--fill-color);\n",
              "      border-bottom-color: var(--fill-color);\n",
              "    }\n",
              "    90% {\n",
              "      border-color: transparent;\n",
              "      border-bottom-color: var(--fill-color);\n",
              "    }\n",
              "  }\n",
              "</style>\n",
              "\n",
              "      <script>\n",
              "        async function quickchart(key) {\n",
              "          const quickchartButtonEl =\n",
              "            document.querySelector('#' + key + ' button');\n",
              "          quickchartButtonEl.disabled = true;  // To prevent multiple clicks.\n",
              "          quickchartButtonEl.classList.add('colab-df-spinner');\n",
              "          try {\n",
              "            const charts = await google.colab.kernel.invokeFunction(\n",
              "                'suggestCharts', [key], {});\n",
              "          } catch (error) {\n",
              "            console.error('Error during call to suggestCharts:', error);\n",
              "          }\n",
              "          quickchartButtonEl.classList.remove('colab-df-spinner');\n",
              "          quickchartButtonEl.classList.add('colab-df-quickchart-complete');\n",
              "        }\n",
              "        (() => {\n",
              "          let quickchartButtonEl =\n",
              "            document.querySelector('#df-110057f9-ffb9-457d-a991-33b480d10bd0 button');\n",
              "          quickchartButtonEl.style.display =\n",
              "            google.colab.kernel.accessAllowed ? 'block' : 'none';\n",
              "        })();\n",
              "      </script>\n",
              "    </div>\n",
              "\n",
              "    </div>\n",
              "  </div>\n"
            ],
            "application/vnd.google.colaboratory.intrinsic+json": {
              "type": "dataframe",
              "variable_name": "df_train"
            }
          },
          "metadata": {},
          "execution_count": 13
        }
      ]
    },
    {
      "cell_type": "markdown",
      "source": [
        "After that, we perform some basic operations and checks on the DataFrame."
      ],
      "metadata": {
        "id": "js4ep-Fmb2dT"
      }
    },
    {
      "cell_type": "code",
      "source": [
        "df_train['Rating'] = pd.to_numeric(df_train['Rating'], errors='coerce').astype('Int64')\n",
        "df_train = df_train.drop(index=0).reset_index(drop=True)\n",
        "df_train.head()"
      ],
      "metadata": {
        "colab": {
          "base_uri": "https://localhost:8080/",
          "height": 310
        },
        "id": "xIKdo7egZS-u",
        "outputId": "d5d0c715-fd6d-4900-c15b-ac3e29c72388"
      },
      "execution_count": 28,
      "outputs": [
        {
          "output_type": "execute_result",
          "data": {
            "text/plain": [
              "                                                                                                                                                                                                                                                                                                                                                                                                                                                                                                                                                                                                                                                                                    Text  \\\n",
              "0                                                                                                                                                                                                                                                                                                                                                                                                                                                                                                                                                     roof bag This bag held up good however it is not at all waterproof we had to dry all our clothes when we arrived atOur destination   \n",
              "1  Suspensful Truly after reading the reviews written by previous readers about this book, i just had to read the book. I was intrigued ultimately about the premise of the story, a bengal tiger lose in north Georgia, AWESOME. Reading the first half of the story i found comparisons to that of the movie \"Jaws\", mystique, suspense, and great story telling both depicted by Warner and Speilber. The second half of the story then wandered a bit from the roots and went into a metaphorical shift to ones manhood. But i do truly wish many to read this story which i couldnt put down!!! Also Jim Grahams character in this story is truly charasmatic and geniune!! READ IT   \n",
              "2                                                                                                                                                                                                                                                                                                                                                                                                                                                                                                              Received Broken When my son received this gift, the bowl was broken. I told him to call the company, but he hasn't done that yet, so I don't know what the resolution is.   \n",
              "3                                                                                                                                  If you are computer literate just a little bit, do not read As you may have already noticed from the title of this review this is one of the worst techno-thrillers that one could choose for reading and you would be really annoyed of this dilettante writing with regard to the author's knowledge of cryptography and computers. Having in mind the popularity of Dan Brown as one of the best selling authors out there this book is a complete waste of time. Sorry to say. I give this book 1 out 5. Unfortunately there is no 0 star rating.   \n",
              "4                                                                                          NOT a Sequel To Iron Monkey! This is a run of the mill Hong Kong Actioner, and if you're a fan, you'll probably enjoy it, although not much. Donnie Yen is good, the action and fighting sequences are good, Yuen Wo Ping did design the fights. But the filming, editing, and overall quality are mediocre (fans expect this sort of low budget quality in most HK action films). I really believe this is Tai Seng's attempt to cash in on the popularity of Iron Monkey. Frankly, they've done a poor job, as any serious fan will detect absolutely no connection to that story and this.   \n",
              "\n",
              "   Rating  \n",
              "0       2  \n",
              "1       5  \n",
              "2       2  \n",
              "3       1  \n",
              "4       2  "
            ],
            "text/html": [
              "\n",
              "  <div id=\"df-ebd174ff-1eed-4d8c-9761-da58b9943ddc\" class=\"colab-df-container\">\n",
              "    <div>\n",
              "<style scoped>\n",
              "    .dataframe tbody tr th:only-of-type {\n",
              "        vertical-align: middle;\n",
              "    }\n",
              "\n",
              "    .dataframe tbody tr th {\n",
              "        vertical-align: top;\n",
              "    }\n",
              "\n",
              "    .dataframe thead th {\n",
              "        text-align: right;\n",
              "    }\n",
              "</style>\n",
              "<table border=\"1\" class=\"dataframe\">\n",
              "  <thead>\n",
              "    <tr style=\"text-align: right;\">\n",
              "      <th></th>\n",
              "      <th>Text</th>\n",
              "      <th>Rating</th>\n",
              "    </tr>\n",
              "  </thead>\n",
              "  <tbody>\n",
              "    <tr>\n",
              "      <th>0</th>\n",
              "      <td>roof bag This bag held up good however it is not at all waterproof we had to dry all our clothes when we arrived atOur destination</td>\n",
              "      <td>2</td>\n",
              "    </tr>\n",
              "    <tr>\n",
              "      <th>1</th>\n",
              "      <td>Suspensful Truly after reading the reviews written by previous readers about this book, i just had to read the book. I was intrigued ultimately about the premise of the story, a bengal tiger lose in north Georgia, AWESOME. Reading the first half of the story i found comparisons to that of the movie \"Jaws\", mystique, suspense, and great story telling both depicted by Warner and Speilber. The second half of the story then wandered a bit from the roots and went into a metaphorical shift to ones manhood. But i do truly wish many to read this story which i couldnt put down!!! Also Jim Grahams character in this story is truly charasmatic and geniune!! READ IT</td>\n",
              "      <td>5</td>\n",
              "    </tr>\n",
              "    <tr>\n",
              "      <th>2</th>\n",
              "      <td>Received Broken When my son received this gift, the bowl was broken. I told him to call the company, but he hasn't done that yet, so I don't know what the resolution is.</td>\n",
              "      <td>2</td>\n",
              "    </tr>\n",
              "    <tr>\n",
              "      <th>3</th>\n",
              "      <td>If you are computer literate just a little bit, do not read As you may have already noticed from the title of this review this is one of the worst techno-thrillers that one could choose for reading and you would be really annoyed of this dilettante writing with regard to the author's knowledge of cryptography and computers. Having in mind the popularity of Dan Brown as one of the best selling authors out there this book is a complete waste of time. Sorry to say. I give this book 1 out 5. Unfortunately there is no 0 star rating.</td>\n",
              "      <td>1</td>\n",
              "    </tr>\n",
              "    <tr>\n",
              "      <th>4</th>\n",
              "      <td>NOT a Sequel To Iron Monkey! This is a run of the mill Hong Kong Actioner, and if you're a fan, you'll probably enjoy it, although not much. Donnie Yen is good, the action and fighting sequences are good, Yuen Wo Ping did design the fights. But the filming, editing, and overall quality are mediocre (fans expect this sort of low budget quality in most HK action films). I really believe this is Tai Seng's attempt to cash in on the popularity of Iron Monkey. Frankly, they've done a poor job, as any serious fan will detect absolutely no connection to that story and this.</td>\n",
              "      <td>2</td>\n",
              "    </tr>\n",
              "  </tbody>\n",
              "</table>\n",
              "</div>\n",
              "    <div class=\"colab-df-buttons\">\n",
              "\n",
              "  <div class=\"colab-df-container\">\n",
              "    <button class=\"colab-df-convert\" onclick=\"convertToInteractive('df-ebd174ff-1eed-4d8c-9761-da58b9943ddc')\"\n",
              "            title=\"Convert this dataframe to an interactive table.\"\n",
              "            style=\"display:none;\">\n",
              "\n",
              "  <svg xmlns=\"http://www.w3.org/2000/svg\" height=\"24px\" viewBox=\"0 -960 960 960\">\n",
              "    <path d=\"M120-120v-720h720v720H120Zm60-500h600v-160H180v160Zm220 220h160v-160H400v160Zm0 220h160v-160H400v160ZM180-400h160v-160H180v160Zm440 0h160v-160H620v160ZM180-180h160v-160H180v160Zm440 0h160v-160H620v160Z\"/>\n",
              "  </svg>\n",
              "    </button>\n",
              "\n",
              "  <style>\n",
              "    .colab-df-container {\n",
              "      display:flex;\n",
              "      gap: 12px;\n",
              "    }\n",
              "\n",
              "    .colab-df-convert {\n",
              "      background-color: #E8F0FE;\n",
              "      border: none;\n",
              "      border-radius: 50%;\n",
              "      cursor: pointer;\n",
              "      display: none;\n",
              "      fill: #1967D2;\n",
              "      height: 32px;\n",
              "      padding: 0 0 0 0;\n",
              "      width: 32px;\n",
              "    }\n",
              "\n",
              "    .colab-df-convert:hover {\n",
              "      background-color: #E2EBFA;\n",
              "      box-shadow: 0px 1px 2px rgba(60, 64, 67, 0.3), 0px 1px 3px 1px rgba(60, 64, 67, 0.15);\n",
              "      fill: #174EA6;\n",
              "    }\n",
              "\n",
              "    .colab-df-buttons div {\n",
              "      margin-bottom: 4px;\n",
              "    }\n",
              "\n",
              "    [theme=dark] .colab-df-convert {\n",
              "      background-color: #3B4455;\n",
              "      fill: #D2E3FC;\n",
              "    }\n",
              "\n",
              "    [theme=dark] .colab-df-convert:hover {\n",
              "      background-color: #434B5C;\n",
              "      box-shadow: 0px 1px 3px 1px rgba(0, 0, 0, 0.15);\n",
              "      filter: drop-shadow(0px 1px 2px rgba(0, 0, 0, 0.3));\n",
              "      fill: #FFFFFF;\n",
              "    }\n",
              "  </style>\n",
              "\n",
              "    <script>\n",
              "      const buttonEl =\n",
              "        document.querySelector('#df-ebd174ff-1eed-4d8c-9761-da58b9943ddc button.colab-df-convert');\n",
              "      buttonEl.style.display =\n",
              "        google.colab.kernel.accessAllowed ? 'block' : 'none';\n",
              "\n",
              "      async function convertToInteractive(key) {\n",
              "        const element = document.querySelector('#df-ebd174ff-1eed-4d8c-9761-da58b9943ddc');\n",
              "        const dataTable =\n",
              "          await google.colab.kernel.invokeFunction('convertToInteractive',\n",
              "                                                    [key], {});\n",
              "        if (!dataTable) return;\n",
              "\n",
              "        const docLinkHtml = 'Like what you see? Visit the ' +\n",
              "          '<a target=\"_blank\" href=https://colab.research.google.com/notebooks/data_table.ipynb>data table notebook</a>'\n",
              "          + ' to learn more about interactive tables.';\n",
              "        element.innerHTML = '';\n",
              "        dataTable['output_type'] = 'display_data';\n",
              "        await google.colab.output.renderOutput(dataTable, element);\n",
              "        const docLink = document.createElement('div');\n",
              "        docLink.innerHTML = docLinkHtml;\n",
              "        element.appendChild(docLink);\n",
              "      }\n",
              "    </script>\n",
              "  </div>\n",
              "\n",
              "\n",
              "    <div id=\"df-3c52f889-beb3-4ebc-9674-2fd1659db183\">\n",
              "      <button class=\"colab-df-quickchart\" onclick=\"quickchart('df-3c52f889-beb3-4ebc-9674-2fd1659db183')\"\n",
              "                title=\"Suggest charts\"\n",
              "                style=\"display:none;\">\n",
              "\n",
              "<svg xmlns=\"http://www.w3.org/2000/svg\" height=\"24px\"viewBox=\"0 0 24 24\"\n",
              "     width=\"24px\">\n",
              "    <g>\n",
              "        <path d=\"M19 3H5c-1.1 0-2 .9-2 2v14c0 1.1.9 2 2 2h14c1.1 0 2-.9 2-2V5c0-1.1-.9-2-2-2zM9 17H7v-7h2v7zm4 0h-2V7h2v10zm4 0h-2v-4h2v4z\"/>\n",
              "    </g>\n",
              "</svg>\n",
              "      </button>\n",
              "\n",
              "<style>\n",
              "  .colab-df-quickchart {\n",
              "      --bg-color: #E8F0FE;\n",
              "      --fill-color: #1967D2;\n",
              "      --hover-bg-color: #E2EBFA;\n",
              "      --hover-fill-color: #174EA6;\n",
              "      --disabled-fill-color: #AAA;\n",
              "      --disabled-bg-color: #DDD;\n",
              "  }\n",
              "\n",
              "  [theme=dark] .colab-df-quickchart {\n",
              "      --bg-color: #3B4455;\n",
              "      --fill-color: #D2E3FC;\n",
              "      --hover-bg-color: #434B5C;\n",
              "      --hover-fill-color: #FFFFFF;\n",
              "      --disabled-bg-color: #3B4455;\n",
              "      --disabled-fill-color: #666;\n",
              "  }\n",
              "\n",
              "  .colab-df-quickchart {\n",
              "    background-color: var(--bg-color);\n",
              "    border: none;\n",
              "    border-radius: 50%;\n",
              "    cursor: pointer;\n",
              "    display: none;\n",
              "    fill: var(--fill-color);\n",
              "    height: 32px;\n",
              "    padding: 0;\n",
              "    width: 32px;\n",
              "  }\n",
              "\n",
              "  .colab-df-quickchart:hover {\n",
              "    background-color: var(--hover-bg-color);\n",
              "    box-shadow: 0 1px 2px rgba(60, 64, 67, 0.3), 0 1px 3px 1px rgba(60, 64, 67, 0.15);\n",
              "    fill: var(--button-hover-fill-color);\n",
              "  }\n",
              "\n",
              "  .colab-df-quickchart-complete:disabled,\n",
              "  .colab-df-quickchart-complete:disabled:hover {\n",
              "    background-color: var(--disabled-bg-color);\n",
              "    fill: var(--disabled-fill-color);\n",
              "    box-shadow: none;\n",
              "  }\n",
              "\n",
              "  .colab-df-spinner {\n",
              "    border: 2px solid var(--fill-color);\n",
              "    border-color: transparent;\n",
              "    border-bottom-color: var(--fill-color);\n",
              "    animation:\n",
              "      spin 1s steps(1) infinite;\n",
              "  }\n",
              "\n",
              "  @keyframes spin {\n",
              "    0% {\n",
              "      border-color: transparent;\n",
              "      border-bottom-color: var(--fill-color);\n",
              "      border-left-color: var(--fill-color);\n",
              "    }\n",
              "    20% {\n",
              "      border-color: transparent;\n",
              "      border-left-color: var(--fill-color);\n",
              "      border-top-color: var(--fill-color);\n",
              "    }\n",
              "    30% {\n",
              "      border-color: transparent;\n",
              "      border-left-color: var(--fill-color);\n",
              "      border-top-color: var(--fill-color);\n",
              "      border-right-color: var(--fill-color);\n",
              "    }\n",
              "    40% {\n",
              "      border-color: transparent;\n",
              "      border-right-color: var(--fill-color);\n",
              "      border-top-color: var(--fill-color);\n",
              "    }\n",
              "    60% {\n",
              "      border-color: transparent;\n",
              "      border-right-color: var(--fill-color);\n",
              "    }\n",
              "    80% {\n",
              "      border-color: transparent;\n",
              "      border-right-color: var(--fill-color);\n",
              "      border-bottom-color: var(--fill-color);\n",
              "    }\n",
              "    90% {\n",
              "      border-color: transparent;\n",
              "      border-bottom-color: var(--fill-color);\n",
              "    }\n",
              "  }\n",
              "</style>\n",
              "\n",
              "      <script>\n",
              "        async function quickchart(key) {\n",
              "          const quickchartButtonEl =\n",
              "            document.querySelector('#' + key + ' button');\n",
              "          quickchartButtonEl.disabled = true;  // To prevent multiple clicks.\n",
              "          quickchartButtonEl.classList.add('colab-df-spinner');\n",
              "          try {\n",
              "            const charts = await google.colab.kernel.invokeFunction(\n",
              "                'suggestCharts', [key], {});\n",
              "          } catch (error) {\n",
              "            console.error('Error during call to suggestCharts:', error);\n",
              "          }\n",
              "          quickchartButtonEl.classList.remove('colab-df-spinner');\n",
              "          quickchartButtonEl.classList.add('colab-df-quickchart-complete');\n",
              "        }\n",
              "        (() => {\n",
              "          let quickchartButtonEl =\n",
              "            document.querySelector('#df-3c52f889-beb3-4ebc-9674-2fd1659db183 button');\n",
              "          quickchartButtonEl.style.display =\n",
              "            google.colab.kernel.accessAllowed ? 'block' : 'none';\n",
              "        })();\n",
              "      </script>\n",
              "    </div>\n",
              "\n",
              "    </div>\n",
              "  </div>\n"
            ],
            "application/vnd.google.colaboratory.intrinsic+json": {
              "type": "dataframe",
              "variable_name": "df_train"
            }
          },
          "metadata": {},
          "execution_count": 28
        }
      ]
    },
    {
      "cell_type": "code",
      "source": [
        "# Show total null values in each column\n",
        "df_train.isnull().sum()"
      ],
      "metadata": {
        "colab": {
          "base_uri": "https://localhost:8080/",
          "height": 147
        },
        "id": "EMxe6wGNza_G",
        "outputId": "01815c58-c22f-45ac-d916-0a1c64ae87eb"
      },
      "execution_count": 29,
      "outputs": [
        {
          "output_type": "execute_result",
          "data": {
            "text/plain": [
              "Text      0\n",
              "Rating    0\n",
              "dtype: int64"
            ],
            "text/html": [
              "<div>\n",
              "<style scoped>\n",
              "    .dataframe tbody tr th:only-of-type {\n",
              "        vertical-align: middle;\n",
              "    }\n",
              "\n",
              "    .dataframe tbody tr th {\n",
              "        vertical-align: top;\n",
              "    }\n",
              "\n",
              "    .dataframe thead th {\n",
              "        text-align: right;\n",
              "    }\n",
              "</style>\n",
              "<table border=\"1\" class=\"dataframe\">\n",
              "  <thead>\n",
              "    <tr style=\"text-align: right;\">\n",
              "      <th></th>\n",
              "      <th>0</th>\n",
              "    </tr>\n",
              "  </thead>\n",
              "  <tbody>\n",
              "    <tr>\n",
              "      <th>Text</th>\n",
              "      <td>0</td>\n",
              "    </tr>\n",
              "    <tr>\n",
              "      <th>Rating</th>\n",
              "      <td>0</td>\n",
              "    </tr>\n",
              "  </tbody>\n",
              "</table>\n",
              "</div><br><label><b>dtype:</b> int64</label>"
            ]
          },
          "metadata": {},
          "execution_count": 29
        }
      ]
    },
    {
      "cell_type": "code",
      "source": [
        "# see the rows that contains Null values\n",
        "df_train[df_train.isnull().any(axis=1)]"
      ],
      "metadata": {
        "colab": {
          "base_uri": "https://localhost:8080/",
          "height": 53
        },
        "id": "fO8bQjmuzlWQ",
        "outputId": "62188883-e219-4823-fefb-27f8e87569c5"
      },
      "execution_count": 30,
      "outputs": [
        {
          "output_type": "execute_result",
          "data": {
            "text/plain": [
              "Empty DataFrame\n",
              "Columns: [Text, Rating]\n",
              "Index: []"
            ],
            "text/html": [
              "\n",
              "  <div id=\"df-d161fbbb-eb5b-47df-86bd-543dfa4d0b37\" class=\"colab-df-container\">\n",
              "    <div>\n",
              "<style scoped>\n",
              "    .dataframe tbody tr th:only-of-type {\n",
              "        vertical-align: middle;\n",
              "    }\n",
              "\n",
              "    .dataframe tbody tr th {\n",
              "        vertical-align: top;\n",
              "    }\n",
              "\n",
              "    .dataframe thead th {\n",
              "        text-align: right;\n",
              "    }\n",
              "</style>\n",
              "<table border=\"1\" class=\"dataframe\">\n",
              "  <thead>\n",
              "    <tr style=\"text-align: right;\">\n",
              "      <th></th>\n",
              "      <th>Text</th>\n",
              "      <th>Rating</th>\n",
              "    </tr>\n",
              "  </thead>\n",
              "  <tbody>\n",
              "  </tbody>\n",
              "</table>\n",
              "</div>\n",
              "    <div class=\"colab-df-buttons\">\n",
              "\n",
              "  <div class=\"colab-df-container\">\n",
              "    <button class=\"colab-df-convert\" onclick=\"convertToInteractive('df-d161fbbb-eb5b-47df-86bd-543dfa4d0b37')\"\n",
              "            title=\"Convert this dataframe to an interactive table.\"\n",
              "            style=\"display:none;\">\n",
              "\n",
              "  <svg xmlns=\"http://www.w3.org/2000/svg\" height=\"24px\" viewBox=\"0 -960 960 960\">\n",
              "    <path d=\"M120-120v-720h720v720H120Zm60-500h600v-160H180v160Zm220 220h160v-160H400v160Zm0 220h160v-160H400v160ZM180-400h160v-160H180v160Zm440 0h160v-160H620v160ZM180-180h160v-160H180v160Zm440 0h160v-160H620v160Z\"/>\n",
              "  </svg>\n",
              "    </button>\n",
              "\n",
              "  <style>\n",
              "    .colab-df-container {\n",
              "      display:flex;\n",
              "      gap: 12px;\n",
              "    }\n",
              "\n",
              "    .colab-df-convert {\n",
              "      background-color: #E8F0FE;\n",
              "      border: none;\n",
              "      border-radius: 50%;\n",
              "      cursor: pointer;\n",
              "      display: none;\n",
              "      fill: #1967D2;\n",
              "      height: 32px;\n",
              "      padding: 0 0 0 0;\n",
              "      width: 32px;\n",
              "    }\n",
              "\n",
              "    .colab-df-convert:hover {\n",
              "      background-color: #E2EBFA;\n",
              "      box-shadow: 0px 1px 2px rgba(60, 64, 67, 0.3), 0px 1px 3px 1px rgba(60, 64, 67, 0.15);\n",
              "      fill: #174EA6;\n",
              "    }\n",
              "\n",
              "    .colab-df-buttons div {\n",
              "      margin-bottom: 4px;\n",
              "    }\n",
              "\n",
              "    [theme=dark] .colab-df-convert {\n",
              "      background-color: #3B4455;\n",
              "      fill: #D2E3FC;\n",
              "    }\n",
              "\n",
              "    [theme=dark] .colab-df-convert:hover {\n",
              "      background-color: #434B5C;\n",
              "      box-shadow: 0px 1px 3px 1px rgba(0, 0, 0, 0.15);\n",
              "      filter: drop-shadow(0px 1px 2px rgba(0, 0, 0, 0.3));\n",
              "      fill: #FFFFFF;\n",
              "    }\n",
              "  </style>\n",
              "\n",
              "    <script>\n",
              "      const buttonEl =\n",
              "        document.querySelector('#df-d161fbbb-eb5b-47df-86bd-543dfa4d0b37 button.colab-df-convert');\n",
              "      buttonEl.style.display =\n",
              "        google.colab.kernel.accessAllowed ? 'block' : 'none';\n",
              "\n",
              "      async function convertToInteractive(key) {\n",
              "        const element = document.querySelector('#df-d161fbbb-eb5b-47df-86bd-543dfa4d0b37');\n",
              "        const dataTable =\n",
              "          await google.colab.kernel.invokeFunction('convertToInteractive',\n",
              "                                                    [key], {});\n",
              "        if (!dataTable) return;\n",
              "\n",
              "        const docLinkHtml = 'Like what you see? Visit the ' +\n",
              "          '<a target=\"_blank\" href=https://colab.research.google.com/notebooks/data_table.ipynb>data table notebook</a>'\n",
              "          + ' to learn more about interactive tables.';\n",
              "        element.innerHTML = '';\n",
              "        dataTable['output_type'] = 'display_data';\n",
              "        await google.colab.output.renderOutput(dataTable, element);\n",
              "        const docLink = document.createElement('div');\n",
              "        docLink.innerHTML = docLinkHtml;\n",
              "        element.appendChild(docLink);\n",
              "      }\n",
              "    </script>\n",
              "  </div>\n",
              "\n",
              "\n",
              "    </div>\n",
              "  </div>\n"
            ],
            "application/vnd.google.colaboratory.intrinsic+json": {
              "type": "dataframe",
              "repr_error": "Out of range float values are not JSON compliant: nan"
            }
          },
          "metadata": {},
          "execution_count": 30
        }
      ]
    },
    {
      "cell_type": "code",
      "source": [
        "# Check how many duplicate rows exist\n",
        "df_train.duplicated().sum()"
      ],
      "metadata": {
        "colab": {
          "base_uri": "https://localhost:8080/"
        },
        "id": "FxI1WUv5zmvS",
        "outputId": "e17a0695-f468-4b9c-b067-312f58b6c099"
      },
      "execution_count": 31,
      "outputs": [
        {
          "output_type": "execute_result",
          "data": {
            "text/plain": [
              "0"
            ]
          },
          "metadata": {},
          "execution_count": 31
        }
      ]
    },
    {
      "cell_type": "markdown",
      "source": [
        "The rating distribution is well balanced, with each class representing roughly 20% of the data. This reduces the risk of class imbalance affecting model performance."
      ],
      "metadata": {
        "id": "3zmCOdiwcF3l"
      }
    },
    {
      "cell_type": "code",
      "source": [
        "df_train['Rating'].value_counts(normalize=True) * 100"
      ],
      "metadata": {
        "colab": {
          "base_uri": "https://localhost:8080/",
          "height": 272
        },
        "id": "LLs8jsgZzqkv",
        "outputId": "a451b4ad-95f1-42de-844f-e2eb30705a17"
      },
      "execution_count": 32,
      "outputs": [
        {
          "output_type": "execute_result",
          "data": {
            "text/plain": [
              "Rating\n",
              "5    20.05328\n",
              "3    20.04528\n",
              "1    20.02408\n",
              "2    19.94528\n",
              "4    19.93208\n",
              "Name: proportion, dtype: Float64"
            ],
            "text/html": [
              "<div>\n",
              "<style scoped>\n",
              "    .dataframe tbody tr th:only-of-type {\n",
              "        vertical-align: middle;\n",
              "    }\n",
              "\n",
              "    .dataframe tbody tr th {\n",
              "        vertical-align: top;\n",
              "    }\n",
              "\n",
              "    .dataframe thead th {\n",
              "        text-align: right;\n",
              "    }\n",
              "</style>\n",
              "<table border=\"1\" class=\"dataframe\">\n",
              "  <thead>\n",
              "    <tr style=\"text-align: right;\">\n",
              "      <th></th>\n",
              "      <th>proportion</th>\n",
              "    </tr>\n",
              "    <tr>\n",
              "      <th>Rating</th>\n",
              "      <th></th>\n",
              "    </tr>\n",
              "  </thead>\n",
              "  <tbody>\n",
              "    <tr>\n",
              "      <th>5</th>\n",
              "      <td>20.05328</td>\n",
              "    </tr>\n",
              "    <tr>\n",
              "      <th>3</th>\n",
              "      <td>20.04528</td>\n",
              "    </tr>\n",
              "    <tr>\n",
              "      <th>1</th>\n",
              "      <td>20.02408</td>\n",
              "    </tr>\n",
              "    <tr>\n",
              "      <th>2</th>\n",
              "      <td>19.94528</td>\n",
              "    </tr>\n",
              "    <tr>\n",
              "      <th>4</th>\n",
              "      <td>19.93208</td>\n",
              "    </tr>\n",
              "  </tbody>\n",
              "</table>\n",
              "</div><br><label><b>dtype:</b> Float64</label>"
            ]
          },
          "metadata": {},
          "execution_count": 32
        }
      ]
    },
    {
      "cell_type": "code",
      "source": [
        "# Number of rows\n",
        "print(\"Number of rows:\", len(df_train))\n",
        "\n",
        "# Check for null values\n",
        "if df_train.isnull().values.any():\n",
        "    print(\"There are null elements in the DataFrame.\")\n",
        "else:\n",
        "    print(\"There are no null elements in the DataFrame.\")"
      ],
      "metadata": {
        "colab": {
          "base_uri": "https://localhost:8080/"
        },
        "id": "zUY4jxaRzrl3",
        "outputId": "0a5a116a-3bae-4bdf-9b12-142ec4ef2915"
      },
      "execution_count": 35,
      "outputs": [
        {
          "output_type": "stream",
          "name": "stdout",
          "text": [
            "Number of rows: 499998\n",
            "There are no null elements in the DataFrame.\n"
          ]
        }
      ]
    },
    {
      "cell_type": "markdown",
      "source": [
        "To simplify the classification task, we convert the problem to binary sentiment analysis.\n",
        "Ratings of 4 and 5 are labeled as positive (1), while 1 and 2 are labeled as negative (0).\n",
        "Neutral reviews (rating = 3) are excluded from the dataset."
      ],
      "metadata": {
        "id": "OmL85gu2cQkl"
      }
    },
    {
      "cell_type": "code",
      "source": [
        "# Keep only positive (4,5) and negative (1,2) ratings\n",
        "# throw away neutral reviews with rating = 3\n",
        "df_train = df_train[df_train['Rating'] != 3].copy()\n",
        "\n",
        "df_train['sentiment'] = df_train['Rating'].apply(lambda x: 1 if x > 3 else 0)"
      ],
      "metadata": {
        "id": "bMPRw5XV0heh"
      },
      "execution_count": 41,
      "outputs": []
    },
    {
      "cell_type": "code",
      "source": [
        "df_train['sentiment'].value_counts()"
      ],
      "metadata": {
        "colab": {
          "base_uri": "https://localhost:8080/",
          "height": 178
        },
        "id": "eLBoMPDj0iCN",
        "outputId": "7e985667-6916-4db5-90ff-9472bdac54e1"
      },
      "execution_count": 43,
      "outputs": [
        {
          "output_type": "execute_result",
          "data": {
            "text/plain": [
              "sentiment\n",
              "1    199926\n",
              "0    199846\n",
              "Name: count, dtype: int64"
            ],
            "text/html": [
              "<div>\n",
              "<style scoped>\n",
              "    .dataframe tbody tr th:only-of-type {\n",
              "        vertical-align: middle;\n",
              "    }\n",
              "\n",
              "    .dataframe tbody tr th {\n",
              "        vertical-align: top;\n",
              "    }\n",
              "\n",
              "    .dataframe thead th {\n",
              "        text-align: right;\n",
              "    }\n",
              "</style>\n",
              "<table border=\"1\" class=\"dataframe\">\n",
              "  <thead>\n",
              "    <tr style=\"text-align: right;\">\n",
              "      <th></th>\n",
              "      <th>count</th>\n",
              "    </tr>\n",
              "    <tr>\n",
              "      <th>sentiment</th>\n",
              "      <th></th>\n",
              "    </tr>\n",
              "  </thead>\n",
              "  <tbody>\n",
              "    <tr>\n",
              "      <th>1</th>\n",
              "      <td>199926</td>\n",
              "    </tr>\n",
              "    <tr>\n",
              "      <th>0</th>\n",
              "      <td>199846</td>\n",
              "    </tr>\n",
              "  </tbody>\n",
              "</table>\n",
              "</div><br><label><b>dtype:</b> int64</label>"
            ]
          },
          "metadata": {},
          "execution_count": 43
        }
      ]
    },
    {
      "cell_type": "code",
      "source": [
        "df_train.head(10)"
      ],
      "metadata": {
        "colab": {
          "base_uri": "https://localhost:8080/",
          "height": 571
        },
        "id": "dKa28DzG0pb1",
        "outputId": "60be8b21-87b9-4581-92b5-7ca9fc57a79f"
      },
      "execution_count": 45,
      "outputs": [
        {
          "output_type": "execute_result",
          "data": {
            "text/plain": [
              "                                                                                                                                                                                                                                                                                                                                                                                                                                                                                                                                                                                                                                                                                    Text  \\\n",
              "0                                                                                                                                                                                                                                                                                                                                                                                                                                                                                                                                                     roof bag This bag held up good however it is not at all waterproof we had to dry all our clothes when we arrived atOur destination   \n",
              "1  Suspensful Truly after reading the reviews written by previous readers about this book, i just had to read the book. I was intrigued ultimately about the premise of the story, a bengal tiger lose in north Georgia, AWESOME. Reading the first half of the story i found comparisons to that of the movie \"Jaws\", mystique, suspense, and great story telling both depicted by Warner and Speilber. The second half of the story then wandered a bit from the roots and went into a metaphorical shift to ones manhood. But i do truly wish many to read this story which i couldnt put down!!! Also Jim Grahams character in this story is truly charasmatic and geniune!! READ IT   \n",
              "2                                                                                                                                                                                                                                                                                                                                                                                                                                                                                                              Received Broken When my son received this gift, the bowl was broken. I told him to call the company, but he hasn't done that yet, so I don't know what the resolution is.   \n",
              "3                                                                                                                                  If you are computer literate just a little bit, do not read As you may have already noticed from the title of this review this is one of the worst techno-thrillers that one could choose for reading and you would be really annoyed of this dilettante writing with regard to the author's knowledge of cryptography and computers. Having in mind the popularity of Dan Brown as one of the best selling authors out there this book is a complete waste of time. Sorry to say. I give this book 1 out 5. Unfortunately there is no 0 star rating.   \n",
              "4                                                                                          NOT a Sequel To Iron Monkey! This is a run of the mill Hong Kong Actioner, and if you're a fan, you'll probably enjoy it, although not much. Donnie Yen is good, the action and fighting sequences are good, Yuen Wo Ping did design the fights. But the filming, editing, and overall quality are mediocre (fans expect this sort of low budget quality in most HK action films). I really believe this is Tai Seng's attempt to cash in on the popularity of Iron Monkey. Frankly, they've done a poor job, as any serious fan will detect absolutely no connection to that story and this.   \n",
              "5                                                                                                                                                                                                                                                                                       Nice read Having read many singer bios, I came across Simionato's and decided to read it. It's an ok book but not very entertaining. It's basically more a chronology of performances and critical reviews than a real biography. A. Varnay's, C. Ludwig's and B. Nilsson's bios are far more entertaining and thorough....There's a tribute chapter that's way too long. ONLY for hardcore fans   \n",
              "6         Cheaply made I bought this digital camera for a vacation and have been embarrased ever since over the cheapness in quality of this camera. The battery door falls off and the batteries run out quickly. It doesn't stay on for more than a few seconds, causing the picture taker to miss shots over and over again. I spent a good deal on the camera with a upgraded digital card and now it is rarely used because it's such a piece of junk. I won't buy another Vivitar after this one. It's worth the money to buy a better brand, like a Canon or Nikon. I have a Nikon Coolpix now and I love it! Wish I'd spent that money the first time instead of on the Vivitar.   \n",
              "7                                                                                                                                                                                                                                                                                                                                                                                                                                                    Does It Work For The PS2 OK, let me get this straight. YES, it does work for the PS2 becuase the PS1 and PS2 have the same outlet type and same electricy quantity. So, if you have a LCD screen or tv in your car, this is a must.   \n",
              "8                                                           Interesting Introduction to Philosophy While another review on this book points to the fact that it does not cover \"the classics of philosophy,\" I found it to be an interesting introduction to the discipline. This book was required reading for a Master's level philosophy course, thus I was \"forced\" to read it. But, I found it to be enlightening due to its nature.I have tried to circle through some of the \"classics\" and often have a difficult time relating them to the modern world. This book, in using modern writers, does a great job of connecting the basic problems of philosophy to the modern day.   \n",
              "9                                                                                                                                                                                                                                                                                                                             rip off this i s a good move and amazons service is the best. but I paid extra for the digital copy of this move and now they dont give you the disk anymore. you need to downelode it from something called ultraviolet,and it wont work for me. I will not buy another Ultra-Violet productThe Hunger Games [2-Disc Blu-ray + Ultra-Violet Digital Copy]   \n",
              "\n",
              "   Rating  sentiment  \n",
              "0       2          0  \n",
              "1       5          1  \n",
              "2       2          0  \n",
              "3       1          0  \n",
              "4       2          0  \n",
              "5       4          1  \n",
              "6       1          0  \n",
              "7       5          1  \n",
              "8       4          1  \n",
              "9       1          0  "
            ],
            "text/html": [
              "\n",
              "  <div id=\"df-51503dbf-f6f4-4f62-b067-400be483ac44\" class=\"colab-df-container\">\n",
              "    <div>\n",
              "<style scoped>\n",
              "    .dataframe tbody tr th:only-of-type {\n",
              "        vertical-align: middle;\n",
              "    }\n",
              "\n",
              "    .dataframe tbody tr th {\n",
              "        vertical-align: top;\n",
              "    }\n",
              "\n",
              "    .dataframe thead th {\n",
              "        text-align: right;\n",
              "    }\n",
              "</style>\n",
              "<table border=\"1\" class=\"dataframe\">\n",
              "  <thead>\n",
              "    <tr style=\"text-align: right;\">\n",
              "      <th></th>\n",
              "      <th>Text</th>\n",
              "      <th>Rating</th>\n",
              "      <th>sentiment</th>\n",
              "    </tr>\n",
              "  </thead>\n",
              "  <tbody>\n",
              "    <tr>\n",
              "      <th>0</th>\n",
              "      <td>roof bag This bag held up good however it is not at all waterproof we had to dry all our clothes when we arrived atOur destination</td>\n",
              "      <td>2</td>\n",
              "      <td>0</td>\n",
              "    </tr>\n",
              "    <tr>\n",
              "      <th>1</th>\n",
              "      <td>Suspensful Truly after reading the reviews written by previous readers about this book, i just had to read the book. I was intrigued ultimately about the premise of the story, a bengal tiger lose in north Georgia, AWESOME. Reading the first half of the story i found comparisons to that of the movie \"Jaws\", mystique, suspense, and great story telling both depicted by Warner and Speilber. The second half of the story then wandered a bit from the roots and went into a metaphorical shift to ones manhood. But i do truly wish many to read this story which i couldnt put down!!! Also Jim Grahams character in this story is truly charasmatic and geniune!! READ IT</td>\n",
              "      <td>5</td>\n",
              "      <td>1</td>\n",
              "    </tr>\n",
              "    <tr>\n",
              "      <th>2</th>\n",
              "      <td>Received Broken When my son received this gift, the bowl was broken. I told him to call the company, but he hasn't done that yet, so I don't know what the resolution is.</td>\n",
              "      <td>2</td>\n",
              "      <td>0</td>\n",
              "    </tr>\n",
              "    <tr>\n",
              "      <th>3</th>\n",
              "      <td>If you are computer literate just a little bit, do not read As you may have already noticed from the title of this review this is one of the worst techno-thrillers that one could choose for reading and you would be really annoyed of this dilettante writing with regard to the author's knowledge of cryptography and computers. Having in mind the popularity of Dan Brown as one of the best selling authors out there this book is a complete waste of time. Sorry to say. I give this book 1 out 5. Unfortunately there is no 0 star rating.</td>\n",
              "      <td>1</td>\n",
              "      <td>0</td>\n",
              "    </tr>\n",
              "    <tr>\n",
              "      <th>4</th>\n",
              "      <td>NOT a Sequel To Iron Monkey! This is a run of the mill Hong Kong Actioner, and if you're a fan, you'll probably enjoy it, although not much. Donnie Yen is good, the action and fighting sequences are good, Yuen Wo Ping did design the fights. But the filming, editing, and overall quality are mediocre (fans expect this sort of low budget quality in most HK action films). I really believe this is Tai Seng's attempt to cash in on the popularity of Iron Monkey. Frankly, they've done a poor job, as any serious fan will detect absolutely no connection to that story and this.</td>\n",
              "      <td>2</td>\n",
              "      <td>0</td>\n",
              "    </tr>\n",
              "    <tr>\n",
              "      <th>5</th>\n",
              "      <td>Nice read Having read many singer bios, I came across Simionato's and decided to read it. It's an ok book but not very entertaining. It's basically more a chronology of performances and critical reviews than a real biography. A. Varnay's, C. Ludwig's and B. Nilsson's bios are far more entertaining and thorough....There's a tribute chapter that's way too long. ONLY for hardcore fans</td>\n",
              "      <td>4</td>\n",
              "      <td>1</td>\n",
              "    </tr>\n",
              "    <tr>\n",
              "      <th>6</th>\n",
              "      <td>Cheaply made I bought this digital camera for a vacation and have been embarrased ever since over the cheapness in quality of this camera. The battery door falls off and the batteries run out quickly. It doesn't stay on for more than a few seconds, causing the picture taker to miss shots over and over again. I spent a good deal on the camera with a upgraded digital card and now it is rarely used because it's such a piece of junk. I won't buy another Vivitar after this one. It's worth the money to buy a better brand, like a Canon or Nikon. I have a Nikon Coolpix now and I love it! Wish I'd spent that money the first time instead of on the Vivitar.</td>\n",
              "      <td>1</td>\n",
              "      <td>0</td>\n",
              "    </tr>\n",
              "    <tr>\n",
              "      <th>7</th>\n",
              "      <td>Does It Work For The PS2 OK, let me get this straight. YES, it does work for the PS2 becuase the PS1 and PS2 have the same outlet type and same electricy quantity. So, if you have a LCD screen or tv in your car, this is a must.</td>\n",
              "      <td>5</td>\n",
              "      <td>1</td>\n",
              "    </tr>\n",
              "    <tr>\n",
              "      <th>8</th>\n",
              "      <td>Interesting Introduction to Philosophy While another review on this book points to the fact that it does not cover \"the classics of philosophy,\" I found it to be an interesting introduction to the discipline. This book was required reading for a Master's level philosophy course, thus I was \"forced\" to read it. But, I found it to be enlightening due to its nature.I have tried to circle through some of the \"classics\" and often have a difficult time relating them to the modern world. This book, in using modern writers, does a great job of connecting the basic problems of philosophy to the modern day.</td>\n",
              "      <td>4</td>\n",
              "      <td>1</td>\n",
              "    </tr>\n",
              "    <tr>\n",
              "      <th>9</th>\n",
              "      <td>rip off this i s a good move and amazons service is the best. but I paid extra for the digital copy of this move and now they dont give you the disk anymore. you need to downelode it from something called ultraviolet,and it wont work for me. I will not buy another Ultra-Violet productThe Hunger Games [2-Disc Blu-ray + Ultra-Violet Digital Copy]</td>\n",
              "      <td>1</td>\n",
              "      <td>0</td>\n",
              "    </tr>\n",
              "  </tbody>\n",
              "</table>\n",
              "</div>\n",
              "    <div class=\"colab-df-buttons\">\n",
              "\n",
              "  <div class=\"colab-df-container\">\n",
              "    <button class=\"colab-df-convert\" onclick=\"convertToInteractive('df-51503dbf-f6f4-4f62-b067-400be483ac44')\"\n",
              "            title=\"Convert this dataframe to an interactive table.\"\n",
              "            style=\"display:none;\">\n",
              "\n",
              "  <svg xmlns=\"http://www.w3.org/2000/svg\" height=\"24px\" viewBox=\"0 -960 960 960\">\n",
              "    <path d=\"M120-120v-720h720v720H120Zm60-500h600v-160H180v160Zm220 220h160v-160H400v160Zm0 220h160v-160H400v160ZM180-400h160v-160H180v160Zm440 0h160v-160H620v160ZM180-180h160v-160H180v160Zm440 0h160v-160H620v160Z\"/>\n",
              "  </svg>\n",
              "    </button>\n",
              "\n",
              "  <style>\n",
              "    .colab-df-container {\n",
              "      display:flex;\n",
              "      gap: 12px;\n",
              "    }\n",
              "\n",
              "    .colab-df-convert {\n",
              "      background-color: #E8F0FE;\n",
              "      border: none;\n",
              "      border-radius: 50%;\n",
              "      cursor: pointer;\n",
              "      display: none;\n",
              "      fill: #1967D2;\n",
              "      height: 32px;\n",
              "      padding: 0 0 0 0;\n",
              "      width: 32px;\n",
              "    }\n",
              "\n",
              "    .colab-df-convert:hover {\n",
              "      background-color: #E2EBFA;\n",
              "      box-shadow: 0px 1px 2px rgba(60, 64, 67, 0.3), 0px 1px 3px 1px rgba(60, 64, 67, 0.15);\n",
              "      fill: #174EA6;\n",
              "    }\n",
              "\n",
              "    .colab-df-buttons div {\n",
              "      margin-bottom: 4px;\n",
              "    }\n",
              "\n",
              "    [theme=dark] .colab-df-convert {\n",
              "      background-color: #3B4455;\n",
              "      fill: #D2E3FC;\n",
              "    }\n",
              "\n",
              "    [theme=dark] .colab-df-convert:hover {\n",
              "      background-color: #434B5C;\n",
              "      box-shadow: 0px 1px 3px 1px rgba(0, 0, 0, 0.15);\n",
              "      filter: drop-shadow(0px 1px 2px rgba(0, 0, 0, 0.3));\n",
              "      fill: #FFFFFF;\n",
              "    }\n",
              "  </style>\n",
              "\n",
              "    <script>\n",
              "      const buttonEl =\n",
              "        document.querySelector('#df-51503dbf-f6f4-4f62-b067-400be483ac44 button.colab-df-convert');\n",
              "      buttonEl.style.display =\n",
              "        google.colab.kernel.accessAllowed ? 'block' : 'none';\n",
              "\n",
              "      async function convertToInteractive(key) {\n",
              "        const element = document.querySelector('#df-51503dbf-f6f4-4f62-b067-400be483ac44');\n",
              "        const dataTable =\n",
              "          await google.colab.kernel.invokeFunction('convertToInteractive',\n",
              "                                                    [key], {});\n",
              "        if (!dataTable) return;\n",
              "\n",
              "        const docLinkHtml = 'Like what you see? Visit the ' +\n",
              "          '<a target=\"_blank\" href=https://colab.research.google.com/notebooks/data_table.ipynb>data table notebook</a>'\n",
              "          + ' to learn more about interactive tables.';\n",
              "        element.innerHTML = '';\n",
              "        dataTable['output_type'] = 'display_data';\n",
              "        await google.colab.output.renderOutput(dataTable, element);\n",
              "        const docLink = document.createElement('div');\n",
              "        docLink.innerHTML = docLinkHtml;\n",
              "        element.appendChild(docLink);\n",
              "      }\n",
              "    </script>\n",
              "  </div>\n",
              "\n",
              "\n",
              "    <div id=\"df-a379292c-ba96-4eb1-9a50-b345c72e4a19\">\n",
              "      <button class=\"colab-df-quickchart\" onclick=\"quickchart('df-a379292c-ba96-4eb1-9a50-b345c72e4a19')\"\n",
              "                title=\"Suggest charts\"\n",
              "                style=\"display:none;\">\n",
              "\n",
              "<svg xmlns=\"http://www.w3.org/2000/svg\" height=\"24px\"viewBox=\"0 0 24 24\"\n",
              "     width=\"24px\">\n",
              "    <g>\n",
              "        <path d=\"M19 3H5c-1.1 0-2 .9-2 2v14c0 1.1.9 2 2 2h14c1.1 0 2-.9 2-2V5c0-1.1-.9-2-2-2zM9 17H7v-7h2v7zm4 0h-2V7h2v10zm4 0h-2v-4h2v4z\"/>\n",
              "    </g>\n",
              "</svg>\n",
              "      </button>\n",
              "\n",
              "<style>\n",
              "  .colab-df-quickchart {\n",
              "      --bg-color: #E8F0FE;\n",
              "      --fill-color: #1967D2;\n",
              "      --hover-bg-color: #E2EBFA;\n",
              "      --hover-fill-color: #174EA6;\n",
              "      --disabled-fill-color: #AAA;\n",
              "      --disabled-bg-color: #DDD;\n",
              "  }\n",
              "\n",
              "  [theme=dark] .colab-df-quickchart {\n",
              "      --bg-color: #3B4455;\n",
              "      --fill-color: #D2E3FC;\n",
              "      --hover-bg-color: #434B5C;\n",
              "      --hover-fill-color: #FFFFFF;\n",
              "      --disabled-bg-color: #3B4455;\n",
              "      --disabled-fill-color: #666;\n",
              "  }\n",
              "\n",
              "  .colab-df-quickchart {\n",
              "    background-color: var(--bg-color);\n",
              "    border: none;\n",
              "    border-radius: 50%;\n",
              "    cursor: pointer;\n",
              "    display: none;\n",
              "    fill: var(--fill-color);\n",
              "    height: 32px;\n",
              "    padding: 0;\n",
              "    width: 32px;\n",
              "  }\n",
              "\n",
              "  .colab-df-quickchart:hover {\n",
              "    background-color: var(--hover-bg-color);\n",
              "    box-shadow: 0 1px 2px rgba(60, 64, 67, 0.3), 0 1px 3px 1px rgba(60, 64, 67, 0.15);\n",
              "    fill: var(--button-hover-fill-color);\n",
              "  }\n",
              "\n",
              "  .colab-df-quickchart-complete:disabled,\n",
              "  .colab-df-quickchart-complete:disabled:hover {\n",
              "    background-color: var(--disabled-bg-color);\n",
              "    fill: var(--disabled-fill-color);\n",
              "    box-shadow: none;\n",
              "  }\n",
              "\n",
              "  .colab-df-spinner {\n",
              "    border: 2px solid var(--fill-color);\n",
              "    border-color: transparent;\n",
              "    border-bottom-color: var(--fill-color);\n",
              "    animation:\n",
              "      spin 1s steps(1) infinite;\n",
              "  }\n",
              "\n",
              "  @keyframes spin {\n",
              "    0% {\n",
              "      border-color: transparent;\n",
              "      border-bottom-color: var(--fill-color);\n",
              "      border-left-color: var(--fill-color);\n",
              "    }\n",
              "    20% {\n",
              "      border-color: transparent;\n",
              "      border-left-color: var(--fill-color);\n",
              "      border-top-color: var(--fill-color);\n",
              "    }\n",
              "    30% {\n",
              "      border-color: transparent;\n",
              "      border-left-color: var(--fill-color);\n",
              "      border-top-color: var(--fill-color);\n",
              "      border-right-color: var(--fill-color);\n",
              "    }\n",
              "    40% {\n",
              "      border-color: transparent;\n",
              "      border-right-color: var(--fill-color);\n",
              "      border-top-color: var(--fill-color);\n",
              "    }\n",
              "    60% {\n",
              "      border-color: transparent;\n",
              "      border-right-color: var(--fill-color);\n",
              "    }\n",
              "    80% {\n",
              "      border-color: transparent;\n",
              "      border-right-color: var(--fill-color);\n",
              "      border-bottom-color: var(--fill-color);\n",
              "    }\n",
              "    90% {\n",
              "      border-color: transparent;\n",
              "      border-bottom-color: var(--fill-color);\n",
              "    }\n",
              "  }\n",
              "</style>\n",
              "\n",
              "      <script>\n",
              "        async function quickchart(key) {\n",
              "          const quickchartButtonEl =\n",
              "            document.querySelector('#' + key + ' button');\n",
              "          quickchartButtonEl.disabled = true;  // To prevent multiple clicks.\n",
              "          quickchartButtonEl.classList.add('colab-df-spinner');\n",
              "          try {\n",
              "            const charts = await google.colab.kernel.invokeFunction(\n",
              "                'suggestCharts', [key], {});\n",
              "          } catch (error) {\n",
              "            console.error('Error during call to suggestCharts:', error);\n",
              "          }\n",
              "          quickchartButtonEl.classList.remove('colab-df-spinner');\n",
              "          quickchartButtonEl.classList.add('colab-df-quickchart-complete');\n",
              "        }\n",
              "        (() => {\n",
              "          let quickchartButtonEl =\n",
              "            document.querySelector('#df-a379292c-ba96-4eb1-9a50-b345c72e4a19 button');\n",
              "          quickchartButtonEl.style.display =\n",
              "            google.colab.kernel.accessAllowed ? 'block' : 'none';\n",
              "        })();\n",
              "      </script>\n",
              "    </div>\n",
              "\n",
              "    </div>\n",
              "  </div>\n"
            ],
            "application/vnd.google.colaboratory.intrinsic+json": {
              "type": "dataframe",
              "variable_name": "df_train"
            }
          },
          "metadata": {},
          "execution_count": 45
        }
      ]
    },
    {
      "cell_type": "markdown",
      "source": [
        "At this stage, we apply minimal text preprocessing: we convert all text to lowercase and remove line breaks (\\n)."
      ],
      "metadata": {
        "id": "rTFHXeqZct3U"
      }
    },
    {
      "cell_type": "code",
      "source": [
        "df_train['Text'] = df_train['Text'].apply(lambda text: text.lower().replace('\\n', ' '))\n",
        "df_train.head(10)"
      ],
      "metadata": {
        "colab": {
          "base_uri": "https://localhost:8080/",
          "height": 571
        },
        "id": "gEgR6T3F0tTa",
        "outputId": "be1c2558-f11f-430a-a95f-493748f0c073"
      },
      "execution_count": 49,
      "outputs": [
        {
          "output_type": "execute_result",
          "data": {
            "text/plain": [
              "                                                                                                                                                                                                                                                                                                                                                                                                                                                                                                                                                                                                                                                                                    Text  \\\n",
              "0                                                                                                                                                                                                                                                                                                                                                                                                                                                                                                                                                     roof bag this bag held up good however it is not at all waterproof we had to dry all our clothes when we arrived atour destination   \n",
              "1  suspensful truly after reading the reviews written by previous readers about this book, i just had to read the book. i was intrigued ultimately about the premise of the story, a bengal tiger lose in north georgia, awesome. reading the first half of the story i found comparisons to that of the movie \"jaws\", mystique, suspense, and great story telling both depicted by warner and speilber. the second half of the story then wandered a bit from the roots and went into a metaphorical shift to ones manhood. but i do truly wish many to read this story which i couldnt put down!!! also jim grahams character in this story is truly charasmatic and geniune!! read it   \n",
              "2                                                                                                                                                                                                                                                                                                                                                                                                                                                                                                              received broken when my son received this gift, the bowl was broken. i told him to call the company, but he hasn't done that yet, so i don't know what the resolution is.   \n",
              "3                                                                                                                                  if you are computer literate just a little bit, do not read as you may have already noticed from the title of this review this is one of the worst techno-thrillers that one could choose for reading and you would be really annoyed of this dilettante writing with regard to the author's knowledge of cryptography and computers. having in mind the popularity of dan brown as one of the best selling authors out there this book is a complete waste of time. sorry to say. i give this book 1 out 5. unfortunately there is no 0 star rating.   \n",
              "4                                                                                          not a sequel to iron monkey! this is a run of the mill hong kong actioner, and if you're a fan, you'll probably enjoy it, although not much. donnie yen is good, the action and fighting sequences are good, yuen wo ping did design the fights. but the filming, editing, and overall quality are mediocre (fans expect this sort of low budget quality in most hk action films). i really believe this is tai seng's attempt to cash in on the popularity of iron monkey. frankly, they've done a poor job, as any serious fan will detect absolutely no connection to that story and this.   \n",
              "5                                                                                                                                                                                                                                                                                       nice read having read many singer bios, i came across simionato's and decided to read it. it's an ok book but not very entertaining. it's basically more a chronology of performances and critical reviews than a real biography. a. varnay's, c. ludwig's and b. nilsson's bios are far more entertaining and thorough....there's a tribute chapter that's way too long. only for hardcore fans   \n",
              "6         cheaply made i bought this digital camera for a vacation and have been embarrased ever since over the cheapness in quality of this camera. the battery door falls off and the batteries run out quickly. it doesn't stay on for more than a few seconds, causing the picture taker to miss shots over and over again. i spent a good deal on the camera with a upgraded digital card and now it is rarely used because it's such a piece of junk. i won't buy another vivitar after this one. it's worth the money to buy a better brand, like a canon or nikon. i have a nikon coolpix now and i love it! wish i'd spent that money the first time instead of on the vivitar.   \n",
              "7                                                                                                                                                                                                                                                                                                                                                                                                                                                    does it work for the ps2 ok, let me get this straight. yes, it does work for the ps2 becuase the ps1 and ps2 have the same outlet type and same electricy quantity. so, if you have a lcd screen or tv in your car, this is a must.   \n",
              "8                                                           interesting introduction to philosophy while another review on this book points to the fact that it does not cover \"the classics of philosophy,\" i found it to be an interesting introduction to the discipline. this book was required reading for a master's level philosophy course, thus i was \"forced\" to read it. but, i found it to be enlightening due to its nature.i have tried to circle through some of the \"classics\" and often have a difficult time relating them to the modern world. this book, in using modern writers, does a great job of connecting the basic problems of philosophy to the modern day.   \n",
              "9                                                                                                                                                                                                                                                                                                                             rip off this i s a good move and amazons service is the best. but i paid extra for the digital copy of this move and now they dont give you the disk anymore. you need to downelode it from something called ultraviolet,and it wont work for me. i will not buy another ultra-violet productthe hunger games [2-disc blu-ray + ultra-violet digital copy]   \n",
              "\n",
              "   Rating  sentiment  \n",
              "0       2          0  \n",
              "1       5          1  \n",
              "2       2          0  \n",
              "3       1          0  \n",
              "4       2          0  \n",
              "5       4          1  \n",
              "6       1          0  \n",
              "7       5          1  \n",
              "8       4          1  \n",
              "9       1          0  "
            ],
            "text/html": [
              "\n",
              "  <div id=\"df-53f85627-2cb2-49b5-8574-48a281b913ff\" class=\"colab-df-container\">\n",
              "    <div>\n",
              "<style scoped>\n",
              "    .dataframe tbody tr th:only-of-type {\n",
              "        vertical-align: middle;\n",
              "    }\n",
              "\n",
              "    .dataframe tbody tr th {\n",
              "        vertical-align: top;\n",
              "    }\n",
              "\n",
              "    .dataframe thead th {\n",
              "        text-align: right;\n",
              "    }\n",
              "</style>\n",
              "<table border=\"1\" class=\"dataframe\">\n",
              "  <thead>\n",
              "    <tr style=\"text-align: right;\">\n",
              "      <th></th>\n",
              "      <th>Text</th>\n",
              "      <th>Rating</th>\n",
              "      <th>sentiment</th>\n",
              "    </tr>\n",
              "  </thead>\n",
              "  <tbody>\n",
              "    <tr>\n",
              "      <th>0</th>\n",
              "      <td>roof bag this bag held up good however it is not at all waterproof we had to dry all our clothes when we arrived atour destination</td>\n",
              "      <td>2</td>\n",
              "      <td>0</td>\n",
              "    </tr>\n",
              "    <tr>\n",
              "      <th>1</th>\n",
              "      <td>suspensful truly after reading the reviews written by previous readers about this book, i just had to read the book. i was intrigued ultimately about the premise of the story, a bengal tiger lose in north georgia, awesome. reading the first half of the story i found comparisons to that of the movie \"jaws\", mystique, suspense, and great story telling both depicted by warner and speilber. the second half of the story then wandered a bit from the roots and went into a metaphorical shift to ones manhood. but i do truly wish many to read this story which i couldnt put down!!! also jim grahams character in this story is truly charasmatic and geniune!! read it</td>\n",
              "      <td>5</td>\n",
              "      <td>1</td>\n",
              "    </tr>\n",
              "    <tr>\n",
              "      <th>2</th>\n",
              "      <td>received broken when my son received this gift, the bowl was broken. i told him to call the company, but he hasn't done that yet, so i don't know what the resolution is.</td>\n",
              "      <td>2</td>\n",
              "      <td>0</td>\n",
              "    </tr>\n",
              "    <tr>\n",
              "      <th>3</th>\n",
              "      <td>if you are computer literate just a little bit, do not read as you may have already noticed from the title of this review this is one of the worst techno-thrillers that one could choose for reading and you would be really annoyed of this dilettante writing with regard to the author's knowledge of cryptography and computers. having in mind the popularity of dan brown as one of the best selling authors out there this book is a complete waste of time. sorry to say. i give this book 1 out 5. unfortunately there is no 0 star rating.</td>\n",
              "      <td>1</td>\n",
              "      <td>0</td>\n",
              "    </tr>\n",
              "    <tr>\n",
              "      <th>4</th>\n",
              "      <td>not a sequel to iron monkey! this is a run of the mill hong kong actioner, and if you're a fan, you'll probably enjoy it, although not much. donnie yen is good, the action and fighting sequences are good, yuen wo ping did design the fights. but the filming, editing, and overall quality are mediocre (fans expect this sort of low budget quality in most hk action films). i really believe this is tai seng's attempt to cash in on the popularity of iron monkey. frankly, they've done a poor job, as any serious fan will detect absolutely no connection to that story and this.</td>\n",
              "      <td>2</td>\n",
              "      <td>0</td>\n",
              "    </tr>\n",
              "    <tr>\n",
              "      <th>5</th>\n",
              "      <td>nice read having read many singer bios, i came across simionato's and decided to read it. it's an ok book but not very entertaining. it's basically more a chronology of performances and critical reviews than a real biography. a. varnay's, c. ludwig's and b. nilsson's bios are far more entertaining and thorough....there's a tribute chapter that's way too long. only for hardcore fans</td>\n",
              "      <td>4</td>\n",
              "      <td>1</td>\n",
              "    </tr>\n",
              "    <tr>\n",
              "      <th>6</th>\n",
              "      <td>cheaply made i bought this digital camera for a vacation and have been embarrased ever since over the cheapness in quality of this camera. the battery door falls off and the batteries run out quickly. it doesn't stay on for more than a few seconds, causing the picture taker to miss shots over and over again. i spent a good deal on the camera with a upgraded digital card and now it is rarely used because it's such a piece of junk. i won't buy another vivitar after this one. it's worth the money to buy a better brand, like a canon or nikon. i have a nikon coolpix now and i love it! wish i'd spent that money the first time instead of on the vivitar.</td>\n",
              "      <td>1</td>\n",
              "      <td>0</td>\n",
              "    </tr>\n",
              "    <tr>\n",
              "      <th>7</th>\n",
              "      <td>does it work for the ps2 ok, let me get this straight. yes, it does work for the ps2 becuase the ps1 and ps2 have the same outlet type and same electricy quantity. so, if you have a lcd screen or tv in your car, this is a must.</td>\n",
              "      <td>5</td>\n",
              "      <td>1</td>\n",
              "    </tr>\n",
              "    <tr>\n",
              "      <th>8</th>\n",
              "      <td>interesting introduction to philosophy while another review on this book points to the fact that it does not cover \"the classics of philosophy,\" i found it to be an interesting introduction to the discipline. this book was required reading for a master's level philosophy course, thus i was \"forced\" to read it. but, i found it to be enlightening due to its nature.i have tried to circle through some of the \"classics\" and often have a difficult time relating them to the modern world. this book, in using modern writers, does a great job of connecting the basic problems of philosophy to the modern day.</td>\n",
              "      <td>4</td>\n",
              "      <td>1</td>\n",
              "    </tr>\n",
              "    <tr>\n",
              "      <th>9</th>\n",
              "      <td>rip off this i s a good move and amazons service is the best. but i paid extra for the digital copy of this move and now they dont give you the disk anymore. you need to downelode it from something called ultraviolet,and it wont work for me. i will not buy another ultra-violet productthe hunger games [2-disc blu-ray + ultra-violet digital copy]</td>\n",
              "      <td>1</td>\n",
              "      <td>0</td>\n",
              "    </tr>\n",
              "  </tbody>\n",
              "</table>\n",
              "</div>\n",
              "    <div class=\"colab-df-buttons\">\n",
              "\n",
              "  <div class=\"colab-df-container\">\n",
              "    <button class=\"colab-df-convert\" onclick=\"convertToInteractive('df-53f85627-2cb2-49b5-8574-48a281b913ff')\"\n",
              "            title=\"Convert this dataframe to an interactive table.\"\n",
              "            style=\"display:none;\">\n",
              "\n",
              "  <svg xmlns=\"http://www.w3.org/2000/svg\" height=\"24px\" viewBox=\"0 -960 960 960\">\n",
              "    <path d=\"M120-120v-720h720v720H120Zm60-500h600v-160H180v160Zm220 220h160v-160H400v160Zm0 220h160v-160H400v160ZM180-400h160v-160H180v160Zm440 0h160v-160H620v160ZM180-180h160v-160H180v160Zm440 0h160v-160H620v160Z\"/>\n",
              "  </svg>\n",
              "    </button>\n",
              "\n",
              "  <style>\n",
              "    .colab-df-container {\n",
              "      display:flex;\n",
              "      gap: 12px;\n",
              "    }\n",
              "\n",
              "    .colab-df-convert {\n",
              "      background-color: #E8F0FE;\n",
              "      border: none;\n",
              "      border-radius: 50%;\n",
              "      cursor: pointer;\n",
              "      display: none;\n",
              "      fill: #1967D2;\n",
              "      height: 32px;\n",
              "      padding: 0 0 0 0;\n",
              "      width: 32px;\n",
              "    }\n",
              "\n",
              "    .colab-df-convert:hover {\n",
              "      background-color: #E2EBFA;\n",
              "      box-shadow: 0px 1px 2px rgba(60, 64, 67, 0.3), 0px 1px 3px 1px rgba(60, 64, 67, 0.15);\n",
              "      fill: #174EA6;\n",
              "    }\n",
              "\n",
              "    .colab-df-buttons div {\n",
              "      margin-bottom: 4px;\n",
              "    }\n",
              "\n",
              "    [theme=dark] .colab-df-convert {\n",
              "      background-color: #3B4455;\n",
              "      fill: #D2E3FC;\n",
              "    }\n",
              "\n",
              "    [theme=dark] .colab-df-convert:hover {\n",
              "      background-color: #434B5C;\n",
              "      box-shadow: 0px 1px 3px 1px rgba(0, 0, 0, 0.15);\n",
              "      filter: drop-shadow(0px 1px 2px rgba(0, 0, 0, 0.3));\n",
              "      fill: #FFFFFF;\n",
              "    }\n",
              "  </style>\n",
              "\n",
              "    <script>\n",
              "      const buttonEl =\n",
              "        document.querySelector('#df-53f85627-2cb2-49b5-8574-48a281b913ff button.colab-df-convert');\n",
              "      buttonEl.style.display =\n",
              "        google.colab.kernel.accessAllowed ? 'block' : 'none';\n",
              "\n",
              "      async function convertToInteractive(key) {\n",
              "        const element = document.querySelector('#df-53f85627-2cb2-49b5-8574-48a281b913ff');\n",
              "        const dataTable =\n",
              "          await google.colab.kernel.invokeFunction('convertToInteractive',\n",
              "                                                    [key], {});\n",
              "        if (!dataTable) return;\n",
              "\n",
              "        const docLinkHtml = 'Like what you see? Visit the ' +\n",
              "          '<a target=\"_blank\" href=https://colab.research.google.com/notebooks/data_table.ipynb>data table notebook</a>'\n",
              "          + ' to learn more about interactive tables.';\n",
              "        element.innerHTML = '';\n",
              "        dataTable['output_type'] = 'display_data';\n",
              "        await google.colab.output.renderOutput(dataTable, element);\n",
              "        const docLink = document.createElement('div');\n",
              "        docLink.innerHTML = docLinkHtml;\n",
              "        element.appendChild(docLink);\n",
              "      }\n",
              "    </script>\n",
              "  </div>\n",
              "\n",
              "\n",
              "    <div id=\"df-7e56d003-9f93-4d58-bc8f-7ab063839187\">\n",
              "      <button class=\"colab-df-quickchart\" onclick=\"quickchart('df-7e56d003-9f93-4d58-bc8f-7ab063839187')\"\n",
              "                title=\"Suggest charts\"\n",
              "                style=\"display:none;\">\n",
              "\n",
              "<svg xmlns=\"http://www.w3.org/2000/svg\" height=\"24px\"viewBox=\"0 0 24 24\"\n",
              "     width=\"24px\">\n",
              "    <g>\n",
              "        <path d=\"M19 3H5c-1.1 0-2 .9-2 2v14c0 1.1.9 2 2 2h14c1.1 0 2-.9 2-2V5c0-1.1-.9-2-2-2zM9 17H7v-7h2v7zm4 0h-2V7h2v10zm4 0h-2v-4h2v4z\"/>\n",
              "    </g>\n",
              "</svg>\n",
              "      </button>\n",
              "\n",
              "<style>\n",
              "  .colab-df-quickchart {\n",
              "      --bg-color: #E8F0FE;\n",
              "      --fill-color: #1967D2;\n",
              "      --hover-bg-color: #E2EBFA;\n",
              "      --hover-fill-color: #174EA6;\n",
              "      --disabled-fill-color: #AAA;\n",
              "      --disabled-bg-color: #DDD;\n",
              "  }\n",
              "\n",
              "  [theme=dark] .colab-df-quickchart {\n",
              "      --bg-color: #3B4455;\n",
              "      --fill-color: #D2E3FC;\n",
              "      --hover-bg-color: #434B5C;\n",
              "      --hover-fill-color: #FFFFFF;\n",
              "      --disabled-bg-color: #3B4455;\n",
              "      --disabled-fill-color: #666;\n",
              "  }\n",
              "\n",
              "  .colab-df-quickchart {\n",
              "    background-color: var(--bg-color);\n",
              "    border: none;\n",
              "    border-radius: 50%;\n",
              "    cursor: pointer;\n",
              "    display: none;\n",
              "    fill: var(--fill-color);\n",
              "    height: 32px;\n",
              "    padding: 0;\n",
              "    width: 32px;\n",
              "  }\n",
              "\n",
              "  .colab-df-quickchart:hover {\n",
              "    background-color: var(--hover-bg-color);\n",
              "    box-shadow: 0 1px 2px rgba(60, 64, 67, 0.3), 0 1px 3px 1px rgba(60, 64, 67, 0.15);\n",
              "    fill: var(--button-hover-fill-color);\n",
              "  }\n",
              "\n",
              "  .colab-df-quickchart-complete:disabled,\n",
              "  .colab-df-quickchart-complete:disabled:hover {\n",
              "    background-color: var(--disabled-bg-color);\n",
              "    fill: var(--disabled-fill-color);\n",
              "    box-shadow: none;\n",
              "  }\n",
              "\n",
              "  .colab-df-spinner {\n",
              "    border: 2px solid var(--fill-color);\n",
              "    border-color: transparent;\n",
              "    border-bottom-color: var(--fill-color);\n",
              "    animation:\n",
              "      spin 1s steps(1) infinite;\n",
              "  }\n",
              "\n",
              "  @keyframes spin {\n",
              "    0% {\n",
              "      border-color: transparent;\n",
              "      border-bottom-color: var(--fill-color);\n",
              "      border-left-color: var(--fill-color);\n",
              "    }\n",
              "    20% {\n",
              "      border-color: transparent;\n",
              "      border-left-color: var(--fill-color);\n",
              "      border-top-color: var(--fill-color);\n",
              "    }\n",
              "    30% {\n",
              "      border-color: transparent;\n",
              "      border-left-color: var(--fill-color);\n",
              "      border-top-color: var(--fill-color);\n",
              "      border-right-color: var(--fill-color);\n",
              "    }\n",
              "    40% {\n",
              "      border-color: transparent;\n",
              "      border-right-color: var(--fill-color);\n",
              "      border-top-color: var(--fill-color);\n",
              "    }\n",
              "    60% {\n",
              "      border-color: transparent;\n",
              "      border-right-color: var(--fill-color);\n",
              "    }\n",
              "    80% {\n",
              "      border-color: transparent;\n",
              "      border-right-color: var(--fill-color);\n",
              "      border-bottom-color: var(--fill-color);\n",
              "    }\n",
              "    90% {\n",
              "      border-color: transparent;\n",
              "      border-bottom-color: var(--fill-color);\n",
              "    }\n",
              "  }\n",
              "</style>\n",
              "\n",
              "      <script>\n",
              "        async function quickchart(key) {\n",
              "          const quickchartButtonEl =\n",
              "            document.querySelector('#' + key + ' button');\n",
              "          quickchartButtonEl.disabled = true;  // To prevent multiple clicks.\n",
              "          quickchartButtonEl.classList.add('colab-df-spinner');\n",
              "          try {\n",
              "            const charts = await google.colab.kernel.invokeFunction(\n",
              "                'suggestCharts', [key], {});\n",
              "          } catch (error) {\n",
              "            console.error('Error during call to suggestCharts:', error);\n",
              "          }\n",
              "          quickchartButtonEl.classList.remove('colab-df-spinner');\n",
              "          quickchartButtonEl.classList.add('colab-df-quickchart-complete');\n",
              "        }\n",
              "        (() => {\n",
              "          let quickchartButtonEl =\n",
              "            document.querySelector('#df-7e56d003-9f93-4d58-bc8f-7ab063839187 button');\n",
              "          quickchartButtonEl.style.display =\n",
              "            google.colab.kernel.accessAllowed ? 'block' : 'none';\n",
              "        })();\n",
              "      </script>\n",
              "    </div>\n",
              "\n",
              "    </div>\n",
              "  </div>\n"
            ],
            "application/vnd.google.colaboratory.intrinsic+json": {
              "type": "dataframe",
              "variable_name": "df_train"
            }
          },
          "metadata": {},
          "execution_count": 49
        }
      ]
    },
    {
      "cell_type": "markdown",
      "source": [
        "## Subsample and Splin Train vs Internal Test set"
      ],
      "metadata": {
        "id": "bIJsaHd101TM"
      }
    },
    {
      "cell_type": "markdown",
      "source": [
        "We split the dataset into training and internal test sets, using an 80/20 ratio.\n",
        "Stratified sampling is applied to preserve the original sentiment class distribution in both subsets."
      ],
      "metadata": {
        "id": "ClVACvgadNTO"
      }
    },
    {
      "cell_type": "code",
      "source": [
        "X = df_train['Text']\n",
        "y = df_train['sentiment']\n",
        "\n",
        "X_train, X_test, y_train, y_test = train_test_split(\n",
        "    X, y, test_size=0.2, random_state=42, stratify=y\n",
        ")"
      ],
      "metadata": {
        "id": "bGWmIuMf07lW"
      },
      "execution_count": 51,
      "outputs": []
    },
    {
      "cell_type": "markdown",
      "source": [
        "## Tokenization"
      ],
      "metadata": {
        "id": "9EgtZnGtHsES"
      }
    },
    {
      "cell_type": "markdown",
      "source": [
        "We initialize a Keras tokenizer with a vocabulary size limit of 30,000 words and an out-of-vocabulary token (<OOV>).\n",
        "The tokenizer is fitted on the training set and then used to convert both the training and test texts into sequences of integer tokens."
      ],
      "metadata": {
        "id": "LR7KXQaqdvRc"
      }
    },
    {
      "cell_type": "code",
      "source": [
        "# Set vocabulary size\n",
        "max_words = 30000\n",
        "# Initialize the tokenizer\n",
        "tokenizer = Tokenizer(num_words=max_words, oov_token=\"<OOV>\")\n",
        "# fit the tokenizer on TR set\n",
        "tokenizer.fit_on_texts(X_train)\n",
        "# tokenize TR set\n",
        "train_sequences = tokenizer.texts_to_sequences(X_train)\n",
        "# tokenize TS set\n",
        "test_sequences = tokenizer.texts_to_sequences(X_test)"
      ],
      "metadata": {
        "id": "0s42yDIA1DGp"
      },
      "execution_count": 52,
      "outputs": []
    },
    {
      "cell_type": "code",
      "source": [
        "# analyzing review length distribution before padding\n",
        "lengths = [len(seq) for seq in train_sequences]\n",
        "plt.hist(lengths, bins=50)\n",
        "plt.title(\"Review Length Distribution\")\n",
        "plt.xlabel(\"Tokens per review\")\n",
        "plt.ylabel(\"Count\")\n",
        "plt.show()"
      ],
      "metadata": {
        "colab": {
          "base_uri": "https://localhost:8080/",
          "height": 472
        },
        "id": "_i5F3OeQ1FmB",
        "outputId": "f4e5c074-319b-4ea5-bc8c-e8ee243bf250"
      },
      "execution_count": 53,
      "outputs": [
        {
          "output_type": "display_data",
          "data": {
            "text/plain": [
              "<Figure size 640x480 with 1 Axes>"
            ],
            "image/png": "[encoded data removed]"
          },
          "metadata": {}
        }
      ]
    },
    {
      "cell_type": "code",
      "source": [
        "print(\"95th percentile length:\", np.percentile(lengths, 95))"
      ],
      "metadata": {
        "colab": {
          "base_uri": "https://localhost:8080/"
        },
        "id": "FaBB2Qvo1fzC",
        "outputId": "d4f098bd-19d3-45e7-89b7-112027eb2927"
      },
      "execution_count": 54,
      "outputs": [
        {
          "output_type": "stream",
          "name": "stdout",
          "text": [
            "95th percentile length: 164.0\n"
          ]
        }
      ]
    },
    {
      "cell_type": "markdown",
      "source": [
        "We pad all input sequences to a fixed length of 164 tokens.\n",
        "Padding and truncation are applied at the beginning of the sequences ('pre') to ensure uniform input size for the model."
      ],
      "metadata": {
        "id": "i5c4mG1PeJU5"
      }
    },
    {
      "cell_type": "code",
      "source": [
        "max_len = 164\n",
        "# pad train seq.\n",
        "train_sequences_padded = pad_sequences(train_sequences, maxlen=max_len, padding='pre', truncating='pre')\n",
        "# pad test seq.\n",
        "test_sequences_padded = pad_sequences(test_sequences, maxlen=max_len, padding='pre', truncating='pre')"
      ],
      "metadata": {
        "id": "sEZe8js_1gfF"
      },
      "execution_count": 55,
      "outputs": []
    },
    {
      "cell_type": "markdown",
      "source": [
        "## Word2Vec"
      ],
      "metadata": {
        "id": "moLs-Px8eMAZ"
      }
    },
    {
      "cell_type": "markdown",
      "source": [
        "We download the pre-trained Google News Word2Vec embeddings (300-dimensional), which will be used for the embeddings in our model. These embeddings are widely used and trained on a large corpus of news articles."
      ],
      "metadata": {
        "id": "XiQ3mVVmeVY7"
      }
    },
    {
      "cell_type": "code",
      "source": [
        "file_id = '1Sra_JrYMx7_3ENBHQRkgD0z3NfK_S8qy'\n",
        "output_path = 'GoogleNews-vectors-negative300.bin'\n",
        "gdown.download(f'https://drive.google.com/uc?id={file_id}', output=output_path, quiet=False)"
      ],
      "metadata": {
        "id": "OkxxQHK2wadp",
        "colab": {
          "base_uri": "https://localhost:8080/",
          "height": 125
        },
        "outputId": "e3ec896d-c179-41dd-dfb9-08be636e6aba"
      },
      "execution_count": 56,
      "outputs": [
        {
          "output_type": "stream",
          "name": "stderr",
          "text": [
            "Downloading...\n",
            "From (original): https://drive.google.com/uc?id=1Sra_JrYMx7_3ENBHQRkgD0z3NfK_S8qy\n",
            "From (redirected): https://drive.google.com/uc?id=1Sra_JrYMx7_3ENBHQRkgD0z3NfK_S8qy&confirm=t&uuid=3fe637b6-dd6b-4d8d-b68b-0a4da2a7a61e\n",
            "To: /content/GoogleNews-vectors-negative300.bin\n",
            "100%|██████████| 3.64G/3.64G [00:43<00:00, 83.5MB/s]\n"
          ]
        },
        {
          "output_type": "execute_result",
          "data": {
            "text/plain": [
              "'GoogleNews-vectors-negative300.bin'"
            ],
            "application/vnd.google.colaboratory.intrinsic+json": {
              "type": "string"
            }
          },
          "metadata": {},
          "execution_count": 56
        }
      ]
    },
    {
      "cell_type": "code",
      "source": [
        "w2v_model = KeyedVectors.load_word2vec_format('GoogleNews-vectors-negative300.bin', binary=True)"
      ],
      "metadata": {
        "id": "0Qh7_9Ja4aBs"
      },
      "execution_count": 57,
      "outputs": []
    },
    {
      "cell_type": "markdown",
      "source": [
        "We build the embedding matrix by assigning pre-trained Word2Vec vectors to the words in our vocabulary.\n",
        "Words not found in the Word2Vec model are initialized with random values drawn from a normal distribution (mean = 0, std = 0.6)."
      ],
      "metadata": {
        "id": "_VIH-pbgehz4"
      }
    },
    {
      "cell_type": "code",
      "source": [
        "embedding_dim = 300\n",
        "embedding_matrix = np.zeros((max_words, embedding_dim))\n",
        "\n",
        "for word, i in tokenizer.word_index.items():\n",
        "    if i < max_words:\n",
        "        if word in w2v_model:\n",
        "            embedding_matrix[i] = w2v_model[word]\n",
        "        else:\n",
        "            embedding_matrix[i] = np.random.normal(scale=0.6, size=(embedding_dim,))\n"
      ],
      "metadata": {
        "id": "HdZe6oJ05JBs"
      },
      "execution_count": 58,
      "outputs": []
    },
    {
      "cell_type": "markdown",
      "source": [
        "## Model Definition"
      ],
      "metadata": {
        "id": "KyEi_tEne57c"
      }
    },
    {
      "cell_type": "markdown",
      "source": [
        "We define a simple neural network architecture consisting of:\n",
        "- a frozen embedding layer initialized with pre-trained Word2Vec vectors,\n",
        "- an LSTM layer with 128 units to capture sequential patterns,\n",
        "- and a final dense layer with sigmoid activation for binary classification.\n",
        "\n",
        "The model is compiled with binary crossentropy loss and the Adam optimizer."
      ],
      "metadata": {
        "id": "hgRvjZjfevhI"
      }
    },
    {
      "cell_type": "code",
      "source": [
        "model = Sequential([\n",
        "    Embedding(input_dim=max_words,\n",
        "              output_dim=embedding_dim,\n",
        "              weights=[embedding_matrix],\n",
        "              input_length=max_len,\n",
        "              trainable=False),\n",
        "    LSTM(128),\n",
        "    Dense(1, activation='sigmoid')\n",
        "])\n",
        "\n",
        "model.compile(loss='binary_crossentropy', optimizer='adam', metrics=['accuracy'])"
      ],
      "metadata": {
        "colab": {
          "base_uri": "https://localhost:8080/"
        },
        "id": "z8Dkn-G04qck",
        "outputId": "820ab6e4-7b71-4fa3-e715-50e3efcf47e3"
      },
      "execution_count": 59,
      "outputs": [
        {
          "output_type": "stream",
          "name": "stderr",
          "text": [
            "/usr/local/lib/python3.11/dist-packages/keras/src/layers/core/embedding.py:90: UserWarning: Argument `input_length` is deprecated. Just remove it.\n",
            "  warnings.warn(\n"
          ]
        }
      ]
    },
    {
      "cell_type": "markdown",
      "source": [
        "The training accuracy steadily increases across epochs, reaching 94.3%, while the validation accuracy stabilizes around 92.7%, suggesting good generalization without significant overfitting.\n",
        "\n",
        "After training, we evaluate the model on the test set using standard classification metrics:\n",
        "\n",
        "- Precision, Recall, and F1-score are all around 0.93 for both sentiment classes (positive and negative).\n",
        "- The overall accuracy is 93% on a test set of nearly 80,000 samples.\n",
        "- The confusion matrix shows a balanced performance, with slightly more false positives (~3200) than false negatives (~2500), but no severe class imbalance or skew."
      ],
      "metadata": {
        "id": "aVrSFZI5gARi"
      }
    },
    {
      "cell_type": "code",
      "source": [
        "model.fit(train_sequences_padded, y_train, epochs=5,\n",
        "          validation_split=0.2, batch_size=64)"
      ],
      "metadata": {
        "colab": {
          "base_uri": "https://localhost:8080/"
        },
        "id": "c5ov3uzE4rLi",
        "outputId": "927ce773-383f-4bd0-e30e-64016a3cadb7"
      },
      "execution_count": 60,
      "outputs": [
        {
          "output_type": "stream",
          "name": "stdout",
          "text": [
            "Epoch 1/5\n",
            "\u001b[1m3998/3998\u001b[0m \u001b[32m━━━━━━━━━━━━━━━━━━━━\u001b[0m\u001b[37m\u001b[0m \u001b[1m41s\u001b[0m 9ms/step - accuracy: 0.7682 - loss: 0.4751 - val_accuracy: 0.8949 - val_loss: 0.2644\n",
            "Epoch 2/5\n",
            "\u001b[1m3998/3998\u001b[0m \u001b[32m━━━━━━━━━━━━━━━━━━━━\u001b[0m\u001b[37m\u001b[0m \u001b[1m38s\u001b[0m 9ms/step - accuracy: 0.9029 - loss: 0.2398 - val_accuracy: 0.9152 - val_loss: 0.2131\n",
            "Epoch 3/5\n",
            "\u001b[1m3998/3998\u001b[0m \u001b[32m━━━━━━━━━━━━━━━━━━━━\u001b[0m\u001b[37m\u001b[0m \u001b[1m37s\u001b[0m 9ms/step - accuracy: 0.9225 - loss: 0.1962 - val_accuracy: 0.9169 - val_loss: 0.2127\n",
            "Epoch 4/5\n",
            "\u001b[1m3998/3998\u001b[0m \u001b[32m━━━━━━━━━━━━━━━━━━━━\u001b[0m\u001b[37m\u001b[0m \u001b[1m37s\u001b[0m 9ms/step - accuracy: 0.9326 - loss: 0.1751 - val_accuracy: 0.9270 - val_loss: 0.1910\n",
            "Epoch 5/5\n",
            "\u001b[1m3998/3998\u001b[0m \u001b[32m━━━━━━━━━━━━━━━━━━━━\u001b[0m\u001b[37m\u001b[0m \u001b[1m37s\u001b[0m 9ms/step - accuracy: 0.9432 - loss: 0.1517 - val_accuracy: 0.9272 - val_loss: 0.1892\n"
          ]
        },
        {
          "output_type": "execute_result",
          "data": {
            "text/plain": [
              "<keras.src.callbacks.history.History at 0x7a884d18a510>"
            ]
          },
          "metadata": {},
          "execution_count": 60
        }
      ]
    },
    {
      "cell_type": "code",
      "source": [
        "y_pred_prob = model.predict(test_sequences_padded)\n",
        "y_pred_class = (y_pred_prob > 0.5).astype(int)\n",
        "\n",
        "print(\"Classification Report:\")\n",
        "print(classification_report(y_test, y_pred_class))\n",
        "\n",
        "print(\"Confusion Matrix:\")\n",
        "print(confusion_matrix(y_test, y_pred_class))"
      ],
      "metadata": {
        "colab": {
          "base_uri": "https://localhost:8080/"
        },
        "id": "3deoaVq97WI7",
        "outputId": "f2924737-6cf8-4e3e-8cc7-7f9cd7c5de9f"
      },
      "execution_count": 61,
      "outputs": [
        {
          "output_type": "stream",
          "name": "stdout",
          "text": [
            "\u001b[1m2499/2499\u001b[0m \u001b[32m━━━━━━━━━━━━━━━━━━━━\u001b[0m\u001b[37m\u001b[0m \u001b[1m8s\u001b[0m 3ms/step\n",
            "Classification Report:\n",
            "              precision    recall  f1-score   support\n",
            "\n",
            "           0       0.94      0.92      0.93     39969\n",
            "           1       0.92      0.94      0.93     39986\n",
            "\n",
            "    accuracy                           0.93     79955\n",
            "   macro avg       0.93      0.93      0.93     79955\n",
            "weighted avg       0.93      0.93      0.93     79955\n",
            "\n",
            "Confusion Matrix:\n",
            "[[36756  3213]\n",
            " [ 2549 37437]]\n"
          ]
        }
      ]
    },
    {
      "cell_type": "markdown",
      "source": [
        "The Word2Vec + LSTM model achieves high accuracy and balanced precision/recall, making it effective for binary sentiment classification.\n",
        "Further improvements could include tuning hyperparameters, using a trainable embedding layer, or incorporating additional text preprocessing"
      ],
      "metadata": {
        "id": "GjIwAQ91gLt_"
      }
    }
  ]
}