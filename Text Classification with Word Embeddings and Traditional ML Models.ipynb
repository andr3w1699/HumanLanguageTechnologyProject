{
  "nbformat": 4,
  "nbformat_minor": 0,
  "metadata": {
    "colab": {
      "provenance": [],
      "toc_visible": true,
      "history_visible": true,
      "authorship_tag": "ABX9TyP/Jed+xH1GOyAB4Ks1pTEr",
      "include_colab_link": true
    },
    "kernelspec": {
      "name": "python3",
      "display_name": "Python 3"
    },
    "language_info": {
      "name": "python"
    }
  },
  "cells": [
    {
      "cell_type": "markdown",
      "metadata": {
        "id": "view-in-github",
        "colab_type": "text"
      },
      "source": [
        "<a href=\"https://colab.research.google.com/github/andr3w1699/HumanLanguageTechnologyProject/blob/main/Text%20Classification%20with%20Word%20Embeddings%20and%20Traditional%20ML%20Models.ipynb\" target=\"_parent\"><img src=\"https://colab.research.google.com/assets/colab-badge.svg\" alt=\"Open In Colab\"/></a>"
      ]
    },
    {
      "cell_type": "markdown",
      "source": [
        "# Sentiment Classification with Neural Text Representation on Amazon Reviews\n",
        "## Static Embedding + Classification Head\n",
        "The goal of this notebook is first to represent each of the review in the dataset as fixed-dim embedding vector that is obtained by pooling together all the embedding of the tokens that constitute the review. For example we can take the average of the embedding of all the token, or take the maximum of each component among all embedding. Whichever way the pooling is implemented, we get a single embedding vector that represents/summarizes the whole review unlike the other proposed approach where a sequence of embedding vectors was created, one for each token and then a model for sequential data such as RNN was used.\n",
        "\n",
        "So we have a dataset consisting of pairs of embeddings of a review and corresponding sentiment. We want to train a Machine Learning algorithm (MLP, SVM,...) to solve the sentiment classification task."
      ],
      "metadata": {
        "id": "EDU-XIFmDyZN"
      }
    },
    {
      "cell_type": "code",
      "execution_count": 1,
      "metadata": {
        "id": "Zlqli9NmDmLD"
      },
      "outputs": [],
      "source": [
        "!pip install -q gdown"
      ]
    },
    {
      "cell_type": "code",
      "source": [
        "import tarfile\n",
        "import pandas as pd\n",
        "from nltk.corpus import stopwords\n",
        "from nltk.tokenize import word_tokenize\n",
        "from nltk.stem import WordNetLemmatizer\n",
        "import nltk\n",
        "import re\n",
        "import string\n",
        "import os\n",
        "import numpy as np\n",
        "import nltk\n",
        "from sklearn.model_selection import train_test_split\n",
        "from sklearn.preprocessing import LabelEncoder\n",
        "from sklearn.metrics import classification_report\n",
        "from sklearn.svm import SVC\n",
        "from sklearn.neural_network import MLPClassifier\n",
        "from sklearn.linear_model import LogisticRegression\n",
        "from sklearn.ensemble import RandomForestClassifier\n",
        "from sklearn.neighbors import KNeighborsClassifier\n",
        "from xgboost import XGBClassifier\n",
        "from sklearn.naive_bayes import MultinomialNB"
      ],
      "metadata": {
        "id": "gQpfvxAoGdgA"
      },
      "execution_count": 2,
      "outputs": []
    },
    {
      "cell_type": "code",
      "source": [
        "file_id = '0Bz8a_Dbh9QhbZVhsUnRWRDhETzA'\n",
        "output_name = 'amazon_review_full_csv.tar.gz'\n",
        "\n",
        "!gdown --id {file_id} -O {output_name}"
      ],
      "metadata": {
        "colab": {
          "base_uri": "https://localhost:8080/"
        },
        "id": "Fp18HtUBGhuZ",
        "outputId": "ea54860f-514f-4e1d-a9be-1c1d6c6ba4db"
      },
      "execution_count": 3,
      "outputs": [
        {
          "output_type": "stream",
          "name": "stdout",
          "text": [
            "/usr/local/lib/python3.11/dist-packages/gdown/__main__.py:140: FutureWarning: Option `--id` was deprecated in version 4.3.1 and will be removed in 5.0. You don't need to pass it anymore to use a file ID.\n",
            "  warnings.warn(\n",
            "Downloading...\n",
            "From (original): https://drive.google.com/uc?id=0Bz8a_Dbh9QhbZVhsUnRWRDhETzA\n",
            "From (redirected): https://drive.google.com/uc?id=0Bz8a_Dbh9QhbZVhsUnRWRDhETzA&confirm=t&uuid=28a90df5-fefd-4822-9cab-e75495c4138c\n",
            "To: /content/amazon_review_full_csv.tar.gz\n",
            "100% 644M/644M [00:14<00:00, 43.8MB/s]\n"
          ]
        }
      ]
    },
    {
      "cell_type": "code",
      "source": [
        "with tarfile.open(output_name, \"r:gz\") as tar:\n",
        "    tar.extractall(\"Dataset\")"
      ],
      "metadata": {
        "id": "hAyucYEZGpBI"
      },
      "execution_count": 4,
      "outputs": []
    },
    {
      "cell_type": "code",
      "source": [
        "pd.set_option('display.max_colwidth', None)\n",
        "\n",
        "df_train = pd.read_csv(\n",
        "    './Dataset/amazon_review_full_csv/train.csv',\n",
        "    header=None,\n",
        "    names=['label', 'title', 'text'],\n",
        "    quotechar='\"',\n",
        "    doublequote=True,\n",
        "    escapechar='\\\\',\n",
        "    engine='python',\n",
        "    encoding='utf-8',\n",
        "    on_bad_lines='skip'\n",
        ")\n",
        "\n",
        "df_train.head()"
      ],
      "metadata": {
        "colab": {
          "base_uri": "https://localhost:8080/",
          "height": 588
        },
        "id": "NMDqInj8GuYo",
        "outputId": "d9519f5b-728b-4f18-a9e8-130f9affcf28"
      },
      "execution_count": 5,
      "outputs": [
        {
          "output_type": "execute_result",
          "data": {
            "text/plain": [
              "   label                                  title  \\\n",
              "0      3                     more like funchuck   \n",
              "1      5                              Inspiring   \n",
              "2      5  The best soundtrack ever to anything.   \n",
              "3      4                       Chrono Cross OST   \n",
              "4      5                    Too good to be true   \n",
              "\n",
              "                                                                                                                                                                                                                                                                                                                                                                                                                                                                                     text  \n",
              "0                                                                                                                                                                                                                                                                                                                                                                                           Gave this to my dad for a gag gift after directing \"Nunsense,\" he got a reall kick out of it!  \n",
              "1                                                                                                                                                                                                                                                                            I hope a lot of people hear this cd. We need more strong and positive vibes like this. Great vocals, fresh tunes, cross-cultural happiness. Her blues is from the gut. The pop sounds are catchy and mature.  \n",
              "2  I'm reading a lot of reviews saying that this is the best 'game soundtrack' and I figured that I'd write a review to disagree a bit. This in my opinino is Yasunori Mitsuda's ultimate masterpiece. The music is timeless and I'm been listening to it for years now and its beauty simply refuses to fade.The price tag on this is pretty staggering I must say, but if you are going to buy any cd for this much money, this is the only one that I feel would be worth every penny.  \n",
              "3                                                                               The music of Yasunori Misuda is without question my close second below the great Nobuo Uematsu.Chrono Cross OST is a wonderful creation filled with rich orchestra and synthesized sounds. While ambiance is one of the music's major factors, yet at times it's very uplifting and vigorous. Some of my favourite tracks include; \"Scars Left by Time, The Girl who Stole the Stars, and Another World\".  \n",
              "4                                                                                               Probably the greatest soundtrack in history! Usually it's better to have played the game first but this is so enjoyable anyway! I worked so hard getting this soundtrack and after spending [money] to get it it was really worth every penny!! Get this OST! it's amazing! The first few tracks will have you dancing around with delight (especially Scars Left by Time)!! BUY IT NOW!!  "
            ],
            "text/html": [
              "\n",
              "  <div id=\"df-4fe04002-e0a6-4321-81d9-a5f57d17658b\" class=\"colab-df-container\">\n",
              "    <div>\n",
              "<style scoped>\n",
              "    .dataframe tbody tr th:only-of-type {\n",
              "        vertical-align: middle;\n",
              "    }\n",
              "\n",
              "    .dataframe tbody tr th {\n",
              "        vertical-align: top;\n",
              "    }\n",
              "\n",
              "    .dataframe thead th {\n",
              "        text-align: right;\n",
              "    }\n",
              "</style>\n",
              "<table border=\"1\" class=\"dataframe\">\n",
              "  <thead>\n",
              "    <tr style=\"text-align: right;\">\n",
              "      <th></th>\n",
              "      <th>label</th>\n",
              "      <th>title</th>\n",
              "      <th>text</th>\n",
              "    </tr>\n",
              "  </thead>\n",
              "  <tbody>\n",
              "    <tr>\n",
              "      <th>0</th>\n",
              "      <td>3</td>\n",
              "      <td>more like funchuck</td>\n",
              "      <td>Gave this to my dad for a gag gift after directing \"Nunsense,\" he got a reall kick out of it!</td>\n",
              "    </tr>\n",
              "    <tr>\n",
              "      <th>1</th>\n",
              "      <td>5</td>\n",
              "      <td>Inspiring</td>\n",
              "      <td>I hope a lot of people hear this cd. We need more strong and positive vibes like this. Great vocals, fresh tunes, cross-cultural happiness. Her blues is from the gut. The pop sounds are catchy and mature.</td>\n",
              "    </tr>\n",
              "    <tr>\n",
              "      <th>2</th>\n",
              "      <td>5</td>\n",
              "      <td>The best soundtrack ever to anything.</td>\n",
              "      <td>I'm reading a lot of reviews saying that this is the best 'game soundtrack' and I figured that I'd write a review to disagree a bit. This in my opinino is Yasunori Mitsuda's ultimate masterpiece. The music is timeless and I'm been listening to it for years now and its beauty simply refuses to fade.The price tag on this is pretty staggering I must say, but if you are going to buy any cd for this much money, this is the only one that I feel would be worth every penny.</td>\n",
              "    </tr>\n",
              "    <tr>\n",
              "      <th>3</th>\n",
              "      <td>4</td>\n",
              "      <td>Chrono Cross OST</td>\n",
              "      <td>The music of Yasunori Misuda is without question my close second below the great Nobuo Uematsu.Chrono Cross OST is a wonderful creation filled with rich orchestra and synthesized sounds. While ambiance is one of the music's major factors, yet at times it's very uplifting and vigorous. Some of my favourite tracks include; \"Scars Left by Time, The Girl who Stole the Stars, and Another World\".</td>\n",
              "    </tr>\n",
              "    <tr>\n",
              "      <th>4</th>\n",
              "      <td>5</td>\n",
              "      <td>Too good to be true</td>\n",
              "      <td>Probably the greatest soundtrack in history! Usually it's better to have played the game first but this is so enjoyable anyway! I worked so hard getting this soundtrack and after spending [money] to get it it was really worth every penny!! Get this OST! it's amazing! The first few tracks will have you dancing around with delight (especially Scars Left by Time)!! BUY IT NOW!!</td>\n",
              "    </tr>\n",
              "  </tbody>\n",
              "</table>\n",
              "</div>\n",
              "    <div class=\"colab-df-buttons\">\n",
              "\n",
              "  <div class=\"colab-df-container\">\n",
              "    <button class=\"colab-df-convert\" onclick=\"convertToInteractive('df-4fe04002-e0a6-4321-81d9-a5f57d17658b')\"\n",
              "            title=\"Convert this dataframe to an interactive table.\"\n",
              "            style=\"display:none;\">\n",
              "\n",
              "  <svg xmlns=\"http://www.w3.org/2000/svg\" height=\"24px\" viewBox=\"0 -960 960 960\">\n",
              "    <path d=\"M120-120v-720h720v720H120Zm60-500h600v-160H180v160Zm220 220h160v-160H400v160Zm0 220h160v-160H400v160ZM180-400h160v-160H180v160Zm440 0h160v-160H620v160ZM180-180h160v-160H180v160Zm440 0h160v-160H620v160Z\"/>\n",
              "  </svg>\n",
              "    </button>\n",
              "\n",
              "  <style>\n",
              "    .colab-df-container {\n",
              "      display:flex;\n",
              "      gap: 12px;\n",
              "    }\n",
              "\n",
              "    .colab-df-convert {\n",
              "      background-color: #E8F0FE;\n",
              "      border: none;\n",
              "      border-radius: 50%;\n",
              "      cursor: pointer;\n",
              "      display: none;\n",
              "      fill: #1967D2;\n",
              "      height: 32px;\n",
              "      padding: 0 0 0 0;\n",
              "      width: 32px;\n",
              "    }\n",
              "\n",
              "    .colab-df-convert:hover {\n",
              "      background-color: #E2EBFA;\n",
              "      box-shadow: 0px 1px 2px rgba(60, 64, 67, 0.3), 0px 1px 3px 1px rgba(60, 64, 67, 0.15);\n",
              "      fill: #174EA6;\n",
              "    }\n",
              "\n",
              "    .colab-df-buttons div {\n",
              "      margin-bottom: 4px;\n",
              "    }\n",
              "\n",
              "    [theme=dark] .colab-df-convert {\n",
              "      background-color: #3B4455;\n",
              "      fill: #D2E3FC;\n",
              "    }\n",
              "\n",
              "    [theme=dark] .colab-df-convert:hover {\n",
              "      background-color: #434B5C;\n",
              "      box-shadow: 0px 1px 3px 1px rgba(0, 0, 0, 0.15);\n",
              "      filter: drop-shadow(0px 1px 2px rgba(0, 0, 0, 0.3));\n",
              "      fill: #FFFFFF;\n",
              "    }\n",
              "  </style>\n",
              "\n",
              "    <script>\n",
              "      const buttonEl =\n",
              "        document.querySelector('#df-4fe04002-e0a6-4321-81d9-a5f57d17658b button.colab-df-convert');\n",
              "      buttonEl.style.display =\n",
              "        google.colab.kernel.accessAllowed ? 'block' : 'none';\n",
              "\n",
              "      async function convertToInteractive(key) {\n",
              "        const element = document.querySelector('#df-4fe04002-e0a6-4321-81d9-a5f57d17658b');\n",
              "        const dataTable =\n",
              "          await google.colab.kernel.invokeFunction('convertToInteractive',\n",
              "                                                    [key], {});\n",
              "        if (!dataTable) return;\n",
              "\n",
              "        const docLinkHtml = 'Like what you see? Visit the ' +\n",
              "          '<a target=\"_blank\" href=https://colab.research.google.com/notebooks/data_table.ipynb>data table notebook</a>'\n",
              "          + ' to learn more about interactive tables.';\n",
              "        element.innerHTML = '';\n",
              "        dataTable['output_type'] = 'display_data';\n",
              "        await google.colab.output.renderOutput(dataTable, element);\n",
              "        const docLink = document.createElement('div');\n",
              "        docLink.innerHTML = docLinkHtml;\n",
              "        element.appendChild(docLink);\n",
              "      }\n",
              "    </script>\n",
              "  </div>\n",
              "\n",
              "\n",
              "    <div id=\"df-52fad4df-5a46-4d6a-8201-1ff2cf89085a\">\n",
              "      <button class=\"colab-df-quickchart\" onclick=\"quickchart('df-52fad4df-5a46-4d6a-8201-1ff2cf89085a')\"\n",
              "                title=\"Suggest charts\"\n",
              "                style=\"display:none;\">\n",
              "\n",
              "<svg xmlns=\"http://www.w3.org/2000/svg\" height=\"24px\"viewBox=\"0 0 24 24\"\n",
              "     width=\"24px\">\n",
              "    <g>\n",
              "        <path d=\"M19 3H5c-1.1 0-2 .9-2 2v14c0 1.1.9 2 2 2h14c1.1 0 2-.9 2-2V5c0-1.1-.9-2-2-2zM9 17H7v-7h2v7zm4 0h-2V7h2v10zm4 0h-2v-4h2v4z\"/>\n",
              "    </g>\n",
              "</svg>\n",
              "      </button>\n",
              "\n",
              "<style>\n",
              "  .colab-df-quickchart {\n",
              "      --bg-color: #E8F0FE;\n",
              "      --fill-color: #1967D2;\n",
              "      --hover-bg-color: #E2EBFA;\n",
              "      --hover-fill-color: #174EA6;\n",
              "      --disabled-fill-color: #AAA;\n",
              "      --disabled-bg-color: #DDD;\n",
              "  }\n",
              "\n",
              "  [theme=dark] .colab-df-quickchart {\n",
              "      --bg-color: #3B4455;\n",
              "      --fill-color: #D2E3FC;\n",
              "      --hover-bg-color: #434B5C;\n",
              "      --hover-fill-color: #FFFFFF;\n",
              "      --disabled-bg-color: #3B4455;\n",
              "      --disabled-fill-color: #666;\n",
              "  }\n",
              "\n",
              "  .colab-df-quickchart {\n",
              "    background-color: var(--bg-color);\n",
              "    border: none;\n",
              "    border-radius: 50%;\n",
              "    cursor: pointer;\n",
              "    display: none;\n",
              "    fill: var(--fill-color);\n",
              "    height: 32px;\n",
              "    padding: 0;\n",
              "    width: 32px;\n",
              "  }\n",
              "\n",
              "  .colab-df-quickchart:hover {\n",
              "    background-color: var(--hover-bg-color);\n",
              "    box-shadow: 0 1px 2px rgba(60, 64, 67, 0.3), 0 1px 3px 1px rgba(60, 64, 67, 0.15);\n",
              "    fill: var(--button-hover-fill-color);\n",
              "  }\n",
              "\n",
              "  .colab-df-quickchart-complete:disabled,\n",
              "  .colab-df-quickchart-complete:disabled:hover {\n",
              "    background-color: var(--disabled-bg-color);\n",
              "    fill: var(--disabled-fill-color);\n",
              "    box-shadow: none;\n",
              "  }\n",
              "\n",
              "  .colab-df-spinner {\n",
              "    border: 2px solid var(--fill-color);\n",
              "    border-color: transparent;\n",
              "    border-bottom-color: var(--fill-color);\n",
              "    animation:\n",
              "      spin 1s steps(1) infinite;\n",
              "  }\n",
              "\n",
              "  @keyframes spin {\n",
              "    0% {\n",
              "      border-color: transparent;\n",
              "      border-bottom-color: var(--fill-color);\n",
              "      border-left-color: var(--fill-color);\n",
              "    }\n",
              "    20% {\n",
              "      border-color: transparent;\n",
              "      border-left-color: var(--fill-color);\n",
              "      border-top-color: var(--fill-color);\n",
              "    }\n",
              "    30% {\n",
              "      border-color: transparent;\n",
              "      border-left-color: var(--fill-color);\n",
              "      border-top-color: var(--fill-color);\n",
              "      border-right-color: var(--fill-color);\n",
              "    }\n",
              "    40% {\n",
              "      border-color: transparent;\n",
              "      border-right-color: var(--fill-color);\n",
              "      border-top-color: var(--fill-color);\n",
              "    }\n",
              "    60% {\n",
              "      border-color: transparent;\n",
              "      border-right-color: var(--fill-color);\n",
              "    }\n",
              "    80% {\n",
              "      border-color: transparent;\n",
              "      border-right-color: var(--fill-color);\n",
              "      border-bottom-color: var(--fill-color);\n",
              "    }\n",
              "    90% {\n",
              "      border-color: transparent;\n",
              "      border-bottom-color: var(--fill-color);\n",
              "    }\n",
              "  }\n",
              "</style>\n",
              "\n",
              "      <script>\n",
              "        async function quickchart(key) {\n",
              "          const quickchartButtonEl =\n",
              "            document.querySelector('#' + key + ' button');\n",
              "          quickchartButtonEl.disabled = true;  // To prevent multiple clicks.\n",
              "          quickchartButtonEl.classList.add('colab-df-spinner');\n",
              "          try {\n",
              "            const charts = await google.colab.kernel.invokeFunction(\n",
              "                'suggestCharts', [key], {});\n",
              "          } catch (error) {\n",
              "            console.error('Error during call to suggestCharts:', error);\n",
              "          }\n",
              "          quickchartButtonEl.classList.remove('colab-df-spinner');\n",
              "          quickchartButtonEl.classList.add('colab-df-quickchart-complete');\n",
              "        }\n",
              "        (() => {\n",
              "          let quickchartButtonEl =\n",
              "            document.querySelector('#df-52fad4df-5a46-4d6a-8201-1ff2cf89085a button');\n",
              "          quickchartButtonEl.style.display =\n",
              "            google.colab.kernel.accessAllowed ? 'block' : 'none';\n",
              "        })();\n",
              "      </script>\n",
              "    </div>\n",
              "\n",
              "    </div>\n",
              "  </div>\n"
            ],
            "application/vnd.google.colaboratory.intrinsic+json": {
              "type": "dataframe",
              "variable_name": "df_train"
            }
          },
          "metadata": {},
          "execution_count": 5
        }
      ]
    },
    {
      "cell_type": "code",
      "source": [
        "df_sample = df_train.sample(n=100_000, random_state=42)"
      ],
      "metadata": {
        "id": "6nkNt6t8HB4B"
      },
      "execution_count": 6,
      "outputs": []
    },
    {
      "cell_type": "code",
      "source": [
        "df_sample = df_sample[df_sample['label'] != 3].copy()\n",
        "\n",
        "df_sample['sentiment'] = df_sample['label'].apply(lambda x: 1 if x > 3 else 0)\n",
        "\n",
        "df_sample['review'] = df_sample['title'].fillna('') + ' ' + df_sample['text'].fillna('')"
      ],
      "metadata": {
        "id": "iwpD4tk7HMs4"
      },
      "execution_count": 7,
      "outputs": []
    },
    {
      "cell_type": "code",
      "source": [
        "df_sample.head()"
      ],
      "metadata": {
        "colab": {
          "base_uri": "https://localhost:8080/",
          "height": 1000
        },
        "id": "8Q62RP_bHIcJ",
        "outputId": "59d6d090-df8e-42f0-f32a-8f5c36bdb8bc"
      },
      "execution_count": 8,
      "outputs": [
        {
          "output_type": "execute_result",
          "data": {
            "text/plain": [
              "         label                                                        title  \\\n",
              "2344762      2                                         Not I was hoping for   \n",
              "736127       2                                                     roof bag   \n",
              "1295906      5                                                   Suspensful   \n",
              "2790144      2                                              Received Broken   \n",
              "1089436      1  If you are computer literate just a little bit, do not read   \n",
              "\n",
              "                                                                                                                                                                                                                                                                                                                                                                                                                                                                                                                                                                                                                                                                               text  \\\n",
              "2344762                                                                                                                                                                                                                                                                                                                             Don't expect these to be magical.I am pretty easy on tools, but these aren't that tough.On one stuck bolt, the first one I used broke without even giving up a fight. The 2nd one grabbed well, bu then it bent like a piece of licorice.I would recommend these for very light-duty work.Fortunately Amazon was amazing in the return process.   \n",
              "736127                                                                                                                                                                                                                                                                                                                                                                                                                                                                                                                                                    This bag held up good however it is not at all waterproof we had to dry all our clothes when we arrived atOur destination   \n",
              "1295906  Truly after reading the reviews written by previous readers about this book, i just had to read the book. I was intrigued ultimately about the premise of the story, a bengal tiger lose in north Georgia, AWESOME. Reading the first half of the story i found comparisons to that of the movie \"Jaws\", mystique, suspense, and great story telling both depicted by Warner and Speilber. The second half of the story then wandered a bit from the roots and went into a metaphorical shift to ones manhood. But i do truly wish many to read this story which i couldnt put down!!! Also Jim Grahams character in this story is truly charasmatic and geniune!! READ IT   \n",
              "2790144                                                                                                                                                                                                                                                                                                                                                                                                                                                                                                                   When my son received this gift, the bowl was broken. I told him to call the company, but he hasn't done that yet, so I don't know what the resolution is.   \n",
              "1089436                                                                                                                                                                                   As you may have already noticed from the title of this review this is one of the worst techno-thrillers that one could choose for reading and you would be really annoyed of this dilettante writing with regard to the author's knowledge of cryptography and computers. Having in mind the popularity of Dan Brown as one of the best selling authors out there this book is a complete waste of time. Sorry to say. I give this book 1 out 5. Unfortunately there is no 0 star rating.   \n",
              "\n",
              "         sentiment  \\\n",
              "2344762          0   \n",
              "736127           0   \n",
              "1295906          1   \n",
              "2790144          0   \n",
              "1089436          0   \n",
              "\n",
              "                                                                                                                                                                                                                                                                                                                                                                                                                                                                                                                                                                                                                                                                                        review  \n",
              "2344762                                                                                                                                                                                                                                                                                                                   Not I was hoping for Don't expect these to be magical.I am pretty easy on tools, but these aren't that tough.On one stuck bolt, the first one I used broke without even giving up a fight. The 2nd one grabbed well, bu then it bent like a piece of licorice.I would recommend these for very light-duty work.Fortunately Amazon was amazing in the return process.  \n",
              "736127                                                                                                                                                                                                                                                                                                                                                                                                                                                                                                                                                      roof bag This bag held up good however it is not at all waterproof we had to dry all our clothes when we arrived atOur destination  \n",
              "1295906  Suspensful Truly after reading the reviews written by previous readers about this book, i just had to read the book. I was intrigued ultimately about the premise of the story, a bengal tiger lose in north Georgia, AWESOME. Reading the first half of the story i found comparisons to that of the movie \"Jaws\", mystique, suspense, and great story telling both depicted by Warner and Speilber. The second half of the story then wandered a bit from the roots and went into a metaphorical shift to ones manhood. But i do truly wish many to read this story which i couldnt put down!!! Also Jim Grahams character in this story is truly charasmatic and geniune!! READ IT  \n",
              "2790144                                                                                                                                                                                                                                                                                                                                                                                                                                                                                                              Received Broken When my son received this gift, the bowl was broken. I told him to call the company, but he hasn't done that yet, so I don't know what the resolution is.  \n",
              "1089436                                                                                                                                  If you are computer literate just a little bit, do not read As you may have already noticed from the title of this review this is one of the worst techno-thrillers that one could choose for reading and you would be really annoyed of this dilettante writing with regard to the author's knowledge of cryptography and computers. Having in mind the popularity of Dan Brown as one of the best selling authors out there this book is a complete waste of time. Sorry to say. I give this book 1 out 5. Unfortunately there is no 0 star rating.  "
            ],
            "text/html": [
              "\n",
              "  <div id=\"df-54394105-70cf-4e67-8ca7-dc412968e210\" class=\"colab-df-container\">\n",
              "    <div>\n",
              "<style scoped>\n",
              "    .dataframe tbody tr th:only-of-type {\n",
              "        vertical-align: middle;\n",
              "    }\n",
              "\n",
              "    .dataframe tbody tr th {\n",
              "        vertical-align: top;\n",
              "    }\n",
              "\n",
              "    .dataframe thead th {\n",
              "        text-align: right;\n",
              "    }\n",
              "</style>\n",
              "<table border=\"1\" class=\"dataframe\">\n",
              "  <thead>\n",
              "    <tr style=\"text-align: right;\">\n",
              "      <th></th>\n",
              "      <th>label</th>\n",
              "      <th>title</th>\n",
              "      <th>text</th>\n",
              "      <th>sentiment</th>\n",
              "      <th>review</th>\n",
              "    </tr>\n",
              "  </thead>\n",
              "  <tbody>\n",
              "    <tr>\n",
              "      <th>2344762</th>\n",
              "      <td>2</td>\n",
              "      <td>Not I was hoping for</td>\n",
              "      <td>Don't expect these to be magical.I am pretty easy on tools, but these aren't that tough.On one stuck bolt, the first one I used broke without even giving up a fight. The 2nd one grabbed well, bu then it bent like a piece of licorice.I would recommend these for very light-duty work.Fortunately Amazon was amazing in the return process.</td>\n",
              "      <td>0</td>\n",
              "      <td>Not I was hoping for Don't expect these to be magical.I am pretty easy on tools, but these aren't that tough.On one stuck bolt, the first one I used broke without even giving up a fight. The 2nd one grabbed well, bu then it bent like a piece of licorice.I would recommend these for very light-duty work.Fortunately Amazon was amazing in the return process.</td>\n",
              "    </tr>\n",
              "    <tr>\n",
              "      <th>736127</th>\n",
              "      <td>2</td>\n",
              "      <td>roof bag</td>\n",
              "      <td>This bag held up good however it is not at all waterproof we had to dry all our clothes when we arrived atOur destination</td>\n",
              "      <td>0</td>\n",
              "      <td>roof bag This bag held up good however it is not at all waterproof we had to dry all our clothes when we arrived atOur destination</td>\n",
              "    </tr>\n",
              "    <tr>\n",
              "      <th>1295906</th>\n",
              "      <td>5</td>\n",
              "      <td>Suspensful</td>\n",
              "      <td>Truly after reading the reviews written by previous readers about this book, i just had to read the book. I was intrigued ultimately about the premise of the story, a bengal tiger lose in north Georgia, AWESOME. Reading the first half of the story i found comparisons to that of the movie \"Jaws\", mystique, suspense, and great story telling both depicted by Warner and Speilber. The second half of the story then wandered a bit from the roots and went into a metaphorical shift to ones manhood. But i do truly wish many to read this story which i couldnt put down!!! Also Jim Grahams character in this story is truly charasmatic and geniune!! READ IT</td>\n",
              "      <td>1</td>\n",
              "      <td>Suspensful Truly after reading the reviews written by previous readers about this book, i just had to read the book. I was intrigued ultimately about the premise of the story, a bengal tiger lose in north Georgia, AWESOME. Reading the first half of the story i found comparisons to that of the movie \"Jaws\", mystique, suspense, and great story telling both depicted by Warner and Speilber. The second half of the story then wandered a bit from the roots and went into a metaphorical shift to ones manhood. But i do truly wish many to read this story which i couldnt put down!!! Also Jim Grahams character in this story is truly charasmatic and geniune!! READ IT</td>\n",
              "    </tr>\n",
              "    <tr>\n",
              "      <th>2790144</th>\n",
              "      <td>2</td>\n",
              "      <td>Received Broken</td>\n",
              "      <td>When my son received this gift, the bowl was broken. I told him to call the company, but he hasn't done that yet, so I don't know what the resolution is.</td>\n",
              "      <td>0</td>\n",
              "      <td>Received Broken When my son received this gift, the bowl was broken. I told him to call the company, but he hasn't done that yet, so I don't know what the resolution is.</td>\n",
              "    </tr>\n",
              "    <tr>\n",
              "      <th>1089436</th>\n",
              "      <td>1</td>\n",
              "      <td>If you are computer literate just a little bit, do not read</td>\n",
              "      <td>As you may have already noticed from the title of this review this is one of the worst techno-thrillers that one could choose for reading and you would be really annoyed of this dilettante writing with regard to the author's knowledge of cryptography and computers. Having in mind the popularity of Dan Brown as one of the best selling authors out there this book is a complete waste of time. Sorry to say. I give this book 1 out 5. Unfortunately there is no 0 star rating.</td>\n",
              "      <td>0</td>\n",
              "      <td>If you are computer literate just a little bit, do not read As you may have already noticed from the title of this review this is one of the worst techno-thrillers that one could choose for reading and you would be really annoyed of this dilettante writing with regard to the author's knowledge of cryptography and computers. Having in mind the popularity of Dan Brown as one of the best selling authors out there this book is a complete waste of time. Sorry to say. I give this book 1 out 5. Unfortunately there is no 0 star rating.</td>\n",
              "    </tr>\n",
              "  </tbody>\n",
              "</table>\n",
              "</div>\n",
              "    <div class=\"colab-df-buttons\">\n",
              "\n",
              "  <div class=\"colab-df-container\">\n",
              "    <button class=\"colab-df-convert\" onclick=\"convertToInteractive('df-54394105-70cf-4e67-8ca7-dc412968e210')\"\n",
              "            title=\"Convert this dataframe to an interactive table.\"\n",
              "            style=\"display:none;\">\n",
              "\n",
              "  <svg xmlns=\"http://www.w3.org/2000/svg\" height=\"24px\" viewBox=\"0 -960 960 960\">\n",
              "    <path d=\"M120-120v-720h720v720H120Zm60-500h600v-160H180v160Zm220 220h160v-160H400v160Zm0 220h160v-160H400v160ZM180-400h160v-160H180v160Zm440 0h160v-160H620v160ZM180-180h160v-160H180v160Zm440 0h160v-160H620v160Z\"/>\n",
              "  </svg>\n",
              "    </button>\n",
              "\n",
              "  <style>\n",
              "    .colab-df-container {\n",
              "      display:flex;\n",
              "      gap: 12px;\n",
              "    }\n",
              "\n",
              "    .colab-df-convert {\n",
              "      background-color: #E8F0FE;\n",
              "      border: none;\n",
              "      border-radius: 50%;\n",
              "      cursor: pointer;\n",
              "      display: none;\n",
              "      fill: #1967D2;\n",
              "      height: 32px;\n",
              "      padding: 0 0 0 0;\n",
              "      width: 32px;\n",
              "    }\n",
              "\n",
              "    .colab-df-convert:hover {\n",
              "      background-color: #E2EBFA;\n",
              "      box-shadow: 0px 1px 2px rgba(60, 64, 67, 0.3), 0px 1px 3px 1px rgba(60, 64, 67, 0.15);\n",
              "      fill: #174EA6;\n",
              "    }\n",
              "\n",
              "    .colab-df-buttons div {\n",
              "      margin-bottom: 4px;\n",
              "    }\n",
              "\n",
              "    [theme=dark] .colab-df-convert {\n",
              "      background-color: #3B4455;\n",
              "      fill: #D2E3FC;\n",
              "    }\n",
              "\n",
              "    [theme=dark] .colab-df-convert:hover {\n",
              "      background-color: #434B5C;\n",
              "      box-shadow: 0px 1px 3px 1px rgba(0, 0, 0, 0.15);\n",
              "      filter: drop-shadow(0px 1px 2px rgba(0, 0, 0, 0.3));\n",
              "      fill: #FFFFFF;\n",
              "    }\n",
              "  </style>\n",
              "\n",
              "    <script>\n",
              "      const buttonEl =\n",
              "        document.querySelector('#df-54394105-70cf-4e67-8ca7-dc412968e210 button.colab-df-convert');\n",
              "      buttonEl.style.display =\n",
              "        google.colab.kernel.accessAllowed ? 'block' : 'none';\n",
              "\n",
              "      async function convertToInteractive(key) {\n",
              "        const element = document.querySelector('#df-54394105-70cf-4e67-8ca7-dc412968e210');\n",
              "        const dataTable =\n",
              "          await google.colab.kernel.invokeFunction('convertToInteractive',\n",
              "                                                    [key], {});\n",
              "        if (!dataTable) return;\n",
              "\n",
              "        const docLinkHtml = 'Like what you see? Visit the ' +\n",
              "          '<a target=\"_blank\" href=https://colab.research.google.com/notebooks/data_table.ipynb>data table notebook</a>'\n",
              "          + ' to learn more about interactive tables.';\n",
              "        element.innerHTML = '';\n",
              "        dataTable['output_type'] = 'display_data';\n",
              "        await google.colab.output.renderOutput(dataTable, element);\n",
              "        const docLink = document.createElement('div');\n",
              "        docLink.innerHTML = docLinkHtml;\n",
              "        element.appendChild(docLink);\n",
              "      }\n",
              "    </script>\n",
              "  </div>\n",
              "\n",
              "\n",
              "    <div id=\"df-a3abe8d2-160c-4aba-938e-769a954a9571\">\n",
              "      <button class=\"colab-df-quickchart\" onclick=\"quickchart('df-a3abe8d2-160c-4aba-938e-769a954a9571')\"\n",
              "                title=\"Suggest charts\"\n",
              "                style=\"display:none;\">\n",
              "\n",
              "<svg xmlns=\"http://www.w3.org/2000/svg\" height=\"24px\"viewBox=\"0 0 24 24\"\n",
              "     width=\"24px\">\n",
              "    <g>\n",
              "        <path d=\"M19 3H5c-1.1 0-2 .9-2 2v14c0 1.1.9 2 2 2h14c1.1 0 2-.9 2-2V5c0-1.1-.9-2-2-2zM9 17H7v-7h2v7zm4 0h-2V7h2v10zm4 0h-2v-4h2v4z\"/>\n",
              "    </g>\n",
              "</svg>\n",
              "      </button>\n",
              "\n",
              "<style>\n",
              "  .colab-df-quickchart {\n",
              "      --bg-color: #E8F0FE;\n",
              "      --fill-color: #1967D2;\n",
              "      --hover-bg-color: #E2EBFA;\n",
              "      --hover-fill-color: #174EA6;\n",
              "      --disabled-fill-color: #AAA;\n",
              "      --disabled-bg-color: #DDD;\n",
              "  }\n",
              "\n",
              "  [theme=dark] .colab-df-quickchart {\n",
              "      --bg-color: #3B4455;\n",
              "      --fill-color: #D2E3FC;\n",
              "      --hover-bg-color: #434B5C;\n",
              "      --hover-fill-color: #FFFFFF;\n",
              "      --disabled-bg-color: #3B4455;\n",
              "      --disabled-fill-color: #666;\n",
              "  }\n",
              "\n",
              "  .colab-df-quickchart {\n",
              "    background-color: var(--bg-color);\n",
              "    border: none;\n",
              "    border-radius: 50%;\n",
              "    cursor: pointer;\n",
              "    display: none;\n",
              "    fill: var(--fill-color);\n",
              "    height: 32px;\n",
              "    padding: 0;\n",
              "    width: 32px;\n",
              "  }\n",
              "\n",
              "  .colab-df-quickchart:hover {\n",
              "    background-color: var(--hover-bg-color);\n",
              "    box-shadow: 0 1px 2px rgba(60, 64, 67, 0.3), 0 1px 3px 1px rgba(60, 64, 67, 0.15);\n",
              "    fill: var(--button-hover-fill-color);\n",
              "  }\n",
              "\n",
              "  .colab-df-quickchart-complete:disabled,\n",
              "  .colab-df-quickchart-complete:disabled:hover {\n",
              "    background-color: var(--disabled-bg-color);\n",
              "    fill: var(--disabled-fill-color);\n",
              "    box-shadow: none;\n",
              "  }\n",
              "\n",
              "  .colab-df-spinner {\n",
              "    border: 2px solid var(--fill-color);\n",
              "    border-color: transparent;\n",
              "    border-bottom-color: var(--fill-color);\n",
              "    animation:\n",
              "      spin 1s steps(1) infinite;\n",
              "  }\n",
              "\n",
              "  @keyframes spin {\n",
              "    0% {\n",
              "      border-color: transparent;\n",
              "      border-bottom-color: var(--fill-color);\n",
              "      border-left-color: var(--fill-color);\n",
              "    }\n",
              "    20% {\n",
              "      border-color: transparent;\n",
              "      border-left-color: var(--fill-color);\n",
              "      border-top-color: var(--fill-color);\n",
              "    }\n",
              "    30% {\n",
              "      border-color: transparent;\n",
              "      border-left-color: var(--fill-color);\n",
              "      border-top-color: var(--fill-color);\n",
              "      border-right-color: var(--fill-color);\n",
              "    }\n",
              "    40% {\n",
              "      border-color: transparent;\n",
              "      border-right-color: var(--fill-color);\n",
              "      border-top-color: var(--fill-color);\n",
              "    }\n",
              "    60% {\n",
              "      border-color: transparent;\n",
              "      border-right-color: var(--fill-color);\n",
              "    }\n",
              "    80% {\n",
              "      border-color: transparent;\n",
              "      border-right-color: var(--fill-color);\n",
              "      border-bottom-color: var(--fill-color);\n",
              "    }\n",
              "    90% {\n",
              "      border-color: transparent;\n",
              "      border-bottom-color: var(--fill-color);\n",
              "    }\n",
              "  }\n",
              "</style>\n",
              "\n",
              "      <script>\n",
              "        async function quickchart(key) {\n",
              "          const quickchartButtonEl =\n",
              "            document.querySelector('#' + key + ' button');\n",
              "          quickchartButtonEl.disabled = true;  // To prevent multiple clicks.\n",
              "          quickchartButtonEl.classList.add('colab-df-spinner');\n",
              "          try {\n",
              "            const charts = await google.colab.kernel.invokeFunction(\n",
              "                'suggestCharts', [key], {});\n",
              "          } catch (error) {\n",
              "            console.error('Error during call to suggestCharts:', error);\n",
              "          }\n",
              "          quickchartButtonEl.classList.remove('colab-df-spinner');\n",
              "          quickchartButtonEl.classList.add('colab-df-quickchart-complete');\n",
              "        }\n",
              "        (() => {\n",
              "          let quickchartButtonEl =\n",
              "            document.querySelector('#df-a3abe8d2-160c-4aba-938e-769a954a9571 button');\n",
              "          quickchartButtonEl.style.display =\n",
              "            google.colab.kernel.accessAllowed ? 'block' : 'none';\n",
              "        })();\n",
              "      </script>\n",
              "    </div>\n",
              "\n",
              "    </div>\n",
              "  </div>\n"
            ],
            "application/vnd.google.colaboratory.intrinsic+json": {
              "type": "dataframe",
              "variable_name": "df_sample",
              "summary": "{\n  \"name\": \"df_sample\",\n  \"rows\": 80118,\n  \"fields\": [\n    {\n      \"column\": \"label\",\n      \"properties\": {\n        \"dtype\": \"number\",\n        \"std\": 1,\n        \"min\": 1,\n        \"max\": 5,\n        \"num_unique_values\": 4,\n        \"samples\": [\n          5,\n          4,\n          2\n        ],\n        \"semantic_type\": \"\",\n        \"description\": \"\"\n      }\n    },\n    {\n      \"column\": \"title\",\n      \"properties\": {\n        \"dtype\": \"string\",\n        \"num_unique_values\": 70967,\n        \"samples\": [\n          \"The Joyless Club\",\n          \"broken on arrival\",\n          \"Rite of Spring Review.\"\n        ],\n        \"semantic_type\": \"\",\n        \"description\": \"\"\n      }\n    },\n    {\n      \"column\": \"text\",\n      \"properties\": {\n        \"dtype\": \"string\",\n        \"num_unique_values\": 80116,\n        \"samples\": [\n          \"I really enjoyed using this mug initially. It did a great job of keeping my coffee warm for hours and it never leaked. Unfortunately it was difficult to clean. I found myself taking a gulp of soap subs after cleaning it even though I rinsed it extremely well. I probably could have lived with that but eventually the push button stopped allowing me to close the spout...so much for not leaking after that. It became so bothersome that I ended up getting a different travel mug.\",\n          \"I actually haven't listened to the cd, but I've got the tape, which I dubbed onto cd rather well. This music is not too far from say, the credits music they use for Xena, just for the sake of comparison. It seems like they've included just about every musical sound from the actual film, which is appropriate, since I've seen few films that used music more effectively. This music so specifically fits the film, which I think is an odd, wonderful story. I recommend both (the video can often be found in rental stores).\",\n          \"I really liked this when it came ut on vinyl, but in retrospect, it was the cause, not the music. B. Raitt is grand, G Nash with an excellant Cathedral, J C Young, and the highlight to me We Almost Lost Detroit by the great Gil Scott-Heron. But the second disc is second rate. Edit the filler and it rates higher.\"\n        ],\n        \"semantic_type\": \"\",\n        \"description\": \"\"\n      }\n    },\n    {\n      \"column\": \"sentiment\",\n      \"properties\": {\n        \"dtype\": \"number\",\n        \"std\": 0,\n        \"min\": 0,\n        \"max\": 1,\n        \"num_unique_values\": 2,\n        \"samples\": [\n          1,\n          0\n        ],\n        \"semantic_type\": \"\",\n        \"description\": \"\"\n      }\n    },\n    {\n      \"column\": \"review\",\n      \"properties\": {\n        \"dtype\": \"string\",\n        \"num_unique_values\": 80118,\n        \"samples\": [\n          \"Two Stars Regan and Burke's stories were pretty good. I couldn't stand Emmett at all. First he hates Melody for helping his first wife run off with another man and is very nasty to her. Then suddenly Emmett then he wants to marry her after one afternoon on the ranch and the next day Emmett to have a baby right away. This seemed to be a pattern with Emmett. After losing his parents Emmett rushed into marriage with Adell and had kidspretty soon afterwards. No one pointed out to him that maybe rushing into a marriage and a family wasn't a good idea especially after losing both his parents instead all the fault of the divorce is on his wife from what's mentioned in the book and how Emmmett tries Melody I can understand why Adell left. I liked Melody a lot. She started out the story a very strong charactor until she meets Emmett then some how loses her strong charactor along with her back bone by doing everything Emmett tells her want to do.\",\n          \"Was that DumbDumb or TomTom?! I purchased my DumbDumb 910(a.k.a. TomTom)in Aug. 2006 for way too much money. This is the biggest, clunkiest, most expensive-yet worthless, piece of crap I've ever bought. Do not waste your money on a frustrating piece of junk that has you literally driving in circles, freezes up, does not start up, takes forever to acquire a signal, and just shuts down for no reason at all. I am going to purchase one that costs much less and will be reliable! It would be satisfying to smash this thing.\"\n        ],\n        \"semantic_type\": \"\",\n        \"description\": \"\"\n      }\n    }\n  ]\n}"
            }
          },
          "metadata": {},
          "execution_count": 8
        }
      ]
    },
    {
      "cell_type": "markdown",
      "source": [
        "# Text processing"
      ],
      "metadata": {
        "id": "WMvaDrn7IqE5"
      }
    },
    {
      "cell_type": "code",
      "source": [
        "texts = df_sample['review'].astype(str).tolist()\n",
        "labels = df_sample['sentiment'].tolist()"
      ],
      "metadata": {
        "id": "3bRSC065K0c4"
      },
      "execution_count": 9,
      "outputs": []
    },
    {
      "cell_type": "code",
      "source": [
        "nltk.download('punkt_tab')"
      ],
      "metadata": {
        "colab": {
          "base_uri": "https://localhost:8080/"
        },
        "id": "8J7fp4h-JEli",
        "outputId": "33982279-01a0-460e-d1d2-c22af38112b8"
      },
      "execution_count": 10,
      "outputs": [
        {
          "output_type": "stream",
          "name": "stderr",
          "text": [
            "[nltk_data] Downloading package punkt_tab to /root/nltk_data...\n",
            "[nltk_data]   Package punkt_tab is already up-to-date!\n"
          ]
        },
        {
          "output_type": "execute_result",
          "data": {
            "text/plain": [
              "True"
            ]
          },
          "metadata": {},
          "execution_count": 10
        }
      ]
    },
    {
      "cell_type": "code",
      "source": [
        "def preprocess_text(text):\n",
        "    text = text.lower()\n",
        "    text = re.sub(r\"[^a-zA-Z0-9\\s]\", \" \", text)  # replace punctuation with space\n",
        "    tokens = word_tokenize(text)\n",
        "    tokens = [t for t in tokens if len(t) > 1]  # remove very short tokens\n",
        "    return tokens\n",
        "\n",
        "tokenized_texts = [preprocess_text(t) for t in texts]"
      ],
      "metadata": {
        "id": "CBfJmhCiOna6"
      },
      "execution_count": 11,
      "outputs": []
    },
    {
      "cell_type": "markdown",
      "source": [
        "# Load and Build the GloVE embedding"
      ],
      "metadata": {
        "id": "crshcOtuJenA"
      }
    },
    {
      "cell_type": "code",
      "source": [
        "glove_path = \"glove.6B.zip\"\n",
        "\n",
        "if not os.path.isfile(glove_path):\n",
        "    !wget -c http://nlp.stanford.edu/data/glove.6B.zip\n",
        "else:\n",
        "    print(\"GloVe file already exists. Skipping download.\")"
      ],
      "metadata": {
        "colab": {
          "base_uri": "https://localhost:8080/"
        },
        "id": "N3uTTEOXJi2p",
        "outputId": "9f161679-0d5c-45bb-ec71-fdc227fc48b2"
      },
      "execution_count": 12,
      "outputs": [
        {
          "output_type": "stream",
          "name": "stdout",
          "text": [
            "GloVe file already exists. Skipping download.\n"
          ]
        }
      ]
    },
    {
      "cell_type": "code",
      "source": [
        "if not os.path.isfile(\"glove.6B.100d.txt\"):\n",
        "    !unzip -q glove.6B.zip glove.6B.100d.txt\n",
        "    print(\"Unzipped glove.6B.100d.txt\")\n",
        "else:\n",
        "    print(\"glove.6B.100d.txt already exists. Skipping unzip.\")"
      ],
      "metadata": {
        "colab": {
          "base_uri": "https://localhost:8080/"
        },
        "id": "PeX7hk4hJnp0",
        "outputId": "12bc92ad-0b01-4258-d908-4a41d33b67ea"
      },
      "execution_count": 13,
      "outputs": [
        {
          "output_type": "stream",
          "name": "stdout",
          "text": [
            "glove.6B.100d.txt already exists. Skipping unzip.\n"
          ]
        }
      ]
    },
    {
      "cell_type": "code",
      "source": [
        "def load_glove_embeddings(file_path, embedding_dim=100):\n",
        "    embeddings = {}\n",
        "    with open(file_path, 'r', encoding='utf-8') as f:\n",
        "        for line in f:\n",
        "            parts = line.strip().split()\n",
        "            word = parts[0]\n",
        "            vector = np.array(parts[1:], dtype='float32')\n",
        "            embeddings[word] = vector\n",
        "    return embeddings\n",
        "\n",
        "embedding_dim = 100\n",
        "glove_path = 'glove.6B.100d.txt'\n",
        "glove_embeddings = load_glove_embeddings(glove_path, embedding_dim)"
      ],
      "metadata": {
        "id": "jMopeB3BJz16"
      },
      "execution_count": 14,
      "outputs": []
    },
    {
      "cell_type": "code",
      "source": [
        "def embed_review(tokens, embeddings, dim=100, method='avg'):\n",
        "    vecs = [embeddings[t] for t in tokens if t in embeddings]\n",
        "    if not vecs:\n",
        "        return np.zeros(dim)\n",
        "    vecs = np.array(vecs)\n",
        "    if method == 'avg':\n",
        "        return vecs.mean(axis=0)\n",
        "    elif method == 'max':\n",
        "        return vecs.max(axis=0)\n",
        "    else:\n",
        "        raise ValueError(\"Pooling method must be 'avg' or 'max'\")\n",
        "\n",
        "embedding_dim = 100\n",
        "X_avg = np.array([embed_review(t, glove_embeddings, embedding_dim, 'avg') for t in tokenized_texts])\n",
        "X_max = np.array([embed_review(t, glove_embeddings, embedding_dim, 'max') for t in tokenized_texts])"
      ],
      "metadata": {
        "id": "v7yGSQX7PJqz"
      },
      "execution_count": 15,
      "outputs": []
    },
    {
      "cell_type": "code",
      "source": [
        "# Encode labels\n",
        "le = LabelEncoder()\n",
        "y = le.fit_transform(labels)\n",
        "\n",
        "# Train/Test split\n",
        "X_train_avg, X_test_avg, y_train, y_test = train_test_split(X_avg, y, test_size=0.2, random_state=42, stratify=y)\n",
        "X_train_max, X_test_max, _, _ = train_test_split(X_max, y, test_size=0.2, random_state=42, stratify=y)"
      ],
      "metadata": {
        "id": "pjjsOMHYZSUM"
      },
      "execution_count": 16,
      "outputs": []
    },
    {
      "cell_type": "code",
      "source": [
        "# SVM with Average Pooling\n",
        "svm_avg = SVC()\n",
        "svm_avg.fit(X_train_avg, y_train)\n",
        "preds_svm_avg = svm_avg.predict(X_test_avg)\n",
        "print(\"SVM (Avg Pooling):\\n\", classification_report(y_test, preds_svm_avg))"
      ],
      "metadata": {
        "colab": {
          "base_uri": "https://localhost:8080/"
        },
        "id": "UNHhSPglZaTK",
        "outputId": "7e2bf7a4-3101-4cae-f761-b56852139c82"
      },
      "execution_count": 17,
      "outputs": [
        {
          "output_type": "stream",
          "name": "stdout",
          "text": [
            "SVM (Avg Pooling):\n",
            "               precision    recall  f1-score   support\n",
            "\n",
            "           0       0.77      0.82      0.79      8039\n",
            "           1       0.81      0.76      0.78      7985\n",
            "\n",
            "    accuracy                           0.79     16024\n",
            "   macro avg       0.79      0.79      0.79     16024\n",
            "weighted avg       0.79      0.79      0.79     16024\n",
            "\n"
          ]
        }
      ]
    },
    {
      "cell_type": "code",
      "source": [
        "# SVM with Max Pooling\n",
        "svm_max = SVC()\n",
        "svm_max.fit(X_train_max, y_train)\n",
        "preds_svm_max = svm_max.predict(X_test_max)\n",
        "print(\"SVM (Max Pooling):\\n\", classification_report(y_test, preds_svm_max))"
      ],
      "metadata": {
        "colab": {
          "base_uri": "https://localhost:8080/"
        },
        "id": "_snIgFRGZbms",
        "outputId": "1280be53-decc-4e80-f2ee-6691feed7706"
      },
      "execution_count": 19,
      "outputs": [
        {
          "output_type": "stream",
          "name": "stdout",
          "text": [
            "SVM (Max Pooling):\n",
            "               precision    recall  f1-score   support\n",
            "\n",
            "           0       0.71      0.72      0.72      8039\n",
            "           1       0.72      0.70      0.71      7985\n",
            "\n",
            "    accuracy                           0.71     16024\n",
            "   macro avg       0.71      0.71      0.71     16024\n",
            "weighted avg       0.71      0.71      0.71     16024\n",
            "\n"
          ]
        }
      ]
    },
    {
      "cell_type": "code",
      "source": [
        "# MLP with Average Pooling\n",
        "mlp_avg = MLPClassifier(hidden_layer_sizes=(128,), max_iter=200)\n",
        "mlp_avg.fit(X_train_avg, y_train)\n",
        "preds_mlp_avg = mlp_avg.predict(X_test_avg)\n",
        "print(\"MLP (Avg Pooling):\\n\", classification_report(y_test, preds_mlp_avg))\n"
      ],
      "metadata": {
        "colab": {
          "base_uri": "https://localhost:8080/"
        },
        "id": "6bkrREHCP7w6",
        "outputId": "52871136-e619-4f80-a629-554537202080"
      },
      "execution_count": 20,
      "outputs": [
        {
          "output_type": "stream",
          "name": "stdout",
          "text": [
            "MLP (Avg Pooling):\n",
            "               precision    recall  f1-score   support\n",
            "\n",
            "           0       0.78      0.83      0.81      8039\n",
            "           1       0.82      0.77      0.79      7985\n",
            "\n",
            "    accuracy                           0.80     16024\n",
            "   macro avg       0.80      0.80      0.80     16024\n",
            "weighted avg       0.80      0.80      0.80     16024\n",
            "\n"
          ]
        },
        {
          "output_type": "stream",
          "name": "stderr",
          "text": [
            "/usr/local/lib/python3.11/dist-packages/sklearn/neural_network/_multilayer_perceptron.py:691: ConvergenceWarning: Stochastic Optimizer: Maximum iterations (200) reached and the optimization hasn't converged yet.\n",
            "  warnings.warn(\n"
          ]
        }
      ]
    },
    {
      "cell_type": "code",
      "source": [
        "\n",
        "# MLP with Max Pooling\n",
        "mlp_max = MLPClassifier(hidden_layer_sizes=(128,), max_iter=200)\n",
        "mlp_max.fit(X_train_max, y_train)\n",
        "preds_mlp_max = mlp_max.predict(X_test_max)\n",
        "print(\"MLP (Max Pooling):\\n\", classification_report(y_test, preds_mlp_max))\n"
      ],
      "metadata": {
        "colab": {
          "base_uri": "https://localhost:8080/"
        },
        "id": "NWhgLBp8Zjqo",
        "outputId": "c5304397-aff2-4f68-90dd-ae8c22444d50"
      },
      "execution_count": 22,
      "outputs": [
        {
          "output_type": "stream",
          "name": "stderr",
          "text": [
            "/usr/local/lib/python3.11/dist-packages/sklearn/neural_network/_multilayer_perceptron.py:691: ConvergenceWarning: Stochastic Optimizer: Maximum iterations (200) reached and the optimization hasn't converged yet.\n",
            "  warnings.warn(\n"
          ]
        },
        {
          "output_type": "stream",
          "name": "stdout",
          "text": [
            "MLP (Max Pooling):\n",
            "               precision    recall  f1-score   support\n",
            "\n",
            "           0       0.67      0.77      0.71      8039\n",
            "           1       0.72      0.61      0.66      7985\n",
            "\n",
            "    accuracy                           0.69     16024\n",
            "   macro avg       0.69      0.69      0.69     16024\n",
            "weighted avg       0.69      0.69      0.69     16024\n",
            "\n"
          ]
        }
      ]
    },
    {
      "cell_type": "code",
      "source": [
        "# Logistic Regression with Average Pooling\n",
        "logreg_avg = LogisticRegression(max_iter=200)\n",
        "logreg_avg.fit(X_train_avg, y_train)\n",
        "preds_logreg_avg = logreg_avg.predict(X_test_avg)\n",
        "print(\"Logistic Regression (Avg Pooling):\\n\", classification_report(y_test, preds_logreg_avg))"
      ],
      "metadata": {
        "colab": {
          "base_uri": "https://localhost:8080/"
        },
        "id": "mBQ3s1sdZ4e6",
        "outputId": "d480f35c-be99-4cae-c414-5d17820f1b8e"
      },
      "execution_count": 23,
      "outputs": [
        {
          "output_type": "stream",
          "name": "stdout",
          "text": [
            "Logistic Regression (Avg Pooling):\n",
            "               precision    recall  f1-score   support\n",
            "\n",
            "           0       0.77      0.80      0.79      8039\n",
            "           1       0.79      0.76      0.78      7985\n",
            "\n",
            "    accuracy                           0.78     16024\n",
            "   macro avg       0.78      0.78      0.78     16024\n",
            "weighted avg       0.78      0.78      0.78     16024\n",
            "\n"
          ]
        }
      ]
    },
    {
      "cell_type": "code",
      "source": [
        "# Logistic Regression with Max Pooling\n",
        "logreg_max = LogisticRegression(max_iter=200)\n",
        "logreg_max.fit(X_train_max, y_train)\n",
        "preds_logreg_max = logreg_max.predict(X_test_max)\n",
        "print(\"Logistic Regression (Max Pooling):\\n\", classification_report(y_test, preds_logreg_max))"
      ],
      "metadata": {
        "colab": {
          "base_uri": "https://localhost:8080/"
        },
        "id": "x8vOX0dWaVWx",
        "outputId": "c3344847-7bc9-42ce-d5fa-a0e9dfc150e8"
      },
      "execution_count": 24,
      "outputs": [
        {
          "output_type": "stream",
          "name": "stdout",
          "text": [
            "Logistic Regression (Max Pooling):\n",
            "               precision    recall  f1-score   support\n",
            "\n",
            "           0       0.68      0.69      0.68      8039\n",
            "           1       0.68      0.67      0.68      7985\n",
            "\n",
            "    accuracy                           0.68     16024\n",
            "   macro avg       0.68      0.68      0.68     16024\n",
            "weighted avg       0.68      0.68      0.68     16024\n",
            "\n"
          ]
        }
      ]
    },
    {
      "cell_type": "code",
      "source": [
        "# Random Forest with Average Pooling\n",
        "rf_avg = RandomForestClassifier(n_estimators=100, random_state=42)\n",
        "rf_avg.fit(X_train_avg, y_train)\n",
        "preds_rf_avg = rf_avg.predict(X_test_avg)\n",
        "print(\"Random Forest (Avg Pooling):\\n\", classification_report(y_test, preds_rf_avg))"
      ],
      "metadata": {
        "colab": {
          "base_uri": "https://localhost:8080/"
        },
        "id": "hwmaRtzqaXMX",
        "outputId": "1803e848-1931-4949-af9d-dc6261e91b64"
      },
      "execution_count": 25,
      "outputs": [
        {
          "output_type": "stream",
          "name": "stdout",
          "text": [
            "Random Forest (Avg Pooling):\n",
            "               precision    recall  f1-score   support\n",
            "\n",
            "           0       0.74      0.78      0.76      8039\n",
            "           1       0.76      0.72      0.74      7985\n",
            "\n",
            "    accuracy                           0.75     16024\n",
            "   macro avg       0.75      0.75      0.75     16024\n",
            "weighted avg       0.75      0.75      0.75     16024\n",
            "\n"
          ]
        }
      ]
    },
    {
      "cell_type": "code",
      "source": [
        "# Random Forest with Max Pooling\n",
        "rf_max = RandomForestClassifier(n_estimators=100, random_state=42)\n",
        "rf_max.fit(X_train_max, y_train)\n",
        "preds_rf_max = rf_max.predict(X_test_max)\n",
        "print(\"Random Forest (Max Pooling):\\n\", classification_report(y_test, preds_rf_max))"
      ],
      "metadata": {
        "colab": {
          "base_uri": "https://localhost:8080/"
        },
        "id": "MPTJ_n_yaXnR",
        "outputId": "6ed5afe2-a076-4676-f13c-feb38ba08fbd"
      },
      "execution_count": 27,
      "outputs": [
        {
          "output_type": "stream",
          "name": "stdout",
          "text": [
            "Random Forest (Max Pooling):\n",
            "               precision    recall  f1-score   support\n",
            "\n",
            "           0       0.71      0.73      0.72      8039\n",
            "           1       0.72      0.70      0.71      7985\n",
            "\n",
            "    accuracy                           0.72     16024\n",
            "   macro avg       0.72      0.72      0.72     16024\n",
            "weighted avg       0.72      0.72      0.72     16024\n",
            "\n"
          ]
        }
      ]
    },
    {
      "cell_type": "code",
      "source": [
        "# XGBoost with Average Pooling\n",
        "xgb_avg = XGBClassifier(random_state=42)\n",
        "xgb_avg.fit(X_train_avg, y_train)\n",
        "preds_xgb_avg = xgb_avg.predict(X_test_avg)\n",
        "print(\"XGBoost (Avg Pooling):\\n\", classification_report(y_test, preds_xgb_avg))"
      ],
      "metadata": {
        "colab": {
          "base_uri": "https://localhost:8080/"
        },
        "id": "jPcG3RLdadDQ",
        "outputId": "a647ba77-4a58-422b-d411-a68b98edf4c3"
      },
      "execution_count": 28,
      "outputs": [
        {
          "output_type": "stream",
          "name": "stdout",
          "text": [
            "XGBoost (Avg Pooling):\n",
            "               precision    recall  f1-score   support\n",
            "\n",
            "           0       0.77      0.80      0.78      8039\n",
            "           1       0.79      0.76      0.78      7985\n",
            "\n",
            "    accuracy                           0.78     16024\n",
            "   macro avg       0.78      0.78      0.78     16024\n",
            "weighted avg       0.78      0.78      0.78     16024\n",
            "\n"
          ]
        }
      ]
    },
    {
      "cell_type": "code",
      "source": [
        "# XGBoost with Max Pooling\n",
        "xgb_max = XGBClassifier(random_state=42)\n",
        "xgb_max.fit(X_train_max, y_train)\n",
        "preds_xgb_max = xgb_max.predict(X_test_max)\n",
        "print(\"XGBoost (Max Pooling):\\n\", classification_report(y_test, preds_xgb_max))"
      ],
      "metadata": {
        "colab": {
          "base_uri": "https://localhost:8080/"
        },
        "id": "WiwPIAqEaetA",
        "outputId": "a0caed83-f9db-4b05-ea81-6641bada15eb"
      },
      "execution_count": 29,
      "outputs": [
        {
          "output_type": "stream",
          "name": "stdout",
          "text": [
            "XGBoost (Max Pooling):\n",
            "               precision    recall  f1-score   support\n",
            "\n",
            "           0       0.78      0.78      0.78      8039\n",
            "           1       0.78      0.77      0.78      7985\n",
            "\n",
            "    accuracy                           0.78     16024\n",
            "   macro avg       0.78      0.78      0.78     16024\n",
            "weighted avg       0.78      0.78      0.78     16024\n",
            "\n"
          ]
        }
      ]
    },
    {
      "cell_type": "code",
      "source": [
        "\n",
        "# KNN with Average Pooling\n",
        "knn_avg = KNeighborsClassifier(n_neighbors=5)\n",
        "knn_avg.fit(X_train_avg, y_train)\n",
        "preds_knn_avg = knn_avg.predict(X_test_avg)\n",
        "print(\"KNN (Avg Pooling):\\n\", classification_report(y_test, preds_knn_avg))\n"
      ],
      "metadata": {
        "colab": {
          "base_uri": "https://localhost:8080/"
        },
        "id": "YORS0A-OahF0",
        "outputId": "aa436966-8111-412f-8bab-a5f0426f1e0a"
      },
      "execution_count": 30,
      "outputs": [
        {
          "output_type": "stream",
          "name": "stdout",
          "text": [
            "KNN (Avg Pooling):\n",
            "               precision    recall  f1-score   support\n",
            "\n",
            "           0       0.68      0.75      0.71      8039\n",
            "           1       0.72      0.65      0.68      7985\n",
            "\n",
            "    accuracy                           0.70     16024\n",
            "   macro avg       0.70      0.70      0.70     16024\n",
            "weighted avg       0.70      0.70      0.70     16024\n",
            "\n"
          ]
        }
      ]
    },
    {
      "cell_type": "code",
      "source": [
        "# KNN with Max Pooling\n",
        "knn_max = KNeighborsClassifier(n_neighbors=5)\n",
        "knn_max.fit(X_train_max, y_train)\n",
        "preds_knn_max = knn_max.predict(X_test_max)\n",
        "print(\"KNN (Max Pooling):\\n\", classification_report(y_test, preds_knn_max))"
      ],
      "metadata": {
        "colab": {
          "base_uri": "https://localhost:8080/"
        },
        "id": "si9DH1-uajbJ",
        "outputId": "8ffd2b86-10cd-4d2c-a71b-75c0c3f23730"
      },
      "execution_count": 31,
      "outputs": [
        {
          "output_type": "stream",
          "name": "stdout",
          "text": [
            "KNN (Max Pooling):\n",
            "               precision    recall  f1-score   support\n",
            "\n",
            "           0       0.61      0.64      0.62      8039\n",
            "           1       0.62      0.58      0.60      7985\n",
            "\n",
            "    accuracy                           0.61     16024\n",
            "   macro avg       0.61      0.61      0.61     16024\n",
            "weighted avg       0.61      0.61      0.61     16024\n",
            "\n"
          ]
        }
      ]
    }
  ]
}