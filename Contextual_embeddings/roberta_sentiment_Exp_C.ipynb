{
  "cells": [
    {
      "cell_type": "markdown",
      "id": "fbb13272",
      "metadata": {},
      "source": [
        "# Sentiment classification with RoBERTa – Experiment C\n",
        "\n",
        "**Task:** Binary sentiment classification.\n",
        "\n",
        "\n",
        "**Model:** RoBERTa with a Multi-Layer Perceptron (MLP) head. The encoder is frozen, and only the classification head is trained.  \n",
        "\n",
        "\n",
        "**Experiment:** Using the same 200k sample subset as Experiment B, this experiment freezes the RoBERTa encoder to isolate the contribution of the MLP classifier. It evaluates how effective the pretrained embeddings are for sentiment classification without fine-tuning the encoder.\n"
      ]
    },
    {
      "cell_type": "code",
      "execution_count": 1,
      "id": "2e3d1942",
      "metadata": {
        "colab": {
          "base_uri": "https://localhost:8080/"
        },
        "id": "2e3d1942",
        "outputId": "0a84e0e2-96fd-4caa-e156-6ee4b8c6f29f"
      },
      "outputs": [
        {
          "name": "stdout",
          "output_type": "stream",
          "text": [
            "Requirement already satisfied: gdown in /usr/local/lib/python3.11/dist-packages (5.2.0)\n",
            "Requirement already satisfied: transformers in /usr/local/lib/python3.11/dist-packages (4.51.3)\n",
            "Requirement already satisfied: datasets in /usr/local/lib/python3.11/dist-packages (2.14.4)\n",
            "Requirement already satisfied: tensorflow in /usr/local/lib/python3.11/dist-packages (2.18.0)\n",
            "Requirement already satisfied: scikit-learn in /usr/local/lib/python3.11/dist-packages (1.6.1)\n",
            "Requirement already satisfied: tf-keras in /usr/local/lib/python3.11/dist-packages (2.18.0)\n",
            "Requirement already satisfied: beautifulsoup4 in /usr/local/lib/python3.11/dist-packages (from gdown) (4.13.4)\n",
            "Requirement already satisfied: filelock in /usr/local/lib/python3.11/dist-packages (from gdown) (3.18.0)\n",
            "Requirement already satisfied: requests[socks] in /usr/local/lib/python3.11/dist-packages (from gdown) (2.32.3)\n",
            "Requirement already satisfied: tqdm in /usr/local/lib/python3.11/dist-packages (from gdown) (4.67.1)\n",
            "Requirement already satisfied: huggingface-hub<1.0,>=0.30.0 in /usr/local/lib/python3.11/dist-packages (from transformers) (0.31.1)\n",
            "Requirement already satisfied: numpy>=1.17 in /usr/local/lib/python3.11/dist-packages (from transformers) (2.0.2)\n",
            "Requirement already satisfied: packaging>=20.0 in /usr/local/lib/python3.11/dist-packages (from transformers) (24.2)\n",
            "Requirement already satisfied: pyyaml>=5.1 in /usr/local/lib/python3.11/dist-packages (from transformers) (6.0.2)\n",
            "Requirement already satisfied: regex!=2019.12.17 in /usr/local/lib/python3.11/dist-packages (from transformers) (2024.11.6)\n",
            "Requirement already satisfied: tokenizers<0.22,>=0.21 in /usr/local/lib/python3.11/dist-packages (from transformers) (0.21.1)\n",
            "Requirement already satisfied: safetensors>=0.4.3 in /usr/local/lib/python3.11/dist-packages (from transformers) (0.5.3)\n",
            "Requirement already satisfied: pyarrow>=8.0.0 in /usr/local/lib/python3.11/dist-packages (from datasets) (18.1.0)\n",
            "Requirement already satisfied: dill<0.3.8,>=0.3.0 in /usr/local/lib/python3.11/dist-packages (from datasets) (0.3.7)\n",
            "Requirement already satisfied: pandas in /usr/local/lib/python3.11/dist-packages (from datasets) (2.2.2)\n",
            "Requirement already satisfied: xxhash in /usr/local/lib/python3.11/dist-packages (from datasets) (3.5.0)\n",
            "Requirement already satisfied: multiprocess in /usr/local/lib/python3.11/dist-packages (from datasets) (0.70.15)\n",
            "Requirement already satisfied: fsspec>=2021.11.1 in /usr/local/lib/python3.11/dist-packages (from fsspec[http]>=2021.11.1->datasets) (2025.3.2)\n",
            "Requirement already satisfied: aiohttp in /usr/local/lib/python3.11/dist-packages (from datasets) (3.11.15)\n",
            "Requirement already satisfied: absl-py>=1.0.0 in /usr/local/lib/python3.11/dist-packages (from tensorflow) (1.4.0)\n",
            "Requirement already satisfied: astunparse>=1.6.0 in /usr/local/lib/python3.11/dist-packages (from tensorflow) (1.6.3)\n",
            "Requirement already satisfied: flatbuffers>=24.3.25 in /usr/local/lib/python3.11/dist-packages (from tensorflow) (25.2.10)\n",
            "Requirement already satisfied: gast!=0.5.0,!=0.5.1,!=0.5.2,>=0.2.1 in /usr/local/lib/python3.11/dist-packages (from tensorflow) (0.6.0)\n",
            "Requirement already satisfied: google-pasta>=0.1.1 in /usr/local/lib/python3.11/dist-packages (from tensorflow) (0.2.0)\n",
            "Requirement already satisfied: libclang>=13.0.0 in /usr/local/lib/python3.11/dist-packages (from tensorflow) (18.1.1)\n",
            "Requirement already satisfied: opt-einsum>=2.3.2 in /usr/local/lib/python3.11/dist-packages (from tensorflow) (3.4.0)\n",
            "Requirement already satisfied: protobuf!=4.21.0,!=4.21.1,!=4.21.2,!=4.21.3,!=4.21.4,!=4.21.5,<6.0.0dev,>=3.20.3 in /usr/local/lib/python3.11/dist-packages (from tensorflow) (5.29.4)\n",
            "Requirement already satisfied: setuptools in /usr/local/lib/python3.11/dist-packages (from tensorflow) (75.2.0)\n",
            "Requirement already satisfied: six>=1.12.0 in /usr/local/lib/python3.11/dist-packages (from tensorflow) (1.17.0)\n",
            "Requirement already satisfied: termcolor>=1.1.0 in /usr/local/lib/python3.11/dist-packages (from tensorflow) (3.1.0)\n",
            "Requirement already satisfied: typing-extensions>=3.6.6 in /usr/local/lib/python3.11/dist-packages (from tensorflow) (4.13.2)\n",
            "Requirement already satisfied: wrapt>=1.11.0 in /usr/local/lib/python3.11/dist-packages (from tensorflow) (1.17.2)\n",
            "Requirement already satisfied: grpcio<2.0,>=1.24.3 in /usr/local/lib/python3.11/dist-packages (from tensorflow) (1.71.0)\n",
            "Requirement already satisfied: tensorboard<2.19,>=2.18 in /usr/local/lib/python3.11/dist-packages (from tensorflow) (2.18.0)\n",
            "Requirement already satisfied: keras>=3.5.0 in /usr/local/lib/python3.11/dist-packages (from tensorflow) (3.8.0)\n",
            "Requirement already satisfied: h5py>=3.11.0 in /usr/local/lib/python3.11/dist-packages (from tensorflow) (3.13.0)\n",
            "Requirement already satisfied: ml-dtypes<0.5.0,>=0.4.0 in /usr/local/lib/python3.11/dist-packages (from tensorflow) (0.4.1)\n",
            "Requirement already satisfied: tensorflow-io-gcs-filesystem>=0.23.1 in /usr/local/lib/python3.11/dist-packages (from tensorflow) (0.37.1)\n",
            "Requirement already satisfied: scipy>=1.6.0 in /usr/local/lib/python3.11/dist-packages (from scikit-learn) (1.15.2)\n",
            "Requirement already satisfied: joblib>=1.2.0 in /usr/local/lib/python3.11/dist-packages (from scikit-learn) (1.5.0)\n",
            "Requirement already satisfied: threadpoolctl>=3.1.0 in /usr/local/lib/python3.11/dist-packages (from scikit-learn) (3.6.0)\n",
            "Requirement already satisfied: wheel<1.0,>=0.23.0 in /usr/local/lib/python3.11/dist-packages (from astunparse>=1.6.0->tensorflow) (0.45.1)\n",
            "Requirement already satisfied: aiohappyeyeballs>=2.3.0 in /usr/local/lib/python3.11/dist-packages (from aiohttp->datasets) (2.6.1)\n",
            "Requirement already satisfied: aiosignal>=1.1.2 in /usr/local/lib/python3.11/dist-packages (from aiohttp->datasets) (1.3.2)\n",
            "Requirement already satisfied: attrs>=17.3.0 in /usr/local/lib/python3.11/dist-packages (from aiohttp->datasets) (25.3.0)\n",
            "Requirement already satisfied: frozenlist>=1.1.1 in /usr/local/lib/python3.11/dist-packages (from aiohttp->datasets) (1.6.0)\n",
            "Requirement already satisfied: multidict<7.0,>=4.5 in /usr/local/lib/python3.11/dist-packages (from aiohttp->datasets) (6.4.3)\n",
            "Requirement already satisfied: propcache>=0.2.0 in /usr/local/lib/python3.11/dist-packages (from aiohttp->datasets) (0.3.1)\n",
            "Requirement already satisfied: yarl<2.0,>=1.17.0 in /usr/local/lib/python3.11/dist-packages (from aiohttp->datasets) (1.20.0)\n",
            "Requirement already satisfied: hf-xet<2.0.0,>=1.1.0 in /usr/local/lib/python3.11/dist-packages (from huggingface-hub<1.0,>=0.30.0->transformers) (1.1.0)\n",
            "Requirement already satisfied: rich in /usr/local/lib/python3.11/dist-packages (from keras>=3.5.0->tensorflow) (13.9.4)\n",
            "Requirement already satisfied: namex in /usr/local/lib/python3.11/dist-packages (from keras>=3.5.0->tensorflow) (0.0.9)\n",
            "Requirement already satisfied: optree in /usr/local/lib/python3.11/dist-packages (from keras>=3.5.0->tensorflow) (0.15.0)\n",
            "Requirement already satisfied: charset-normalizer<4,>=2 in /usr/local/lib/python3.11/dist-packages (from requests[socks]->gdown) (3.4.2)\n",
            "Requirement already satisfied: idna<4,>=2.5 in /usr/local/lib/python3.11/dist-packages (from requests[socks]->gdown) (3.10)\n",
            "Requirement already satisfied: urllib3<3,>=1.21.1 in /usr/local/lib/python3.11/dist-packages (from requests[socks]->gdown) (2.4.0)\n",
            "Requirement already satisfied: certifi>=2017.4.17 in /usr/local/lib/python3.11/dist-packages (from requests[socks]->gdown) (2025.4.26)\n",
            "Requirement already satisfied: markdown>=2.6.8 in /usr/local/lib/python3.11/dist-packages (from tensorboard<2.19,>=2.18->tensorflow) (3.8)\n",
            "Requirement already satisfied: tensorboard-data-server<0.8.0,>=0.7.0 in /usr/local/lib/python3.11/dist-packages (from tensorboard<2.19,>=2.18->tensorflow) (0.7.2)\n",
            "Requirement already satisfied: werkzeug>=1.0.1 in /usr/local/lib/python3.11/dist-packages (from tensorboard<2.19,>=2.18->tensorflow) (3.1.3)\n",
            "Requirement already satisfied: soupsieve>1.2 in /usr/local/lib/python3.11/dist-packages (from beautifulsoup4->gdown) (2.7)\n",
            "Requirement already satisfied: python-dateutil>=2.8.2 in /usr/local/lib/python3.11/dist-packages (from pandas->datasets) (2.9.0.post0)\n",
            "Requirement already satisfied: pytz>=2020.1 in /usr/local/lib/python3.11/dist-packages (from pandas->datasets) (2025.2)\n",
            "Requirement already satisfied: tzdata>=2022.7 in /usr/local/lib/python3.11/dist-packages (from pandas->datasets) (2025.2)\n",
            "Requirement already satisfied: PySocks!=1.5.7,>=1.5.6 in /usr/local/lib/python3.11/dist-packages (from requests[socks]->gdown) (1.7.1)\n",
            "Requirement already satisfied: MarkupSafe>=2.1.1 in /usr/local/lib/python3.11/dist-packages (from werkzeug>=1.0.1->tensorboard<2.19,>=2.18->tensorflow) (3.0.2)\n",
            "Requirement already satisfied: markdown-it-py>=2.2.0 in /usr/local/lib/python3.11/dist-packages (from rich->keras>=3.5.0->tensorflow) (3.0.0)\n",
            "Requirement already satisfied: pygments<3.0.0,>=2.13.0 in /usr/local/lib/python3.11/dist-packages (from rich->keras>=3.5.0->tensorflow) (2.19.1)\n",
            "Requirement already satisfied: mdurl~=0.1 in /usr/local/lib/python3.11/dist-packages (from markdown-it-py>=2.2.0->rich->keras>=3.5.0->tensorflow) (0.1.2)\n"
          ]
        }
      ],
      "source": [
        "%pip install gdown transformers datasets tensorflow scikit-learn tf-keras"
      ]
    },
    {
      "cell_type": "markdown",
      "id": "0c78b836",
      "metadata": {
        "id": "0c78b836"
      },
      "source": [
        "## Dataset loading options"
      ]
    },
    {
      "cell_type": "markdown",
      "id": "d8dee970",
      "metadata": {
        "id": "d8dee970"
      },
      "source": [
        "From Google Drive"
      ]
    },
    {
      "cell_type": "code",
      "execution_count": 2,
      "id": "cf067321",
      "metadata": {
        "colab": {
          "base_uri": "https://localhost:8080/"
        },
        "id": "cf067321",
        "outputId": "be2a48b2-6504-4842-cc03-f9acf12149fc"
      },
      "outputs": [
        {
          "name": "stdout",
          "output_type": "stream",
          "text": [
            "Downloading...\n",
            "From (original): https://drive.google.com/uc?id=0Bz8a_Dbh9QhbZVhsUnRWRDhETzA\n",
            "From (redirected): https://drive.google.com/uc?id=0Bz8a_Dbh9QhbZVhsUnRWRDhETzA&confirm=t&uuid=acdb6888-e99b-4f73-8236-1a1300f5ac52\n",
            "To: /content/amazon_review_full_csv.tar.gz\n",
            "100% 644M/644M [00:14<00:00, 44.2MB/s]\n"
          ]
        }
      ],
      "source": [
        "file_id = \"0Bz8a_Dbh9QhbZVhsUnRWRDhETzA\"\n",
        "output_name = 'amazon_review_full_csv.tar.gz'\n",
        "!gdown --fuzzy https://drive.google.com/uc?id={file_id} -O {output_name}"
      ]
    },
    {
      "cell_type": "code",
      "execution_count": 3,
      "id": "9ea5673f",
      "metadata": {
        "id": "9ea5673f"
      },
      "outputs": [],
      "source": [
        "import tarfile\n",
        "\n",
        "with tarfile.open(output_name, \"r:gz\") as tar:\n",
        "    tar.extractall(\"Dataset\")"
      ]
    },
    {
      "cell_type": "code",
      "execution_count": 4,
      "id": "cef4ca3c",
      "metadata": {
        "colab": {
          "base_uri": "https://localhost:8080/"
        },
        "id": "cef4ca3c",
        "outputId": "37be950e-c82a-4db9-e99b-7c4c5c072f10"
      },
      "outputs": [
        {
          "name": "stdout",
          "output_type": "stream",
          "text": [
            "Dataset:\n",
            "amazon_review_full_csv\n",
            "\n",
            "Dataset/amazon_review_full_csv:\n",
            "readme.txt  test.csv  train.csv\n"
          ]
        }
      ],
      "source": [
        "!ls -R Dataset"
      ]
    },
    {
      "cell_type": "markdown",
      "id": "3e61bd72",
      "metadata": {
        "id": "3e61bd72"
      },
      "source": [
        "## Import Libraries"
      ]
    },
    {
      "cell_type": "code",
      "execution_count": 5,
      "id": "82ce21f2",
      "metadata": {
        "id": "82ce21f2"
      },
      "outputs": [],
      "source": [
        "import pandas as pd\n",
        "import json\n",
        "import tensorflow as tf\n",
        "import os\n",
        "import time\n",
        "import tf_keras as keras\n",
        "from sklearn.model_selection import train_test_split\n",
        "from transformers import AutoTokenizer, TFAutoModel\n",
        "import numpy as np\n",
        "from google.colab import drive\n",
        "import matplotlib.pyplot as plt\n"
      ]
    },
    {
      "cell_type": "code",
      "execution_count": 6,
      "id": "717a014f",
      "metadata": {
        "colab": {
          "base_uri": "https://localhost:8080/"
        },
        "id": "717a014f",
        "outputId": "5d8f471a-8c46-49b8-c1ef-7afd9f458996"
      },
      "outputs": [
        {
          "name": "stdout",
          "output_type": "stream",
          "text": [
            "Mounted at /content/drive\n"
          ]
        }
      ],
      "source": [
        "drive.mount(\"/content/drive\")"
      ]
    },
    {
      "cell_type": "code",
      "execution_count": 7,
      "id": "3be7c556",
      "metadata": {
        "colab": {
          "base_uri": "https://localhost:8080/"
        },
        "id": "3be7c556",
        "outputId": "02725a7d-0e6c-4c2b-9339-f7d5be7a2755"
      },
      "outputs": [
        {
          "name": "stdout",
          "output_type": "stream",
          "text": [
            "NVIDIA A100-SXM4-40GB\n"
          ]
        }
      ],
      "source": [
        "gpus = tf.config.list_physical_devices('GPU')\n",
        "gpu_name = None\n",
        "if gpus:\n",
        "    details = tf.config.experimental.get_device_details(gpus[0])\n",
        "    gpu_name = details.get('device_name', gpus[0].name)\n",
        "else:\n",
        "    gpu_name = 'CPU'\n",
        "\n",
        "print(gpu_name)"
      ]
    },
    {
      "cell_type": "markdown",
      "id": "873a888d",
      "metadata": {
        "id": "873a888d"
      },
      "source": [
        "## Model settings"
      ]
    },
    {
      "cell_type": "code",
      "execution_count": 8,
      "id": "e6dd8615",
      "metadata": {
        "id": "e6dd8615"
      },
      "outputs": [],
      "source": [
        "MODEL_NAME    = \"roberta-base\"\n",
        "BATCH_SIZE    = 32\n",
        "EPOCHS        = 5\n",
        "LEARNING_RATE = 2e-5\n",
        "NUM_LABELS    = 2\n",
        "RANDOM_STATE = 42\n",
        "BASE_DIR_STORAGE = '/content/drive/MyDrive/HLT_models'"
      ]
    },
    {
      "cell_type": "code",
      "execution_count": 9,
      "id": "bde2bb2d",
      "metadata": {
        "id": "bde2bb2d"
      },
      "outputs": [],
      "source": [
        "train_data_filename = \"./Dataset/amazon_review_full_csv/train.csv\"\n",
        "test_data_filename = \"./Dataset/amazon_review_full_csv/test.csv\""
      ]
    },
    {
      "cell_type": "markdown",
      "id": "4845f464",
      "metadata": {
        "id": "4845f464"
      },
      "source": [
        "## Utilities Functions"
      ]
    },
    {
      "cell_type": "markdown",
      "id": "2a0cff0a",
      "metadata": {
        "id": "2a0cff0a"
      },
      "source": [
        "### Data Loading and Extraction"
      ]
    },
    {
      "cell_type": "code",
      "execution_count": 10,
      "id": "0ecb3724",
      "metadata": {
        "id": "0ecb3724"
      },
      "outputs": [],
      "source": [
        "def download_and_extract(file_id: str, output_name: str, extract_dir: str):\n",
        "\n",
        "    os.system(f\"gdown --fuzzy https://drive.google.com/uc?id={file_id} -O {output_name}\")\n",
        "    with tarfile.open(output_name, \"r:gz\") as tar:\n",
        "        tar.extractall(extract_dir)"
      ]
    },
    {
      "cell_type": "markdown",
      "id": "5194f57d",
      "metadata": {
        "id": "5194f57d"
      },
      "source": [
        "### Dataframe Building"
      ]
    },
    {
      "cell_type": "code",
      "execution_count": 11,
      "id": "aa05c950",
      "metadata": {
        "id": "aa05c950"
      },
      "outputs": [],
      "source": [
        "def load_dataframe(path: str) -> pd.DataFrame:\n",
        "    \"\"\"\n",
        "    Legge un CSV con colonne [label, title, text] e rimuove righe malformate.\n",
        "    \"\"\"\n",
        "    df = pd.read_csv(\n",
        "        path,\n",
        "        header=None,\n",
        "        names=[\"label\",\"title\",\"text\"],\n",
        "        quotechar='\"', doublequote=True, escapechar='\\\\',\n",
        "        engine='python', encoding='utf-8', on_bad_lines='skip'\n",
        "    )\n",
        "    return df"
      ]
    },
    {
      "cell_type": "markdown",
      "id": "6a84e726",
      "metadata": {
        "id": "6a84e726"
      },
      "source": [
        "Remove NAN and filter by score 3"
      ]
    },
    {
      "cell_type": "code",
      "execution_count": 12,
      "id": "ab74b5d7",
      "metadata": {
        "id": "ab74b5d7"
      },
      "outputs": [],
      "source": [
        "def clean_dataframe(df: pd.DataFrame) -> pd.DataFrame:\n",
        "    df = df.dropna()\n",
        "    df = df[df['label'] != 3]\n",
        "    return df.reset_index(drop=True)"
      ]
    },
    {
      "cell_type": "markdown",
      "id": "9248f8bd",
      "metadata": {
        "id": "9248f8bd"
      },
      "source": [
        "### Mapping sentiment for binary classification"
      ]
    },
    {
      "cell_type": "code",
      "execution_count": 13,
      "id": "3ca0d776",
      "metadata": {
        "id": "3ca0d776"
      },
      "outputs": [],
      "source": [
        "def map_sentiment(df: pd.DataFrame) -> pd.DataFrame:\n",
        "    df = df.copy()\n",
        "    df['sentiment'] = df['label'].apply(lambda x: 0 if x <= 2 else 1)\n",
        "    return df"
      ]
    },
    {
      "cell_type": "markdown",
      "id": "24fdc94c",
      "metadata": {
        "id": "24fdc94c"
      },
      "source": [
        "### Text Construction and cleaning\n",
        "Create column 'review' concatenating title and text. Replace newline with space"
      ]
    },
    {
      "cell_type": "code",
      "execution_count": null,
      "id": "1518e68c",
      "metadata": {
        "id": "1518e68c"
      },
      "outputs": [],
      "source": [
        "def build_reviews(df: pd.DataFrame) -> pd.Series:\n",
        "    reviews = df['title'].fillna('') + ' ' + df['text'].fillna('')\n",
        "    return reviews"
      ]
    },
    {
      "cell_type": "markdown",
      "id": "8a705e69",
      "metadata": {
        "id": "8a705e69"
      },
      "source": [
        "### Define Tokenization Class\n",
        "This class contains functions to tokenize text and save encodings to allow performing 'una tantum tokenization'.\n"
      ]
    },
    {
      "cell_type": "code",
      "execution_count": 15,
      "id": "a20b9696",
      "metadata": {
        "id": "a20b9696"
      },
      "outputs": [],
      "source": [
        "# --- Tokenization & Caching ---\n",
        "class TokenCache:\n",
        "    def __init__(self, max_len: int, cache_dir: str):\n",
        "        self.tokenizer = AutoTokenizer.from_pretrained(MODEL_NAME)\n",
        "        self.max_len = max_len\n",
        "        os.makedirs(cache_dir, exist_ok=True)\n",
        "        self.cache_dir = cache_dir\n",
        "\n",
        "    def tokenize_and_save(self, texts: list[str], labels, sample_size: str):\n",
        "\n",
        "        encodings = self.tokenizer(\n",
        "            texts,\n",
        "            max_length=self.max_len,\n",
        "            truncation=True,\n",
        "            padding='do_not_pad',\n",
        "            return_attention_mask=True\n",
        "        )\n",
        "\n",
        "        os.makedirs(self.cache_dir, exist_ok=True)\n",
        "\n",
        "        # save on disk\n",
        "        np.savez_compressed(\n",
        "            os.path.join(self.cache_dir,f\"train_enc_{MODEL_NAME}_{sample_size}.npz\"),\n",
        "            ids   = np.array(encodings[\"input_ids\"], dtype=object),\n",
        "            attn  = np.array(encodings[\"attention_mask\"], dtype=object),\n",
        "            label = labels\n",
        "        )\n",
        "\n",
        "        npz_path = f\"train_enc_{MODEL_NAME}_{sample_size}.npz\"\n",
        "        # save on temporary session\n",
        "        np.savez_compressed(\n",
        "            f\"train_enc_{MODEL_NAME}_{sample_size}.npz\",\n",
        "            ids   = np.array(encodings[\"input_ids\"], dtype=object),\n",
        "            attn  = np.array(encodings[\"attention_mask\"], dtype=object),\n",
        "            label = labels\n",
        "        )\n",
        "\n",
        "        return npz_path\n",
        "\n",
        "    def load_encodings(self, npz_path: str):\n",
        "        return np.load(npz_path, allow_pickle=True)\n"
      ]
    },
    {
      "cell_type": "markdown",
      "id": "bd45c968",
      "metadata": {
        "id": "bd45c968"
      },
      "source": [
        "### TF Dataset Preparation"
      ]
    },
    {
      "cell_type": "code",
      "execution_count": 16,
      "id": "9f7b8e0d",
      "metadata": {
        "id": "9f7b8e0d"
      },
      "outputs": [],
      "source": [
        "def from_encodings_to_dataset(d: dict) -> tf.data.Dataset:\n",
        "\n",
        "    def generator():\n",
        "        for ids, attentions, labels in zip(d[\"ids\"], d[\"attn\"], d[\"label\"]):\n",
        "            yield {\n",
        "                \"input_ids\":     np.array(ids,  dtype=np.int32),\n",
        "                \"attention_mask\": np.array(attentions, dtype=np.int32)\n",
        "        }, np.int32(labels)\n",
        "\n",
        "    raw_ds = tf.data.Dataset.from_generator(\n",
        "        generator,\n",
        "        output_signature=(\n",
        "            {\"input_ids\": tf.TensorSpec(shape=(None,), dtype=tf.int32),\n",
        "             \"attention_mask\": tf.TensorSpec(shape=(None,), dtype=tf.int32)},\n",
        "            tf.TensorSpec(shape=(), dtype=tf.int32)\n",
        "        )\n",
        "    )\n",
        "    return raw_ds"
      ]
    },
    {
      "cell_type": "markdown",
      "id": "fa2a0c2f",
      "metadata": {
        "id": "fa2a0c2f"
      },
      "source": [
        "### Manage Dynamic padding, batching and prefetch\n",
        "The following function wraps two key steps into one reusable pipeline stage:\n",
        "1. padded_batch(...)\n",
        "\t- Groups elements into batches of size BATCH_SIZE\n",
        "\t- Dynamically pads each batch’s input_ids and attention_mask to the length of the longest sequence in that batch\n",
        "2.\t.prefetch(tf.data.AUTOTUNE)\n",
        "\t- Overlaps data preparation and model execution to keep the GPU fed\n",
        "\n",
        "In short: *prepare_dataset* turns a raw dataset of variable‐length examples into an efficient, dynamically‐padded, batched dataset ready for training.\n",
        "\n",
        "Dynamic padding means that, instead of padding every sequence up to a fixed global MAX_LEN, you pad each batch only up to the length of its longest example."
      ]
    },
    {
      "cell_type": "code",
      "execution_count": 17,
      "id": "dceb570b",
      "metadata": {
        "id": "dceb570b"
      },
      "outputs": [],
      "source": [
        "\n",
        "def prepare_dataset(ds: tf.data.Dataset, pad_token_id: int, shuffle_buffer: int = None, repeat: bool = False) -> tf.data.Dataset:\n",
        "\n",
        "    if shuffle_buffer:\n",
        "        ds = ds.shuffle(buffer_size=shuffle_buffer, seed=RANDOM_STATE)\n",
        "\n",
        "    ds = ds.padded_batch(\n",
        "        BATCH_SIZE,\n",
        "        padded_shapes=({\"input_ids\": [None], \"attention_mask\": [None]}, []),\n",
        "        padding_values=({\"input_ids\": pad_token_id, \"attention_mask\": 0}, 0)\n",
        "    )\n",
        "\n",
        "    # in train set, during training without repeat, train set emits all batches only one time\n",
        "    # if steps_for_epochs > real batches -> input ran out of data\n",
        "    # with epochs > 1, at the second epoch there is nothing to read\n",
        "    if repeat:\n",
        "        ds = ds.repeat()\n",
        "\n",
        "    return ds.prefetch(tf.data.AUTOTUNE)\n"
      ]
    },
    {
      "cell_type": "markdown",
      "id": "c7a0c73c",
      "metadata": {
        "id": "c7a0c73c"
      },
      "source": [
        "## Training set preprocessing"
      ]
    },
    {
      "cell_type": "code",
      "execution_count": 18,
      "id": "77eabf92",
      "metadata": {
        "id": "77eabf92"
      },
      "outputs": [],
      "source": [
        "df_train = load_dataframe(path=train_data_filename)"
      ]
    },
    {
      "cell_type": "code",
      "execution_count": 19,
      "id": "59841d38",
      "metadata": {
        "colab": {
          "base_uri": "https://localhost:8080/"
        },
        "id": "59841d38",
        "outputId": "a00cc382-cba0-40ec-89d0-eec73273d2e5"
      },
      "outputs": [
        {
          "data": {
            "text/plain": [
              "2999746"
            ]
          },
          "execution_count": 19,
          "metadata": {},
          "output_type": "execute_result"
        }
      ],
      "source": [
        "df_train.shape[0]"
      ]
    },
    {
      "cell_type": "code",
      "execution_count": 20,
      "id": "7064aa23",
      "metadata": {
        "colab": {
          "base_uri": "https://localhost:8080/",
          "height": 297
        },
        "id": "7064aa23",
        "outputId": "55b2f6a0-0b56-4513-cf30-f8bc5c917cd4"
      },
      "outputs": [
        {
          "data": {
            "application/vnd.google.colaboratory.intrinsic+json": {
              "summary": "{\n  \"name\": \"df_train\",\n  \"rows\": 8,\n  \"fields\": [\n    {\n      \"column\": \"label\",\n      \"properties\": {\n        \"dtype\": \"number\",\n        \"std\": 1060569.3886522294,\n        \"min\": 1.0,\n        \"max\": 2999746.0,\n        \"num_unique_values\": 8,\n        \"samples\": [\n          3.0000216685012666,\n          3.0,\n          2999746.0\n        ],\n        \"semantic_type\": \"\",\n        \"description\": \"\"\n      }\n    }\n  ]\n}",
              "type": "dataframe"
            },
            "text/html": [
              "\n",
              "  <div id=\"df-296b4c0d-a982-42f4-8d0d-983f519f3871\" class=\"colab-df-container\">\n",
              "    <div>\n",
              "<style scoped>\n",
              "    .dataframe tbody tr th:only-of-type {\n",
              "        vertical-align: middle;\n",
              "    }\n",
              "\n",
              "    .dataframe tbody tr th {\n",
              "        vertical-align: top;\n",
              "    }\n",
              "\n",
              "    .dataframe thead th {\n",
              "        text-align: right;\n",
              "    }\n",
              "</style>\n",
              "<table border=\"1\" class=\"dataframe\">\n",
              "  <thead>\n",
              "    <tr style=\"text-align: right;\">\n",
              "      <th></th>\n",
              "      <th>label</th>\n",
              "    </tr>\n",
              "  </thead>\n",
              "  <tbody>\n",
              "    <tr>\n",
              "      <th>count</th>\n",
              "      <td>2.999746e+06</td>\n",
              "    </tr>\n",
              "    <tr>\n",
              "      <th>mean</th>\n",
              "      <td>3.000022e+00</td>\n",
              "    </tr>\n",
              "    <tr>\n",
              "      <th>std</th>\n",
              "      <td>1.414218e+00</td>\n",
              "    </tr>\n",
              "    <tr>\n",
              "      <th>min</th>\n",
              "      <td>1.000000e+00</td>\n",
              "    </tr>\n",
              "    <tr>\n",
              "      <th>25%</th>\n",
              "      <td>2.000000e+00</td>\n",
              "    </tr>\n",
              "    <tr>\n",
              "      <th>50%</th>\n",
              "      <td>3.000000e+00</td>\n",
              "    </tr>\n",
              "    <tr>\n",
              "      <th>75%</th>\n",
              "      <td>4.000000e+00</td>\n",
              "    </tr>\n",
              "    <tr>\n",
              "      <th>max</th>\n",
              "      <td>5.000000e+00</td>\n",
              "    </tr>\n",
              "  </tbody>\n",
              "</table>\n",
              "</div>\n",
              "    <div class=\"colab-df-buttons\">\n",
              "\n",
              "  <div class=\"colab-df-container\">\n",
              "    <button class=\"colab-df-convert\" onclick=\"convertToInteractive('df-296b4c0d-a982-42f4-8d0d-983f519f3871')\"\n",
              "            title=\"Convert this dataframe to an interactive table.\"\n",
              "            style=\"display:none;\">\n",
              "\n",
              "  <svg xmlns=\"http://www.w3.org/2000/svg\" height=\"24px\" viewBox=\"0 -960 960 960\">\n",
              "    <path d=\"M120-120v-720h720v720H120Zm60-500h600v-160H180v160Zm220 220h160v-160H400v160Zm0 220h160v-160H400v160ZM180-400h160v-160H180v160Zm440 0h160v-160H620v160ZM180-180h160v-160H180v160Zm440 0h160v-160H620v160Z\"/>\n",
              "  </svg>\n",
              "    </button>\n",
              "\n",
              "  <style>\n",
              "    .colab-df-container {\n",
              "      display:flex;\n",
              "      gap: 12px;\n",
              "    }\n",
              "\n",
              "    .colab-df-convert {\n",
              "      background-color: #E8F0FE;\n",
              "      border: none;\n",
              "      border-radius: 50%;\n",
              "      cursor: pointer;\n",
              "      display: none;\n",
              "      fill: #1967D2;\n",
              "      height: 32px;\n",
              "      padding: 0 0 0 0;\n",
              "      width: 32px;\n",
              "    }\n",
              "\n",
              "    .colab-df-convert:hover {\n",
              "      background-color: #E2EBFA;\n",
              "      box-shadow: 0px 1px 2px rgba(60, 64, 67, 0.3), 0px 1px 3px 1px rgba(60, 64, 67, 0.15);\n",
              "      fill: #174EA6;\n",
              "    }\n",
              "\n",
              "    .colab-df-buttons div {\n",
              "      margin-bottom: 4px;\n",
              "    }\n",
              "\n",
              "    [theme=dark] .colab-df-convert {\n",
              "      background-color: #3B4455;\n",
              "      fill: #D2E3FC;\n",
              "    }\n",
              "\n",
              "    [theme=dark] .colab-df-convert:hover {\n",
              "      background-color: #434B5C;\n",
              "      box-shadow: 0px 1px 3px 1px rgba(0, 0, 0, 0.15);\n",
              "      filter: drop-shadow(0px 1px 2px rgba(0, 0, 0, 0.3));\n",
              "      fill: #FFFFFF;\n",
              "    }\n",
              "  </style>\n",
              "\n",
              "    <script>\n",
              "      const buttonEl =\n",
              "        document.querySelector('#df-296b4c0d-a982-42f4-8d0d-983f519f3871 button.colab-df-convert');\n",
              "      buttonEl.style.display =\n",
              "        google.colab.kernel.accessAllowed ? 'block' : 'none';\n",
              "\n",
              "      async function convertToInteractive(key) {\n",
              "        const element = document.querySelector('#df-296b4c0d-a982-42f4-8d0d-983f519f3871');\n",
              "        const dataTable =\n",
              "          await google.colab.kernel.invokeFunction('convertToInteractive',\n",
              "                                                    [key], {});\n",
              "        if (!dataTable) return;\n",
              "\n",
              "        const docLinkHtml = 'Like what you see? Visit the ' +\n",
              "          '<a target=\"_blank\" href=https://colab.research.google.com/notebooks/data_table.ipynb>data table notebook</a>'\n",
              "          + ' to learn more about interactive tables.';\n",
              "        element.innerHTML = '';\n",
              "        dataTable['output_type'] = 'display_data';\n",
              "        await google.colab.output.renderOutput(dataTable, element);\n",
              "        const docLink = document.createElement('div');\n",
              "        docLink.innerHTML = docLinkHtml;\n",
              "        element.appendChild(docLink);\n",
              "      }\n",
              "    </script>\n",
              "  </div>\n",
              "\n",
              "\n",
              "    <div id=\"df-e6d2eef4-f865-4b4c-98d4-e16162cdd0d5\">\n",
              "      <button class=\"colab-df-quickchart\" onclick=\"quickchart('df-e6d2eef4-f865-4b4c-98d4-e16162cdd0d5')\"\n",
              "                title=\"Suggest charts\"\n",
              "                style=\"display:none;\">\n",
              "\n",
              "<svg xmlns=\"http://www.w3.org/2000/svg\" height=\"24px\"viewBox=\"0 0 24 24\"\n",
              "     width=\"24px\">\n",
              "    <g>\n",
              "        <path d=\"M19 3H5c-1.1 0-2 .9-2 2v14c0 1.1.9 2 2 2h14c1.1 0 2-.9 2-2V5c0-1.1-.9-2-2-2zM9 17H7v-7h2v7zm4 0h-2V7h2v10zm4 0h-2v-4h2v4z\"/>\n",
              "    </g>\n",
              "</svg>\n",
              "      </button>\n",
              "\n",
              "<style>\n",
              "  .colab-df-quickchart {\n",
              "      --bg-color: #E8F0FE;\n",
              "      --fill-color: #1967D2;\n",
              "      --hover-bg-color: #E2EBFA;\n",
              "      --hover-fill-color: #174EA6;\n",
              "      --disabled-fill-color: #AAA;\n",
              "      --disabled-bg-color: #DDD;\n",
              "  }\n",
              "\n",
              "  [theme=dark] .colab-df-quickchart {\n",
              "      --bg-color: #3B4455;\n",
              "      --fill-color: #D2E3FC;\n",
              "      --hover-bg-color: #434B5C;\n",
              "      --hover-fill-color: #FFFFFF;\n",
              "      --disabled-bg-color: #3B4455;\n",
              "      --disabled-fill-color: #666;\n",
              "  }\n",
              "\n",
              "  .colab-df-quickchart {\n",
              "    background-color: var(--bg-color);\n",
              "    border: none;\n",
              "    border-radius: 50%;\n",
              "    cursor: pointer;\n",
              "    display: none;\n",
              "    fill: var(--fill-color);\n",
              "    height: 32px;\n",
              "    padding: 0;\n",
              "    width: 32px;\n",
              "  }\n",
              "\n",
              "  .colab-df-quickchart:hover {\n",
              "    background-color: var(--hover-bg-color);\n",
              "    box-shadow: 0 1px 2px rgba(60, 64, 67, 0.3), 0 1px 3px 1px rgba(60, 64, 67, 0.15);\n",
              "    fill: var(--button-hover-fill-color);\n",
              "  }\n",
              "\n",
              "  .colab-df-quickchart-complete:disabled,\n",
              "  .colab-df-quickchart-complete:disabled:hover {\n",
              "    background-color: var(--disabled-bg-color);\n",
              "    fill: var(--disabled-fill-color);\n",
              "    box-shadow: none;\n",
              "  }\n",
              "\n",
              "  .colab-df-spinner {\n",
              "    border: 2px solid var(--fill-color);\n",
              "    border-color: transparent;\n",
              "    border-bottom-color: var(--fill-color);\n",
              "    animation:\n",
              "      spin 1s steps(1) infinite;\n",
              "  }\n",
              "\n",
              "  @keyframes spin {\n",
              "    0% {\n",
              "      border-color: transparent;\n",
              "      border-bottom-color: var(--fill-color);\n",
              "      border-left-color: var(--fill-color);\n",
              "    }\n",
              "    20% {\n",
              "      border-color: transparent;\n",
              "      border-left-color: var(--fill-color);\n",
              "      border-top-color: var(--fill-color);\n",
              "    }\n",
              "    30% {\n",
              "      border-color: transparent;\n",
              "      border-left-color: var(--fill-color);\n",
              "      border-top-color: var(--fill-color);\n",
              "      border-right-color: var(--fill-color);\n",
              "    }\n",
              "    40% {\n",
              "      border-color: transparent;\n",
              "      border-right-color: var(--fill-color);\n",
              "      border-top-color: var(--fill-color);\n",
              "    }\n",
              "    60% {\n",
              "      border-color: transparent;\n",
              "      border-right-color: var(--fill-color);\n",
              "    }\n",
              "    80% {\n",
              "      border-color: transparent;\n",
              "      border-right-color: var(--fill-color);\n",
              "      border-bottom-color: var(--fill-color);\n",
              "    }\n",
              "    90% {\n",
              "      border-color: transparent;\n",
              "      border-bottom-color: var(--fill-color);\n",
              "    }\n",
              "  }\n",
              "</style>\n",
              "\n",
              "      <script>\n",
              "        async function quickchart(key) {\n",
              "          const quickchartButtonEl =\n",
              "            document.querySelector('#' + key + ' button');\n",
              "          quickchartButtonEl.disabled = true;  // To prevent multiple clicks.\n",
              "          quickchartButtonEl.classList.add('colab-df-spinner');\n",
              "          try {\n",
              "            const charts = await google.colab.kernel.invokeFunction(\n",
              "                'suggestCharts', [key], {});\n",
              "          } catch (error) {\n",
              "            console.error('Error during call to suggestCharts:', error);\n",
              "          }\n",
              "          quickchartButtonEl.classList.remove('colab-df-spinner');\n",
              "          quickchartButtonEl.classList.add('colab-df-quickchart-complete');\n",
              "        }\n",
              "        (() => {\n",
              "          let quickchartButtonEl =\n",
              "            document.querySelector('#df-e6d2eef4-f865-4b4c-98d4-e16162cdd0d5 button');\n",
              "          quickchartButtonEl.style.display =\n",
              "            google.colab.kernel.accessAllowed ? 'block' : 'none';\n",
              "        })();\n",
              "      </script>\n",
              "    </div>\n",
              "\n",
              "    </div>\n",
              "  </div>\n"
            ],
            "text/plain": [
              "              label\n",
              "count  2.999746e+06\n",
              "mean   3.000022e+00\n",
              "std    1.414218e+00\n",
              "min    1.000000e+00\n",
              "25%    2.000000e+00\n",
              "50%    3.000000e+00\n",
              "75%    4.000000e+00\n",
              "max    5.000000e+00"
            ]
          },
          "execution_count": 20,
          "metadata": {},
          "output_type": "execute_result"
        }
      ],
      "source": [
        "df_train.describe()"
      ]
    },
    {
      "cell_type": "code",
      "execution_count": 21,
      "id": "28d9297f",
      "metadata": {
        "colab": {
          "base_uri": "https://localhost:8080/",
          "height": 204
        },
        "id": "28d9297f",
        "outputId": "b235df1a-50f5-47e6-cd62-25dbe34071f4"
      },
      "outputs": [
        {
          "data": {
            "application/vnd.google.colaboratory.intrinsic+json": {
              "type": "dataframe",
              "variable_name": "df_train"
            },
            "text/html": [
              "\n",
              "  <div id=\"df-a833019f-22c0-434b-a7e5-22299da7aca3\" class=\"colab-df-container\">\n",
              "    <div>\n",
              "<style scoped>\n",
              "    .dataframe tbody tr th:only-of-type {\n",
              "        vertical-align: middle;\n",
              "    }\n",
              "\n",
              "    .dataframe tbody tr th {\n",
              "        vertical-align: top;\n",
              "    }\n",
              "\n",
              "    .dataframe thead th {\n",
              "        text-align: right;\n",
              "    }\n",
              "</style>\n",
              "<table border=\"1\" class=\"dataframe\">\n",
              "  <thead>\n",
              "    <tr style=\"text-align: right;\">\n",
              "      <th></th>\n",
              "      <th>label</th>\n",
              "      <th>title</th>\n",
              "      <th>text</th>\n",
              "    </tr>\n",
              "  </thead>\n",
              "  <tbody>\n",
              "    <tr>\n",
              "      <th>0</th>\n",
              "      <td>3</td>\n",
              "      <td>more like funchuck</td>\n",
              "      <td>Gave this to my dad for a gag gift after direc...</td>\n",
              "    </tr>\n",
              "    <tr>\n",
              "      <th>1</th>\n",
              "      <td>5</td>\n",
              "      <td>Inspiring</td>\n",
              "      <td>I hope a lot of people hear this cd. We need m...</td>\n",
              "    </tr>\n",
              "    <tr>\n",
              "      <th>2</th>\n",
              "      <td>5</td>\n",
              "      <td>The best soundtrack ever to anything.</td>\n",
              "      <td>I'm reading a lot of reviews saying that this ...</td>\n",
              "    </tr>\n",
              "    <tr>\n",
              "      <th>3</th>\n",
              "      <td>4</td>\n",
              "      <td>Chrono Cross OST</td>\n",
              "      <td>The music of Yasunori Misuda is without questi...</td>\n",
              "    </tr>\n",
              "    <tr>\n",
              "      <th>4</th>\n",
              "      <td>5</td>\n",
              "      <td>Too good to be true</td>\n",
              "      <td>Probably the greatest soundtrack in history! U...</td>\n",
              "    </tr>\n",
              "  </tbody>\n",
              "</table>\n",
              "</div>\n",
              "    <div class=\"colab-df-buttons\">\n",
              "\n",
              "  <div class=\"colab-df-container\">\n",
              "    <button class=\"colab-df-convert\" onclick=\"convertToInteractive('df-a833019f-22c0-434b-a7e5-22299da7aca3')\"\n",
              "            title=\"Convert this dataframe to an interactive table.\"\n",
              "            style=\"display:none;\">\n",
              "\n",
              "  <svg xmlns=\"http://www.w3.org/2000/svg\" height=\"24px\" viewBox=\"0 -960 960 960\">\n",
              "    <path d=\"M120-120v-720h720v720H120Zm60-500h600v-160H180v160Zm220 220h160v-160H400v160Zm0 220h160v-160H400v160ZM180-400h160v-160H180v160Zm440 0h160v-160H620v160ZM180-180h160v-160H180v160Zm440 0h160v-160H620v160Z\"/>\n",
              "  </svg>\n",
              "    </button>\n",
              "\n",
              "  <style>\n",
              "    .colab-df-container {\n",
              "      display:flex;\n",
              "      gap: 12px;\n",
              "    }\n",
              "\n",
              "    .colab-df-convert {\n",
              "      background-color: #E8F0FE;\n",
              "      border: none;\n",
              "      border-radius: 50%;\n",
              "      cursor: pointer;\n",
              "      display: none;\n",
              "      fill: #1967D2;\n",
              "      height: 32px;\n",
              "      padding: 0 0 0 0;\n",
              "      width: 32px;\n",
              "    }\n",
              "\n",
              "    .colab-df-convert:hover {\n",
              "      background-color: #E2EBFA;\n",
              "      box-shadow: 0px 1px 2px rgba(60, 64, 67, 0.3), 0px 1px 3px 1px rgba(60, 64, 67, 0.15);\n",
              "      fill: #174EA6;\n",
              "    }\n",
              "\n",
              "    .colab-df-buttons div {\n",
              "      margin-bottom: 4px;\n",
              "    }\n",
              "\n",
              "    [theme=dark] .colab-df-convert {\n",
              "      background-color: #3B4455;\n",
              "      fill: #D2E3FC;\n",
              "    }\n",
              "\n",
              "    [theme=dark] .colab-df-convert:hover {\n",
              "      background-color: #434B5C;\n",
              "      box-shadow: 0px 1px 3px 1px rgba(0, 0, 0, 0.15);\n",
              "      filter: drop-shadow(0px 1px 2px rgba(0, 0, 0, 0.3));\n",
              "      fill: #FFFFFF;\n",
              "    }\n",
              "  </style>\n",
              "\n",
              "    <script>\n",
              "      const buttonEl =\n",
              "        document.querySelector('#df-a833019f-22c0-434b-a7e5-22299da7aca3 button.colab-df-convert');\n",
              "      buttonEl.style.display =\n",
              "        google.colab.kernel.accessAllowed ? 'block' : 'none';\n",
              "\n",
              "      async function convertToInteractive(key) {\n",
              "        const element = document.querySelector('#df-a833019f-22c0-434b-a7e5-22299da7aca3');\n",
              "        const dataTable =\n",
              "          await google.colab.kernel.invokeFunction('convertToInteractive',\n",
              "                                                    [key], {});\n",
              "        if (!dataTable) return;\n",
              "\n",
              "        const docLinkHtml = 'Like what you see? Visit the ' +\n",
              "          '<a target=\"_blank\" href=https://colab.research.google.com/notebooks/data_table.ipynb>data table notebook</a>'\n",
              "          + ' to learn more about interactive tables.';\n",
              "        element.innerHTML = '';\n",
              "        dataTable['output_type'] = 'display_data';\n",
              "        await google.colab.output.renderOutput(dataTable, element);\n",
              "        const docLink = document.createElement('div');\n",
              "        docLink.innerHTML = docLinkHtml;\n",
              "        element.appendChild(docLink);\n",
              "      }\n",
              "    </script>\n",
              "  </div>\n",
              "\n",
              "\n",
              "    <div id=\"df-c4442b20-cee2-4882-913c-f1f27def3cf5\">\n",
              "      <button class=\"colab-df-quickchart\" onclick=\"quickchart('df-c4442b20-cee2-4882-913c-f1f27def3cf5')\"\n",
              "                title=\"Suggest charts\"\n",
              "                style=\"display:none;\">\n",
              "\n",
              "<svg xmlns=\"http://www.w3.org/2000/svg\" height=\"24px\"viewBox=\"0 0 24 24\"\n",
              "     width=\"24px\">\n",
              "    <g>\n",
              "        <path d=\"M19 3H5c-1.1 0-2 .9-2 2v14c0 1.1.9 2 2 2h14c1.1 0 2-.9 2-2V5c0-1.1-.9-2-2-2zM9 17H7v-7h2v7zm4 0h-2V7h2v10zm4 0h-2v-4h2v4z\"/>\n",
              "    </g>\n",
              "</svg>\n",
              "      </button>\n",
              "\n",
              "<style>\n",
              "  .colab-df-quickchart {\n",
              "      --bg-color: #E8F0FE;\n",
              "      --fill-color: #1967D2;\n",
              "      --hover-bg-color: #E2EBFA;\n",
              "      --hover-fill-color: #174EA6;\n",
              "      --disabled-fill-color: #AAA;\n",
              "      --disabled-bg-color: #DDD;\n",
              "  }\n",
              "\n",
              "  [theme=dark] .colab-df-quickchart {\n",
              "      --bg-color: #3B4455;\n",
              "      --fill-color: #D2E3FC;\n",
              "      --hover-bg-color: #434B5C;\n",
              "      --hover-fill-color: #FFFFFF;\n",
              "      --disabled-bg-color: #3B4455;\n",
              "      --disabled-fill-color: #666;\n",
              "  }\n",
              "\n",
              "  .colab-df-quickchart {\n",
              "    background-color: var(--bg-color);\n",
              "    border: none;\n",
              "    border-radius: 50%;\n",
              "    cursor: pointer;\n",
              "    display: none;\n",
              "    fill: var(--fill-color);\n",
              "    height: 32px;\n",
              "    padding: 0;\n",
              "    width: 32px;\n",
              "  }\n",
              "\n",
              "  .colab-df-quickchart:hover {\n",
              "    background-color: var(--hover-bg-color);\n",
              "    box-shadow: 0 1px 2px rgba(60, 64, 67, 0.3), 0 1px 3px 1px rgba(60, 64, 67, 0.15);\n",
              "    fill: var(--button-hover-fill-color);\n",
              "  }\n",
              "\n",
              "  .colab-df-quickchart-complete:disabled,\n",
              "  .colab-df-quickchart-complete:disabled:hover {\n",
              "    background-color: var(--disabled-bg-color);\n",
              "    fill: var(--disabled-fill-color);\n",
              "    box-shadow: none;\n",
              "  }\n",
              "\n",
              "  .colab-df-spinner {\n",
              "    border: 2px solid var(--fill-color);\n",
              "    border-color: transparent;\n",
              "    border-bottom-color: var(--fill-color);\n",
              "    animation:\n",
              "      spin 1s steps(1) infinite;\n",
              "  }\n",
              "\n",
              "  @keyframes spin {\n",
              "    0% {\n",
              "      border-color: transparent;\n",
              "      border-bottom-color: var(--fill-color);\n",
              "      border-left-color: var(--fill-color);\n",
              "    }\n",
              "    20% {\n",
              "      border-color: transparent;\n",
              "      border-left-color: var(--fill-color);\n",
              "      border-top-color: var(--fill-color);\n",
              "    }\n",
              "    30% {\n",
              "      border-color: transparent;\n",
              "      border-left-color: var(--fill-color);\n",
              "      border-top-color: var(--fill-color);\n",
              "      border-right-color: var(--fill-color);\n",
              "    }\n",
              "    40% {\n",
              "      border-color: transparent;\n",
              "      border-right-color: var(--fill-color);\n",
              "      border-top-color: var(--fill-color);\n",
              "    }\n",
              "    60% {\n",
              "      border-color: transparent;\n",
              "      border-right-color: var(--fill-color);\n",
              "    }\n",
              "    80% {\n",
              "      border-color: transparent;\n",
              "      border-right-color: var(--fill-color);\n",
              "      border-bottom-color: var(--fill-color);\n",
              "    }\n",
              "    90% {\n",
              "      border-color: transparent;\n",
              "      border-bottom-color: var(--fill-color);\n",
              "    }\n",
              "  }\n",
              "</style>\n",
              "\n",
              "      <script>\n",
              "        async function quickchart(key) {\n",
              "          const quickchartButtonEl =\n",
              "            document.querySelector('#' + key + ' button');\n",
              "          quickchartButtonEl.disabled = true;  // To prevent multiple clicks.\n",
              "          quickchartButtonEl.classList.add('colab-df-spinner');\n",
              "          try {\n",
              "            const charts = await google.colab.kernel.invokeFunction(\n",
              "                'suggestCharts', [key], {});\n",
              "          } catch (error) {\n",
              "            console.error('Error during call to suggestCharts:', error);\n",
              "          }\n",
              "          quickchartButtonEl.classList.remove('colab-df-spinner');\n",
              "          quickchartButtonEl.classList.add('colab-df-quickchart-complete');\n",
              "        }\n",
              "        (() => {\n",
              "          let quickchartButtonEl =\n",
              "            document.querySelector('#df-c4442b20-cee2-4882-913c-f1f27def3cf5 button');\n",
              "          quickchartButtonEl.style.display =\n",
              "            google.colab.kernel.accessAllowed ? 'block' : 'none';\n",
              "        })();\n",
              "      </script>\n",
              "    </div>\n",
              "\n",
              "    </div>\n",
              "  </div>\n"
            ],
            "text/plain": [
              "   label                                  title  \\\n",
              "0      3                     more like funchuck   \n",
              "1      5                              Inspiring   \n",
              "2      5  The best soundtrack ever to anything.   \n",
              "3      4                       Chrono Cross OST   \n",
              "4      5                    Too good to be true   \n",
              "\n",
              "                                                text  \n",
              "0  Gave this to my dad for a gag gift after direc...  \n",
              "1  I hope a lot of people hear this cd. We need m...  \n",
              "2  I'm reading a lot of reviews saying that this ...  \n",
              "3  The music of Yasunori Misuda is without questi...  \n",
              "4  Probably the greatest soundtrack in history! U...  "
            ]
          },
          "execution_count": 21,
          "metadata": {},
          "output_type": "execute_result"
        }
      ],
      "source": [
        "df_train.head()"
      ]
    },
    {
      "cell_type": "code",
      "execution_count": 22,
      "id": "5c242ee9",
      "metadata": {
        "colab": {
          "base_uri": "https://localhost:8080/",
          "height": 176
        },
        "id": "5c242ee9",
        "outputId": "05dcdeff-0c89-4017-be1a-fa45cd5b0115"
      },
      "outputs": [
        {
          "data": {
            "text/html": [
              "<div>\n",
              "<style scoped>\n",
              "    .dataframe tbody tr th:only-of-type {\n",
              "        vertical-align: middle;\n",
              "    }\n",
              "\n",
              "    .dataframe tbody tr th {\n",
              "        vertical-align: top;\n",
              "    }\n",
              "\n",
              "    .dataframe thead th {\n",
              "        text-align: right;\n",
              "    }\n",
              "</style>\n",
              "<table border=\"1\" class=\"dataframe\">\n",
              "  <thead>\n",
              "    <tr style=\"text-align: right;\">\n",
              "      <th></th>\n",
              "      <th>0</th>\n",
              "    </tr>\n",
              "  </thead>\n",
              "  <tbody>\n",
              "    <tr>\n",
              "      <th>label</th>\n",
              "      <td>0</td>\n",
              "    </tr>\n",
              "    <tr>\n",
              "      <th>title</th>\n",
              "      <td>188</td>\n",
              "    </tr>\n",
              "    <tr>\n",
              "      <th>text</th>\n",
              "      <td>0</td>\n",
              "    </tr>\n",
              "  </tbody>\n",
              "</table>\n",
              "</div><br><label><b>dtype:</b> int64</label>"
            ],
            "text/plain": [
              "label      0\n",
              "title    188\n",
              "text       0\n",
              "dtype: int64"
            ]
          },
          "execution_count": 22,
          "metadata": {},
          "output_type": "execute_result"
        }
      ],
      "source": [
        "df_train.isna().sum()"
      ]
    },
    {
      "cell_type": "code",
      "execution_count": 23,
      "id": "3cc5dc3f",
      "metadata": {
        "id": "3cc5dc3f"
      },
      "outputs": [],
      "source": [
        "df_train = clean_dataframe(df_train)"
      ]
    },
    {
      "cell_type": "markdown",
      "id": "9d248e54",
      "metadata": {
        "id": "9d248e54"
      },
      "source": [
        "### Experiment with a subset of 200k samples"
      ]
    },
    {
      "cell_type": "code",
      "execution_count": 24,
      "id": "52368340",
      "metadata": {
        "id": "52368340"
      },
      "outputs": [],
      "source": [
        "SAMPLE_SIZE = 200_000\n",
        "BASE_DIR_STORAGE = os.path.join(BASE_DIR_STORAGE, f\"{MODEL_NAME}_{SAMPLE_SIZE}\")"
      ]
    },
    {
      "cell_type": "code",
      "execution_count": 25,
      "id": "2662f739",
      "metadata": {
        "colab": {
          "base_uri": "https://localhost:8080/"
        },
        "id": "2662f739",
        "outputId": "9c696ef8-3a5c-4481-860b-22e9366a4db3"
      },
      "outputs": [
        {
          "name": "stdout",
          "output_type": "stream",
          "text": [
            "Train size: 200000\n"
          ]
        }
      ],
      "source": [
        "df_train, _ = train_test_split(\n",
        "    df_train,\n",
        "    train_size=SAMPLE_SIZE,\n",
        "    random_state=RANDOM_STATE,\n",
        "    stratify=df_train['label']\n",
        ")\n",
        "print(f\"Train size: {len(df_train)}\")"
      ]
    },
    {
      "cell_type": "markdown",
      "id": "dc4e2586",
      "metadata": {
        "id": "dc4e2586"
      },
      "source": [
        "Let's check whether classes are balanced"
      ]
    },
    {
      "cell_type": "code",
      "execution_count": 26,
      "id": "51f6d339",
      "metadata": {
        "colab": {
          "base_uri": "https://localhost:8080/"
        },
        "id": "51f6d339",
        "outputId": "656b6b0a-91f2-4f09-85a5-db2a76e98b6f"
      },
      "outputs": [
        {
          "name": "stdout",
          "output_type": "stream",
          "text": [
            "label\n",
            "4    50002\n",
            "5    50002\n",
            "1    49999\n",
            "2    49997\n",
            "Name: count, dtype: int64\n"
          ]
        }
      ],
      "source": [
        "print(df_train['label'].value_counts())"
      ]
    },
    {
      "cell_type": "markdown",
      "id": "462e26a6",
      "metadata": {
        "id": "462e26a6"
      },
      "source": [
        "### Training set sentiment mapping"
      ]
    },
    {
      "cell_type": "code",
      "execution_count": 27,
      "id": "68e86b2b",
      "metadata": {
        "id": "68e86b2b"
      },
      "outputs": [],
      "source": [
        "df_train = map_sentiment(df_train)"
      ]
    },
    {
      "cell_type": "code",
      "execution_count": 28,
      "id": "909a29a4",
      "metadata": {
        "id": "909a29a4"
      },
      "outputs": [],
      "source": [
        "train_samples = build_reviews(df_train)\n",
        "labels = df_train['sentiment'].values"
      ]
    },
    {
      "cell_type": "markdown",
      "id": "b628fb79",
      "metadata": {
        "id": "b628fb79"
      },
      "source": [
        "### Setting Tokenizer"
      ]
    },
    {
      "cell_type": "markdown",
      "id": "f014aabd",
      "metadata": {
        "id": "f014aabd"
      },
      "source": [
        "This approach uses the same tokenizer used during the model `MODEL_NAME` pretraining. This allow to preserve the context and language semantics.\n",
        "\n",
        "`AutoTokenizer` is able to infer automatically the model used.\n"
      ]
    },
    {
      "cell_type": "markdown",
      "id": "9a21e6a5",
      "metadata": {
        "id": "9a21e6a5"
      },
      "source": [
        "### Analyze tokens distribution to choose the best trade-off for MAX_LEN.\n",
        "The idea is to use the 95th percentile to reduce padding and truncate only outliers."
      ]
    },
    {
      "cell_type": "code",
      "execution_count": 29,
      "id": "debb5174",
      "metadata": {
        "colab": {
          "base_uri": "https://localhost:8080/",
          "height": 299,
          "referenced_widgets": [
            "1107998f6f904af4be4f1cd7ed691e78",
            "614cc8bc83c5436cad1ed16ebd66dd21",
            "34f4d03b62654598b5644fc176121836",
            "c46cbeb4136645f5a38b5197101d2782",
            "d3c7ca415c52415786c970d6166c7c20",
            "8470931255654b908b00bbf5d26cd6dc",
            "fff80ecde40746c5b4dbceecabd7ecea",
            "41eecebdde54464281b33fe0387939f0",
            "4a665b544e4c49188946676ea3dc7359",
            "863a23c1affe4b18a6108182c28c0b43",
            "56f63b5cc3194299ae78405c5ac8933e",
            "134b7330f5cf4437b3624968aef1b4b2",
            "66f16db0759b40aa8d0cb9a4054b8994",
            "fb0bb12f33ca47bca1d2a10213dc6a15",
            "29f83a69a98c41c5b574992134fafc0e",
            "87cea404b77048c19f73381c3726fdb1",
            "02f22a878ce14a28916a2579dc816c8f",
            "5990a9decdf343e6a8206232d5dade15",
            "c28dfdec3a1c430a92882151c29f7909",
            "32252e18582d4df1a6cd9d166a12a5f5",
            "a6f9a61adc204f9b85bde4f12d7ace0e",
            "f9d9a0fa42ac452baa4520c0ce7a32b2",
            "5b68db3214c744d08432bca65c726622",
            "27a1541de9324691895e6dcecc238d09",
            "5c6ef8a24265401eb02af6fddf99ad21",
            "5584ca2d10e04a2e92b17a1becdc8335",
            "7b9e595cfe9a486db5b7ba74f411bafa",
            "9b982bd2c8244f1a96648cdf2435bf18",
            "8cf7064a9d0549bf9b4d1302b94834dc",
            "10ec56113c034fcfafcb406a41021edb",
            "1a1c89653cba4946ac68acba8033acc6",
            "0b016c28180d41c19fe97a5af6019217",
            "8442a820e04c421b9b615dba2d778b49",
            "e039ead28c314bfbabe33c0fe5e8ad1f",
            "27fe2e023f86463ca88187e92af007f9",
            "72e6504177624d11bffca3f657066ed3",
            "767a9d82a7904b2e87815cb4e030a1fb",
            "a8213f8cd62049d1b0f7507263e86315",
            "55eaaa46d85f4c529b94a1c74ddf378e",
            "de0fd4d880aa4a4d931b9f929eb62f43",
            "1a261a8f35eb4cb78a69bc399ee21821",
            "52cd7edd220140b4947fd2170025fcb1",
            "58c4e0615d064a77874a35e4bc3e4361",
            "479dd9683a044ce78d35fa54ab8038b7",
            "fc44d7c320db427f80daf5755a3d6c04",
            "5589d0414bd3498a9de83359172e0cb2",
            "ba704872b91d481dab1d2067cb460723",
            "be94e082e5b349b094268196ad041ff4",
            "a485f453781d4b98991aacb6a966675b",
            "803d92ba52b44779bd3f6b9b58cdb9af",
            "0121241b67a541e1819d20199a30574a",
            "13eb2d542ed841e2a0992c0ac6472ced",
            "7a466a10083b421f99b75fc767ea9181",
            "e42fc1504b2743abadaa3478df6e140b",
            "b8860bbddbf84b9c967d27c2370727e4"
          ]
        },
        "id": "debb5174",
        "outputId": "c1722870-b0d9-4851-fed7-8f7e415486dc"
      },
      "outputs": [
        {
          "name": "stderr",
          "output_type": "stream",
          "text": [
            "/usr/local/lib/python3.11/dist-packages/huggingface_hub/utils/_auth.py:94: UserWarning: \n",
            "The secret `HF_TOKEN` does not exist in your Colab secrets.\n",
            "To authenticate with the Hugging Face Hub, create a token in your settings tab (https://huggingface.co/settings/tokens), set it as secret in your Google Colab and restart your session.\n",
            "You will be able to reuse this secret in all of your notebooks.\n",
            "Please note that authentication is recommended but still optional to access public models or datasets.\n",
            "  warnings.warn(\n"
          ]
        },
        {
          "data": {
            "application/vnd.jupyter.widget-view+json": {
              "model_id": "1107998f6f904af4be4f1cd7ed691e78",
              "version_major": 2,
              "version_minor": 0
            },
            "text/plain": [
              "tokenizer_config.json:   0%|          | 0.00/25.0 [00:00<?, ?B/s]"
            ]
          },
          "metadata": {},
          "output_type": "display_data"
        },
        {
          "data": {
            "application/vnd.jupyter.widget-view+json": {
              "model_id": "134b7330f5cf4437b3624968aef1b4b2",
              "version_major": 2,
              "version_minor": 0
            },
            "text/plain": [
              "config.json:   0%|          | 0.00/481 [00:00<?, ?B/s]"
            ]
          },
          "metadata": {},
          "output_type": "display_data"
        },
        {
          "data": {
            "application/vnd.jupyter.widget-view+json": {
              "model_id": "5b68db3214c744d08432bca65c726622",
              "version_major": 2,
              "version_minor": 0
            },
            "text/plain": [
              "vocab.json:   0%|          | 0.00/899k [00:00<?, ?B/s]"
            ]
          },
          "metadata": {},
          "output_type": "display_data"
        },
        {
          "data": {
            "application/vnd.jupyter.widget-view+json": {
              "model_id": "e039ead28c314bfbabe33c0fe5e8ad1f",
              "version_major": 2,
              "version_minor": 0
            },
            "text/plain": [
              "merges.txt:   0%|          | 0.00/456k [00:00<?, ?B/s]"
            ]
          },
          "metadata": {},
          "output_type": "display_data"
        },
        {
          "data": {
            "application/vnd.jupyter.widget-view+json": {
              "model_id": "fc44d7c320db427f80daf5755a3d6c04",
              "version_major": 2,
              "version_minor": 0
            },
            "text/plain": [
              "tokenizer.json:   0%|          | 0.00/1.36M [00:00<?, ?B/s]"
            ]
          },
          "metadata": {},
          "output_type": "display_data"
        }
      ],
      "source": [
        "N = len(train_samples)\n",
        "\n",
        "if N < 10_000:\n",
        "    n_samples = N\n",
        "elif N < 100_000:\n",
        "    n_samples = min(N, 5000)\n",
        "else:\n",
        "    n_samples = min(N, 10_000)\n",
        "\n",
        "\n",
        "#  n_samples are good enough to get a stable estimation of tokens distribution\n",
        "sample_texts = train_samples.sample(n=n_samples, random_state=RANDOM_STATE).tolist()\n",
        "\n",
        "# Tokenize only for analysis (no padding required)\n",
        "tokenizer = AutoTokenizer.from_pretrained(MODEL_NAME)\n",
        "token_lens = [len(tokenizer.tokenize(t)) for t in sample_texts]\n"
      ]
    },
    {
      "cell_type": "code",
      "execution_count": 30,
      "id": "0ee431e2",
      "metadata": {
        "colab": {
          "base_uri": "https://localhost:8080/",
          "height": 472
        },
        "id": "0ee431e2",
        "outputId": "03efc9b8-2a14-4686-9dcd-99045b02c322"
      },
      "outputs": [
        {
          "data": {
            "image/png": "[encoded data removed]",
            "text/plain": [
              "<Figure size 640x480 with 1 Axes>"
            ]
          },
          "metadata": {},
          "output_type": "display_data"
        }
      ],
      "source": [
        "plt.hist(token_lens, bins=50)\n",
        "plt.title(\"Distribution length per token\")\n",
        "plt.xlabel(\"Token per review\")\n",
        "plt.ylabel(\"Frequence\")\n",
        "plt.show()"
      ]
    },
    {
      "cell_type": "code",
      "execution_count": 31,
      "id": "3189bc17",
      "metadata": {
        "colab": {
          "base_uri": "https://localhost:8080/"
        },
        "id": "3189bc17",
        "outputId": "37973f20-f45b-4c1b-a62c-a587cf5f0937"
      },
      "outputs": [
        {
          "name": "stdout",
          "output_type": "stream",
          "text": [
            "Token length stats:\n",
            "Mean: 98.8\n",
            "95th percentile: 203\n",
            "Max: 313\n"
          ]
        }
      ],
      "source": [
        "print(\"Token length stats:\")\n",
        "print(f\"Mean: {np.mean(token_lens):.1f}\")\n",
        "print(f\"95th percentile: {np.percentile(token_lens, 95):.0f}\")\n",
        "print(f\"Max: {np.max(token_lens)}\")"
      ]
    },
    {
      "cell_type": "markdown",
      "id": "6ee495c7",
      "metadata": {
        "id": "6ee495c7"
      },
      "source": [
        "The 95th percentile of tokenized length is around ~200, meaning that 95% of the reviews are shorter than this threshold.\n",
        "\n",
        "To balance memory efficiency and minimize information loss, we set `MAX_LEN = 205`:\n",
        "- This truncates only the top 5% longest reviews (outliers).\n",
        "- It reduces unnecessary padding for the remaining 95% of the data.\n",
        "- It ensures consistent input size for the model without significant loss of content."
      ]
    },
    {
      "cell_type": "code",
      "execution_count": 32,
      "id": "4c67aabb",
      "metadata": {
        "id": "4c67aabb"
      },
      "outputs": [],
      "source": [
        "MAX_LEN = 205"
      ]
    },
    {
      "cell_type": "code",
      "execution_count": 33,
      "id": "b970dc69",
      "metadata": {
        "colab": {
          "base_uri": "https://localhost:8080/"
        },
        "id": "b970dc69",
        "outputId": "45b38626-2131-4fb6-80b9-1b000a47ff66"
      },
      "outputs": [
        {
          "data": {
            "text/plain": [
              "(200000,)"
            ]
          },
          "execution_count": 33,
          "metadata": {},
          "output_type": "execute_result"
        }
      ],
      "source": [
        "train_samples.shape"
      ]
    },
    {
      "cell_type": "markdown",
      "id": "537013cb",
      "metadata": {
        "id": "537013cb"
      },
      "source": [
        "### Una Tantum tokenization"
      ]
    },
    {
      "cell_type": "code",
      "execution_count": 34,
      "id": "5d96fb84",
      "metadata": {
        "id": "5d96fb84"
      },
      "outputs": [],
      "source": [
        "cache = TokenCache(max_len=MAX_LEN, cache_dir= \"/content/drive/MyDrive/Tokenization_cache\")\n",
        "npz_file = cache.tokenize_and_save(texts=train_samples.tolist(), labels=labels, sample_size=SAMPLE_SIZE)"
      ]
    },
    {
      "cell_type": "markdown",
      "id": "083a36c2",
      "metadata": {
        "id": "083a36c2"
      },
      "source": [
        "Load encodings"
      ]
    },
    {
      "cell_type": "code",
      "execution_count": 35,
      "id": "07b0040d",
      "metadata": {
        "id": "07b0040d"
      },
      "outputs": [],
      "source": [
        "encodings = cache.load_encodings(npz_file)"
      ]
    },
    {
      "cell_type": "markdown",
      "id": "f5a106fc",
      "metadata": {
        "id": "f5a106fc"
      },
      "source": [
        "Create raw tf.data.Dataset from dictionary numpy of {input_ids, attention_mask, label}."
      ]
    },
    {
      "cell_type": "code",
      "execution_count": 36,
      "id": "c8a71153",
      "metadata": {
        "id": "c8a71153"
      },
      "outputs": [],
      "source": [
        "raw_ds  = from_encodings_to_dataset(encodings)"
      ]
    },
    {
      "cell_type": "markdown",
      "id": "b12dae0b",
      "metadata": {
        "id": "b12dae0b"
      },
      "source": [
        "### Split raw Dataset"
      ]
    },
    {
      "cell_type": "code",
      "execution_count": 37,
      "id": "1b41bb2e",
      "metadata": {
        "colab": {
          "base_uri": "https://localhost:8080/"
        },
        "id": "1b41bb2e",
        "outputId": "51ec47bc-3f06-4d11-ff5f-6e23cfbe3cf2"
      },
      "outputs": [
        {
          "name": "stdout",
          "output_type": "stream",
          "text": [
            "Train size: 100000\n",
            "Val   size: 40000\n",
            "Test  size: 60000\n"
          ]
        }
      ],
      "source": [
        "N = len(encodings['label'])\n",
        "int_test_size = int(0.3 * N)\n",
        "val_size  = int(0.2 * N)\n",
        "train_size = N - int_test_size - val_size\n",
        "\n",
        "print(\"Train size:\", train_size)\n",
        "print(\"Val   size:\", val_size)\n",
        "print(\"Test  size:\", int_test_size)"
      ]
    },
    {
      "cell_type": "code",
      "execution_count": 38,
      "id": "377a0d46",
      "metadata": {
        "id": "377a0d46"
      },
      "outputs": [],
      "source": [
        "ds_shuffled = raw_ds.shuffle(buffer_size=N, seed=RANDOM_STATE, reshuffle_each_iteration=False)\n",
        "test_ds  = ds_shuffled.take(int_test_size)\n",
        "reminder     = ds_shuffled.skip(int_test_size)\n",
        "val_ds   = reminder.take(val_size)\n",
        "train_ds = reminder.skip(val_size)"
      ]
    },
    {
      "cell_type": "code",
      "execution_count": 39,
      "id": "8fc05e23",
      "metadata": {
        "id": "8fc05e23"
      },
      "outputs": [],
      "source": [
        "pad_id = cache.tokenizer.pad_token_id\n",
        "# For train shuffle for each epoch and repeat\n",
        "train = prepare_dataset(train_ds, pad_id, shuffle_buffer=train_size, repeat=True)\n",
        "val   = prepare_dataset(val_ds, pad_id)\n",
        "internal_test  = prepare_dataset(test_ds, pad_id)"
      ]
    },
    {
      "cell_type": "markdown",
      "id": "f90ace47",
      "metadata": {
        "id": "f90ace47"
      },
      "source": [
        "### Checking for Overlap Between Train, Validation, and Test Splits"
      ]
    },
    {
      "cell_type": "code",
      "execution_count": 40,
      "id": "4e497c54",
      "metadata": {
        "colab": {
          "base_uri": "https://localhost:8080/"
        },
        "id": "4e497c54",
        "outputId": "5e95e6b2-22e8-45f7-f0f6-8672fd6367d6"
      },
      "outputs": [
        {
          "name": "stdout",
          "output_type": "stream",
          "text": [
            "Intersections between Train and Val  : 0\n",
            "Intersection between Train and Test : 0\n",
            "Intersections between Val and Test : 0\n"
          ]
        }
      ],
      "source": [
        "# We use a sample of 1000 to check statistically whether the 3 sets have any intersections\n",
        "def sample_hashes(ds, n=1000):\n",
        "    h = set()\n",
        "    for ex, _ in ds.take(n):\n",
        "        h.add(hash(ex[\"input_ids\"].numpy().tobytes()))\n",
        "    return h\n",
        "\n",
        "h_tr = sample_hashes(train)\n",
        "h_va = sample_hashes(val)\n",
        "h_te = sample_hashes(internal_test)\n",
        "\n",
        "print(\"Intersections between Train and Val  :\", len(h_tr & h_va))\n",
        "print(\"Intersection between Train and Test :\", len(h_tr & h_te))\n",
        "print(\"Intersections between Val and Test :\", len(h_va & h_te))"
      ]
    },
    {
      "cell_type": "code",
      "execution_count": 41,
      "id": "a7c21503",
      "metadata": {
        "id": "a7c21503"
      },
      "outputs": [],
      "source": [
        "import math\n",
        "steps_per_epoch   = math.ceil(train_size / BATCH_SIZE)\n",
        "validation_steps  = math.ceil(val_size   / BATCH_SIZE)"
      ]
    },
    {
      "cell_type": "markdown",
      "id": "4fb1d4d0",
      "metadata": {
        "id": "4fb1d4d0"
      },
      "source": [
        "## Choose whether retrain encoder or not"
      ]
    },
    {
      "cell_type": "code",
      "execution_count": 42,
      "id": "a91e1020",
      "metadata": {
        "id": "a91e1020"
      },
      "outputs": [],
      "source": [
        "ENCODER_TRAINABLE = False"
      ]
    },
    {
      "cell_type": "code",
      "execution_count": 43,
      "id": "073f939e",
      "metadata": {
        "id": "073f939e"
      },
      "outputs": [],
      "source": [
        "from keras import mixed_precision\n",
        "mixed_precision.set_global_policy('mixed_float16')"
      ]
    },
    {
      "cell_type": "code",
      "execution_count": 44,
      "id": "e79de20b",
      "metadata": {
        "colab": {
          "base_uri": "https://localhost:8080/",
          "height": 154,
          "referenced_widgets": [
            "658c46bf4bb947f9947aaf3dc740800c",
            "c1a0adae5a60402ea00623c8a2ae1a2d",
            "b9b9e35b945d4ce1a2942d45b7eedc15",
            "c94a294a09e94159b76827f0c6414c67",
            "8584213c684242a39ac60a4f7e20d174",
            "996edf9758e147528011051048a0d2e1",
            "be0e91e0121d428fb7b03c9839a35102",
            "9695c90897714dca8e834d57e870198a",
            "c44bbc348ee848e8b85dbc2100ea61c0",
            "fd26bb1905014591b782d5ebd95606d5",
            "38cd16659de24603a6734ebbc16a661e"
          ]
        },
        "id": "e79de20b",
        "outputId": "3764124c-e0aa-43f4-e528-e155e9b44e8c"
      },
      "outputs": [
        {
          "data": {
            "application/vnd.jupyter.widget-view+json": {
              "model_id": "658c46bf4bb947f9947aaf3dc740800c",
              "version_major": 2,
              "version_minor": 0
            },
            "text/plain": [
              "model.safetensors:   0%|          | 0.00/499M [00:00<?, ?B/s]"
            ]
          },
          "metadata": {},
          "output_type": "display_data"
        },
        {
          "name": "stderr",
          "output_type": "stream",
          "text": [
            "Some weights of the PyTorch model were not used when initializing the TF 2.0 model TFRobertaModel: ['roberta.embeddings.position_ids', 'lm_head.bias', 'lm_head.dense.weight', 'lm_head.dense.bias', 'lm_head.layer_norm.weight', 'lm_head.layer_norm.bias']\n",
            "- This IS expected if you are initializing TFRobertaModel from a PyTorch model trained on another task or with another architecture (e.g. initializing a TFBertForSequenceClassification model from a BertForPreTraining model).\n",
            "- This IS NOT expected if you are initializing TFRobertaModel from a PyTorch model that you expect to be exactly identical (e.g. initializing a TFBertForSequenceClassification model from a BertForSequenceClassification model).\n",
            "Some weights or buffers of the TF 2.0 model TFRobertaModel were not initialized from the PyTorch model and are newly initialized: ['roberta.pooler.dense.weight', 'roberta.pooler.dense.bias']\n",
            "You should probably TRAIN this model on a down-stream task to be able to use it for predictions and inference.\n"
          ]
        }
      ],
      "source": [
        "from transformers import TFRobertaModel\n",
        "encoder = TFRobertaModel.from_pretrained(MODEL_NAME)\n",
        "encoder.trainable = ENCODER_TRAINABLE\n"
      ]
    },
    {
      "cell_type": "markdown",
      "id": "29e5a8f8",
      "metadata": {
        "id": "29e5a8f8"
      },
      "source": [
        "### Configuration of `roberta-base`"
      ]
    },
    {
      "cell_type": "code",
      "execution_count": 45,
      "id": "69d47304",
      "metadata": {
        "colab": {
          "base_uri": "https://localhost:8080/"
        },
        "id": "69d47304",
        "outputId": "7a5e4bf8-baa8-4d2c-f9b0-b514bc452435"
      },
      "outputs": [
        {
          "name": "stdout",
          "output_type": "stream",
          "text": [
            "RobertaConfig {\n",
            "  \"architectures\": [\n",
            "    \"RobertaForMaskedLM\"\n",
            "  ],\n",
            "  \"attention_probs_dropout_prob\": 0.1,\n",
            "  \"bos_token_id\": 0,\n",
            "  \"classifier_dropout\": null,\n",
            "  \"eos_token_id\": 2,\n",
            "  \"hidden_act\": \"gelu\",\n",
            "  \"hidden_dropout_prob\": 0.1,\n",
            "  \"hidden_size\": 768,\n",
            "  \"initializer_range\": 0.02,\n",
            "  \"intermediate_size\": 3072,\n",
            "  \"layer_norm_eps\": 1e-05,\n",
            "  \"max_position_embeddings\": 514,\n",
            "  \"model_type\": \"roberta\",\n",
            "  \"num_attention_heads\": 12,\n",
            "  \"num_hidden_layers\": 12,\n",
            "  \"pad_token_id\": 1,\n",
            "  \"position_embedding_type\": \"absolute\",\n",
            "  \"transformers_version\": \"4.51.3\",\n",
            "  \"type_vocab_size\": 1,\n",
            "  \"use_cache\": true,\n",
            "  \"vocab_size\": 50265\n",
            "}\n",
            "\n"
          ]
        }
      ],
      "source": [
        "from transformers import AutoConfig\n",
        "cfg = AutoConfig.from_pretrained(\"roberta-base\")\n",
        "print(cfg)"
      ]
    },
    {
      "cell_type": "code",
      "execution_count": 46,
      "id": "ab358c7c",
      "metadata": {
        "id": "ab358c7c"
      },
      "outputs": [],
      "source": [
        "input_ids      = keras.Input(shape=(None,), dtype=\"int32\", name=\"input_ids\")\n",
        "attention_mask = keras.Input(shape=(None,), dtype=\"int32\", name=\"attention_mask\")"
      ]
    },
    {
      "cell_type": "markdown",
      "id": "aab74025",
      "metadata": {
        "id": "aab74025"
      },
      "source": [
        "Link to pretrained encoders info: https://huggingface.co/transformers/v2.4.0/pretrained_models.html"
      ]
    },
    {
      "cell_type": "code",
      "execution_count": 47,
      "id": "5ee74f4e",
      "metadata": {
        "id": "5ee74f4e"
      },
      "outputs": [],
      "source": [
        "# executed for each batch\n",
        "# here roberta converts input_ids into embedding vectors (batch_size, seq_len, hidden_size) where hidden_size = 768 for roberta-base.\n",
        "encoder_outputs = encoder({'input_ids': input_ids, 'attention_mask': attention_mask})\n",
        "pooled_output = encoder_outputs.pooler_output\n",
        "\n",
        "# last hidden state is a tensor (batch_size, seq_len, hidden_size) containing the contextual representation of each token.\n",
        "# cls is used to represent the entire sentence\n",
        "# hidden_states = encoder_outputs.last_hidden_state\n",
        "# cls_token = hidden_states[:, 0, :]"
      ]
    },
    {
      "cell_type": "markdown",
      "id": "272f613b",
      "metadata": {
        "id": "272f613b"
      },
      "source": [
        "### Building Classification Head"
      ]
    },
    {
      "cell_type": "code",
      "execution_count": 48,
      "id": "3ccf0400",
      "metadata": {
        "id": "3ccf0400"
      },
      "outputs": [],
      "source": [
        "x = keras.layers.Dense(256, activation='relu', name='dense_relu')(pooled_output)\n",
        "x = keras.layers.Dropout(0.3)(x)\n",
        "x = keras.layers.Dense(64, activation='relu')(x)\n",
        "\n",
        "\n",
        "logits = keras.layers.Dense(1, name='logits')(x)\n"
      ]
    },
    {
      "cell_type": "markdown",
      "id": "6ec71351",
      "metadata": {
        "id": "6ec71351"
      },
      "source": [
        "### Entire model"
      ]
    },
    {
      "cell_type": "code",
      "execution_count": 49,
      "id": "324b696e",
      "metadata": {
        "id": "324b696e"
      },
      "outputs": [],
      "source": [
        "model = keras.Model(inputs=[input_ids, attention_mask], outputs=logits)"
      ]
    },
    {
      "cell_type": "code",
      "execution_count": 50,
      "id": "f11259df",
      "metadata": {
        "colab": {
          "base_uri": "https://localhost:8080/"
        },
        "id": "f11259df",
        "outputId": "78dd42ff-4627-4e14-eeb0-e917448b6e90"
      },
      "outputs": [
        {
          "name": "stdout",
          "output_type": "stream",
          "text": [
            "Model: \"model\"\n",
            "__________________________________________________________________________________________________\n",
            " Layer (type)                Output Shape                 Param #   Connected to                  \n",
            "==================================================================================================\n",
            " attention_mask (InputLayer  [(None, None)]               0         []                            \n",
            " )                                                                                                \n",
            "                                                                                                  \n",
            " input_ids (InputLayer)      [(None, None)]               0         []                            \n",
            "                                                                                                  \n",
            " tf_roberta_model (TFRobert  TFBaseModelOutputWithPooli   1246456   ['attention_mask[0][0]',      \n",
            " aModel)                     ngAndCrossAttentions(last_   32         'input_ids[0][0]']           \n",
            "                             hidden_state=(None, None,                                            \n",
            "                             768),                                                                \n",
            "                              pooler_output=(None, 768)                                           \n",
            "                             , past_key_values=None, hi                                           \n",
            "                             dden_states=None, attentio                                           \n",
            "                             ns=None, cross_attentions=                                           \n",
            "                             None)                                                                \n",
            "                                                                                                  \n",
            " dense_relu (Dense)          (None, 256)                  196864    ['tf_roberta_model[0][1]']    \n",
            "                                                                                                  \n",
            " dropout_37 (Dropout)        (None, 256)                  0         ['dense_relu[0][0]']          \n",
            "                                                                                                  \n",
            " dense (Dense)               (None, 64)                   16448     ['dropout_37[0][0]']          \n",
            "                                                                                                  \n",
            " logits (Dense)              (None, 1)                    65        ['dense[0][0]']               \n",
            "                                                                                                  \n",
            "==================================================================================================\n",
            "Total params: 124859009 (476.30 MB)\n",
            "Trainable params: 213377 (833.50 KB)\n",
            "Non-trainable params: 124645632 (475.49 MB)\n",
            "__________________________________________________________________________________________________\n"
          ]
        }
      ],
      "source": [
        "model.summary()"
      ]
    },
    {
      "cell_type": "markdown",
      "id": "6e997dfb",
      "metadata": {
        "id": "6e997dfb"
      },
      "source": [
        "Check that encoder parameters are not retrainable"
      ]
    },
    {
      "cell_type": "code",
      "execution_count": 51,
      "id": "e66be73c",
      "metadata": {
        "colab": {
          "base_uri": "https://localhost:8080/"
        },
        "id": "e66be73c",
        "outputId": "fa90048f-d268-469d-d2c7-7a938f9acddc"
      },
      "outputs": [
        {
          "name": "stdout",
          "output_type": "stream",
          "text": [
            "attention_mask             trainable=True\n",
            "input_ids                  trainable=True\n",
            "tf_roberta_model           trainable=False\n",
            "dense_relu                 trainable=True\n",
            "dropout_37                 trainable=True\n",
            "dense                      trainable=True\n",
            "logits                     trainable=True\n"
          ]
        }
      ],
      "source": [
        "for i, layer in enumerate(model.layers):\n",
        "    print(f\"{layer.name:25s}  trainable={layer.trainable}\")"
      ]
    },
    {
      "cell_type": "code",
      "execution_count": 52,
      "id": "f37d8c38",
      "metadata": {
        "id": "f37d8c38"
      },
      "outputs": [],
      "source": [
        "base_opt = keras.optimizers.AdamW(           # da tensorflow-addons\n",
        "    learning_rate = LEARNING_RATE,\n",
        "    weight_decay  = 1e-2,\n",
        "    epsilon       = 1e-8,\n",
        "    clipnorm      = 1.0,\n",
        "\n",
        ")\n",
        "\n",
        "optimizer = keras.mixed_precision.LossScaleOptimizer(base_opt)\n",
        "loss= keras.losses.BinaryCrossentropy(from_logits=True)\n",
        "model.compile(optimizer=optimizer, loss=loss, metrics=[keras.metrics.BinaryAccuracy(name=\"accuracy\")])"
      ]
    },
    {
      "cell_type": "code",
      "execution_count": 53,
      "id": "03e22fdb",
      "metadata": {
        "id": "03e22fdb"
      },
      "outputs": [],
      "source": [
        "import time\n",
        "start_time = time.time()"
      ]
    },
    {
      "cell_type": "code",
      "execution_count": 54,
      "id": "2154dccc",
      "metadata": {
        "id": "2154dccc"
      },
      "outputs": [],
      "source": [
        "from tf_keras.callbacks import EarlyStopping\n",
        "\n",
        "early_stop = EarlyStopping(\n",
        "    monitor='val_loss',\n",
        "    patience=2,\n",
        "    restore_best_weights=True,\n",
        "    verbose=1\n",
        ")"
      ]
    },
    {
      "cell_type": "code",
      "execution_count": 55,
      "id": "17f0e52f",
      "metadata": {
        "colab": {
          "base_uri": "https://localhost:8080/"
        },
        "id": "17f0e52f",
        "outputId": "044898bc-1412-4c61-d03b-581ab9d52997"
      },
      "outputs": [
        {
          "name": "stdout",
          "output_type": "stream",
          "text": [
            "Epoch 1/5\n",
            "3125/3125 [==============================] - 484s 130ms/step - loss: 0.6848 - accuracy: 0.5016 - val_loss: 0.6653 - val_accuracy: 0.4985\n",
            "Epoch 2/5\n",
            "3125/3125 [==============================] - 401s 128ms/step - loss: 0.6426 - accuracy: 0.5333 - val_loss: 0.6027 - val_accuracy: 0.6058\n",
            "Epoch 3/5\n",
            "3125/3125 [==============================] - 404s 129ms/step - loss: 0.5736 - accuracy: 0.6517 - val_loss: 0.5103 - val_accuracy: 0.7853\n",
            "Epoch 4/5\n",
            "3125/3125 [==============================] - 402s 129ms/step - loss: 0.5069 - accuracy: 0.7408 - val_loss: 0.4300 - val_accuracy: 0.8213\n",
            "Epoch 5/5\n",
            "3125/3125 [==============================] - 401s 128ms/step - loss: 0.4581 - accuracy: 0.7801 - val_loss: 0.3761 - val_accuracy: 0.8323\n",
            "Restoring model weights from the end of the best epoch: 5.\n"
          ]
        }
      ],
      "source": [
        "history = model.fit(\n",
        "    train,\n",
        "    validation_data= val,\n",
        "    epochs=EPOCHS,\n",
        "    callbacks=[early_stop] ,\n",
        "    validation_steps=validation_steps,\n",
        "    steps_per_epoch=steps_per_epoch,\n",
        "\n",
        ")"
      ]
    },
    {
      "cell_type": "code",
      "execution_count": 56,
      "id": "533dd4ff",
      "metadata": {
        "colab": {
          "base_uri": "https://localhost:8080/"
        },
        "id": "533dd4ff",
        "outputId": "c930ccc4-108c-4317-a50e-93142e85a111"
      },
      "outputs": [
        {
          "name": "stdout",
          "output_type": "stream",
          "text": [
            "Total training time: 2092.6 s (34.88 min)\n"
          ]
        }
      ],
      "source": [
        "end_time = time.time()\n",
        "elapsed = end_time - start_time\n",
        "\n",
        "print(f\"Total training time: {elapsed:.1f} s ({elapsed/60:.2f} min)\")"
      ]
    },
    {
      "cell_type": "markdown",
      "id": "6aa9be29",
      "metadata": {
        "id": "6aa9be29"
      },
      "source": [
        "### Training History plot"
      ]
    },
    {
      "cell_type": "code",
      "execution_count": 57,
      "id": "2c340729",
      "metadata": {
        "colab": {
          "base_uri": "https://localhost:8080/",
          "height": 957
        },
        "id": "2c340729",
        "outputId": "cde35ec1-0922-41b4-ca76-d6bc25d3bf4f"
      },
      "outputs": [
        {
          "data": {
            "image/png": "[encoded data removed]",
            "text/plain": [
              "<Figure size 800x500 with 1 Axes>"
            ]
          },
          "metadata": {},
          "output_type": "display_data"
        },
        {
          "data": {
            "image/png": "[encoded data removed]",
            "text/plain": [
              "<Figure size 800x500 with 1 Axes>"
            ]
          },
          "metadata": {},
          "output_type": "display_data"
        }
      ],
      "source": [
        "import matplotlib.pyplot as plt\n",
        "\n",
        "# Estrai le liste di loss dal history\n",
        "train_loss = history.history['loss']\n",
        "val_loss   = history.history['val_loss']\n",
        "epochs     = range(1, len(train_loss) + 1)\n",
        "\n",
        "train_acc = history.history['accuracy']\n",
        "val_acc   = history.history['val_accuracy']\n",
        "\n",
        "\n",
        "# Disegna il plot\n",
        "plt.figure(figsize=(8, 5))\n",
        "plt.plot(epochs, train_loss, marker='o', label='Train Loss')\n",
        "plt.plot(epochs, val_loss,   marker='o', label='Validation Loss')\n",
        "plt.title('Training vs Validation Loss')\n",
        "plt.xlabel('Epoch')\n",
        "plt.ylabel('Loss')\n",
        "plt.xticks(epochs)           # mostra tutte le epoche sull'asse x\n",
        "plt.legend()\n",
        "plt.grid(True, linestyle='--', alpha=0.5)\n",
        "plt.show()\n",
        "\n",
        "\n",
        "plt.figure(figsize=(8, 5))\n",
        "plt.plot(epochs, train_acc, marker='o', label='Train Accuracy')\n",
        "plt.plot(epochs, val_acc,   marker='o', label='Validation Accuracy')\n",
        "plt.title('Training vs Validation Accuracy')\n",
        "plt.xlabel('Epoch')\n",
        "plt.ylabel('Accuracy')\n",
        "plt.xticks(epochs)\n",
        "plt.legend()\n",
        "plt.grid(True, linestyle='--', alpha=0.5)\n",
        "plt.show()"
      ]
    },
    {
      "cell_type": "markdown",
      "id": "1b9cc48b",
      "metadata": {
        "id": "1b9cc48b"
      },
      "source": [
        "## Model evaluation with Internal test set"
      ]
    },
    {
      "cell_type": "code",
      "execution_count": 58,
      "id": "81906cba",
      "metadata": {
        "colab": {
          "base_uri": "https://localhost:8080/"
        },
        "id": "81906cba",
        "outputId": "0ba30f08-1e24-4f4d-9717-5ed1704cc2cf"
      },
      "outputs": [
        {
          "name": "stdout",
          "output_type": "stream",
          "text": [
            "1875/1875 [==============================] - 172s 57ms/step\n"
          ]
        }
      ],
      "source": [
        "y_true = np.concatenate([y for x, y in internal_test], axis=0)\n",
        "\n",
        "pred_logits = model.predict(internal_test)\n",
        "pred_probs  = tf.sigmoid(pred_logits).numpy().ravel()\n",
        "pred_labels = (pred_probs >= 0.5).astype(int)"
      ]
    },
    {
      "cell_type": "code",
      "execution_count": 59,
      "id": "cd071288",
      "metadata": {
        "colab": {
          "base_uri": "https://localhost:8080/"
        },
        "id": "cd071288",
        "outputId": "ef1fc3da-f14b-4ba9-8507-78be816c798f"
      },
      "outputs": [
        {
          "name": "stdout",
          "output_type": "stream",
          "text": [
            "Accuracy: 0.8627\n",
            "Precision: 0.8811\n",
            "Recall: 0.8369\n",
            "F1 Score: 0.8584\n",
            "Test accuracy: 0.8627\n"
          ]
        }
      ],
      "source": [
        "from sklearn.metrics import (\n",
        "    accuracy_score,\n",
        "    precision_score,\n",
        "    recall_score,\n",
        "    f1_score,\n",
        "    confusion_matrix\n",
        ")\n",
        "\n",
        "accuracy = accuracy_score(y_true, pred_labels)\n",
        "precision = precision_score(y_true, pred_labels)\n",
        "recall = recall_score(y_true, pred_labels)\n",
        "f1 = f1_score(y_true, pred_labels)\n",
        "cm = confusion_matrix(y_true, pred_labels)\n",
        "\n",
        "# Display metrics\n",
        "print(f\"Accuracy: {accuracy:.4f}\")\n",
        "print(f\"Precision: {precision:.4f}\")\n",
        "print(f\"Recall: {recall:.4f}\")\n",
        "print(f\"F1 Score: {f1:.4f}\")\n",
        "print(f\"Test accuracy: {accuracy:.4f}\")"
      ]
    },
    {
      "cell_type": "markdown",
      "id": "db012222",
      "metadata": {
        "id": "db012222"
      },
      "source": [
        "### Confusion Matrix"
      ]
    },
    {
      "cell_type": "code",
      "execution_count": 60,
      "id": "514e66ec",
      "metadata": {
        "colab": {
          "base_uri": "https://localhost:8080/",
          "height": 472
        },
        "id": "514e66ec",
        "outputId": "837b3d2c-f02c-4732-8957-ae0570d30d03"
      },
      "outputs": [
        {
          "data": {
            "image/png": "[encoded data removed]",
            "text/plain": [
              "<Figure size 640x480 with 2 Axes>"
            ]
          },
          "metadata": {},
          "output_type": "display_data"
        }
      ],
      "source": [
        "from sklearn.metrics import confusion_matrix, ConfusionMatrixDisplay\n",
        "conf_matrix = confusion_matrix(y_true, pred_labels)\n",
        "\n",
        "fig, ax = plt.subplots()\n",
        "disp = ConfusionMatrixDisplay(confusion_matrix=conf_matrix)\n",
        "disp.plot(ax=ax)\n",
        "ax.set_title(\"Confusion Matrix on Internal Test Set\")\n",
        "plt.show()"
      ]
    },
    {
      "cell_type": "markdown",
      "id": "85e3d9d4",
      "metadata": {
        "id": "85e3d9d4"
      },
      "source": [
        "### Save model"
      ]
    },
    {
      "cell_type": "code",
      "execution_count": 61,
      "id": "d64d5ffe",
      "metadata": {
        "colab": {
          "base_uri": "https://localhost:8080/"
        },
        "id": "d64d5ffe",
        "outputId": "d9f348d4-95fc-430d-b28a-91f23e2c933c"
      },
      "outputs": [
        {
          "name": "stderr",
          "output_type": "stream",
          "text": [
            "/usr/local/lib/python3.11/dist-packages/transformers/generation/tf_utils.py:465: UserWarning: `seed_generator` is deprecated and will be removed in a future version.\n",
            "  warnings.warn(\"`seed_generator` is deprecated and will be removed in a future version.\", UserWarning)\n"
          ]
        },
        {
          "name": "stdout",
          "output_type": "stream",
          "text": [
            "Saved model + tokenizer + metadata in /content/drive/MyDrive/HLT_models/roberta-base_200000\n"
          ]
        }
      ],
      "source": [
        "os.makedirs(BASE_DIR_STORAGE, exist_ok=True)\n",
        "\n",
        "file = os.path.join(BASE_DIR_STORAGE, f'roberta_{SAMPLE_SIZE}.keras')\n",
        "\n",
        "\n",
        "model.save(file)\n",
        "tokenizer.save_pretrained(BASE_DIR_STORAGE)\n",
        "\n",
        "metadata = {\n",
        "    \"timestamp\":          time.strftime(\"%Y-%m-%d %H:%M:%S\"),\n",
        "    \"total_training_time_s\": round(elapsed, 1),\n",
        "    \"num_samples\":           SAMPLE_SIZE,\n",
        "    \"train_size\":            train_size,\n",
        "    \"val_size\":              val_size,\n",
        "    \"internal_test_size\":    int_test_size,\n",
        "    \"batch_size\":            BATCH_SIZE,\n",
        "    \"epochs\":                EPOCHS,\n",
        "    \"encoder_trainable\":     ENCODER_TRAINABLE,\n",
        "    \"history\":               history.history,\n",
        "    \"gpu\": gpu_name,\n",
        "    \"internal_test_accuracy\": accuracy,\n",
        "\n",
        "}\n",
        "\n",
        "with open(os.path.join(BASE_DIR_STORAGE, f'training_metadata_roberta_{SAMPLE_SIZE}.json'), 'w') as f:\n",
        "    json.dump(metadata, f, indent=2)\n",
        "\n",
        "print(f\"Saved model + tokenizer + metadata in {BASE_DIR_STORAGE}\")"
      ]
    }
  ],
  "metadata": {
    "accelerator": "GPU",
    "colab": {
      "gpuType": "A100",
      "provenance": []
    },
    "kernelspec": {
      "display_name": "Python 3",
      "name": "python3"
    },
    "language_info": {
      "codemirror_mode": {
        "name": "ipython",
        "version": 3
      },
      "file_extension": ".py",
      "mimetype": "text/x-python",
      "name": "python",
      "nbconvert_exporter": "python",
      "pygments_lexer": "ipython3",
      "version": "3.12.4"
    },
    "widgets": {
      "application/vnd.jupyter.widget-state+json": {
        "0121241b67a541e1819d20199a30574a": {
          "model_module": "@jupyter-widgets/controls",
          "model_module_version": "1.5.0",
          "model_name": "DescriptionStyleModel",
          "state": {
            "_model_module": "@jupyter-widgets/controls",
            "_model_module_version": "1.5.0",
            "_model_name": "DescriptionStyleModel",
            "_view_count": null,
            "_view_module": "@jupyter-widgets/base",
            "_view_module_version": "1.2.0",
            "_view_name": "StyleView",
            "description_width": ""
          }
        },
        "02f22a878ce14a28916a2579dc816c8f": {
          "model_module": "@jupyter-widgets/base",
          "model_module_version": "1.2.0",
          "model_name": "LayoutModel",
          "state": {
            "_model_module": "@jupyter-widgets/base",
            "_model_module_version": "1.2.0",
            "_model_name": "LayoutModel",
            "_view_count": null,
            "_view_module": "@jupyter-widgets/base",
            "_view_module_version": "1.2.0",
            "_view_name": "LayoutView",
            "align_content": null,
            "align_items": null,
            "align_self": null,
            "border": null,
            "bottom": null,
            "display": null,
            "flex": null,
            "flex_flow": null,
            "grid_area": null,
            "grid_auto_columns": null,
            "grid_auto_flow": null,
            "grid_auto_rows": null,
            "grid_column": null,
            "grid_gap": null,
            "grid_row": null,
            "grid_template_areas": null,
            "grid_template_columns": null,
            "grid_template_rows": null,
            "height": null,
            "justify_content": null,
            "justify_items": null,
            "left": null,
            "margin": null,
            "max_height": null,
            "max_width": null,
            "min_height": null,
            "min_width": null,
            "object_fit": null,
            "object_position": null,
            "order": null,
            "overflow": null,
            "overflow_x": null,
            "overflow_y": null,
            "padding": null,
            "right": null,
            "top": null,
            "visibility": null,
            "width": null
          }
        },
        "0b016c28180d41c19fe97a5af6019217": {
          "model_module": "@jupyter-widgets/base",
          "model_module_version": "1.2.0",
          "model_name": "LayoutModel",
          "state": {
            "_model_module": "@jupyter-widgets/base",
            "_model_module_version": "1.2.0",
            "_model_name": "LayoutModel",
            "_view_count": null,
            "_view_module": "@jupyter-widgets/base",
            "_view_module_version": "1.2.0",
            "_view_name": "LayoutView",
            "align_content": null,
            "align_items": null,
            "align_self": null,
            "border": null,
            "bottom": null,
            "display": null,
            "flex": null,
            "flex_flow": null,
            "grid_area": null,
            "grid_auto_columns": null,
            "grid_auto_flow": null,
            "grid_auto_rows": null,
            "grid_column": null,
            "grid_gap": null,
            "grid_row": null,
            "grid_template_areas": null,
            "grid_template_columns": null,
            "grid_template_rows": null,
            "height": null,
            "justify_content": null,
            "justify_items": null,
            "left": null,
            "margin": null,
            "max_height": null,
            "max_width": null,
            "min_height": null,
            "min_width": null,
            "object_fit": null,
            "object_position": null,
            "order": null,
            "overflow": null,
            "overflow_x": null,
            "overflow_y": null,
            "padding": null,
            "right": null,
            "top": null,
            "visibility": null,
            "width": null
          }
        },
        "10ec56113c034fcfafcb406a41021edb": {
          "model_module": "@jupyter-widgets/base",
          "model_module_version": "1.2.0",
          "model_name": "LayoutModel",
          "state": {
            "_model_module": "@jupyter-widgets/base",
            "_model_module_version": "1.2.0",
            "_model_name": "LayoutModel",
            "_view_count": null,
            "_view_module": "@jupyter-widgets/base",
            "_view_module_version": "1.2.0",
            "_view_name": "LayoutView",
            "align_content": null,
            "align_items": null,
            "align_self": null,
            "border": null,
            "bottom": null,
            "display": null,
            "flex": null,
            "flex_flow": null,
            "grid_area": null,
            "grid_auto_columns": null,
            "grid_auto_flow": null,
            "grid_auto_rows": null,
            "grid_column": null,
            "grid_gap": null,
            "grid_row": null,
            "grid_template_areas": null,
            "grid_template_columns": null,
            "grid_template_rows": null,
            "height": null,
            "justify_content": null,
            "justify_items": null,
            "left": null,
            "margin": null,
            "max_height": null,
            "max_width": null,
            "min_height": null,
            "min_width": null,
            "object_fit": null,
            "object_position": null,
            "order": null,
            "overflow": null,
            "overflow_x": null,
            "overflow_y": null,
            "padding": null,
            "right": null,
            "top": null,
            "visibility": null,
            "width": null
          }
        },
        "1107998f6f904af4be4f1cd7ed691e78": {
          "model_module": "@jupyter-widgets/controls",
          "model_module_version": "1.5.0",
          "model_name": "HBoxModel",
          "state": {
            "_dom_classes": [],
            "_model_module": "@jupyter-widgets/controls",
            "_model_module_version": "1.5.0",
            "_model_name": "HBoxModel",
            "_view_count": null,
            "_view_module": "@jupyter-widgets/controls",
            "_view_module_version": "1.5.0",
            "_view_name": "HBoxView",
            "box_style": "",
            "children": [
              "IPY_MODEL_614cc8bc83c5436cad1ed16ebd66dd21",
              "IPY_MODEL_34f4d03b62654598b5644fc176121836",
              "IPY_MODEL_c46cbeb4136645f5a38b5197101d2782"
            ],
            "layout": "IPY_MODEL_d3c7ca415c52415786c970d6166c7c20"
          }
        },
        "134b7330f5cf4437b3624968aef1b4b2": {
          "model_module": "@jupyter-widgets/controls",
          "model_module_version": "1.5.0",
          "model_name": "HBoxModel",
          "state": {
            "_dom_classes": [],
            "_model_module": "@jupyter-widgets/controls",
            "_model_module_version": "1.5.0",
            "_model_name": "HBoxModel",
            "_view_count": null,
            "_view_module": "@jupyter-widgets/controls",
            "_view_module_version": "1.5.0",
            "_view_name": "HBoxView",
            "box_style": "",
            "children": [
              "IPY_MODEL_66f16db0759b40aa8d0cb9a4054b8994",
              "IPY_MODEL_fb0bb12f33ca47bca1d2a10213dc6a15",
              "IPY_MODEL_29f83a69a98c41c5b574992134fafc0e"
            ],
            "layout": "IPY_MODEL_87cea404b77048c19f73381c3726fdb1"
          }
        },
        "13eb2d542ed841e2a0992c0ac6472ced": {
          "model_module": "@jupyter-widgets/base",
          "model_module_version": "1.2.0",
          "model_name": "LayoutModel",
          "state": {
            "_model_module": "@jupyter-widgets/base",
            "_model_module_version": "1.2.0",
            "_model_name": "LayoutModel",
            "_view_count": null,
            "_view_module": "@jupyter-widgets/base",
            "_view_module_version": "1.2.0",
            "_view_name": "LayoutView",
            "align_content": null,
            "align_items": null,
            "align_self": null,
            "border": null,
            "bottom": null,
            "display": null,
            "flex": null,
            "flex_flow": null,
            "grid_area": null,
            "grid_auto_columns": null,
            "grid_auto_flow": null,
            "grid_auto_rows": null,
            "grid_column": null,
            "grid_gap": null,
            "grid_row": null,
            "grid_template_areas": null,
            "grid_template_columns": null,
            "grid_template_rows": null,
            "height": null,
            "justify_content": null,
            "justify_items": null,
            "left": null,
            "margin": null,
            "max_height": null,
            "max_width": null,
            "min_height": null,
            "min_width": null,
            "object_fit": null,
            "object_position": null,
            "order": null,
            "overflow": null,
            "overflow_x": null,
            "overflow_y": null,
            "padding": null,
            "right": null,
            "top": null,
            "visibility": null,
            "width": null
          }
        },
        "1a1c89653cba4946ac68acba8033acc6": {
          "model_module": "@jupyter-widgets/controls",
          "model_module_version": "1.5.0",
          "model_name": "ProgressStyleModel",
          "state": {
            "_model_module": "@jupyter-widgets/controls",
            "_model_module_version": "1.5.0",
            "_model_name": "ProgressStyleModel",
            "_view_count": null,
            "_view_module": "@jupyter-widgets/base",
            "_view_module_version": "1.2.0",
            "_view_name": "StyleView",
            "bar_color": null,
            "description_width": ""
          }
        },
        "1a261a8f35eb4cb78a69bc399ee21821": {
          "model_module": "@jupyter-widgets/base",
          "model_module_version": "1.2.0",
          "model_name": "LayoutModel",
          "state": {
            "_model_module": "@jupyter-widgets/base",
            "_model_module_version": "1.2.0",
            "_model_name": "LayoutModel",
            "_view_count": null,
            "_view_module": "@jupyter-widgets/base",
            "_view_module_version": "1.2.0",
            "_view_name": "LayoutView",
            "align_content": null,
            "align_items": null,
            "align_self": null,
            "border": null,
            "bottom": null,
            "display": null,
            "flex": null,
            "flex_flow": null,
            "grid_area": null,
            "grid_auto_columns": null,
            "grid_auto_flow": null,
            "grid_auto_rows": null,
            "grid_column": null,
            "grid_gap": null,
            "grid_row": null,
            "grid_template_areas": null,
            "grid_template_columns": null,
            "grid_template_rows": null,
            "height": null,
            "justify_content": null,
            "justify_items": null,
            "left": null,
            "margin": null,
            "max_height": null,
            "max_width": null,
            "min_height": null,
            "min_width": null,
            "object_fit": null,
            "object_position": null,
            "order": null,
            "overflow": null,
            "overflow_x": null,
            "overflow_y": null,
            "padding": null,
            "right": null,
            "top": null,
            "visibility": null,
            "width": null
          }
        },
        "27a1541de9324691895e6dcecc238d09": {
          "model_module": "@jupyter-widgets/controls",
          "model_module_version": "1.5.0",
          "model_name": "HTMLModel",
          "state": {
            "_dom_classes": [],
            "_model_module": "@jupyter-widgets/controls",
            "_model_module_version": "1.5.0",
            "_model_name": "HTMLModel",
            "_view_count": null,
            "_view_module": "@jupyter-widgets/controls",
            "_view_module_version": "1.5.0",
            "_view_name": "HTMLView",
            "description": "",
            "description_tooltip": null,
            "layout": "IPY_MODEL_9b982bd2c8244f1a96648cdf2435bf18",
            "placeholder": "​",
            "style": "IPY_MODEL_8cf7064a9d0549bf9b4d1302b94834dc",
            "value": "vocab.json: 100%"
          }
        },
        "27fe2e023f86463ca88187e92af007f9": {
          "model_module": "@jupyter-widgets/controls",
          "model_module_version": "1.5.0",
          "model_name": "HTMLModel",
          "state": {
            "_dom_classes": [],
            "_model_module": "@jupyter-widgets/controls",
            "_model_module_version": "1.5.0",
            "_model_name": "HTMLModel",
            "_view_count": null,
            "_view_module": "@jupyter-widgets/controls",
            "_view_module_version": "1.5.0",
            "_view_name": "HTMLView",
            "description": "",
            "description_tooltip": null,
            "layout": "IPY_MODEL_55eaaa46d85f4c529b94a1c74ddf378e",
            "placeholder": "​",
            "style": "IPY_MODEL_de0fd4d880aa4a4d931b9f929eb62f43",
            "value": "merges.txt: 100%"
          }
        },
        "29f83a69a98c41c5b574992134fafc0e": {
          "model_module": "@jupyter-widgets/controls",
          "model_module_version": "1.5.0",
          "model_name": "HTMLModel",
          "state": {
            "_dom_classes": [],
            "_model_module": "@jupyter-widgets/controls",
            "_model_module_version": "1.5.0",
            "_model_name": "HTMLModel",
            "_view_count": null,
            "_view_module": "@jupyter-widgets/controls",
            "_view_module_version": "1.5.0",
            "_view_name": "HTMLView",
            "description": "",
            "description_tooltip": null,
            "layout": "IPY_MODEL_a6f9a61adc204f9b85bde4f12d7ace0e",
            "placeholder": "​",
            "style": "IPY_MODEL_f9d9a0fa42ac452baa4520c0ce7a32b2",
            "value": " 481/481 [00:00&lt;00:00, 60.4kB/s]"
          }
        },
        "32252e18582d4df1a6cd9d166a12a5f5": {
          "model_module": "@jupyter-widgets/controls",
          "model_module_version": "1.5.0",
          "model_name": "ProgressStyleModel",
          "state": {
            "_model_module": "@jupyter-widgets/controls",
            "_model_module_version": "1.5.0",
            "_model_name": "ProgressStyleModel",
            "_view_count": null,
            "_view_module": "@jupyter-widgets/base",
            "_view_module_version": "1.2.0",
            "_view_name": "StyleView",
            "bar_color": null,
            "description_width": ""
          }
        },
        "34f4d03b62654598b5644fc176121836": {
          "model_module": "@jupyter-widgets/controls",
          "model_module_version": "1.5.0",
          "model_name": "FloatProgressModel",
          "state": {
            "_dom_classes": [],
            "_model_module": "@jupyter-widgets/controls",
            "_model_module_version": "1.5.0",
            "_model_name": "FloatProgressModel",
            "_view_count": null,
            "_view_module": "@jupyter-widgets/controls",
            "_view_module_version": "1.5.0",
            "_view_name": "ProgressView",
            "bar_style": "success",
            "description": "",
            "description_tooltip": null,
            "layout": "IPY_MODEL_41eecebdde54464281b33fe0387939f0",
            "max": 25,
            "min": 0,
            "orientation": "horizontal",
            "style": "IPY_MODEL_4a665b544e4c49188946676ea3dc7359",
            "value": 25
          }
        },
        "38cd16659de24603a6734ebbc16a661e": {
          "model_module": "@jupyter-widgets/controls",
          "model_module_version": "1.5.0",
          "model_name": "DescriptionStyleModel",
          "state": {
            "_model_module": "@jupyter-widgets/controls",
            "_model_module_version": "1.5.0",
            "_model_name": "DescriptionStyleModel",
            "_view_count": null,
            "_view_module": "@jupyter-widgets/base",
            "_view_module_version": "1.2.0",
            "_view_name": "StyleView",
            "description_width": ""
          }
        },
        "41eecebdde54464281b33fe0387939f0": {
          "model_module": "@jupyter-widgets/base",
          "model_module_version": "1.2.0",
          "model_name": "LayoutModel",
          "state": {
            "_model_module": "@jupyter-widgets/base",
            "_model_module_version": "1.2.0",
            "_model_name": "LayoutModel",
            "_view_count": null,
            "_view_module": "@jupyter-widgets/base",
            "_view_module_version": "1.2.0",
            "_view_name": "LayoutView",
            "align_content": null,
            "align_items": null,
            "align_self": null,
            "border": null,
            "bottom": null,
            "display": null,
            "flex": null,
            "flex_flow": null,
            "grid_area": null,
            "grid_auto_columns": null,
            "grid_auto_flow": null,
            "grid_auto_rows": null,
            "grid_column": null,
            "grid_gap": null,
            "grid_row": null,
            "grid_template_areas": null,
            "grid_template_columns": null,
            "grid_template_rows": null,
            "height": null,
            "justify_content": null,
            "justify_items": null,
            "left": null,
            "margin": null,
            "max_height": null,
            "max_width": null,
            "min_height": null,
            "min_width": null,
            "object_fit": null,
            "object_position": null,
            "order": null,
            "overflow": null,
            "overflow_x": null,
            "overflow_y": null,
            "padding": null,
            "right": null,
            "top": null,
            "visibility": null,
            "width": null
          }
        },
        "479dd9683a044ce78d35fa54ab8038b7": {
          "model_module": "@jupyter-widgets/controls",
          "model_module_version": "1.5.0",
          "model_name": "DescriptionStyleModel",
          "state": {
            "_model_module": "@jupyter-widgets/controls",
            "_model_module_version": "1.5.0",
            "_model_name": "DescriptionStyleModel",
            "_view_count": null,
            "_view_module": "@jupyter-widgets/base",
            "_view_module_version": "1.2.0",
            "_view_name": "StyleView",
            "description_width": ""
          }
        },
        "4a665b544e4c49188946676ea3dc7359": {
          "model_module": "@jupyter-widgets/controls",
          "model_module_version": "1.5.0",
          "model_name": "ProgressStyleModel",
          "state": {
            "_model_module": "@jupyter-widgets/controls",
            "_model_module_version": "1.5.0",
            "_model_name": "ProgressStyleModel",
            "_view_count": null,
            "_view_module": "@jupyter-widgets/base",
            "_view_module_version": "1.2.0",
            "_view_name": "StyleView",
            "bar_color": null,
            "description_width": ""
          }
        },
        "52cd7edd220140b4947fd2170025fcb1": {
          "model_module": "@jupyter-widgets/controls",
          "model_module_version": "1.5.0",
          "model_name": "ProgressStyleModel",
          "state": {
            "_model_module": "@jupyter-widgets/controls",
            "_model_module_version": "1.5.0",
            "_model_name": "ProgressStyleModel",
            "_view_count": null,
            "_view_module": "@jupyter-widgets/base",
            "_view_module_version": "1.2.0",
            "_view_name": "StyleView",
            "bar_color": null,
            "description_width": ""
          }
        },
        "5584ca2d10e04a2e92b17a1becdc8335": {
          "model_module": "@jupyter-widgets/controls",
          "model_module_version": "1.5.0",
          "model_name": "HTMLModel",
          "state": {
            "_dom_classes": [],
            "_model_module": "@jupyter-widgets/controls",
            "_model_module_version": "1.5.0",
            "_model_name": "HTMLModel",
            "_view_count": null,
            "_view_module": "@jupyter-widgets/controls",
            "_view_module_version": "1.5.0",
            "_view_name": "HTMLView",
            "description": "",
            "description_tooltip": null,
            "layout": "IPY_MODEL_0b016c28180d41c19fe97a5af6019217",
            "placeholder": "​",
            "style": "IPY_MODEL_8442a820e04c421b9b615dba2d778b49",
            "value": " 899k/899k [00:00&lt;00:00, 1.36MB/s]"
          }
        },
        "5589d0414bd3498a9de83359172e0cb2": {
          "model_module": "@jupyter-widgets/controls",
          "model_module_version": "1.5.0",
          "model_name": "HTMLModel",
          "state": {
            "_dom_classes": [],
            "_model_module": "@jupyter-widgets/controls",
            "_model_module_version": "1.5.0",
            "_model_name": "HTMLModel",
            "_view_count": null,
            "_view_module": "@jupyter-widgets/controls",
            "_view_module_version": "1.5.0",
            "_view_name": "HTMLView",
            "description": "",
            "description_tooltip": null,
            "layout": "IPY_MODEL_803d92ba52b44779bd3f6b9b58cdb9af",
            "placeholder": "​",
            "style": "IPY_MODEL_0121241b67a541e1819d20199a30574a",
            "value": "tokenizer.json: 100%"
          }
        },
        "55eaaa46d85f4c529b94a1c74ddf378e": {
          "model_module": "@jupyter-widgets/base",
          "model_module_version": "1.2.0",
          "model_name": "LayoutModel",
          "state": {
            "_model_module": "@jupyter-widgets/base",
            "_model_module_version": "1.2.0",
            "_model_name": "LayoutModel",
            "_view_count": null,
            "_view_module": "@jupyter-widgets/base",
            "_view_module_version": "1.2.0",
            "_view_name": "LayoutView",
            "align_content": null,
            "align_items": null,
            "align_self": null,
            "border": null,
            "bottom": null,
            "display": null,
            "flex": null,
            "flex_flow": null,
            "grid_area": null,
            "grid_auto_columns": null,
            "grid_auto_flow": null,
            "grid_auto_rows": null,
            "grid_column": null,
            "grid_gap": null,
            "grid_row": null,
            "grid_template_areas": null,
            "grid_template_columns": null,
            "grid_template_rows": null,
            "height": null,
            "justify_content": null,
            "justify_items": null,
            "left": null,
            "margin": null,
            "max_height": null,
            "max_width": null,
            "min_height": null,
            "min_width": null,
            "object_fit": null,
            "object_position": null,
            "order": null,
            "overflow": null,
            "overflow_x": null,
            "overflow_y": null,
            "padding": null,
            "right": null,
            "top": null,
            "visibility": null,
            "width": null
          }
        },
        "56f63b5cc3194299ae78405c5ac8933e": {
          "model_module": "@jupyter-widgets/controls",
          "model_module_version": "1.5.0",
          "model_name": "DescriptionStyleModel",
          "state": {
            "_model_module": "@jupyter-widgets/controls",
            "_model_module_version": "1.5.0",
            "_model_name": "DescriptionStyleModel",
            "_view_count": null,
            "_view_module": "@jupyter-widgets/base",
            "_view_module_version": "1.2.0",
            "_view_name": "StyleView",
            "description_width": ""
          }
        },
        "58c4e0615d064a77874a35e4bc3e4361": {
          "model_module": "@jupyter-widgets/base",
          "model_module_version": "1.2.0",
          "model_name": "LayoutModel",
          "state": {
            "_model_module": "@jupyter-widgets/base",
            "_model_module_version": "1.2.0",
            "_model_name": "LayoutModel",
            "_view_count": null,
            "_view_module": "@jupyter-widgets/base",
            "_view_module_version": "1.2.0",
            "_view_name": "LayoutView",
            "align_content": null,
            "align_items": null,
            "align_self": null,
            "border": null,
            "bottom": null,
            "display": null,
            "flex": null,
            "flex_flow": null,
            "grid_area": null,
            "grid_auto_columns": null,
            "grid_auto_flow": null,
            "grid_auto_rows": null,
            "grid_column": null,
            "grid_gap": null,
            "grid_row": null,
            "grid_template_areas": null,
            "grid_template_columns": null,
            "grid_template_rows": null,
            "height": null,
            "justify_content": null,
            "justify_items": null,
            "left": null,
            "margin": null,
            "max_height": null,
            "max_width": null,
            "min_height": null,
            "min_width": null,
            "object_fit": null,
            "object_position": null,
            "order": null,
            "overflow": null,
            "overflow_x": null,
            "overflow_y": null,
            "padding": null,
            "right": null,
            "top": null,
            "visibility": null,
            "width": null
          }
        },
        "5990a9decdf343e6a8206232d5dade15": {
          "model_module": "@jupyter-widgets/controls",
          "model_module_version": "1.5.0",
          "model_name": "DescriptionStyleModel",
          "state": {
            "_model_module": "@jupyter-widgets/controls",
            "_model_module_version": "1.5.0",
            "_model_name": "DescriptionStyleModel",
            "_view_count": null,
            "_view_module": "@jupyter-widgets/base",
            "_view_module_version": "1.2.0",
            "_view_name": "StyleView",
            "description_width": ""
          }
        },
        "5b68db3214c744d08432bca65c726622": {
          "model_module": "@jupyter-widgets/controls",
          "model_module_version": "1.5.0",
          "model_name": "HBoxModel",
          "state": {
            "_dom_classes": [],
            "_model_module": "@jupyter-widgets/controls",
            "_model_module_version": "1.5.0",
            "_model_name": "HBoxModel",
            "_view_count": null,
            "_view_module": "@jupyter-widgets/controls",
            "_view_module_version": "1.5.0",
            "_view_name": "HBoxView",
            "box_style": "",
            "children": [
              "IPY_MODEL_27a1541de9324691895e6dcecc238d09",
              "IPY_MODEL_5c6ef8a24265401eb02af6fddf99ad21",
              "IPY_MODEL_5584ca2d10e04a2e92b17a1becdc8335"
            ],
            "layout": "IPY_MODEL_7b9e595cfe9a486db5b7ba74f411bafa"
          }
        },
        "5c6ef8a24265401eb02af6fddf99ad21": {
          "model_module": "@jupyter-widgets/controls",
          "model_module_version": "1.5.0",
          "model_name": "FloatProgressModel",
          "state": {
            "_dom_classes": [],
            "_model_module": "@jupyter-widgets/controls",
            "_model_module_version": "1.5.0",
            "_model_name": "FloatProgressModel",
            "_view_count": null,
            "_view_module": "@jupyter-widgets/controls",
            "_view_module_version": "1.5.0",
            "_view_name": "ProgressView",
            "bar_style": "success",
            "description": "",
            "description_tooltip": null,
            "layout": "IPY_MODEL_10ec56113c034fcfafcb406a41021edb",
            "max": 898823,
            "min": 0,
            "orientation": "horizontal",
            "style": "IPY_MODEL_1a1c89653cba4946ac68acba8033acc6",
            "value": 898823
          }
        },
        "614cc8bc83c5436cad1ed16ebd66dd21": {
          "model_module": "@jupyter-widgets/controls",
          "model_module_version": "1.5.0",
          "model_name": "HTMLModel",
          "state": {
            "_dom_classes": [],
            "_model_module": "@jupyter-widgets/controls",
            "_model_module_version": "1.5.0",
            "_model_name": "HTMLModel",
            "_view_count": null,
            "_view_module": "@jupyter-widgets/controls",
            "_view_module_version": "1.5.0",
            "_view_name": "HTMLView",
            "description": "",
            "description_tooltip": null,
            "layout": "IPY_MODEL_8470931255654b908b00bbf5d26cd6dc",
            "placeholder": "​",
            "style": "IPY_MODEL_fff80ecde40746c5b4dbceecabd7ecea",
            "value": "tokenizer_config.json: 100%"
          }
        },
        "658c46bf4bb947f9947aaf3dc740800c": {
          "model_module": "@jupyter-widgets/controls",
          "model_module_version": "1.5.0",
          "model_name": "HBoxModel",
          "state": {
            "_dom_classes": [],
            "_model_module": "@jupyter-widgets/controls",
            "_model_module_version": "1.5.0",
            "_model_name": "HBoxModel",
            "_view_count": null,
            "_view_module": "@jupyter-widgets/controls",
            "_view_module_version": "1.5.0",
            "_view_name": "HBoxView",
            "box_style": "",
            "children": [
              "IPY_MODEL_c1a0adae5a60402ea00623c8a2ae1a2d",
              "IPY_MODEL_b9b9e35b945d4ce1a2942d45b7eedc15",
              "IPY_MODEL_c94a294a09e94159b76827f0c6414c67"
            ],
            "layout": "IPY_MODEL_8584213c684242a39ac60a4f7e20d174"
          }
        },
        "66f16db0759b40aa8d0cb9a4054b8994": {
          "model_module": "@jupyter-widgets/controls",
          "model_module_version": "1.5.0",
          "model_name": "HTMLModel",
          "state": {
            "_dom_classes": [],
            "_model_module": "@jupyter-widgets/controls",
            "_model_module_version": "1.5.0",
            "_model_name": "HTMLModel",
            "_view_count": null,
            "_view_module": "@jupyter-widgets/controls",
            "_view_module_version": "1.5.0",
            "_view_name": "HTMLView",
            "description": "",
            "description_tooltip": null,
            "layout": "IPY_MODEL_02f22a878ce14a28916a2579dc816c8f",
            "placeholder": "​",
            "style": "IPY_MODEL_5990a9decdf343e6a8206232d5dade15",
            "value": "config.json: 100%"
          }
        },
        "72e6504177624d11bffca3f657066ed3": {
          "model_module": "@jupyter-widgets/controls",
          "model_module_version": "1.5.0",
          "model_name": "FloatProgressModel",
          "state": {
            "_dom_classes": [],
            "_model_module": "@jupyter-widgets/controls",
            "_model_module_version": "1.5.0",
            "_model_name": "FloatProgressModel",
            "_view_count": null,
            "_view_module": "@jupyter-widgets/controls",
            "_view_module_version": "1.5.0",
            "_view_name": "ProgressView",
            "bar_style": "success",
            "description": "",
            "description_tooltip": null,
            "layout": "IPY_MODEL_1a261a8f35eb4cb78a69bc399ee21821",
            "max": 456318,
            "min": 0,
            "orientation": "horizontal",
            "style": "IPY_MODEL_52cd7edd220140b4947fd2170025fcb1",
            "value": 456318
          }
        },
        "767a9d82a7904b2e87815cb4e030a1fb": {
          "model_module": "@jupyter-widgets/controls",
          "model_module_version": "1.5.0",
          "model_name": "HTMLModel",
          "state": {
            "_dom_classes": [],
            "_model_module": "@jupyter-widgets/controls",
            "_model_module_version": "1.5.0",
            "_model_name": "HTMLModel",
            "_view_count": null,
            "_view_module": "@jupyter-widgets/controls",
            "_view_module_version": "1.5.0",
            "_view_name": "HTMLView",
            "description": "",
            "description_tooltip": null,
            "layout": "IPY_MODEL_58c4e0615d064a77874a35e4bc3e4361",
            "placeholder": "​",
            "style": "IPY_MODEL_479dd9683a044ce78d35fa54ab8038b7",
            "value": " 456k/456k [00:00&lt;00:00, 1.04MB/s]"
          }
        },
        "7a466a10083b421f99b75fc767ea9181": {
          "model_module": "@jupyter-widgets/controls",
          "model_module_version": "1.5.0",
          "model_name": "ProgressStyleModel",
          "state": {
            "_model_module": "@jupyter-widgets/controls",
            "_model_module_version": "1.5.0",
            "_model_name": "ProgressStyleModel",
            "_view_count": null,
            "_view_module": "@jupyter-widgets/base",
            "_view_module_version": "1.2.0",
            "_view_name": "StyleView",
            "bar_color": null,
            "description_width": ""
          }
        },
        "7b9e595cfe9a486db5b7ba74f411bafa": {
          "model_module": "@jupyter-widgets/base",
          "model_module_version": "1.2.0",
          "model_name": "LayoutModel",
          "state": {
            "_model_module": "@jupyter-widgets/base",
            "_model_module_version": "1.2.0",
            "_model_name": "LayoutModel",
            "_view_count": null,
            "_view_module": "@jupyter-widgets/base",
            "_view_module_version": "1.2.0",
            "_view_name": "LayoutView",
            "align_content": null,
            "align_items": null,
            "align_self": null,
            "border": null,
            "bottom": null,
            "display": null,
            "flex": null,
            "flex_flow": null,
            "grid_area": null,
            "grid_auto_columns": null,
            "grid_auto_flow": null,
            "grid_auto_rows": null,
            "grid_column": null,
            "grid_gap": null,
            "grid_row": null,
            "grid_template_areas": null,
            "grid_template_columns": null,
            "grid_template_rows": null,
            "height": null,
            "justify_content": null,
            "justify_items": null,
            "left": null,
            "margin": null,
            "max_height": null,
            "max_width": null,
            "min_height": null,
            "min_width": null,
            "object_fit": null,
            "object_position": null,
            "order": null,
            "overflow": null,
            "overflow_x": null,
            "overflow_y": null,
            "padding": null,
            "right": null,
            "top": null,
            "visibility": null,
            "width": null
          }
        },
        "803d92ba52b44779bd3f6b9b58cdb9af": {
          "model_module": "@jupyter-widgets/base",
          "model_module_version": "1.2.0",
          "model_name": "LayoutModel",
          "state": {
            "_model_module": "@jupyter-widgets/base",
            "_model_module_version": "1.2.0",
            "_model_name": "LayoutModel",
            "_view_count": null,
            "_view_module": "@jupyter-widgets/base",
            "_view_module_version": "1.2.0",
            "_view_name": "LayoutView",
            "align_content": null,
            "align_items": null,
            "align_self": null,
            "border": null,
            "bottom": null,
            "display": null,
            "flex": null,
            "flex_flow": null,
            "grid_area": null,
            "grid_auto_columns": null,
            "grid_auto_flow": null,
            "grid_auto_rows": null,
            "grid_column": null,
            "grid_gap": null,
            "grid_row": null,
            "grid_template_areas": null,
            "grid_template_columns": null,
            "grid_template_rows": null,
            "height": null,
            "justify_content": null,
            "justify_items": null,
            "left": null,
            "margin": null,
            "max_height": null,
            "max_width": null,
            "min_height": null,
            "min_width": null,
            "object_fit": null,
            "object_position": null,
            "order": null,
            "overflow": null,
            "overflow_x": null,
            "overflow_y": null,
            "padding": null,
            "right": null,
            "top": null,
            "visibility": null,
            "width": null
          }
        },
        "8442a820e04c421b9b615dba2d778b49": {
          "model_module": "@jupyter-widgets/controls",
          "model_module_version": "1.5.0",
          "model_name": "DescriptionStyleModel",
          "state": {
            "_model_module": "@jupyter-widgets/controls",
            "_model_module_version": "1.5.0",
            "_model_name": "DescriptionStyleModel",
            "_view_count": null,
            "_view_module": "@jupyter-widgets/base",
            "_view_module_version": "1.2.0",
            "_view_name": "StyleView",
            "description_width": ""
          }
        },
        "8470931255654b908b00bbf5d26cd6dc": {
          "model_module": "@jupyter-widgets/base",
          "model_module_version": "1.2.0",
          "model_name": "LayoutModel",
          "state": {
            "_model_module": "@jupyter-widgets/base",
            "_model_module_version": "1.2.0",
            "_model_name": "LayoutModel",
            "_view_count": null,
            "_view_module": "@jupyter-widgets/base",
            "_view_module_version": "1.2.0",
            "_view_name": "LayoutView",
            "align_content": null,
            "align_items": null,
            "align_self": null,
            "border": null,
            "bottom": null,
            "display": null,
            "flex": null,
            "flex_flow": null,
            "grid_area": null,
            "grid_auto_columns": null,
            "grid_auto_flow": null,
            "grid_auto_rows": null,
            "grid_column": null,
            "grid_gap": null,
            "grid_row": null,
            "grid_template_areas": null,
            "grid_template_columns": null,
            "grid_template_rows": null,
            "height": null,
            "justify_content": null,
            "justify_items": null,
            "left": null,
            "margin": null,
            "max_height": null,
            "max_width": null,
            "min_height": null,
            "min_width": null,
            "object_fit": null,
            "object_position": null,
            "order": null,
            "overflow": null,
            "overflow_x": null,
            "overflow_y": null,
            "padding": null,
            "right": null,
            "top": null,
            "visibility": null,
            "width": null
          }
        },
        "8584213c684242a39ac60a4f7e20d174": {
          "model_module": "@jupyter-widgets/base",
          "model_module_version": "1.2.0",
          "model_name": "LayoutModel",
          "state": {
            "_model_module": "@jupyter-widgets/base",
            "_model_module_version": "1.2.0",
            "_model_name": "LayoutModel",
            "_view_count": null,
            "_view_module": "@jupyter-widgets/base",
            "_view_module_version": "1.2.0",
            "_view_name": "LayoutView",
            "align_content": null,
            "align_items": null,
            "align_self": null,
            "border": null,
            "bottom": null,
            "display": null,
            "flex": null,
            "flex_flow": null,
            "grid_area": null,
            "grid_auto_columns": null,
            "grid_auto_flow": null,
            "grid_auto_rows": null,
            "grid_column": null,
            "grid_gap": null,
            "grid_row": null,
            "grid_template_areas": null,
            "grid_template_columns": null,
            "grid_template_rows": null,
            "height": null,
            "justify_content": null,
            "justify_items": null,
            "left": null,
            "margin": null,
            "max_height": null,
            "max_width": null,
            "min_height": null,
            "min_width": null,
            "object_fit": null,
            "object_position": null,
            "order": null,
            "overflow": null,
            "overflow_x": null,
            "overflow_y": null,
            "padding": null,
            "right": null,
            "top": null,
            "visibility": null,
            "width": null
          }
        },
        "863a23c1affe4b18a6108182c28c0b43": {
          "model_module": "@jupyter-widgets/base",
          "model_module_version": "1.2.0",
          "model_name": "LayoutModel",
          "state": {
            "_model_module": "@jupyter-widgets/base",
            "_model_module_version": "1.2.0",
            "_model_name": "LayoutModel",
            "_view_count": null,
            "_view_module": "@jupyter-widgets/base",
            "_view_module_version": "1.2.0",
            "_view_name": "LayoutView",
            "align_content": null,
            "align_items": null,
            "align_self": null,
            "border": null,
            "bottom": null,
            "display": null,
            "flex": null,
            "flex_flow": null,
            "grid_area": null,
            "grid_auto_columns": null,
            "grid_auto_flow": null,
            "grid_auto_rows": null,
            "grid_column": null,
            "grid_gap": null,
            "grid_row": null,
            "grid_template_areas": null,
            "grid_template_columns": null,
            "grid_template_rows": null,
            "height": null,
            "justify_content": null,
            "justify_items": null,
            "left": null,
            "margin": null,
            "max_height": null,
            "max_width": null,
            "min_height": null,
            "min_width": null,
            "object_fit": null,
            "object_position": null,
            "order": null,
            "overflow": null,
            "overflow_x": null,
            "overflow_y": null,
            "padding": null,
            "right": null,
            "top": null,
            "visibility": null,
            "width": null
          }
        },
        "87cea404b77048c19f73381c3726fdb1": {
          "model_module": "@jupyter-widgets/base",
          "model_module_version": "1.2.0",
          "model_name": "LayoutModel",
          "state": {
            "_model_module": "@jupyter-widgets/base",
            "_model_module_version": "1.2.0",
            "_model_name": "LayoutModel",
            "_view_count": null,
            "_view_module": "@jupyter-widgets/base",
            "_view_module_version": "1.2.0",
            "_view_name": "LayoutView",
            "align_content": null,
            "align_items": null,
            "align_self": null,
            "border": null,
            "bottom": null,
            "display": null,
            "flex": null,
            "flex_flow": null,
            "grid_area": null,
            "grid_auto_columns": null,
            "grid_auto_flow": null,
            "grid_auto_rows": null,
            "grid_column": null,
            "grid_gap": null,
            "grid_row": null,
            "grid_template_areas": null,
            "grid_template_columns": null,
            "grid_template_rows": null,
            "height": null,
            "justify_content": null,
            "justify_items": null,
            "left": null,
            "margin": null,
            "max_height": null,
            "max_width": null,
            "min_height": null,
            "min_width": null,
            "object_fit": null,
            "object_position": null,
            "order": null,
            "overflow": null,
            "overflow_x": null,
            "overflow_y": null,
            "padding": null,
            "right": null,
            "top": null,
            "visibility": null,
            "width": null
          }
        },
        "8cf7064a9d0549bf9b4d1302b94834dc": {
          "model_module": "@jupyter-widgets/controls",
          "model_module_version": "1.5.0",
          "model_name": "DescriptionStyleModel",
          "state": {
            "_model_module": "@jupyter-widgets/controls",
            "_model_module_version": "1.5.0",
            "_model_name": "DescriptionStyleModel",
            "_view_count": null,
            "_view_module": "@jupyter-widgets/base",
            "_view_module_version": "1.2.0",
            "_view_name": "StyleView",
            "description_width": ""
          }
        },
        "9695c90897714dca8e834d57e870198a": {
          "model_module": "@jupyter-widgets/base",
          "model_module_version": "1.2.0",
          "model_name": "LayoutModel",
          "state": {
            "_model_module": "@jupyter-widgets/base",
            "_model_module_version": "1.2.0",
            "_model_name": "LayoutModel",
            "_view_count": null,
            "_view_module": "@jupyter-widgets/base",
            "_view_module_version": "1.2.0",
            "_view_name": "LayoutView",
            "align_content": null,
            "align_items": null,
            "align_self": null,
            "border": null,
            "bottom": null,
            "display": null,
            "flex": null,
            "flex_flow": null,
            "grid_area": null,
            "grid_auto_columns": null,
            "grid_auto_flow": null,
            "grid_auto_rows": null,
            "grid_column": null,
            "grid_gap": null,
            "grid_row": null,
            "grid_template_areas": null,
            "grid_template_columns": null,
            "grid_template_rows": null,
            "height": null,
            "justify_content": null,
            "justify_items": null,
            "left": null,
            "margin": null,
            "max_height": null,
            "max_width": null,
            "min_height": null,
            "min_width": null,
            "object_fit": null,
            "object_position": null,
            "order": null,
            "overflow": null,
            "overflow_x": null,
            "overflow_y": null,
            "padding": null,
            "right": null,
            "top": null,
            "visibility": null,
            "width": null
          }
        },
        "996edf9758e147528011051048a0d2e1": {
          "model_module": "@jupyter-widgets/base",
          "model_module_version": "1.2.0",
          "model_name": "LayoutModel",
          "state": {
            "_model_module": "@jupyter-widgets/base",
            "_model_module_version": "1.2.0",
            "_model_name": "LayoutModel",
            "_view_count": null,
            "_view_module": "@jupyter-widgets/base",
            "_view_module_version": "1.2.0",
            "_view_name": "LayoutView",
            "align_content": null,
            "align_items": null,
            "align_self": null,
            "border": null,
            "bottom": null,
            "display": null,
            "flex": null,
            "flex_flow": null,
            "grid_area": null,
            "grid_auto_columns": null,
            "grid_auto_flow": null,
            "grid_auto_rows": null,
            "grid_column": null,
            "grid_gap": null,
            "grid_row": null,
            "grid_template_areas": null,
            "grid_template_columns": null,
            "grid_template_rows": null,
            "height": null,
            "justify_content": null,
            "justify_items": null,
            "left": null,
            "margin": null,
            "max_height": null,
            "max_width": null,
            "min_height": null,
            "min_width": null,
            "object_fit": null,
            "object_position": null,
            "order": null,
            "overflow": null,
            "overflow_x": null,
            "overflow_y": null,
            "padding": null,
            "right": null,
            "top": null,
            "visibility": null,
            "width": null
          }
        },
        "9b982bd2c8244f1a96648cdf2435bf18": {
          "model_module": "@jupyter-widgets/base",
          "model_module_version": "1.2.0",
          "model_name": "LayoutModel",
          "state": {
            "_model_module": "@jupyter-widgets/base",
            "_model_module_version": "1.2.0",
            "_model_name": "LayoutModel",
            "_view_count": null,
            "_view_module": "@jupyter-widgets/base",
            "_view_module_version": "1.2.0",
            "_view_name": "LayoutView",
            "align_content": null,
            "align_items": null,
            "align_self": null,
            "border": null,
            "bottom": null,
            "display": null,
            "flex": null,
            "flex_flow": null,
            "grid_area": null,
            "grid_auto_columns": null,
            "grid_auto_flow": null,
            "grid_auto_rows": null,
            "grid_column": null,
            "grid_gap": null,
            "grid_row": null,
            "grid_template_areas": null,
            "grid_template_columns": null,
            "grid_template_rows": null,
            "height": null,
            "justify_content": null,
            "justify_items": null,
            "left": null,
            "margin": null,
            "max_height": null,
            "max_width": null,
            "min_height": null,
            "min_width": null,
            "object_fit": null,
            "object_position": null,
            "order": null,
            "overflow": null,
            "overflow_x": null,
            "overflow_y": null,
            "padding": null,
            "right": null,
            "top": null,
            "visibility": null,
            "width": null
          }
        },
        "a485f453781d4b98991aacb6a966675b": {
          "model_module": "@jupyter-widgets/base",
          "model_module_version": "1.2.0",
          "model_name": "LayoutModel",
          "state": {
            "_model_module": "@jupyter-widgets/base",
            "_model_module_version": "1.2.0",
            "_model_name": "LayoutModel",
            "_view_count": null,
            "_view_module": "@jupyter-widgets/base",
            "_view_module_version": "1.2.0",
            "_view_name": "LayoutView",
            "align_content": null,
            "align_items": null,
            "align_self": null,
            "border": null,
            "bottom": null,
            "display": null,
            "flex": null,
            "flex_flow": null,
            "grid_area": null,
            "grid_auto_columns": null,
            "grid_auto_flow": null,
            "grid_auto_rows": null,
            "grid_column": null,
            "grid_gap": null,
            "grid_row": null,
            "grid_template_areas": null,
            "grid_template_columns": null,
            "grid_template_rows": null,
            "height": null,
            "justify_content": null,
            "justify_items": null,
            "left": null,
            "margin": null,
            "max_height": null,
            "max_width": null,
            "min_height": null,
            "min_width": null,
            "object_fit": null,
            "object_position": null,
            "order": null,
            "overflow": null,
            "overflow_x": null,
            "overflow_y": null,
            "padding": null,
            "right": null,
            "top": null,
            "visibility": null,
            "width": null
          }
        },
        "a6f9a61adc204f9b85bde4f12d7ace0e": {
          "model_module": "@jupyter-widgets/base",
          "model_module_version": "1.2.0",
          "model_name": "LayoutModel",
          "state": {
            "_model_module": "@jupyter-widgets/base",
            "_model_module_version": "1.2.0",
            "_model_name": "LayoutModel",
            "_view_count": null,
            "_view_module": "@jupyter-widgets/base",
            "_view_module_version": "1.2.0",
            "_view_name": "LayoutView",
            "align_content": null,
            "align_items": null,
            "align_self": null,
            "border": null,
            "bottom": null,
            "display": null,
            "flex": null,
            "flex_flow": null,
            "grid_area": null,
            "grid_auto_columns": null,
            "grid_auto_flow": null,
            "grid_auto_rows": null,
            "grid_column": null,
            "grid_gap": null,
            "grid_row": null,
            "grid_template_areas": null,
            "grid_template_columns": null,
            "grid_template_rows": null,
            "height": null,
            "justify_content": null,
            "justify_items": null,
            "left": null,
            "margin": null,
            "max_height": null,
            "max_width": null,
            "min_height": null,
            "min_width": null,
            "object_fit": null,
            "object_position": null,
            "order": null,
            "overflow": null,
            "overflow_x": null,
            "overflow_y": null,
            "padding": null,
            "right": null,
            "top": null,
            "visibility": null,
            "width": null
          }
        },
        "a8213f8cd62049d1b0f7507263e86315": {
          "model_module": "@jupyter-widgets/base",
          "model_module_version": "1.2.0",
          "model_name": "LayoutModel",
          "state": {
            "_model_module": "@jupyter-widgets/base",
            "_model_module_version": "1.2.0",
            "_model_name": "LayoutModel",
            "_view_count": null,
            "_view_module": "@jupyter-widgets/base",
            "_view_module_version": "1.2.0",
            "_view_name": "LayoutView",
            "align_content": null,
            "align_items": null,
            "align_self": null,
            "border": null,
            "bottom": null,
            "display": null,
            "flex": null,
            "flex_flow": null,
            "grid_area": null,
            "grid_auto_columns": null,
            "grid_auto_flow": null,
            "grid_auto_rows": null,
            "grid_column": null,
            "grid_gap": null,
            "grid_row": null,
            "grid_template_areas": null,
            "grid_template_columns": null,
            "grid_template_rows": null,
            "height": null,
            "justify_content": null,
            "justify_items": null,
            "left": null,
            "margin": null,
            "max_height": null,
            "max_width": null,
            "min_height": null,
            "min_width": null,
            "object_fit": null,
            "object_position": null,
            "order": null,
            "overflow": null,
            "overflow_x": null,
            "overflow_y": null,
            "padding": null,
            "right": null,
            "top": null,
            "visibility": null,
            "width": null
          }
        },
        "b8860bbddbf84b9c967d27c2370727e4": {
          "model_module": "@jupyter-widgets/controls",
          "model_module_version": "1.5.0",
          "model_name": "DescriptionStyleModel",
          "state": {
            "_model_module": "@jupyter-widgets/controls",
            "_model_module_version": "1.5.0",
            "_model_name": "DescriptionStyleModel",
            "_view_count": null,
            "_view_module": "@jupyter-widgets/base",
            "_view_module_version": "1.2.0",
            "_view_name": "StyleView",
            "description_width": ""
          }
        },
        "b9b9e35b945d4ce1a2942d45b7eedc15": {
          "model_module": "@jupyter-widgets/controls",
          "model_module_version": "1.5.0",
          "model_name": "FloatProgressModel",
          "state": {
            "_dom_classes": [],
            "_model_module": "@jupyter-widgets/controls",
            "_model_module_version": "1.5.0",
            "_model_name": "FloatProgressModel",
            "_view_count": null,
            "_view_module": "@jupyter-widgets/controls",
            "_view_module_version": "1.5.0",
            "_view_name": "ProgressView",
            "bar_style": "success",
            "description": "",
            "description_tooltip": null,
            "layout": "IPY_MODEL_9695c90897714dca8e834d57e870198a",
            "max": 498818054,
            "min": 0,
            "orientation": "horizontal",
            "style": "IPY_MODEL_c44bbc348ee848e8b85dbc2100ea61c0",
            "value": 498818054
          }
        },
        "ba704872b91d481dab1d2067cb460723": {
          "model_module": "@jupyter-widgets/controls",
          "model_module_version": "1.5.0",
          "model_name": "FloatProgressModel",
          "state": {
            "_dom_classes": [],
            "_model_module": "@jupyter-widgets/controls",
            "_model_module_version": "1.5.0",
            "_model_name": "FloatProgressModel",
            "_view_count": null,
            "_view_module": "@jupyter-widgets/controls",
            "_view_module_version": "1.5.0",
            "_view_name": "ProgressView",
            "bar_style": "success",
            "description": "",
            "description_tooltip": null,
            "layout": "IPY_MODEL_13eb2d542ed841e2a0992c0ac6472ced",
            "max": 1355863,
            "min": 0,
            "orientation": "horizontal",
            "style": "IPY_MODEL_7a466a10083b421f99b75fc767ea9181",
            "value": 1355863
          }
        },
        "be0e91e0121d428fb7b03c9839a35102": {
          "model_module": "@jupyter-widgets/controls",
          "model_module_version": "1.5.0",
          "model_name": "DescriptionStyleModel",
          "state": {
            "_model_module": "@jupyter-widgets/controls",
            "_model_module_version": "1.5.0",
            "_model_name": "DescriptionStyleModel",
            "_view_count": null,
            "_view_module": "@jupyter-widgets/base",
            "_view_module_version": "1.2.0",
            "_view_name": "StyleView",
            "description_width": ""
          }
        },
        "be94e082e5b349b094268196ad041ff4": {
          "model_module": "@jupyter-widgets/controls",
          "model_module_version": "1.5.0",
          "model_name": "HTMLModel",
          "state": {
            "_dom_classes": [],
            "_model_module": "@jupyter-widgets/controls",
            "_model_module_version": "1.5.0",
            "_model_name": "HTMLModel",
            "_view_count": null,
            "_view_module": "@jupyter-widgets/controls",
            "_view_module_version": "1.5.0",
            "_view_name": "HTMLView",
            "description": "",
            "description_tooltip": null,
            "layout": "IPY_MODEL_e42fc1504b2743abadaa3478df6e140b",
            "placeholder": "​",
            "style": "IPY_MODEL_b8860bbddbf84b9c967d27c2370727e4",
            "value": " 1.36M/1.36M [00:00&lt;00:00, 6.01MB/s]"
          }
        },
        "c1a0adae5a60402ea00623c8a2ae1a2d": {
          "model_module": "@jupyter-widgets/controls",
          "model_module_version": "1.5.0",
          "model_name": "HTMLModel",
          "state": {
            "_dom_classes": [],
            "_model_module": "@jupyter-widgets/controls",
            "_model_module_version": "1.5.0",
            "_model_name": "HTMLModel",
            "_view_count": null,
            "_view_module": "@jupyter-widgets/controls",
            "_view_module_version": "1.5.0",
            "_view_name": "HTMLView",
            "description": "",
            "description_tooltip": null,
            "layout": "IPY_MODEL_996edf9758e147528011051048a0d2e1",
            "placeholder": "​",
            "style": "IPY_MODEL_be0e91e0121d428fb7b03c9839a35102",
            "value": "model.safetensors: 100%"
          }
        },
        "c28dfdec3a1c430a92882151c29f7909": {
          "model_module": "@jupyter-widgets/base",
          "model_module_version": "1.2.0",
          "model_name": "LayoutModel",
          "state": {
            "_model_module": "@jupyter-widgets/base",
            "_model_module_version": "1.2.0",
            "_model_name": "LayoutModel",
            "_view_count": null,
            "_view_module": "@jupyter-widgets/base",
            "_view_module_version": "1.2.0",
            "_view_name": "LayoutView",
            "align_content": null,
            "align_items": null,
            "align_self": null,
            "border": null,
            "bottom": null,
            "display": null,
            "flex": null,
            "flex_flow": null,
            "grid_area": null,
            "grid_auto_columns": null,
            "grid_auto_flow": null,
            "grid_auto_rows": null,
            "grid_column": null,
            "grid_gap": null,
            "grid_row": null,
            "grid_template_areas": null,
            "grid_template_columns": null,
            "grid_template_rows": null,
            "height": null,
            "justify_content": null,
            "justify_items": null,
            "left": null,
            "margin": null,
            "max_height": null,
            "max_width": null,
            "min_height": null,
            "min_width": null,
            "object_fit": null,
            "object_position": null,
            "order": null,
            "overflow": null,
            "overflow_x": null,
            "overflow_y": null,
            "padding": null,
            "right": null,
            "top": null,
            "visibility": null,
            "width": null
          }
        },
        "c44bbc348ee848e8b85dbc2100ea61c0": {
          "model_module": "@jupyter-widgets/controls",
          "model_module_version": "1.5.0",
          "model_name": "ProgressStyleModel",
          "state": {
            "_model_module": "@jupyter-widgets/controls",
            "_model_module_version": "1.5.0",
            "_model_name": "ProgressStyleModel",
            "_view_count": null,
            "_view_module": "@jupyter-widgets/base",
            "_view_module_version": "1.2.0",
            "_view_name": "StyleView",
            "bar_color": null,
            "description_width": ""
          }
        },
        "c46cbeb4136645f5a38b5197101d2782": {
          "model_module": "@jupyter-widgets/controls",
          "model_module_version": "1.5.0",
          "model_name": "HTMLModel",
          "state": {
            "_dom_classes": [],
            "_model_module": "@jupyter-widgets/controls",
            "_model_module_version": "1.5.0",
            "_model_name": "HTMLModel",
            "_view_count": null,
            "_view_module": "@jupyter-widgets/controls",
            "_view_module_version": "1.5.0",
            "_view_name": "HTMLView",
            "description": "",
            "description_tooltip": null,
            "layout": "IPY_MODEL_863a23c1affe4b18a6108182c28c0b43",
            "placeholder": "​",
            "style": "IPY_MODEL_56f63b5cc3194299ae78405c5ac8933e",
            "value": " 25.0/25.0 [00:00&lt;00:00, 3.03kB/s]"
          }
        },
        "c94a294a09e94159b76827f0c6414c67": {
          "model_module": "@jupyter-widgets/controls",
          "model_module_version": "1.5.0",
          "model_name": "HTMLModel",
          "state": {
            "_dom_classes": [],
            "_model_module": "@jupyter-widgets/controls",
            "_model_module_version": "1.5.0",
            "_model_name": "HTMLModel",
            "_view_count": null,
            "_view_module": "@jupyter-widgets/controls",
            "_view_module_version": "1.5.0",
            "_view_name": "HTMLView",
            "description": "",
            "description_tooltip": null,
            "layout": "IPY_MODEL_fd26bb1905014591b782d5ebd95606d5",
            "placeholder": "​",
            "style": "IPY_MODEL_38cd16659de24603a6734ebbc16a661e",
            "value": " 499M/499M [00:02&lt;00:00, 412MB/s]"
          }
        },
        "d3c7ca415c52415786c970d6166c7c20": {
          "model_module": "@jupyter-widgets/base",
          "model_module_version": "1.2.0",
          "model_name": "LayoutModel",
          "state": {
            "_model_module": "@jupyter-widgets/base",
            "_model_module_version": "1.2.0",
            "_model_name": "LayoutModel",
            "_view_count": null,
            "_view_module": "@jupyter-widgets/base",
            "_view_module_version": "1.2.0",
            "_view_name": "LayoutView",
            "align_content": null,
            "align_items": null,
            "align_self": null,
            "border": null,
            "bottom": null,
            "display": null,
            "flex": null,
            "flex_flow": null,
            "grid_area": null,
            "grid_auto_columns": null,
            "grid_auto_flow": null,
            "grid_auto_rows": null,
            "grid_column": null,
            "grid_gap": null,
            "grid_row": null,
            "grid_template_areas": null,
            "grid_template_columns": null,
            "grid_template_rows": null,
            "height": null,
            "justify_content": null,
            "justify_items": null,
            "left": null,
            "margin": null,
            "max_height": null,
            "max_width": null,
            "min_height": null,
            "min_width": null,
            "object_fit": null,
            "object_position": null,
            "order": null,
            "overflow": null,
            "overflow_x": null,
            "overflow_y": null,
            "padding": null,
            "right": null,
            "top": null,
            "visibility": null,
            "width": null
          }
        },
        "de0fd4d880aa4a4d931b9f929eb62f43": {
          "model_module": "@jupyter-widgets/controls",
          "model_module_version": "1.5.0",
          "model_name": "DescriptionStyleModel",
          "state": {
            "_model_module": "@jupyter-widgets/controls",
            "_model_module_version": "1.5.0",
            "_model_name": "DescriptionStyleModel",
            "_view_count": null,
            "_view_module": "@jupyter-widgets/base",
            "_view_module_version": "1.2.0",
            "_view_name": "StyleView",
            "description_width": ""
          }
        },
        "e039ead28c314bfbabe33c0fe5e8ad1f": {
          "model_module": "@jupyter-widgets/controls",
          "model_module_version": "1.5.0",
          "model_name": "HBoxModel",
          "state": {
            "_dom_classes": [],
            "_model_module": "@jupyter-widgets/controls",
            "_model_module_version": "1.5.0",
            "_model_name": "HBoxModel",
            "_view_count": null,
            "_view_module": "@jupyter-widgets/controls",
            "_view_module_version": "1.5.0",
            "_view_name": "HBoxView",
            "box_style": "",
            "children": [
              "IPY_MODEL_27fe2e023f86463ca88187e92af007f9",
              "IPY_MODEL_72e6504177624d11bffca3f657066ed3",
              "IPY_MODEL_767a9d82a7904b2e87815cb4e030a1fb"
            ],
            "layout": "IPY_MODEL_a8213f8cd62049d1b0f7507263e86315"
          }
        },
        "e42fc1504b2743abadaa3478df6e140b": {
          "model_module": "@jupyter-widgets/base",
          "model_module_version": "1.2.0",
          "model_name": "LayoutModel",
          "state": {
            "_model_module": "@jupyter-widgets/base",
            "_model_module_version": "1.2.0",
            "_model_name": "LayoutModel",
            "_view_count": null,
            "_view_module": "@jupyter-widgets/base",
            "_view_module_version": "1.2.0",
            "_view_name": "LayoutView",
            "align_content": null,
            "align_items": null,
            "align_self": null,
            "border": null,
            "bottom": null,
            "display": null,
            "flex": null,
            "flex_flow": null,
            "grid_area": null,
            "grid_auto_columns": null,
            "grid_auto_flow": null,
            "grid_auto_rows": null,
            "grid_column": null,
            "grid_gap": null,
            "grid_row": null,
            "grid_template_areas": null,
            "grid_template_columns": null,
            "grid_template_rows": null,
            "height": null,
            "justify_content": null,
            "justify_items": null,
            "left": null,
            "margin": null,
            "max_height": null,
            "max_width": null,
            "min_height": null,
            "min_width": null,
            "object_fit": null,
            "object_position": null,
            "order": null,
            "overflow": null,
            "overflow_x": null,
            "overflow_y": null,
            "padding": null,
            "right": null,
            "top": null,
            "visibility": null,
            "width": null
          }
        },
        "f9d9a0fa42ac452baa4520c0ce7a32b2": {
          "model_module": "@jupyter-widgets/controls",
          "model_module_version": "1.5.0",
          "model_name": "DescriptionStyleModel",
          "state": {
            "_model_module": "@jupyter-widgets/controls",
            "_model_module_version": "1.5.0",
            "_model_name": "DescriptionStyleModel",
            "_view_count": null,
            "_view_module": "@jupyter-widgets/base",
            "_view_module_version": "1.2.0",
            "_view_name": "StyleView",
            "description_width": ""
          }
        },
        "fb0bb12f33ca47bca1d2a10213dc6a15": {
          "model_module": "@jupyter-widgets/controls",
          "model_module_version": "1.5.0",
          "model_name": "FloatProgressModel",
          "state": {
            "_dom_classes": [],
            "_model_module": "@jupyter-widgets/controls",
            "_model_module_version": "1.5.0",
            "_model_name": "FloatProgressModel",
            "_view_count": null,
            "_view_module": "@jupyter-widgets/controls",
            "_view_module_version": "1.5.0",
            "_view_name": "ProgressView",
            "bar_style": "success",
            "description": "",
            "description_tooltip": null,
            "layout": "IPY_MODEL_c28dfdec3a1c430a92882151c29f7909",
            "max": 481,
            "min": 0,
            "orientation": "horizontal",
            "style": "IPY_MODEL_32252e18582d4df1a6cd9d166a12a5f5",
            "value": 481
          }
        },
        "fc44d7c320db427f80daf5755a3d6c04": {
          "model_module": "@jupyter-widgets/controls",
          "model_module_version": "1.5.0",
          "model_name": "HBoxModel",
          "state": {
            "_dom_classes": [],
            "_model_module": "@jupyter-widgets/controls",
            "_model_module_version": "1.5.0",
            "_model_name": "HBoxModel",
            "_view_count": null,
            "_view_module": "@jupyter-widgets/controls",
            "_view_module_version": "1.5.0",
            "_view_name": "HBoxView",
            "box_style": "",
            "children": [
              "IPY_MODEL_5589d0414bd3498a9de83359172e0cb2",
              "IPY_MODEL_ba704872b91d481dab1d2067cb460723",
              "IPY_MODEL_be94e082e5b349b094268196ad041ff4"
            ],
            "layout": "IPY_MODEL_a485f453781d4b98991aacb6a966675b"
          }
        },
        "fd26bb1905014591b782d5ebd95606d5": {
          "model_module": "@jupyter-widgets/base",
          "model_module_version": "1.2.0",
          "model_name": "LayoutModel",
          "state": {
            "_model_module": "@jupyter-widgets/base",
            "_model_module_version": "1.2.0",
            "_model_name": "LayoutModel",
            "_view_count": null,
            "_view_module": "@jupyter-widgets/base",
            "_view_module_version": "1.2.0",
            "_view_name": "LayoutView",
            "align_content": null,
            "align_items": null,
            "align_self": null,
            "border": null,
            "bottom": null,
            "display": null,
            "flex": null,
            "flex_flow": null,
            "grid_area": null,
            "grid_auto_columns": null,
            "grid_auto_flow": null,
            "grid_auto_rows": null,
            "grid_column": null,
            "grid_gap": null,
            "grid_row": null,
            "grid_template_areas": null,
            "grid_template_columns": null,
            "grid_template_rows": null,
            "height": null,
            "justify_content": null,
            "justify_items": null,
            "left": null,
            "margin": null,
            "max_height": null,
            "max_width": null,
            "min_height": null,
            "min_width": null,
            "object_fit": null,
            "object_position": null,
            "order": null,
            "overflow": null,
            "overflow_x": null,
            "overflow_y": null,
            "padding": null,
            "right": null,
            "top": null,
            "visibility": null,
            "width": null
          }
        },
        "fff80ecde40746c5b4dbceecabd7ecea": {
          "model_module": "@jupyter-widgets/controls",
          "model_module_version": "1.5.0",
          "model_name": "DescriptionStyleModel",
          "state": {
            "_model_module": "@jupyter-widgets/controls",
            "_model_module_version": "1.5.0",
            "_model_name": "DescriptionStyleModel",
            "_view_count": null,
            "_view_module": "@jupyter-widgets/base",
            "_view_module_version": "1.2.0",
            "_view_name": "StyleView",
            "description_width": ""
          }
        }
      }
    }
  },
  "nbformat": 4,
  "nbformat_minor": 5
}
