{
  "cells": [
    {
      "cell_type": "markdown",
      "id": "ffb3ad02",
      "metadata": {},
      "source": [
        "# Sentiment classification with RoBERTa – Experiment D\n",
        "\n",
        "**Task:** Binary sentiment classification.\n",
        "\n",
        "\n",
        "**Model:** RoBERTa with a Multi-Layer Perceptron (MLP) head. The encoder is frozen, and only the classification head is trained.  \n",
        "\n",
        "\n",
        "**Experiment:** This experiment extends Experiment C by increasing the number of training epochs from 5 to 20, aiming to give the MLP classifier more opportunity to converge despite the frozen encoder. It uses the same 200k subset (due to dataset size constraints) and evaluates whether increasing the number of epochs can improve performance."
      ]
    },
    {
      "cell_type": "code",
      "execution_count": 36,
      "id": "2e3d1942",
      "metadata": {
        "colab": {
          "base_uri": "https://localhost:8080/"
        },
        "id": "2e3d1942",
        "outputId": "87de1872-e084-41a4-f91a-58c8eafdab05"
      },
      "outputs": [
        {
          "name": "stdout",
          "output_type": "stream",
          "text": [
            "Requirement already satisfied: gdown in /usr/local/lib/python3.11/dist-packages (5.2.0)\n",
            "Requirement already satisfied: transformers in /usr/local/lib/python3.11/dist-packages (4.51.3)\n",
            "Requirement already satisfied: datasets in /usr/local/lib/python3.11/dist-packages (2.14.4)\n",
            "Requirement already satisfied: tensorflow in /usr/local/lib/python3.11/dist-packages (2.18.0)\n",
            "Requirement already satisfied: scikit-learn in /usr/local/lib/python3.11/dist-packages (1.6.1)\n",
            "Requirement already satisfied: tf-keras in /usr/local/lib/python3.11/dist-packages (2.18.0)\n",
            "Requirement already satisfied: beautifulsoup4 in /usr/local/lib/python3.11/dist-packages (from gdown) (4.13.4)\n",
            "Requirement already satisfied: filelock in /usr/local/lib/python3.11/dist-packages (from gdown) (3.18.0)\n",
            "Requirement already satisfied: requests[socks] in /usr/local/lib/python3.11/dist-packages (from gdown) (2.32.3)\n",
            "Requirement already satisfied: tqdm in /usr/local/lib/python3.11/dist-packages (from gdown) (4.67.1)\n",
            "Requirement already satisfied: huggingface-hub<1.0,>=0.30.0 in /usr/local/lib/python3.11/dist-packages (from transformers) (0.31.1)\n",
            "Requirement already satisfied: numpy>=1.17 in /usr/local/lib/python3.11/dist-packages (from transformers) (2.0.2)\n",
            "Requirement already satisfied: packaging>=20.0 in /usr/local/lib/python3.11/dist-packages (from transformers) (24.2)\n",
            "Requirement already satisfied: pyyaml>=5.1 in /usr/local/lib/python3.11/dist-packages (from transformers) (6.0.2)\n",
            "Requirement already satisfied: regex!=2019.12.17 in /usr/local/lib/python3.11/dist-packages (from transformers) (2024.11.6)\n",
            "Requirement already satisfied: tokenizers<0.22,>=0.21 in /usr/local/lib/python3.11/dist-packages (from transformers) (0.21.1)\n",
            "Requirement already satisfied: safetensors>=0.4.3 in /usr/local/lib/python3.11/dist-packages (from transformers) (0.5.3)\n",
            "Requirement already satisfied: pyarrow>=8.0.0 in /usr/local/lib/python3.11/dist-packages (from datasets) (18.1.0)\n",
            "Requirement already satisfied: dill<0.3.8,>=0.3.0 in /usr/local/lib/python3.11/dist-packages (from datasets) (0.3.7)\n",
            "Requirement already satisfied: pandas in /usr/local/lib/python3.11/dist-packages (from datasets) (2.2.2)\n",
            "Requirement already satisfied: xxhash in /usr/local/lib/python3.11/dist-packages (from datasets) (3.5.0)\n",
            "Requirement already satisfied: multiprocess in /usr/local/lib/python3.11/dist-packages (from datasets) (0.70.15)\n",
            "Requirement already satisfied: fsspec>=2021.11.1 in /usr/local/lib/python3.11/dist-packages (from fsspec[http]>=2021.11.1->datasets) (2025.3.2)\n",
            "Requirement already satisfied: aiohttp in /usr/local/lib/python3.11/dist-packages (from datasets) (3.11.15)\n",
            "Requirement already satisfied: absl-py>=1.0.0 in /usr/local/lib/python3.11/dist-packages (from tensorflow) (1.4.0)\n",
            "Requirement already satisfied: astunparse>=1.6.0 in /usr/local/lib/python3.11/dist-packages (from tensorflow) (1.6.3)\n",
            "Requirement already satisfied: flatbuffers>=24.3.25 in /usr/local/lib/python3.11/dist-packages (from tensorflow) (25.2.10)\n",
            "Requirement already satisfied: gast!=0.5.0,!=0.5.1,!=0.5.2,>=0.2.1 in /usr/local/lib/python3.11/dist-packages (from tensorflow) (0.6.0)\n",
            "Requirement already satisfied: google-pasta>=0.1.1 in /usr/local/lib/python3.11/dist-packages (from tensorflow) (0.2.0)\n",
            "Requirement already satisfied: libclang>=13.0.0 in /usr/local/lib/python3.11/dist-packages (from tensorflow) (18.1.1)\n",
            "Requirement already satisfied: opt-einsum>=2.3.2 in /usr/local/lib/python3.11/dist-packages (from tensorflow) (3.4.0)\n",
            "Requirement already satisfied: protobuf!=4.21.0,!=4.21.1,!=4.21.2,!=4.21.3,!=4.21.4,!=4.21.5,<6.0.0dev,>=3.20.3 in /usr/local/lib/python3.11/dist-packages (from tensorflow) (5.29.4)\n",
            "Requirement already satisfied: setuptools in /usr/local/lib/python3.11/dist-packages (from tensorflow) (75.2.0)\n",
            "Requirement already satisfied: six>=1.12.0 in /usr/local/lib/python3.11/dist-packages (from tensorflow) (1.17.0)\n",
            "Requirement already satisfied: termcolor>=1.1.0 in /usr/local/lib/python3.11/dist-packages (from tensorflow) (3.1.0)\n",
            "Requirement already satisfied: typing-extensions>=3.6.6 in /usr/local/lib/python3.11/dist-packages (from tensorflow) (4.13.2)\n",
            "Requirement already satisfied: wrapt>=1.11.0 in /usr/local/lib/python3.11/dist-packages (from tensorflow) (1.17.2)\n",
            "Requirement already satisfied: grpcio<2.0,>=1.24.3 in /usr/local/lib/python3.11/dist-packages (from tensorflow) (1.71.0)\n",
            "Requirement already satisfied: tensorboard<2.19,>=2.18 in /usr/local/lib/python3.11/dist-packages (from tensorflow) (2.18.0)\n",
            "Requirement already satisfied: keras>=3.5.0 in /usr/local/lib/python3.11/dist-packages (from tensorflow) (3.8.0)\n",
            "Requirement already satisfied: h5py>=3.11.0 in /usr/local/lib/python3.11/dist-packages (from tensorflow) (3.13.0)\n",
            "Requirement already satisfied: ml-dtypes<0.5.0,>=0.4.0 in /usr/local/lib/python3.11/dist-packages (from tensorflow) (0.4.1)\n",
            "Requirement already satisfied: tensorflow-io-gcs-filesystem>=0.23.1 in /usr/local/lib/python3.11/dist-packages (from tensorflow) (0.37.1)\n",
            "Requirement already satisfied: scipy>=1.6.0 in /usr/local/lib/python3.11/dist-packages (from scikit-learn) (1.15.2)\n",
            "Requirement already satisfied: joblib>=1.2.0 in /usr/local/lib/python3.11/dist-packages (from scikit-learn) (1.5.0)\n",
            "Requirement already satisfied: threadpoolctl>=3.1.0 in /usr/local/lib/python3.11/dist-packages (from scikit-learn) (3.6.0)\n",
            "Requirement already satisfied: wheel<1.0,>=0.23.0 in /usr/local/lib/python3.11/dist-packages (from astunparse>=1.6.0->tensorflow) (0.45.1)\n",
            "Requirement already satisfied: aiohappyeyeballs>=2.3.0 in /usr/local/lib/python3.11/dist-packages (from aiohttp->datasets) (2.6.1)\n",
            "Requirement already satisfied: aiosignal>=1.1.2 in /usr/local/lib/python3.11/dist-packages (from aiohttp->datasets) (1.3.2)\n",
            "Requirement already satisfied: attrs>=17.3.0 in /usr/local/lib/python3.11/dist-packages (from aiohttp->datasets) (25.3.0)\n",
            "Requirement already satisfied: frozenlist>=1.1.1 in /usr/local/lib/python3.11/dist-packages (from aiohttp->datasets) (1.6.0)\n",
            "Requirement already satisfied: multidict<7.0,>=4.5 in /usr/local/lib/python3.11/dist-packages (from aiohttp->datasets) (6.4.3)\n",
            "Requirement already satisfied: propcache>=0.2.0 in /usr/local/lib/python3.11/dist-packages (from aiohttp->datasets) (0.3.1)\n",
            "Requirement already satisfied: yarl<2.0,>=1.17.0 in /usr/local/lib/python3.11/dist-packages (from aiohttp->datasets) (1.20.0)\n",
            "Requirement already satisfied: hf-xet<2.0.0,>=1.1.0 in /usr/local/lib/python3.11/dist-packages (from huggingface-hub<1.0,>=0.30.0->transformers) (1.1.0)\n",
            "Requirement already satisfied: rich in /usr/local/lib/python3.11/dist-packages (from keras>=3.5.0->tensorflow) (13.9.4)\n",
            "Requirement already satisfied: namex in /usr/local/lib/python3.11/dist-packages (from keras>=3.5.0->tensorflow) (0.0.9)\n",
            "Requirement already satisfied: optree in /usr/local/lib/python3.11/dist-packages (from keras>=3.5.0->tensorflow) (0.15.0)\n",
            "Requirement already satisfied: charset-normalizer<4,>=2 in /usr/local/lib/python3.11/dist-packages (from requests[socks]->gdown) (3.4.2)\n",
            "Requirement already satisfied: idna<4,>=2.5 in /usr/local/lib/python3.11/dist-packages (from requests[socks]->gdown) (3.10)\n",
            "Requirement already satisfied: urllib3<3,>=1.21.1 in /usr/local/lib/python3.11/dist-packages (from requests[socks]->gdown) (2.4.0)\n",
            "Requirement already satisfied: certifi>=2017.4.17 in /usr/local/lib/python3.11/dist-packages (from requests[socks]->gdown) (2025.4.26)\n",
            "Requirement already satisfied: markdown>=2.6.8 in /usr/local/lib/python3.11/dist-packages (from tensorboard<2.19,>=2.18->tensorflow) (3.8)\n",
            "Requirement already satisfied: tensorboard-data-server<0.8.0,>=0.7.0 in /usr/local/lib/python3.11/dist-packages (from tensorboard<2.19,>=2.18->tensorflow) (0.7.2)\n",
            "Requirement already satisfied: werkzeug>=1.0.1 in /usr/local/lib/python3.11/dist-packages (from tensorboard<2.19,>=2.18->tensorflow) (3.1.3)\n",
            "Requirement already satisfied: soupsieve>1.2 in /usr/local/lib/python3.11/dist-packages (from beautifulsoup4->gdown) (2.7)\n",
            "Requirement already satisfied: python-dateutil>=2.8.2 in /usr/local/lib/python3.11/dist-packages (from pandas->datasets) (2.9.0.post0)\n",
            "Requirement already satisfied: pytz>=2020.1 in /usr/local/lib/python3.11/dist-packages (from pandas->datasets) (2025.2)\n",
            "Requirement already satisfied: tzdata>=2022.7 in /usr/local/lib/python3.11/dist-packages (from pandas->datasets) (2025.2)\n",
            "Requirement already satisfied: PySocks!=1.5.7,>=1.5.6 in /usr/local/lib/python3.11/dist-packages (from requests[socks]->gdown) (1.7.1)\n",
            "Requirement already satisfied: MarkupSafe>=2.1.1 in /usr/local/lib/python3.11/dist-packages (from werkzeug>=1.0.1->tensorboard<2.19,>=2.18->tensorflow) (3.0.2)\n",
            "Requirement already satisfied: markdown-it-py>=2.2.0 in /usr/local/lib/python3.11/dist-packages (from rich->keras>=3.5.0->tensorflow) (3.0.0)\n",
            "Requirement already satisfied: pygments<3.0.0,>=2.13.0 in /usr/local/lib/python3.11/dist-packages (from rich->keras>=3.5.0->tensorflow) (2.19.1)\n",
            "Requirement already satisfied: mdurl~=0.1 in /usr/local/lib/python3.11/dist-packages (from markdown-it-py>=2.2.0->rich->keras>=3.5.0->tensorflow) (0.1.2)\n"
          ]
        }
      ],
      "source": [
        "%pip install gdown transformers datasets tensorflow scikit-learn tf-keras"
      ]
    },
    {
      "cell_type": "markdown",
      "id": "0c78b836",
      "metadata": {
        "id": "0c78b836"
      },
      "source": [
        "## Dataset loading options"
      ]
    },
    {
      "cell_type": "markdown",
      "id": "d8dee970",
      "metadata": {
        "id": "d8dee970"
      },
      "source": [
        "From Google Drive"
      ]
    },
    {
      "cell_type": "code",
      "execution_count": 37,
      "id": "cf067321",
      "metadata": {
        "colab": {
          "base_uri": "https://localhost:8080/"
        },
        "id": "cf067321",
        "outputId": "4da510b0-83ac-46b7-bc6b-432e7f0cb894"
      },
      "outputs": [
        {
          "name": "stdout",
          "output_type": "stream",
          "text": [
            "Downloading...\n",
            "From (original): https://drive.google.com/uc?id=0Bz8a_Dbh9QhbZVhsUnRWRDhETzA\n",
            "From (redirected): https://drive.google.com/uc?id=0Bz8a_Dbh9QhbZVhsUnRWRDhETzA&confirm=t&uuid=0632c8d1-8831-4d4d-89f9-e4e391e08b9b\n",
            "To: /content/amazon_review_full_csv.tar.gz\n",
            "100% 644M/644M [00:04<00:00, 146MB/s]\n"
          ]
        }
      ],
      "source": [
        "file_id = \"0Bz8a_Dbh9QhbZVhsUnRWRDhETzA\"\n",
        "output_name = 'amazon_review_full_csv.tar.gz'\n",
        "!gdown --fuzzy https://drive.google.com/uc?id={file_id} -O {output_name}"
      ]
    },
    {
      "cell_type": "code",
      "execution_count": 38,
      "id": "9ea5673f",
      "metadata": {
        "id": "9ea5673f"
      },
      "outputs": [],
      "source": [
        "import tarfile\n",
        "\n",
        "with tarfile.open(output_name, \"r:gz\") as tar:\n",
        "    tar.extractall(\"Dataset\")"
      ]
    },
    {
      "cell_type": "code",
      "execution_count": 39,
      "id": "cef4ca3c",
      "metadata": {
        "colab": {
          "base_uri": "https://localhost:8080/"
        },
        "id": "cef4ca3c",
        "outputId": "2eb7d5ed-90b2-4b7b-f076-40c2e7b6c3e4"
      },
      "outputs": [
        {
          "name": "stdout",
          "output_type": "stream",
          "text": [
            "Dataset:\n",
            "amazon_review_full_csv\n",
            "\n",
            "Dataset/amazon_review_full_csv:\n",
            "readme.txt  test.csv  train.csv\n"
          ]
        }
      ],
      "source": [
        "!ls -R Dataset"
      ]
    },
    {
      "cell_type": "markdown",
      "id": "3e61bd72",
      "metadata": {
        "id": "3e61bd72"
      },
      "source": [
        "## Import Libraries"
      ]
    },
    {
      "cell_type": "code",
      "execution_count": 40,
      "id": "82ce21f2",
      "metadata": {
        "id": "82ce21f2"
      },
      "outputs": [],
      "source": [
        "import pandas as pd\n",
        "import json\n",
        "import tensorflow as tf\n",
        "import os\n",
        "import time\n",
        "import tf_keras as keras\n",
        "from sklearn.model_selection import train_test_split\n",
        "from transformers import AutoTokenizer, TFAutoModel\n",
        "import numpy as np\n",
        "from google.colab import drive\n",
        "import matplotlib.pyplot as plt\n"
      ]
    },
    {
      "cell_type": "code",
      "execution_count": 41,
      "id": "717a014f",
      "metadata": {
        "colab": {
          "base_uri": "https://localhost:8080/"
        },
        "id": "717a014f",
        "outputId": "567b729f-da05-4083-df66-c268e8541e49"
      },
      "outputs": [
        {
          "name": "stdout",
          "output_type": "stream",
          "text": [
            "Drive already mounted at /content/drive; to attempt to forcibly remount, call drive.mount(\"/content/drive\", force_remount=True).\n"
          ]
        }
      ],
      "source": [
        "drive.mount(\"/content/drive\")"
      ]
    },
    {
      "cell_type": "code",
      "execution_count": 42,
      "id": "3be7c556",
      "metadata": {
        "colab": {
          "base_uri": "https://localhost:8080/"
        },
        "id": "3be7c556",
        "outputId": "875e557a-48e6-4ca4-f7ae-c7bf9c8737d4"
      },
      "outputs": [
        {
          "name": "stdout",
          "output_type": "stream",
          "text": [
            "NVIDIA A100-SXM4-40GB\n"
          ]
        }
      ],
      "source": [
        "gpus = tf.config.list_physical_devices('GPU')\n",
        "gpu_name = None\n",
        "if gpus:\n",
        "    details = tf.config.experimental.get_device_details(gpus[0])\n",
        "    gpu_name = details.get('device_name', gpus[0].name)\n",
        "else:\n",
        "    gpu_name = 'CPU'\n",
        "\n",
        "print(gpu_name)"
      ]
    },
    {
      "cell_type": "markdown",
      "id": "873a888d",
      "metadata": {
        "id": "873a888d"
      },
      "source": [
        "## Model settings"
      ]
    },
    {
      "cell_type": "code",
      "execution_count": 43,
      "id": "e6dd8615",
      "metadata": {
        "id": "e6dd8615"
      },
      "outputs": [],
      "source": [
        "MODEL_NAME    = \"roberta-base\"\n",
        "BATCH_SIZE    = 32\n",
        "EPOCHS        = 20\n",
        "LEARNING_RATE = 2e-5\n",
        "NUM_LABELS    = 2\n",
        "RANDOM_STATE = 42\n",
        "BASE_DIR_STORAGE = '/content/drive/MyDrive/HLT_models'\n",
        "ENCODER_TRAINABLE = False"
      ]
    },
    {
      "cell_type": "code",
      "execution_count": 44,
      "id": "bde2bb2d",
      "metadata": {
        "id": "bde2bb2d"
      },
      "outputs": [],
      "source": [
        "train_data_filename = \"./Dataset/amazon_review_full_csv/train.csv\"\n",
        "test_data_filename = \"./Dataset/amazon_review_full_csv/test.csv\""
      ]
    },
    {
      "cell_type": "markdown",
      "id": "4845f464",
      "metadata": {
        "id": "4845f464"
      },
      "source": [
        "## Utilities Functions"
      ]
    },
    {
      "cell_type": "markdown",
      "id": "2a0cff0a",
      "metadata": {
        "id": "2a0cff0a"
      },
      "source": [
        "### Data Loading and Extraction"
      ]
    },
    {
      "cell_type": "code",
      "execution_count": 45,
      "id": "0ecb3724",
      "metadata": {
        "id": "0ecb3724"
      },
      "outputs": [],
      "source": [
        "def download_and_extract(file_id: str, output_name: str, extract_dir: str):\n",
        "\n",
        "    os.system(f\"gdown --fuzzy https://drive.google.com/uc?id={file_id} -O {output_name}\")\n",
        "    with tarfile.open(output_name, \"r:gz\") as tar:\n",
        "        tar.extractall(extract_dir)"
      ]
    },
    {
      "cell_type": "markdown",
      "id": "5194f57d",
      "metadata": {
        "id": "5194f57d"
      },
      "source": [
        "### Dataframe Building"
      ]
    },
    {
      "cell_type": "code",
      "execution_count": 46,
      "id": "aa05c950",
      "metadata": {
        "id": "aa05c950"
      },
      "outputs": [],
      "source": [
        "def load_dataframe(path: str) -> pd.DataFrame:\n",
        "    \"\"\"\n",
        "    Legge un CSV con colonne [label, title, text] e rimuove righe malformate.\n",
        "    \"\"\"\n",
        "    df = pd.read_csv(\n",
        "        path,\n",
        "        header=None,\n",
        "        names=[\"label\",\"title\",\"text\"],\n",
        "        quotechar='\"', doublequote=True, escapechar='\\\\',\n",
        "        engine='python', encoding='utf-8', on_bad_lines='skip'\n",
        "    )\n",
        "    return df"
      ]
    },
    {
      "cell_type": "markdown",
      "id": "6a84e726",
      "metadata": {
        "id": "6a84e726"
      },
      "source": [
        "Remove NAN and filter by score 3"
      ]
    },
    {
      "cell_type": "code",
      "execution_count": 47,
      "id": "ab74b5d7",
      "metadata": {
        "id": "ab74b5d7"
      },
      "outputs": [],
      "source": [
        "def clean_dataframe(df: pd.DataFrame) -> pd.DataFrame:\n",
        "    df = df.dropna()\n",
        "    df = df[df['label'] != 3]\n",
        "    return df.reset_index(drop=True)"
      ]
    },
    {
      "cell_type": "markdown",
      "id": "9248f8bd",
      "metadata": {
        "id": "9248f8bd"
      },
      "source": [
        "### Mapping sentiment for binary classification"
      ]
    },
    {
      "cell_type": "code",
      "execution_count": 48,
      "id": "3ca0d776",
      "metadata": {
        "id": "3ca0d776"
      },
      "outputs": [],
      "source": [
        "def map_sentiment(df: pd.DataFrame) -> pd.DataFrame:\n",
        "    df = df.copy()\n",
        "    df['sentiment'] = df['label'].apply(lambda x: 0 if x <= 2 else 1)\n",
        "    return df"
      ]
    },
    {
      "cell_type": "markdown",
      "id": "24fdc94c",
      "metadata": {
        "id": "24fdc94c"
      },
      "source": [
        "### Text Construction and cleaning\n",
        "Create column 'review' concatenating title and text. Replace newline with space"
      ]
    },
    {
      "cell_type": "code",
      "execution_count": null,
      "id": "1518e68c",
      "metadata": {
        "id": "1518e68c"
      },
      "outputs": [],
      "source": [
        "def build_reviews(df: pd.DataFrame) -> pd.Series:\n",
        "    reviews = df['title'].fillna('') + ' ' + df['text'].fillna('')\n",
        "    return reviews"
      ]
    },
    {
      "cell_type": "markdown",
      "id": "8a705e69",
      "metadata": {
        "id": "8a705e69"
      },
      "source": [
        "### Define Tokenization Class\n",
        "This class contains functions to tokenize text and save encodings to allow performing 'una tantum tokenization'.\n"
      ]
    },
    {
      "cell_type": "code",
      "execution_count": 50,
      "id": "a20b9696",
      "metadata": {
        "id": "a20b9696"
      },
      "outputs": [],
      "source": [
        "# --- Tokenization & Caching ---\n",
        "class TokenCache:\n",
        "    def __init__(self, max_len: int, cache_dir: str):\n",
        "        self.tokenizer = AutoTokenizer.from_pretrained(MODEL_NAME)\n",
        "        self.max_len = max_len\n",
        "        os.makedirs(cache_dir, exist_ok=True)\n",
        "        self.cache_dir = cache_dir\n",
        "\n",
        "    def tokenize_and_save(self, texts: list[str], labels, sample_size: str):\n",
        "\n",
        "        encodings = self.tokenizer(\n",
        "            texts,\n",
        "            max_length=self.max_len,\n",
        "            truncation=True,\n",
        "            padding='do_not_pad',\n",
        "            return_attention_mask=True\n",
        "        )\n",
        "\n",
        "        os.makedirs(self.cache_dir, exist_ok=True)\n",
        "\n",
        "\n",
        "        prefix = f\"{MODEL_NAME}_{sample_size}\"\n",
        "\n",
        "        if ENCODER_TRAINABLE:\n",
        "            prefix = f\"{prefix}_retrain\"\n",
        "\n",
        "        # save on disk\n",
        "        np.savez_compressed(\n",
        "            os.path.join(self.cache_dir,f\"train_enc_{prefix}.npz\"),\n",
        "            ids   = np.array(encodings[\"input_ids\"], dtype=object),\n",
        "            attn  = np.array(encodings[\"attention_mask\"], dtype=object),\n",
        "            label = labels\n",
        "        )\n",
        "\n",
        "        npz_path = f\"train_enc_{prefix}.npz\"\n",
        "        # save on temporary session\n",
        "        np.savez_compressed(\n",
        "            f\"train_enc_{prefix}.npz\",\n",
        "            ids   = np.array(encodings[\"input_ids\"], dtype=object),\n",
        "            attn  = np.array(encodings[\"attention_mask\"], dtype=object),\n",
        "            label = labels\n",
        "        )\n",
        "\n",
        "        return npz_path\n",
        "\n",
        "    def load_encodings(self, npz_path: str):\n",
        "        return np.load(npz_path, allow_pickle=True)\n"
      ]
    },
    {
      "cell_type": "markdown",
      "id": "bd45c968",
      "metadata": {
        "id": "bd45c968"
      },
      "source": [
        "### TF Dataset Preparation"
      ]
    },
    {
      "cell_type": "code",
      "execution_count": 51,
      "id": "9f7b8e0d",
      "metadata": {
        "id": "9f7b8e0d"
      },
      "outputs": [],
      "source": [
        "def from_encodings_to_dataset(d: dict) -> tf.data.Dataset:\n",
        "\n",
        "    def generator():\n",
        "        for ids, attentions, labels in zip(d[\"ids\"], d[\"attn\"], d[\"label\"]):\n",
        "            yield {\n",
        "                \"input_ids\":     np.array(ids,  dtype=np.int32),\n",
        "                \"attention_mask\": np.array(attentions, dtype=np.int32)\n",
        "        }, np.int32(labels)\n",
        "\n",
        "    raw_ds = tf.data.Dataset.from_generator(\n",
        "        generator,\n",
        "        output_signature=(\n",
        "            {\"input_ids\": tf.TensorSpec(shape=(None,), dtype=tf.int32),\n",
        "             \"attention_mask\": tf.TensorSpec(shape=(None,), dtype=tf.int32)},\n",
        "            tf.TensorSpec(shape=(), dtype=tf.int32)\n",
        "        )\n",
        "    )\n",
        "    return raw_ds"
      ]
    },
    {
      "cell_type": "markdown",
      "id": "fa2a0c2f",
      "metadata": {
        "id": "fa2a0c2f"
      },
      "source": [
        "### Manage Dynamic padding, batching and prefetch\n",
        "The following function wraps two key steps into one reusable pipeline stage:\n",
        "1. padded_batch(...)\n",
        "\t- Groups elements into batches of size BATCH_SIZE\n",
        "\t- Dynamically pads each batch’s input_ids and attention_mask to the length of the longest sequence in that batch\n",
        "2.\t.prefetch(tf.data.AUTOTUNE)\n",
        "\t- Overlaps data preparation and model execution to keep the GPU fed\n",
        "\n",
        "In short: *prepare_dataset* turns a raw dataset of variable‐length examples into an efficient, dynamically‐padded, batched dataset ready for training.\n",
        "\n",
        "Dynamic padding means that, instead of padding every sequence up to a fixed global MAX_LEN, you pad each batch only up to the length of its longest example."
      ]
    },
    {
      "cell_type": "code",
      "execution_count": 52,
      "id": "dceb570b",
      "metadata": {
        "id": "dceb570b"
      },
      "outputs": [],
      "source": [
        "\n",
        "def prepare_dataset(ds: tf.data.Dataset, pad_token_id: int, shuffle_buffer: int = None, repeat: bool = False) -> tf.data.Dataset:\n",
        "\n",
        "    if shuffle_buffer:\n",
        "        ds = ds.shuffle(buffer_size=shuffle_buffer, seed=RANDOM_STATE)\n",
        "\n",
        "    ds = ds.padded_batch(\n",
        "        BATCH_SIZE,\n",
        "        padded_shapes=({\"input_ids\": [None], \"attention_mask\": [None]}, []),\n",
        "        padding_values=({\"input_ids\": pad_token_id, \"attention_mask\": 0}, 0)\n",
        "    )\n",
        "\n",
        "    # in train set, during training without repeat, train set emits all batches only one time\n",
        "    # if steps_for_epochs > real batches -> input ran out of data\n",
        "    # with epochs > 1, at the second epoch there is nothing to read\n",
        "    if repeat:\n",
        "        ds = ds.repeat()\n",
        "\n",
        "    return ds.prefetch(tf.data.AUTOTUNE)\n"
      ]
    },
    {
      "cell_type": "markdown",
      "id": "c7a0c73c",
      "metadata": {
        "id": "c7a0c73c"
      },
      "source": [
        "## Training set preprocessing"
      ]
    },
    {
      "cell_type": "code",
      "execution_count": 53,
      "id": "77eabf92",
      "metadata": {
        "id": "77eabf92"
      },
      "outputs": [],
      "source": [
        "df_train = load_dataframe(path=train_data_filename)"
      ]
    },
    {
      "cell_type": "code",
      "execution_count": 54,
      "id": "59841d38",
      "metadata": {
        "colab": {
          "base_uri": "https://localhost:8080/"
        },
        "id": "59841d38",
        "outputId": "60408850-c4e4-461e-8184-2b9610d5fc6c"
      },
      "outputs": [
        {
          "data": {
            "text/plain": [
              "2999746"
            ]
          },
          "execution_count": 54,
          "metadata": {},
          "output_type": "execute_result"
        }
      ],
      "source": [
        "df_train.shape[0]"
      ]
    },
    {
      "cell_type": "code",
      "execution_count": 55,
      "id": "7064aa23",
      "metadata": {
        "colab": {
          "base_uri": "https://localhost:8080/",
          "height": 297
        },
        "id": "7064aa23",
        "outputId": "1b971902-22ed-4c2b-f90a-491ce7d986f9"
      },
      "outputs": [
        {
          "data": {
            "application/vnd.google.colaboratory.intrinsic+json": {
              "summary": "{\n  \"name\": \"df_train\",\n  \"rows\": 8,\n  \"fields\": [\n    {\n      \"column\": \"label\",\n      \"properties\": {\n        \"dtype\": \"number\",\n        \"std\": 1060569.3886522294,\n        \"min\": 1.0,\n        \"max\": 2999746.0,\n        \"num_unique_values\": 8,\n        \"samples\": [\n          3.0000216685012666,\n          3.0,\n          2999746.0\n        ],\n        \"semantic_type\": \"\",\n        \"description\": \"\"\n      }\n    }\n  ]\n}",
              "type": "dataframe"
            },
            "text/html": [
              "\n",
              "  <div id=\"df-33bfccb0-ed5b-444e-bc2d-25586f611434\" class=\"colab-df-container\">\n",
              "    <div>\n",
              "<style scoped>\n",
              "    .dataframe tbody tr th:only-of-type {\n",
              "        vertical-align: middle;\n",
              "    }\n",
              "\n",
              "    .dataframe tbody tr th {\n",
              "        vertical-align: top;\n",
              "    }\n",
              "\n",
              "    .dataframe thead th {\n",
              "        text-align: right;\n",
              "    }\n",
              "</style>\n",
              "<table border=\"1\" class=\"dataframe\">\n",
              "  <thead>\n",
              "    <tr style=\"text-align: right;\">\n",
              "      <th></th>\n",
              "      <th>label</th>\n",
              "    </tr>\n",
              "  </thead>\n",
              "  <tbody>\n",
              "    <tr>\n",
              "      <th>count</th>\n",
              "      <td>2.999746e+06</td>\n",
              "    </tr>\n",
              "    <tr>\n",
              "      <th>mean</th>\n",
              "      <td>3.000022e+00</td>\n",
              "    </tr>\n",
              "    <tr>\n",
              "      <th>std</th>\n",
              "      <td>1.414218e+00</td>\n",
              "    </tr>\n",
              "    <tr>\n",
              "      <th>min</th>\n",
              "      <td>1.000000e+00</td>\n",
              "    </tr>\n",
              "    <tr>\n",
              "      <th>25%</th>\n",
              "      <td>2.000000e+00</td>\n",
              "    </tr>\n",
              "    <tr>\n",
              "      <th>50%</th>\n",
              "      <td>3.000000e+00</td>\n",
              "    </tr>\n",
              "    <tr>\n",
              "      <th>75%</th>\n",
              "      <td>4.000000e+00</td>\n",
              "    </tr>\n",
              "    <tr>\n",
              "      <th>max</th>\n",
              "      <td>5.000000e+00</td>\n",
              "    </tr>\n",
              "  </tbody>\n",
              "</table>\n",
              "</div>\n",
              "    <div class=\"colab-df-buttons\">\n",
              "\n",
              "  <div class=\"colab-df-container\">\n",
              "    <button class=\"colab-df-convert\" onclick=\"convertToInteractive('df-33bfccb0-ed5b-444e-bc2d-25586f611434')\"\n",
              "            title=\"Convert this dataframe to an interactive table.\"\n",
              "            style=\"display:none;\">\n",
              "\n",
              "  <svg xmlns=\"http://www.w3.org/2000/svg\" height=\"24px\" viewBox=\"0 -960 960 960\">\n",
              "    <path d=\"M120-120v-720h720v720H120Zm60-500h600v-160H180v160Zm220 220h160v-160H400v160Zm0 220h160v-160H400v160ZM180-400h160v-160H180v160Zm440 0h160v-160H620v160ZM180-180h160v-160H180v160Zm440 0h160v-160H620v160Z\"/>\n",
              "  </svg>\n",
              "    </button>\n",
              "\n",
              "  <style>\n",
              "    .colab-df-container {\n",
              "      display:flex;\n",
              "      gap: 12px;\n",
              "    }\n",
              "\n",
              "    .colab-df-convert {\n",
              "      background-color: #E8F0FE;\n",
              "      border: none;\n",
              "      border-radius: 50%;\n",
              "      cursor: pointer;\n",
              "      display: none;\n",
              "      fill: #1967D2;\n",
              "      height: 32px;\n",
              "      padding: 0 0 0 0;\n",
              "      width: 32px;\n",
              "    }\n",
              "\n",
              "    .colab-df-convert:hover {\n",
              "      background-color: #E2EBFA;\n",
              "      box-shadow: 0px 1px 2px rgba(60, 64, 67, 0.3), 0px 1px 3px 1px rgba(60, 64, 67, 0.15);\n",
              "      fill: #174EA6;\n",
              "    }\n",
              "\n",
              "    .colab-df-buttons div {\n",
              "      margin-bottom: 4px;\n",
              "    }\n",
              "\n",
              "    [theme=dark] .colab-df-convert {\n",
              "      background-color: #3B4455;\n",
              "      fill: #D2E3FC;\n",
              "    }\n",
              "\n",
              "    [theme=dark] .colab-df-convert:hover {\n",
              "      background-color: #434B5C;\n",
              "      box-shadow: 0px 1px 3px 1px rgba(0, 0, 0, 0.15);\n",
              "      filter: drop-shadow(0px 1px 2px rgba(0, 0, 0, 0.3));\n",
              "      fill: #FFFFFF;\n",
              "    }\n",
              "  </style>\n",
              "\n",
              "    <script>\n",
              "      const buttonEl =\n",
              "        document.querySelector('#df-33bfccb0-ed5b-444e-bc2d-25586f611434 button.colab-df-convert');\n",
              "      buttonEl.style.display =\n",
              "        google.colab.kernel.accessAllowed ? 'block' : 'none';\n",
              "\n",
              "      async function convertToInteractive(key) {\n",
              "        const element = document.querySelector('#df-33bfccb0-ed5b-444e-bc2d-25586f611434');\n",
              "        const dataTable =\n",
              "          await google.colab.kernel.invokeFunction('convertToInteractive',\n",
              "                                                    [key], {});\n",
              "        if (!dataTable) return;\n",
              "\n",
              "        const docLinkHtml = 'Like what you see? Visit the ' +\n",
              "          '<a target=\"_blank\" href=https://colab.research.google.com/notebooks/data_table.ipynb>data table notebook</a>'\n",
              "          + ' to learn more about interactive tables.';\n",
              "        element.innerHTML = '';\n",
              "        dataTable['output_type'] = 'display_data';\n",
              "        await google.colab.output.renderOutput(dataTable, element);\n",
              "        const docLink = document.createElement('div');\n",
              "        docLink.innerHTML = docLinkHtml;\n",
              "        element.appendChild(docLink);\n",
              "      }\n",
              "    </script>\n",
              "  </div>\n",
              "\n",
              "\n",
              "    <div id=\"df-6242e8b2-cd7f-439d-be85-93d1bc68ab92\">\n",
              "      <button class=\"colab-df-quickchart\" onclick=\"quickchart('df-6242e8b2-cd7f-439d-be85-93d1bc68ab92')\"\n",
              "                title=\"Suggest charts\"\n",
              "                style=\"display:none;\">\n",
              "\n",
              "<svg xmlns=\"http://www.w3.org/2000/svg\" height=\"24px\"viewBox=\"0 0 24 24\"\n",
              "     width=\"24px\">\n",
              "    <g>\n",
              "        <path d=\"M19 3H5c-1.1 0-2 .9-2 2v14c0 1.1.9 2 2 2h14c1.1 0 2-.9 2-2V5c0-1.1-.9-2-2-2zM9 17H7v-7h2v7zm4 0h-2V7h2v10zm4 0h-2v-4h2v4z\"/>\n",
              "    </g>\n",
              "</svg>\n",
              "      </button>\n",
              "\n",
              "<style>\n",
              "  .colab-df-quickchart {\n",
              "      --bg-color: #E8F0FE;\n",
              "      --fill-color: #1967D2;\n",
              "      --hover-bg-color: #E2EBFA;\n",
              "      --hover-fill-color: #174EA6;\n",
              "      --disabled-fill-color: #AAA;\n",
              "      --disabled-bg-color: #DDD;\n",
              "  }\n",
              "\n",
              "  [theme=dark] .colab-df-quickchart {\n",
              "      --bg-color: #3B4455;\n",
              "      --fill-color: #D2E3FC;\n",
              "      --hover-bg-color: #434B5C;\n",
              "      --hover-fill-color: #FFFFFF;\n",
              "      --disabled-bg-color: #3B4455;\n",
              "      --disabled-fill-color: #666;\n",
              "  }\n",
              "\n",
              "  .colab-df-quickchart {\n",
              "    background-color: var(--bg-color);\n",
              "    border: none;\n",
              "    border-radius: 50%;\n",
              "    cursor: pointer;\n",
              "    display: none;\n",
              "    fill: var(--fill-color);\n",
              "    height: 32px;\n",
              "    padding: 0;\n",
              "    width: 32px;\n",
              "  }\n",
              "\n",
              "  .colab-df-quickchart:hover {\n",
              "    background-color: var(--hover-bg-color);\n",
              "    box-shadow: 0 1px 2px rgba(60, 64, 67, 0.3), 0 1px 3px 1px rgba(60, 64, 67, 0.15);\n",
              "    fill: var(--button-hover-fill-color);\n",
              "  }\n",
              "\n",
              "  .colab-df-quickchart-complete:disabled,\n",
              "  .colab-df-quickchart-complete:disabled:hover {\n",
              "    background-color: var(--disabled-bg-color);\n",
              "    fill: var(--disabled-fill-color);\n",
              "    box-shadow: none;\n",
              "  }\n",
              "\n",
              "  .colab-df-spinner {\n",
              "    border: 2px solid var(--fill-color);\n",
              "    border-color: transparent;\n",
              "    border-bottom-color: var(--fill-color);\n",
              "    animation:\n",
              "      spin 1s steps(1) infinite;\n",
              "  }\n",
              "\n",
              "  @keyframes spin {\n",
              "    0% {\n",
              "      border-color: transparent;\n",
              "      border-bottom-color: var(--fill-color);\n",
              "      border-left-color: var(--fill-color);\n",
              "    }\n",
              "    20% {\n",
              "      border-color: transparent;\n",
              "      border-left-color: var(--fill-color);\n",
              "      border-top-color: var(--fill-color);\n",
              "    }\n",
              "    30% {\n",
              "      border-color: transparent;\n",
              "      border-left-color: var(--fill-color);\n",
              "      border-top-color: var(--fill-color);\n",
              "      border-right-color: var(--fill-color);\n",
              "    }\n",
              "    40% {\n",
              "      border-color: transparent;\n",
              "      border-right-color: var(--fill-color);\n",
              "      border-top-color: var(--fill-color);\n",
              "    }\n",
              "    60% {\n",
              "      border-color: transparent;\n",
              "      border-right-color: var(--fill-color);\n",
              "    }\n",
              "    80% {\n",
              "      border-color: transparent;\n",
              "      border-right-color: var(--fill-color);\n",
              "      border-bottom-color: var(--fill-color);\n",
              "    }\n",
              "    90% {\n",
              "      border-color: transparent;\n",
              "      border-bottom-color: var(--fill-color);\n",
              "    }\n",
              "  }\n",
              "</style>\n",
              "\n",
              "      <script>\n",
              "        async function quickchart(key) {\n",
              "          const quickchartButtonEl =\n",
              "            document.querySelector('#' + key + ' button');\n",
              "          quickchartButtonEl.disabled = true;  // To prevent multiple clicks.\n",
              "          quickchartButtonEl.classList.add('colab-df-spinner');\n",
              "          try {\n",
              "            const charts = await google.colab.kernel.invokeFunction(\n",
              "                'suggestCharts', [key], {});\n",
              "          } catch (error) {\n",
              "            console.error('Error during call to suggestCharts:', error);\n",
              "          }\n",
              "          quickchartButtonEl.classList.remove('colab-df-spinner');\n",
              "          quickchartButtonEl.classList.add('colab-df-quickchart-complete');\n",
              "        }\n",
              "        (() => {\n",
              "          let quickchartButtonEl =\n",
              "            document.querySelector('#df-6242e8b2-cd7f-439d-be85-93d1bc68ab92 button');\n",
              "          quickchartButtonEl.style.display =\n",
              "            google.colab.kernel.accessAllowed ? 'block' : 'none';\n",
              "        })();\n",
              "      </script>\n",
              "    </div>\n",
              "\n",
              "    </div>\n",
              "  </div>\n"
            ],
            "text/plain": [
              "              label\n",
              "count  2.999746e+06\n",
              "mean   3.000022e+00\n",
              "std    1.414218e+00\n",
              "min    1.000000e+00\n",
              "25%    2.000000e+00\n",
              "50%    3.000000e+00\n",
              "75%    4.000000e+00\n",
              "max    5.000000e+00"
            ]
          },
          "execution_count": 55,
          "metadata": {},
          "output_type": "execute_result"
        }
      ],
      "source": [
        "df_train.describe()"
      ]
    },
    {
      "cell_type": "code",
      "execution_count": 56,
      "id": "28d9297f",
      "metadata": {
        "colab": {
          "base_uri": "https://localhost:8080/",
          "height": 204
        },
        "id": "28d9297f",
        "outputId": "acd8a6e7-1edb-4a32-89d8-c1c1f139ec43"
      },
      "outputs": [
        {
          "data": {
            "application/vnd.google.colaboratory.intrinsic+json": {
              "type": "dataframe",
              "variable_name": "df_train"
            },
            "text/html": [
              "\n",
              "  <div id=\"df-bacffc0d-a305-4493-910f-c2a77cdd0dc6\" class=\"colab-df-container\">\n",
              "    <div>\n",
              "<style scoped>\n",
              "    .dataframe tbody tr th:only-of-type {\n",
              "        vertical-align: middle;\n",
              "    }\n",
              "\n",
              "    .dataframe tbody tr th {\n",
              "        vertical-align: top;\n",
              "    }\n",
              "\n",
              "    .dataframe thead th {\n",
              "        text-align: right;\n",
              "    }\n",
              "</style>\n",
              "<table border=\"1\" class=\"dataframe\">\n",
              "  <thead>\n",
              "    <tr style=\"text-align: right;\">\n",
              "      <th></th>\n",
              "      <th>label</th>\n",
              "      <th>title</th>\n",
              "      <th>text</th>\n",
              "    </tr>\n",
              "  </thead>\n",
              "  <tbody>\n",
              "    <tr>\n",
              "      <th>0</th>\n",
              "      <td>3</td>\n",
              "      <td>more like funchuck</td>\n",
              "      <td>Gave this to my dad for a gag gift after direc...</td>\n",
              "    </tr>\n",
              "    <tr>\n",
              "      <th>1</th>\n",
              "      <td>5</td>\n",
              "      <td>Inspiring</td>\n",
              "      <td>I hope a lot of people hear this cd. We need m...</td>\n",
              "    </tr>\n",
              "    <tr>\n",
              "      <th>2</th>\n",
              "      <td>5</td>\n",
              "      <td>The best soundtrack ever to anything.</td>\n",
              "      <td>I'm reading a lot of reviews saying that this ...</td>\n",
              "    </tr>\n",
              "    <tr>\n",
              "      <th>3</th>\n",
              "      <td>4</td>\n",
              "      <td>Chrono Cross OST</td>\n",
              "      <td>The music of Yasunori Misuda is without questi...</td>\n",
              "    </tr>\n",
              "    <tr>\n",
              "      <th>4</th>\n",
              "      <td>5</td>\n",
              "      <td>Too good to be true</td>\n",
              "      <td>Probably the greatest soundtrack in history! U...</td>\n",
              "    </tr>\n",
              "  </tbody>\n",
              "</table>\n",
              "</div>\n",
              "    <div class=\"colab-df-buttons\">\n",
              "\n",
              "  <div class=\"colab-df-container\">\n",
              "    <button class=\"colab-df-convert\" onclick=\"convertToInteractive('df-bacffc0d-a305-4493-910f-c2a77cdd0dc6')\"\n",
              "            title=\"Convert this dataframe to an interactive table.\"\n",
              "            style=\"display:none;\">\n",
              "\n",
              "  <svg xmlns=\"http://www.w3.org/2000/svg\" height=\"24px\" viewBox=\"0 -960 960 960\">\n",
              "    <path d=\"M120-120v-720h720v720H120Zm60-500h600v-160H180v160Zm220 220h160v-160H400v160Zm0 220h160v-160H400v160ZM180-400h160v-160H180v160Zm440 0h160v-160H620v160ZM180-180h160v-160H180v160Zm440 0h160v-160H620v160Z\"/>\n",
              "  </svg>\n",
              "    </button>\n",
              "\n",
              "  <style>\n",
              "    .colab-df-container {\n",
              "      display:flex;\n",
              "      gap: 12px;\n",
              "    }\n",
              "\n",
              "    .colab-df-convert {\n",
              "      background-color: #E8F0FE;\n",
              "      border: none;\n",
              "      border-radius: 50%;\n",
              "      cursor: pointer;\n",
              "      display: none;\n",
              "      fill: #1967D2;\n",
              "      height: 32px;\n",
              "      padding: 0 0 0 0;\n",
              "      width: 32px;\n",
              "    }\n",
              "\n",
              "    .colab-df-convert:hover {\n",
              "      background-color: #E2EBFA;\n",
              "      box-shadow: 0px 1px 2px rgba(60, 64, 67, 0.3), 0px 1px 3px 1px rgba(60, 64, 67, 0.15);\n",
              "      fill: #174EA6;\n",
              "    }\n",
              "\n",
              "    .colab-df-buttons div {\n",
              "      margin-bottom: 4px;\n",
              "    }\n",
              "\n",
              "    [theme=dark] .colab-df-convert {\n",
              "      background-color: #3B4455;\n",
              "      fill: #D2E3FC;\n",
              "    }\n",
              "\n",
              "    [theme=dark] .colab-df-convert:hover {\n",
              "      background-color: #434B5C;\n",
              "      box-shadow: 0px 1px 3px 1px rgba(0, 0, 0, 0.15);\n",
              "      filter: drop-shadow(0px 1px 2px rgba(0, 0, 0, 0.3));\n",
              "      fill: #FFFFFF;\n",
              "    }\n",
              "  </style>\n",
              "\n",
              "    <script>\n",
              "      const buttonEl =\n",
              "        document.querySelector('#df-bacffc0d-a305-4493-910f-c2a77cdd0dc6 button.colab-df-convert');\n",
              "      buttonEl.style.display =\n",
              "        google.colab.kernel.accessAllowed ? 'block' : 'none';\n",
              "\n",
              "      async function convertToInteractive(key) {\n",
              "        const element = document.querySelector('#df-bacffc0d-a305-4493-910f-c2a77cdd0dc6');\n",
              "        const dataTable =\n",
              "          await google.colab.kernel.invokeFunction('convertToInteractive',\n",
              "                                                    [key], {});\n",
              "        if (!dataTable) return;\n",
              "\n",
              "        const docLinkHtml = 'Like what you see? Visit the ' +\n",
              "          '<a target=\"_blank\" href=https://colab.research.google.com/notebooks/data_table.ipynb>data table notebook</a>'\n",
              "          + ' to learn more about interactive tables.';\n",
              "        element.innerHTML = '';\n",
              "        dataTable['output_type'] = 'display_data';\n",
              "        await google.colab.output.renderOutput(dataTable, element);\n",
              "        const docLink = document.createElement('div');\n",
              "        docLink.innerHTML = docLinkHtml;\n",
              "        element.appendChild(docLink);\n",
              "      }\n",
              "    </script>\n",
              "  </div>\n",
              "\n",
              "\n",
              "    <div id=\"df-f158380c-787d-49ac-9b62-0edbb6849752\">\n",
              "      <button class=\"colab-df-quickchart\" onclick=\"quickchart('df-f158380c-787d-49ac-9b62-0edbb6849752')\"\n",
              "                title=\"Suggest charts\"\n",
              "                style=\"display:none;\">\n",
              "\n",
              "<svg xmlns=\"http://www.w3.org/2000/svg\" height=\"24px\"viewBox=\"0 0 24 24\"\n",
              "     width=\"24px\">\n",
              "    <g>\n",
              "        <path d=\"M19 3H5c-1.1 0-2 .9-2 2v14c0 1.1.9 2 2 2h14c1.1 0 2-.9 2-2V5c0-1.1-.9-2-2-2zM9 17H7v-7h2v7zm4 0h-2V7h2v10zm4 0h-2v-4h2v4z\"/>\n",
              "    </g>\n",
              "</svg>\n",
              "      </button>\n",
              "\n",
              "<style>\n",
              "  .colab-df-quickchart {\n",
              "      --bg-color: #E8F0FE;\n",
              "      --fill-color: #1967D2;\n",
              "      --hover-bg-color: #E2EBFA;\n",
              "      --hover-fill-color: #174EA6;\n",
              "      --disabled-fill-color: #AAA;\n",
              "      --disabled-bg-color: #DDD;\n",
              "  }\n",
              "\n",
              "  [theme=dark] .colab-df-quickchart {\n",
              "      --bg-color: #3B4455;\n",
              "      --fill-color: #D2E3FC;\n",
              "      --hover-bg-color: #434B5C;\n",
              "      --hover-fill-color: #FFFFFF;\n",
              "      --disabled-bg-color: #3B4455;\n",
              "      --disabled-fill-color: #666;\n",
              "  }\n",
              "\n",
              "  .colab-df-quickchart {\n",
              "    background-color: var(--bg-color);\n",
              "    border: none;\n",
              "    border-radius: 50%;\n",
              "    cursor: pointer;\n",
              "    display: none;\n",
              "    fill: var(--fill-color);\n",
              "    height: 32px;\n",
              "    padding: 0;\n",
              "    width: 32px;\n",
              "  }\n",
              "\n",
              "  .colab-df-quickchart:hover {\n",
              "    background-color: var(--hover-bg-color);\n",
              "    box-shadow: 0 1px 2px rgba(60, 64, 67, 0.3), 0 1px 3px 1px rgba(60, 64, 67, 0.15);\n",
              "    fill: var(--button-hover-fill-color);\n",
              "  }\n",
              "\n",
              "  .colab-df-quickchart-complete:disabled,\n",
              "  .colab-df-quickchart-complete:disabled:hover {\n",
              "    background-color: var(--disabled-bg-color);\n",
              "    fill: var(--disabled-fill-color);\n",
              "    box-shadow: none;\n",
              "  }\n",
              "\n",
              "  .colab-df-spinner {\n",
              "    border: 2px solid var(--fill-color);\n",
              "    border-color: transparent;\n",
              "    border-bottom-color: var(--fill-color);\n",
              "    animation:\n",
              "      spin 1s steps(1) infinite;\n",
              "  }\n",
              "\n",
              "  @keyframes spin {\n",
              "    0% {\n",
              "      border-color: transparent;\n",
              "      border-bottom-color: var(--fill-color);\n",
              "      border-left-color: var(--fill-color);\n",
              "    }\n",
              "    20% {\n",
              "      border-color: transparent;\n",
              "      border-left-color: var(--fill-color);\n",
              "      border-top-color: var(--fill-color);\n",
              "    }\n",
              "    30% {\n",
              "      border-color: transparent;\n",
              "      border-left-color: var(--fill-color);\n",
              "      border-top-color: var(--fill-color);\n",
              "      border-right-color: var(--fill-color);\n",
              "    }\n",
              "    40% {\n",
              "      border-color: transparent;\n",
              "      border-right-color: var(--fill-color);\n",
              "      border-top-color: var(--fill-color);\n",
              "    }\n",
              "    60% {\n",
              "      border-color: transparent;\n",
              "      border-right-color: var(--fill-color);\n",
              "    }\n",
              "    80% {\n",
              "      border-color: transparent;\n",
              "      border-right-color: var(--fill-color);\n",
              "      border-bottom-color: var(--fill-color);\n",
              "    }\n",
              "    90% {\n",
              "      border-color: transparent;\n",
              "      border-bottom-color: var(--fill-color);\n",
              "    }\n",
              "  }\n",
              "</style>\n",
              "\n",
              "      <script>\n",
              "        async function quickchart(key) {\n",
              "          const quickchartButtonEl =\n",
              "            document.querySelector('#' + key + ' button');\n",
              "          quickchartButtonEl.disabled = true;  // To prevent multiple clicks.\n",
              "          quickchartButtonEl.classList.add('colab-df-spinner');\n",
              "          try {\n",
              "            const charts = await google.colab.kernel.invokeFunction(\n",
              "                'suggestCharts', [key], {});\n",
              "          } catch (error) {\n",
              "            console.error('Error during call to suggestCharts:', error);\n",
              "          }\n",
              "          quickchartButtonEl.classList.remove('colab-df-spinner');\n",
              "          quickchartButtonEl.classList.add('colab-df-quickchart-complete');\n",
              "        }\n",
              "        (() => {\n",
              "          let quickchartButtonEl =\n",
              "            document.querySelector('#df-f158380c-787d-49ac-9b62-0edbb6849752 button');\n",
              "          quickchartButtonEl.style.display =\n",
              "            google.colab.kernel.accessAllowed ? 'block' : 'none';\n",
              "        })();\n",
              "      </script>\n",
              "    </div>\n",
              "\n",
              "    </div>\n",
              "  </div>\n"
            ],
            "text/plain": [
              "   label                                  title  \\\n",
              "0      3                     more like funchuck   \n",
              "1      5                              Inspiring   \n",
              "2      5  The best soundtrack ever to anything.   \n",
              "3      4                       Chrono Cross OST   \n",
              "4      5                    Too good to be true   \n",
              "\n",
              "                                                text  \n",
              "0  Gave this to my dad for a gag gift after direc...  \n",
              "1  I hope a lot of people hear this cd. We need m...  \n",
              "2  I'm reading a lot of reviews saying that this ...  \n",
              "3  The music of Yasunori Misuda is without questi...  \n",
              "4  Probably the greatest soundtrack in history! U...  "
            ]
          },
          "execution_count": 56,
          "metadata": {},
          "output_type": "execute_result"
        }
      ],
      "source": [
        "df_train.head()"
      ]
    },
    {
      "cell_type": "code",
      "execution_count": 57,
      "id": "5c242ee9",
      "metadata": {
        "colab": {
          "base_uri": "https://localhost:8080/",
          "height": 176
        },
        "id": "5c242ee9",
        "outputId": "bd95312c-414f-48f6-c7f5-48d0c751345d"
      },
      "outputs": [
        {
          "data": {
            "text/html": [
              "<div>\n",
              "<style scoped>\n",
              "    .dataframe tbody tr th:only-of-type {\n",
              "        vertical-align: middle;\n",
              "    }\n",
              "\n",
              "    .dataframe tbody tr th {\n",
              "        vertical-align: top;\n",
              "    }\n",
              "\n",
              "    .dataframe thead th {\n",
              "        text-align: right;\n",
              "    }\n",
              "</style>\n",
              "<table border=\"1\" class=\"dataframe\">\n",
              "  <thead>\n",
              "    <tr style=\"text-align: right;\">\n",
              "      <th></th>\n",
              "      <th>0</th>\n",
              "    </tr>\n",
              "  </thead>\n",
              "  <tbody>\n",
              "    <tr>\n",
              "      <th>label</th>\n",
              "      <td>0</td>\n",
              "    </tr>\n",
              "    <tr>\n",
              "      <th>title</th>\n",
              "      <td>188</td>\n",
              "    </tr>\n",
              "    <tr>\n",
              "      <th>text</th>\n",
              "      <td>0</td>\n",
              "    </tr>\n",
              "  </tbody>\n",
              "</table>\n",
              "</div><br><label><b>dtype:</b> int64</label>"
            ],
            "text/plain": [
              "label      0\n",
              "title    188\n",
              "text       0\n",
              "dtype: int64"
            ]
          },
          "execution_count": 57,
          "metadata": {},
          "output_type": "execute_result"
        }
      ],
      "source": [
        "df_train.isna().sum()"
      ]
    },
    {
      "cell_type": "code",
      "execution_count": 58,
      "id": "3cc5dc3f",
      "metadata": {
        "id": "3cc5dc3f"
      },
      "outputs": [],
      "source": [
        "df_train = clean_dataframe(df_train)"
      ]
    },
    {
      "cell_type": "markdown",
      "id": "9d248e54",
      "metadata": {
        "id": "9d248e54"
      },
      "source": [
        "### Experiment with a subset of 200k samples"
      ]
    },
    {
      "cell_type": "code",
      "execution_count": 59,
      "id": "52368340",
      "metadata": {
        "id": "52368340"
      },
      "outputs": [],
      "source": [
        "SAMPLE_SIZE = 200_000\n",
        "BASE_DIR_STORAGE = os.path.join(BASE_DIR_STORAGE, f\"{MODEL_NAME}_{SAMPLE_SIZE}\")"
      ]
    },
    {
      "cell_type": "code",
      "execution_count": 60,
      "id": "2662f739",
      "metadata": {
        "colab": {
          "base_uri": "https://localhost:8080/"
        },
        "id": "2662f739",
        "outputId": "0a44a8ba-599d-44ae-93bf-2e49ec90a17e"
      },
      "outputs": [
        {
          "name": "stdout",
          "output_type": "stream",
          "text": [
            "Train size: 200000\n"
          ]
        }
      ],
      "source": [
        "df_train, _ = train_test_split(\n",
        "    df_train,\n",
        "    train_size=SAMPLE_SIZE,\n",
        "    random_state=RANDOM_STATE,\n",
        "    stratify=df_train['label']\n",
        ")\n",
        "print(f\"Train size: {len(df_train)}\")"
      ]
    },
    {
      "cell_type": "markdown",
      "id": "dc4e2586",
      "metadata": {
        "id": "dc4e2586"
      },
      "source": [
        "Let's check whether classes are balanced"
      ]
    },
    {
      "cell_type": "code",
      "execution_count": 61,
      "id": "51f6d339",
      "metadata": {
        "colab": {
          "base_uri": "https://localhost:8080/"
        },
        "id": "51f6d339",
        "outputId": "a2f74879-5c69-4b98-a412-ba3ecbbf0ae6"
      },
      "outputs": [
        {
          "name": "stdout",
          "output_type": "stream",
          "text": [
            "label\n",
            "4    50002\n",
            "5    50002\n",
            "1    49999\n",
            "2    49997\n",
            "Name: count, dtype: int64\n"
          ]
        }
      ],
      "source": [
        "print(df_train['label'].value_counts())"
      ]
    },
    {
      "cell_type": "markdown",
      "id": "462e26a6",
      "metadata": {
        "id": "462e26a6"
      },
      "source": [
        "### Training set sentiment mapping"
      ]
    },
    {
      "cell_type": "code",
      "execution_count": 62,
      "id": "68e86b2b",
      "metadata": {
        "id": "68e86b2b"
      },
      "outputs": [],
      "source": [
        "df_train = map_sentiment(df_train)"
      ]
    },
    {
      "cell_type": "code",
      "execution_count": 63,
      "id": "909a29a4",
      "metadata": {
        "id": "909a29a4"
      },
      "outputs": [],
      "source": [
        "train_samples = build_reviews(df_train)\n",
        "labels = df_train['sentiment'].values"
      ]
    },
    {
      "cell_type": "markdown",
      "id": "b628fb79",
      "metadata": {
        "id": "b628fb79"
      },
      "source": [
        "### Setting Tokenizer"
      ]
    },
    {
      "cell_type": "markdown",
      "id": "f014aabd",
      "metadata": {
        "id": "f014aabd"
      },
      "source": [
        "This approach uses the same tokenizer used during the model `MODEL_NAME` pretraining. This allow to preserve the context and language semantics.\n",
        "\n",
        "`AutoTokenizer` is able to infer automatically the model used.\n"
      ]
    },
    {
      "cell_type": "markdown",
      "id": "9a21e6a5",
      "metadata": {
        "id": "9a21e6a5"
      },
      "source": [
        "### Analyze tokens distribution to choose the best trade-off for MAX_LEN.\n",
        "The idea is to use the 95th percentile to reduce padding and truncate only outliers."
      ]
    },
    {
      "cell_type": "code",
      "execution_count": 64,
      "id": "debb5174",
      "metadata": {
        "id": "debb5174"
      },
      "outputs": [],
      "source": [
        "N = len(train_samples)\n",
        "\n",
        "if N < 10_000:\n",
        "    n_samples = N\n",
        "elif N < 100_000:\n",
        "    n_samples = min(N, 5000)\n",
        "else:\n",
        "    n_samples = min(N, 10_000)\n",
        "\n",
        "\n",
        "#  n_samples are good enough to get a stable estimation of tokens distribution\n",
        "sample_texts = train_samples.sample(n=n_samples, random_state=RANDOM_STATE).tolist()\n",
        "\n",
        "# Tokenize only for analysis (no padding required)\n",
        "tokenizer = AutoTokenizer.from_pretrained(MODEL_NAME)\n",
        "token_lens = [len(tokenizer.tokenize(t)) for t in sample_texts]\n"
      ]
    },
    {
      "cell_type": "code",
      "execution_count": 65,
      "id": "0ee431e2",
      "metadata": {
        "colab": {
          "base_uri": "https://localhost:8080/",
          "height": 472
        },
        "id": "0ee431e2",
        "outputId": "c92ef27a-32c9-460f-c56e-bfabdee09ae4"
      },
      "outputs": [
        {
          "data": {
            "image/png": "[encoded data removed]",
            "text/plain": [
              "<Figure size 640x480 with 1 Axes>"
            ]
          },
          "metadata": {},
          "output_type": "display_data"
        }
      ],
      "source": [
        "plt.hist(token_lens, bins=50)\n",
        "plt.title(\"Distribution length per token\")\n",
        "plt.xlabel(\"Token per review\")\n",
        "plt.ylabel(\"Frequence\")\n",
        "plt.show()"
      ]
    },
    {
      "cell_type": "code",
      "execution_count": 66,
      "id": "3189bc17",
      "metadata": {
        "colab": {
          "base_uri": "https://localhost:8080/"
        },
        "id": "3189bc17",
        "outputId": "53a447eb-4cc8-4673-9152-7fb7e41d4656"
      },
      "outputs": [
        {
          "name": "stdout",
          "output_type": "stream",
          "text": [
            "Token length stats:\n",
            "Mean: 98.8\n",
            "95th percentile: 203\n",
            "Max: 313\n"
          ]
        }
      ],
      "source": [
        "print(\"Token length stats:\")\n",
        "print(f\"Mean: {np.mean(token_lens):.1f}\")\n",
        "print(f\"95th percentile: {np.percentile(token_lens, 95):.0f}\")\n",
        "print(f\"Max: {np.max(token_lens)}\")"
      ]
    },
    {
      "cell_type": "markdown",
      "id": "6ee495c7",
      "metadata": {
        "id": "6ee495c7"
      },
      "source": [
        "The 95th percentile of tokenized length is around ~200, meaning that 95% of the reviews are shorter than this threshold.\n",
        "\n",
        "To balance memory efficiency and minimize information loss, we set `MAX_LEN = 205`:\n",
        "- This truncates only the top 5% longest reviews (outliers).\n",
        "- It reduces unnecessary padding for the remaining 95% of the data.\n",
        "- It ensures consistent input size for the model without significant loss of content."
      ]
    },
    {
      "cell_type": "code",
      "execution_count": 67,
      "id": "4c67aabb",
      "metadata": {
        "id": "4c67aabb"
      },
      "outputs": [],
      "source": [
        "MAX_LEN = 205"
      ]
    },
    {
      "cell_type": "code",
      "execution_count": 68,
      "id": "b970dc69",
      "metadata": {
        "colab": {
          "base_uri": "https://localhost:8080/"
        },
        "id": "b970dc69",
        "outputId": "b1f4a867-fd3d-465b-878c-ef99d2656639"
      },
      "outputs": [
        {
          "data": {
            "text/plain": [
              "(200000,)"
            ]
          },
          "execution_count": 68,
          "metadata": {},
          "output_type": "execute_result"
        }
      ],
      "source": [
        "train_samples.shape"
      ]
    },
    {
      "cell_type": "markdown",
      "id": "537013cb",
      "metadata": {
        "id": "537013cb"
      },
      "source": [
        "### Una Tantum tokenization"
      ]
    },
    {
      "cell_type": "code",
      "execution_count": 69,
      "id": "5d96fb84",
      "metadata": {
        "id": "5d96fb84"
      },
      "outputs": [],
      "source": [
        "cache = TokenCache(max_len=MAX_LEN, cache_dir= \"/content/drive/MyDrive/Tokenization_cache\")\n",
        "npz_file = cache.tokenize_and_save(texts=train_samples.tolist(), labels=labels, sample_size=SAMPLE_SIZE)"
      ]
    },
    {
      "cell_type": "markdown",
      "id": "083a36c2",
      "metadata": {
        "id": "083a36c2"
      },
      "source": [
        "Load encodings"
      ]
    },
    {
      "cell_type": "code",
      "execution_count": 70,
      "id": "07b0040d",
      "metadata": {
        "id": "07b0040d"
      },
      "outputs": [],
      "source": [
        "encodings = cache.load_encodings(npz_file)"
      ]
    },
    {
      "cell_type": "markdown",
      "id": "f5a106fc",
      "metadata": {
        "id": "f5a106fc"
      },
      "source": [
        "Create raw tf.data.Dataset from dictionary numpy of {input_ids, attention_mask, label}."
      ]
    },
    {
      "cell_type": "code",
      "execution_count": 71,
      "id": "c8a71153",
      "metadata": {
        "id": "c8a71153"
      },
      "outputs": [],
      "source": [
        "raw_ds  = from_encodings_to_dataset(encodings)"
      ]
    },
    {
      "cell_type": "markdown",
      "id": "b12dae0b",
      "metadata": {
        "id": "b12dae0b"
      },
      "source": [
        "### Split raw Dataset"
      ]
    },
    {
      "cell_type": "code",
      "execution_count": 72,
      "id": "1b41bb2e",
      "metadata": {
        "colab": {
          "base_uri": "https://localhost:8080/"
        },
        "id": "1b41bb2e",
        "outputId": "df417195-89f0-4fcb-ede2-157e1c62996d"
      },
      "outputs": [
        {
          "name": "stdout",
          "output_type": "stream",
          "text": [
            "Train size: 100000\n",
            "Val   size: 40000\n",
            "Test  size: 60000\n"
          ]
        }
      ],
      "source": [
        "N = len(encodings['label'])\n",
        "int_test_size = int(0.3 * N)\n",
        "val_size  = int(0.2 * N)\n",
        "train_size = N - int_test_size - val_size\n",
        "\n",
        "print(\"Train size:\", train_size)\n",
        "print(\"Val   size:\", val_size)\n",
        "print(\"Test  size:\", int_test_size)"
      ]
    },
    {
      "cell_type": "code",
      "execution_count": 73,
      "id": "377a0d46",
      "metadata": {
        "id": "377a0d46"
      },
      "outputs": [],
      "source": [
        "ds_shuffled = raw_ds.shuffle(buffer_size=N, seed=RANDOM_STATE, reshuffle_each_iteration=False)\n",
        "test_ds  = ds_shuffled.take(int_test_size)\n",
        "reminder     = ds_shuffled.skip(int_test_size)\n",
        "val_ds   = reminder.take(val_size)\n",
        "train_ds = reminder.skip(val_size)"
      ]
    },
    {
      "cell_type": "code",
      "execution_count": 74,
      "id": "8fc05e23",
      "metadata": {
        "id": "8fc05e23"
      },
      "outputs": [],
      "source": [
        "pad_id = cache.tokenizer.pad_token_id\n",
        "# For train shuffle for each epoch and repeat\n",
        "train = prepare_dataset(train_ds, pad_id, shuffle_buffer=train_size, repeat=True)\n",
        "val   = prepare_dataset(val_ds, pad_id)\n",
        "internal_test  = prepare_dataset(test_ds, pad_id)"
      ]
    },
    {
      "cell_type": "markdown",
      "id": "f90ace47",
      "metadata": {
        "id": "f90ace47"
      },
      "source": [
        "### Checking for Overlap Between Train, Validation, and Test Splits"
      ]
    },
    {
      "cell_type": "code",
      "execution_count": 75,
      "id": "4e497c54",
      "metadata": {
        "colab": {
          "base_uri": "https://localhost:8080/"
        },
        "id": "4e497c54",
        "outputId": "8786c9fe-8aed-4f8c-9331-bf5f190f65de"
      },
      "outputs": [
        {
          "name": "stdout",
          "output_type": "stream",
          "text": [
            "Intersections between Train and Val  : 0\n",
            "Intersection between Train and Test : 0\n",
            "Intersections between Val and Test : 0\n"
          ]
        }
      ],
      "source": [
        "# We use a sample of 1000 to check statistically whether the 3 sets have any intersections\n",
        "def sample_hashes(ds, n=1000):\n",
        "    h = set()\n",
        "    for ex, _ in ds.take(n):\n",
        "        h.add(hash(ex[\"input_ids\"].numpy().tobytes()))\n",
        "    return h\n",
        "\n",
        "h_tr = sample_hashes(train)\n",
        "h_va = sample_hashes(val)\n",
        "h_te = sample_hashes(internal_test)\n",
        "\n",
        "print(\"Intersections between Train and Val  :\", len(h_tr & h_va))\n",
        "print(\"Intersection between Train and Test :\", len(h_tr & h_te))\n",
        "print(\"Intersections between Val and Test :\", len(h_va & h_te))"
      ]
    },
    {
      "cell_type": "code",
      "execution_count": 76,
      "id": "a7c21503",
      "metadata": {
        "id": "a7c21503"
      },
      "outputs": [],
      "source": [
        "import math\n",
        "steps_per_epoch   = math.ceil(train_size / BATCH_SIZE)\n",
        "validation_steps  = math.ceil(val_size   / BATCH_SIZE)"
      ]
    },
    {
      "cell_type": "markdown",
      "id": "4fb1d4d0",
      "metadata": {
        "id": "4fb1d4d0"
      },
      "source": [
        "## Choose whether retrain encoder or not"
      ]
    },
    {
      "cell_type": "code",
      "execution_count": 77,
      "id": "a91e1020",
      "metadata": {
        "id": "a91e1020"
      },
      "outputs": [],
      "source": [
        "ENCODER_TRAINABLE = False"
      ]
    },
    {
      "cell_type": "code",
      "execution_count": 78,
      "id": "073f939e",
      "metadata": {
        "id": "073f939e"
      },
      "outputs": [],
      "source": [
        "from keras import mixed_precision\n",
        "mixed_precision.set_global_policy('mixed_float16')"
      ]
    },
    {
      "cell_type": "code",
      "execution_count": 79,
      "id": "e79de20b",
      "metadata": {
        "colab": {
          "base_uri": "https://localhost:8080/",
          "height": 154,
          "referenced_widgets": [
            "502ec993bed14429b0f800c1907a903a",
            "d63cf501fef844738ef09be85df6bcb9",
            "999a30c94d7448b089a2ed1cdcbf0161",
            "a1258dbeea3549e9921a1145fdacda63",
            "8768db315d9c4be0a44ab7e1653b74dc",
            "99b22fc5882545f2bda812ae84cf8c3d",
            "36120d738e6a4f83b1604eda1c7337f6",
            "c9c287c260bf4da8bb76df35a3261d82",
            "2a637c30aae449e2ba5dab75dbe61c48",
            "6b0b4ef306ac4fecb03fb7f27d8f72d7",
            "7d09594c403c47b5b76fbd22ea891847"
          ]
        },
        "id": "e79de20b",
        "outputId": "86dd9a26-1b6d-4c10-dabd-380764c48fa0"
      },
      "outputs": [
        {
          "data": {
            "application/vnd.jupyter.widget-view+json": {
              "model_id": "502ec993bed14429b0f800c1907a903a",
              "version_major": 2,
              "version_minor": 0
            },
            "text/plain": [
              "model.safetensors:   0%|          | 0.00/499M [00:00<?, ?B/s]"
            ]
          },
          "metadata": {},
          "output_type": "display_data"
        },
        {
          "name": "stderr",
          "output_type": "stream",
          "text": [
            "Some weights of the PyTorch model were not used when initializing the TF 2.0 model TFRobertaModel: ['lm_head.dense.weight', 'lm_head.layer_norm.weight', 'lm_head.layer_norm.bias', 'lm_head.bias', 'lm_head.dense.bias', 'roberta.embeddings.position_ids']\n",
            "- This IS expected if you are initializing TFRobertaModel from a PyTorch model trained on another task or with another architecture (e.g. initializing a TFBertForSequenceClassification model from a BertForPreTraining model).\n",
            "- This IS NOT expected if you are initializing TFRobertaModel from a PyTorch model that you expect to be exactly identical (e.g. initializing a TFBertForSequenceClassification model from a BertForSequenceClassification model).\n",
            "Some weights or buffers of the TF 2.0 model TFRobertaModel were not initialized from the PyTorch model and are newly initialized: ['roberta.pooler.dense.weight', 'roberta.pooler.dense.bias']\n",
            "You should probably TRAIN this model on a down-stream task to be able to use it for predictions and inference.\n"
          ]
        }
      ],
      "source": [
        "from transformers import TFRobertaModel\n",
        "encoder = TFRobertaModel.from_pretrained(MODEL_NAME)\n",
        "encoder.trainable = ENCODER_TRAINABLE\n"
      ]
    },
    {
      "cell_type": "markdown",
      "id": "29e5a8f8",
      "metadata": {
        "id": "29e5a8f8"
      },
      "source": [
        "### Configuration of `roberta-base`"
      ]
    },
    {
      "cell_type": "code",
      "execution_count": 80,
      "id": "69d47304",
      "metadata": {
        "colab": {
          "base_uri": "https://localhost:8080/"
        },
        "id": "69d47304",
        "outputId": "27d75e6d-71f8-4da8-c1a0-6d203e1b846a"
      },
      "outputs": [
        {
          "name": "stdout",
          "output_type": "stream",
          "text": [
            "RobertaConfig {\n",
            "  \"architectures\": [\n",
            "    \"RobertaForMaskedLM\"\n",
            "  ],\n",
            "  \"attention_probs_dropout_prob\": 0.1,\n",
            "  \"bos_token_id\": 0,\n",
            "  \"classifier_dropout\": null,\n",
            "  \"eos_token_id\": 2,\n",
            "  \"hidden_act\": \"gelu\",\n",
            "  \"hidden_dropout_prob\": 0.1,\n",
            "  \"hidden_size\": 768,\n",
            "  \"initializer_range\": 0.02,\n",
            "  \"intermediate_size\": 3072,\n",
            "  \"layer_norm_eps\": 1e-05,\n",
            "  \"max_position_embeddings\": 514,\n",
            "  \"model_type\": \"roberta\",\n",
            "  \"num_attention_heads\": 12,\n",
            "  \"num_hidden_layers\": 12,\n",
            "  \"pad_token_id\": 1,\n",
            "  \"position_embedding_type\": \"absolute\",\n",
            "  \"transformers_version\": \"4.51.3\",\n",
            "  \"type_vocab_size\": 1,\n",
            "  \"use_cache\": true,\n",
            "  \"vocab_size\": 50265\n",
            "}\n",
            "\n"
          ]
        }
      ],
      "source": [
        "from transformers import AutoConfig\n",
        "cfg = AutoConfig.from_pretrained(\"roberta-base\")\n",
        "print(cfg)"
      ]
    },
    {
      "cell_type": "code",
      "execution_count": 81,
      "id": "ab358c7c",
      "metadata": {
        "id": "ab358c7c"
      },
      "outputs": [],
      "source": [
        "input_ids      = keras.Input(shape=(None,), dtype=\"int32\", name=\"input_ids\")\n",
        "attention_mask = keras.Input(shape=(None,), dtype=\"int32\", name=\"attention_mask\")"
      ]
    },
    {
      "cell_type": "markdown",
      "id": "aab74025",
      "metadata": {
        "id": "aab74025"
      },
      "source": [
        "Link to pretrained encoders info: https://huggingface.co/transformers/v2.4.0/pretrained_models.html"
      ]
    },
    {
      "cell_type": "code",
      "execution_count": 82,
      "id": "5ee74f4e",
      "metadata": {
        "id": "5ee74f4e"
      },
      "outputs": [],
      "source": [
        "# executed for each batch\n",
        "# here roberta converts input_ids into embedding vectors (batch_size, seq_len, hidden_size) where hidden_size = 768 for roberta-base.\n",
        "encoder_outputs = encoder({'input_ids': input_ids, 'attention_mask': attention_mask})\n",
        "pooled_output = encoder_outputs.pooler_output\n",
        "\n",
        "# last hidden state is a tensor (batch_size, seq_len, hidden_size) containing the contextual representation of each token.\n",
        "# cls is used to represent the entire sentence\n",
        "# hidden_states = encoder_outputs.last_hidden_state\n",
        "# cls_token = hidden_states[:, 0, :]"
      ]
    },
    {
      "cell_type": "markdown",
      "id": "272f613b",
      "metadata": {
        "id": "272f613b"
      },
      "source": [
        "### Building Classification Head"
      ]
    },
    {
      "cell_type": "code",
      "execution_count": 83,
      "id": "3ccf0400",
      "metadata": {
        "id": "3ccf0400"
      },
      "outputs": [],
      "source": [
        "x = keras.layers.Dense(256, activation='relu', name='dense_relu')(pooled_output)\n",
        "x = keras.layers.Dropout(0.3)(x)\n",
        "x = keras.layers.Dense(64, activation='relu')(x)\n",
        "\n",
        "\n",
        "logits = keras.layers.Dense(1, name='logits')(x)\n"
      ]
    },
    {
      "cell_type": "markdown",
      "id": "6ec71351",
      "metadata": {
        "id": "6ec71351"
      },
      "source": [
        "### Entire model"
      ]
    },
    {
      "cell_type": "code",
      "execution_count": 84,
      "id": "324b696e",
      "metadata": {
        "id": "324b696e"
      },
      "outputs": [],
      "source": [
        "model = keras.Model(inputs=[input_ids, attention_mask], outputs=logits)"
      ]
    },
    {
      "cell_type": "code",
      "execution_count": 85,
      "id": "f11259df",
      "metadata": {
        "colab": {
          "base_uri": "https://localhost:8080/"
        },
        "id": "f11259df",
        "outputId": "da308ff4-23b2-4ea5-f06a-e66fbf6f532d"
      },
      "outputs": [
        {
          "name": "stdout",
          "output_type": "stream",
          "text": [
            "Model: \"model\"\n",
            "__________________________________________________________________________________________________\n",
            " Layer (type)                Output Shape                 Param #   Connected to                  \n",
            "==================================================================================================\n",
            " attention_mask (InputLayer  [(None, None)]               0         []                            \n",
            " )                                                                                                \n",
            "                                                                                                  \n",
            " input_ids (InputLayer)      [(None, None)]               0         []                            \n",
            "                                                                                                  \n",
            " tf_roberta_model (TFRobert  TFBaseModelOutputWithPooli   1246456   ['attention_mask[0][0]',      \n",
            " aModel)                     ngAndCrossAttentions(last_   32         'input_ids[0][0]']           \n",
            "                             hidden_state=(None, None,                                            \n",
            "                             768),                                                                \n",
            "                              pooler_output=(None, 768)                                           \n",
            "                             , past_key_values=None, hi                                           \n",
            "                             dden_states=None, attentio                                           \n",
            "                             ns=None, cross_attentions=                                           \n",
            "                             None)                                                                \n",
            "                                                                                                  \n",
            " dense_relu (Dense)          (None, 256)                  196864    ['tf_roberta_model[0][1]']    \n",
            "                                                                                                  \n",
            " dropout_37 (Dropout)        (None, 256)                  0         ['dense_relu[0][0]']          \n",
            "                                                                                                  \n",
            " dense (Dense)               (None, 64)                   16448     ['dropout_37[0][0]']          \n",
            "                                                                                                  \n",
            " logits (Dense)              (None, 1)                    65        ['dense[0][0]']               \n",
            "                                                                                                  \n",
            "==================================================================================================\n",
            "Total params: 124859009 (476.30 MB)\n",
            "Trainable params: 213377 (833.50 KB)\n",
            "Non-trainable params: 124645632 (475.49 MB)\n",
            "__________________________________________________________________________________________________\n"
          ]
        }
      ],
      "source": [
        "model.summary()"
      ]
    },
    {
      "cell_type": "markdown",
      "id": "6e997dfb",
      "metadata": {
        "id": "6e997dfb"
      },
      "source": [
        "Check that encoder parameters are not retrainable"
      ]
    },
    {
      "cell_type": "code",
      "execution_count": 86,
      "id": "e66be73c",
      "metadata": {
        "colab": {
          "base_uri": "https://localhost:8080/"
        },
        "id": "e66be73c",
        "outputId": "4ccdb852-aab4-48cf-c96b-cbeffda7b8ba"
      },
      "outputs": [
        {
          "name": "stdout",
          "output_type": "stream",
          "text": [
            "attention_mask             trainable=True\n",
            "input_ids                  trainable=True\n",
            "tf_roberta_model           trainable=False\n",
            "dense_relu                 trainable=True\n",
            "dropout_37                 trainable=True\n",
            "dense                      trainable=True\n",
            "logits                     trainable=True\n"
          ]
        }
      ],
      "source": [
        "for i, layer in enumerate(model.layers):\n",
        "    print(f\"{layer.name:25s}  trainable={layer.trainable}\")"
      ]
    },
    {
      "cell_type": "code",
      "execution_count": 87,
      "id": "f37d8c38",
      "metadata": {
        "id": "f37d8c38"
      },
      "outputs": [],
      "source": [
        "base_opt = keras.optimizers.AdamW(           # da tensorflow-addons\n",
        "    learning_rate = LEARNING_RATE,\n",
        "    weight_decay  = 1e-2,\n",
        "    epsilon       = 1e-8,\n",
        "    clipnorm      = 1.0,\n",
        "\n",
        ")\n",
        "\n",
        "optimizer = keras.mixed_precision.LossScaleOptimizer(base_opt)\n",
        "loss= keras.losses.BinaryCrossentropy(from_logits=True)\n",
        "model.compile(optimizer=optimizer, loss=loss, metrics=[keras.metrics.BinaryAccuracy(name=\"accuracy\")])"
      ]
    },
    {
      "cell_type": "code",
      "execution_count": 88,
      "id": "03e22fdb",
      "metadata": {
        "id": "03e22fdb"
      },
      "outputs": [],
      "source": [
        "import time\n",
        "start_time = time.time()"
      ]
    },
    {
      "cell_type": "code",
      "execution_count": 89,
      "id": "2154dccc",
      "metadata": {
        "id": "2154dccc"
      },
      "outputs": [],
      "source": [
        "from tf_keras.callbacks import EarlyStopping\n",
        "\n",
        "early_stop = EarlyStopping(\n",
        "    monitor='val_loss',\n",
        "    patience=5,\n",
        "    restore_best_weights=True,\n",
        "    verbose=1\n",
        ")"
      ]
    },
    {
      "cell_type": "code",
      "execution_count": 90,
      "id": "17f0e52f",
      "metadata": {
        "colab": {
          "base_uri": "https://localhost:8080/"
        },
        "id": "17f0e52f",
        "outputId": "4ca1deb6-69e4-4287-80c9-4591e1353f4b"
      },
      "outputs": [
        {
          "name": "stdout",
          "output_type": "stream",
          "text": [
            "Epoch 1/20\n",
            "3125/3125 [==============================] - 485s 130ms/step - loss: 0.6851 - accuracy: 0.5012 - val_loss: 0.6668 - val_accuracy: 0.4985\n",
            "Epoch 2/20\n",
            "3125/3125 [==============================] - 401s 128ms/step - loss: 0.6481 - accuracy: 0.5266 - val_loss: 0.6128 - val_accuracy: 0.5564\n",
            "Epoch 3/20\n",
            "3125/3125 [==============================] - 401s 128ms/step - loss: 0.5897 - accuracy: 0.6269 - val_loss: 0.5356 - val_accuracy: 0.7406\n",
            "Epoch 4/20\n",
            "3125/3125 [==============================] - 401s 128ms/step - loss: 0.5292 - accuracy: 0.7202 - val_loss: 0.4563 - val_accuracy: 0.7868\n",
            "Epoch 5/20\n",
            "3125/3125 [==============================] - 402s 129ms/step - loss: 0.4806 - accuracy: 0.7625 - val_loss: 0.3995 - val_accuracy: 0.8144\n",
            "Epoch 6/20\n",
            "3125/3125 [==============================] - 402s 129ms/step - loss: 0.4457 - accuracy: 0.7836 - val_loss: 0.3686 - val_accuracy: 0.8649\n",
            "Epoch 7/20\n",
            "3125/3125 [==============================] - 401s 128ms/step - loss: 0.4244 - accuracy: 0.7997 - val_loss: 0.3376 - val_accuracy: 0.8634\n",
            "Epoch 8/20\n",
            "3125/3125 [==============================] - 401s 128ms/step - loss: 0.4092 - accuracy: 0.8089 - val_loss: 0.3270 - val_accuracy: 0.8466\n",
            "Epoch 9/20\n",
            "3125/3125 [==============================] - 402s 129ms/step - loss: 0.4010 - accuracy: 0.8139 - val_loss: 0.3091 - val_accuracy: 0.8728\n",
            "Epoch 10/20\n",
            "3125/3125 [==============================] - 401s 128ms/step - loss: 0.3915 - accuracy: 0.8186 - val_loss: 0.3005 - val_accuracy: 0.8705\n",
            "Epoch 11/20\n",
            "3125/3125 [==============================] - 402s 129ms/step - loss: 0.3880 - accuracy: 0.8201 - val_loss: 0.3099 - val_accuracy: 0.8472\n",
            "Epoch 12/20\n",
            "3125/3125 [==============================] - 401s 128ms/step - loss: 0.3816 - accuracy: 0.8243 - val_loss: 0.2882 - val_accuracy: 0.8797\n",
            "Epoch 13/20\n",
            "3125/3125 [==============================] - 401s 128ms/step - loss: 0.3765 - accuracy: 0.8254 - val_loss: 0.2845 - val_accuracy: 0.8842\n",
            "Epoch 14/20\n",
            "3125/3125 [==============================] - 402s 129ms/step - loss: 0.3749 - accuracy: 0.8273 - val_loss: 0.2878 - val_accuracy: 0.8885\n",
            "Epoch 15/20\n",
            "3125/3125 [==============================] - 402s 129ms/step - loss: 0.3730 - accuracy: 0.8293 - val_loss: 0.2897 - val_accuracy: 0.8609\n",
            "Epoch 16/20\n",
            "3125/3125 [==============================] - 402s 129ms/step - loss: 0.3689 - accuracy: 0.8317 - val_loss: 0.2777 - val_accuracy: 0.8814\n",
            "Epoch 17/20\n",
            "3125/3125 [==============================] - 402s 129ms/step - loss: 0.3646 - accuracy: 0.8342 - val_loss: 0.2740 - val_accuracy: 0.8808\n",
            "Epoch 18/20\n",
            "3125/3125 [==============================] - 402s 129ms/step - loss: 0.3651 - accuracy: 0.8333 - val_loss: 0.2722 - val_accuracy: 0.8891\n",
            "Epoch 19/20\n",
            "3125/3125 [==============================] - 401s 128ms/step - loss: 0.3635 - accuracy: 0.8337 - val_loss: 0.2811 - val_accuracy: 0.8673\n",
            "Epoch 20/20\n",
            "3125/3125 [==============================] - 402s 129ms/step - loss: 0.3609 - accuracy: 0.8343 - val_loss: 0.2826 - val_accuracy: 0.8644\n",
            "Restoring model weights from the end of the best epoch: 18.\n"
          ]
        }
      ],
      "source": [
        "history = model.fit(\n",
        "    train,\n",
        "    validation_data= val,\n",
        "    epochs=EPOCHS,\n",
        "    callbacks=[early_stop] ,\n",
        "    validation_steps=validation_steps,\n",
        "    steps_per_epoch=steps_per_epoch,\n",
        "\n",
        ")"
      ]
    },
    {
      "cell_type": "code",
      "execution_count": 91,
      "id": "533dd4ff",
      "metadata": {
        "colab": {
          "base_uri": "https://localhost:8080/"
        },
        "id": "533dd4ff",
        "outputId": "058a8a81-ed85-47f9-8497-83faaf2fcb8e"
      },
      "outputs": [
        {
          "name": "stdout",
          "output_type": "stream",
          "text": [
            "Total training time: 8115.6 s (135.26 min)\n"
          ]
        }
      ],
      "source": [
        "end_time = time.time()\n",
        "elapsed = end_time - start_time\n",
        "\n",
        "print(f\"Total training time: {elapsed:.1f} s ({elapsed/60:.2f} min)\")"
      ]
    },
    {
      "cell_type": "markdown",
      "id": "6aa9be29",
      "metadata": {
        "id": "6aa9be29"
      },
      "source": [
        "### Training History plot"
      ]
    },
    {
      "cell_type": "code",
      "execution_count": 92,
      "id": "2c340729",
      "metadata": {
        "colab": {
          "base_uri": "https://localhost:8080/",
          "height": 957
        },
        "id": "2c340729",
        "outputId": "d554a1ab-c1eb-430a-9051-d5096306d05d"
      },
      "outputs": [
        {
          "data": {
            "image/png": "[encoded data removed]",
            "text/plain": [
              "<Figure size 800x500 with 1 Axes>"
            ]
          },
          "metadata": {},
          "output_type": "display_data"
        },
        {
          "data": {
            "image/png": "[encoded data removed]",
            "text/plain": [
              "<Figure size 800x500 with 1 Axes>"
            ]
          },
          "metadata": {},
          "output_type": "display_data"
        }
      ],
      "source": [
        "import matplotlib.pyplot as plt\n",
        "\n",
        "# Estrai le liste di loss dal history\n",
        "train_loss = history.history['loss']\n",
        "val_loss   = history.history['val_loss']\n",
        "epochs     = range(1, len(train_loss) + 1)\n",
        "\n",
        "train_acc = history.history['accuracy']\n",
        "val_acc   = history.history['val_accuracy']\n",
        "\n",
        "\n",
        "# Disegna il plot\n",
        "plt.figure(figsize=(8, 5))\n",
        "plt.plot(epochs, train_loss, marker='o', label='Train Loss')\n",
        "plt.plot(epochs, val_loss,   marker='o', label='Validation Loss')\n",
        "plt.title('Training vs Validation Loss')\n",
        "plt.xlabel('Epoch')\n",
        "plt.ylabel('Loss')\n",
        "plt.xticks(epochs)           # mostra tutte le epoche sull'asse x\n",
        "plt.legend()\n",
        "plt.grid(True, linestyle='--', alpha=0.5)\n",
        "plt.show()\n",
        "\n",
        "\n",
        "plt.figure(figsize=(8, 5))\n",
        "plt.plot(epochs, train_acc, marker='o', label='Train Accuracy')\n",
        "plt.plot(epochs, val_acc,   marker='o', label='Validation Accuracy')\n",
        "plt.title('Training vs Validation Accuracy')\n",
        "plt.xlabel('Epoch')\n",
        "plt.ylabel('Accuracy')\n",
        "plt.xticks(epochs)\n",
        "plt.legend()\n",
        "plt.grid(True, linestyle='--', alpha=0.5)\n",
        "plt.show()"
      ]
    },
    {
      "cell_type": "markdown",
      "id": "1b9cc48b",
      "metadata": {
        "id": "1b9cc48b"
      },
      "source": [
        "## Model evaluation with Internal test set"
      ]
    },
    {
      "cell_type": "code",
      "execution_count": 93,
      "id": "81906cba",
      "metadata": {
        "colab": {
          "base_uri": "https://localhost:8080/"
        },
        "id": "81906cba",
        "outputId": "b1d0350c-2a86-41e6-b9e7-a5e599e8ba20"
      },
      "outputs": [
        {
          "name": "stdout",
          "output_type": "stream",
          "text": [
            "1875/1875 [==============================] - 174s 58ms/step\n"
          ]
        }
      ],
      "source": [
        "y_true = np.concatenate([y for x, y in internal_test], axis=0)\n",
        "\n",
        "pred_logits = model.predict(internal_test)\n",
        "pred_probs  = tf.sigmoid(pred_logits).numpy().ravel()\n",
        "pred_labels = (pred_probs >= 0.5).astype(int)"
      ]
    },
    {
      "cell_type": "code",
      "execution_count": 94,
      "id": "cd071288",
      "metadata": {
        "colab": {
          "base_uri": "https://localhost:8080/"
        },
        "id": "cd071288",
        "outputId": "765a0c59-31b1-4c88-84e6-42677e6f67bd"
      },
      "outputs": [
        {
          "name": "stdout",
          "output_type": "stream",
          "text": [
            "Accuracy: 0.8942\n",
            "Precision: 0.8950\n",
            "Recall: 0.8920\n",
            "F1 Score: 0.8935\n",
            "Test accuracy: 0.8942\n"
          ]
        }
      ],
      "source": [
        "from sklearn.metrics import (\n",
        "    accuracy_score,\n",
        "    precision_score,\n",
        "    recall_score,\n",
        "    f1_score,\n",
        "    confusion_matrix\n",
        ")\n",
        "\n",
        "accuracy = accuracy_score(y_true, pred_labels)\n",
        "precision = precision_score(y_true, pred_labels)\n",
        "recall = recall_score(y_true, pred_labels)\n",
        "f1 = f1_score(y_true, pred_labels)\n",
        "cm = confusion_matrix(y_true, pred_labels)\n",
        "\n",
        "# Display metrics\n",
        "print(f\"Accuracy: {accuracy:.4f}\")\n",
        "print(f\"Precision: {precision:.4f}\")\n",
        "print(f\"Recall: {recall:.4f}\")\n",
        "print(f\"F1 Score: {f1:.4f}\")\n",
        "print(f\"Test accuracy: {accuracy:.4f}\")"
      ]
    },
    {
      "cell_type": "markdown",
      "id": "db012222",
      "metadata": {
        "id": "db012222"
      },
      "source": [
        "### Confusion Matrix"
      ]
    },
    {
      "cell_type": "code",
      "execution_count": 95,
      "id": "514e66ec",
      "metadata": {
        "colab": {
          "base_uri": "https://localhost:8080/",
          "height": 472
        },
        "id": "514e66ec",
        "outputId": "1033b9e9-f59c-46d9-9088-e751450530b7"
      },
      "outputs": [
        {
          "data": {
            "image/png": "[encoded data removed]",
            "text/plain": [
              "<Figure size 640x480 with 2 Axes>"
            ]
          },
          "metadata": {},
          "output_type": "display_data"
        }
      ],
      "source": [
        "from sklearn.metrics import confusion_matrix, ConfusionMatrixDisplay\n",
        "conf_matrix = confusion_matrix(y_true, pred_labels)\n",
        "\n",
        "fig, ax = plt.subplots()\n",
        "disp = ConfusionMatrixDisplay(confusion_matrix=conf_matrix)\n",
        "disp.plot(ax=ax)\n",
        "ax.set_title(\"Confusion Matrix on Internal Test Set\")\n",
        "plt.show()"
      ]
    },
    {
      "cell_type": "markdown",
      "id": "85e3d9d4",
      "metadata": {
        "id": "85e3d9d4"
      },
      "source": [
        "### Save model"
      ]
    },
    {
      "cell_type": "code",
      "execution_count": 96,
      "id": "d64d5ffe",
      "metadata": {
        "colab": {
          "base_uri": "https://localhost:8080/"
        },
        "id": "d64d5ffe",
        "outputId": "1ca4531b-d635-4178-99fe-8c9ddefb352a"
      },
      "outputs": [
        {
          "name": "stderr",
          "output_type": "stream",
          "text": [
            "/usr/local/lib/python3.11/dist-packages/transformers/generation/tf_utils.py:465: UserWarning: `seed_generator` is deprecated and will be removed in a future version.\n",
            "  warnings.warn(\"`seed_generator` is deprecated and will be removed in a future version.\", UserWarning)\n"
          ]
        },
        {
          "name": "stdout",
          "output_type": "stream",
          "text": [
            "Saved model + tokenizer + metadata in /content/drive/MyDrive/HLT_models/roberta-base_200000\n"
          ]
        }
      ],
      "source": [
        "os.makedirs(BASE_DIR_STORAGE, exist_ok=True)\n",
        "\n",
        "\n",
        "if ENCODER_TRAINABLE:\n",
        "    json_prefix = f\"_retrain.json\"\n",
        "    prefix = f\"_retrain.keras\"\n",
        "\n",
        "else:\n",
        "    json_prefix = f\".json\"\n",
        "    prefix = f\".keras\"\n",
        "\n",
        "file = os.path.join(BASE_DIR_STORAGE, prefix)\n",
        "\n",
        "\n",
        "model.save(file)\n",
        "tokenizer.save_pretrained(BASE_DIR_STORAGE)\n",
        "\n",
        "metadata = {\n",
        "    \"timestamp\":          time.strftime(\"%Y-%m-%d %H:%M:%S\"),\n",
        "    \"total_training_time_s\": round(elapsed, 1),\n",
        "    \"num_samples\":           SAMPLE_SIZE,\n",
        "    \"train_size\":            train_size,\n",
        "    \"val_size\":              val_size,\n",
        "    \"internal_test_size\":    int_test_size,\n",
        "    \"batch_size\":            BATCH_SIZE,\n",
        "    \"epochs\":                EPOCHS,\n",
        "    \"encoder_trainable\":     ENCODER_TRAINABLE,\n",
        "    \"history\":               history.history,\n",
        "    \"gpu\": gpu_name,\n",
        "    \"internal_test_accuracy\": accuracy,\n",
        "\n",
        "}\n",
        "\n",
        "with open(os.path.join(BASE_DIR_STORAGE, f'training_metadata_roberta_{SAMPLE_SIZE}{json_prefix}'), 'w') as f:\n",
        "    json.dump(metadata, f, indent=2)\n",
        "\n",
        "print(f\"Saved model + tokenizer + metadata in {BASE_DIR_STORAGE}\")"
      ]
    }
  ],
  "metadata": {
    "accelerator": "GPU",
    "colab": {
      "gpuType": "A100",
      "machine_shape": "hm",
      "provenance": []
    },
    "kernelspec": {
      "display_name": "Python 3",
      "name": "python3"
    },
    "language_info": {
      "codemirror_mode": {
        "name": "ipython",
        "version": 3
      },
      "file_extension": ".py",
      "mimetype": "text/x-python",
      "name": "python",
      "nbconvert_exporter": "python",
      "pygments_lexer": "ipython3",
      "version": "3.12.4"
    },
    "widgets": {
      "application/vnd.jupyter.widget-state+json": {
        "2a637c30aae449e2ba5dab75dbe61c48": {
          "model_module": "@jupyter-widgets/controls",
          "model_module_version": "1.5.0",
          "model_name": "ProgressStyleModel",
          "state": {
            "_model_module": "@jupyter-widgets/controls",
            "_model_module_version": "1.5.0",
            "_model_name": "ProgressStyleModel",
            "_view_count": null,
            "_view_module": "@jupyter-widgets/base",
            "_view_module_version": "1.2.0",
            "_view_name": "StyleView",
            "bar_color": null,
            "description_width": ""
          }
        },
        "36120d738e6a4f83b1604eda1c7337f6": {
          "model_module": "@jupyter-widgets/controls",
          "model_module_version": "1.5.0",
          "model_name": "DescriptionStyleModel",
          "state": {
            "_model_module": "@jupyter-widgets/controls",
            "_model_module_version": "1.5.0",
            "_model_name": "DescriptionStyleModel",
            "_view_count": null,
            "_view_module": "@jupyter-widgets/base",
            "_view_module_version": "1.2.0",
            "_view_name": "StyleView",
            "description_width": ""
          }
        },
        "502ec993bed14429b0f800c1907a903a": {
          "model_module": "@jupyter-widgets/controls",
          "model_module_version": "1.5.0",
          "model_name": "HBoxModel",
          "state": {
            "_dom_classes": [],
            "_model_module": "@jupyter-widgets/controls",
            "_model_module_version": "1.5.0",
            "_model_name": "HBoxModel",
            "_view_count": null,
            "_view_module": "@jupyter-widgets/controls",
            "_view_module_version": "1.5.0",
            "_view_name": "HBoxView",
            "box_style": "",
            "children": [
              "IPY_MODEL_d63cf501fef844738ef09be85df6bcb9",
              "IPY_MODEL_999a30c94d7448b089a2ed1cdcbf0161",
              "IPY_MODEL_a1258dbeea3549e9921a1145fdacda63"
            ],
            "layout": "IPY_MODEL_8768db315d9c4be0a44ab7e1653b74dc"
          }
        },
        "6b0b4ef306ac4fecb03fb7f27d8f72d7": {
          "model_module": "@jupyter-widgets/base",
          "model_module_version": "1.2.0",
          "model_name": "LayoutModel",
          "state": {
            "_model_module": "@jupyter-widgets/base",
            "_model_module_version": "1.2.0",
            "_model_name": "LayoutModel",
            "_view_count": null,
            "_view_module": "@jupyter-widgets/base",
            "_view_module_version": "1.2.0",
            "_view_name": "LayoutView",
            "align_content": null,
            "align_items": null,
            "align_self": null,
            "border": null,
            "bottom": null,
            "display": null,
            "flex": null,
            "flex_flow": null,
            "grid_area": null,
            "grid_auto_columns": null,
            "grid_auto_flow": null,
            "grid_auto_rows": null,
            "grid_column": null,
            "grid_gap": null,
            "grid_row": null,
            "grid_template_areas": null,
            "grid_template_columns": null,
            "grid_template_rows": null,
            "height": null,
            "justify_content": null,
            "justify_items": null,
            "left": null,
            "margin": null,
            "max_height": null,
            "max_width": null,
            "min_height": null,
            "min_width": null,
            "object_fit": null,
            "object_position": null,
            "order": null,
            "overflow": null,
            "overflow_x": null,
            "overflow_y": null,
            "padding": null,
            "right": null,
            "top": null,
            "visibility": null,
            "width": null
          }
        },
        "7d09594c403c47b5b76fbd22ea891847": {
          "model_module": "@jupyter-widgets/controls",
          "model_module_version": "1.5.0",
          "model_name": "DescriptionStyleModel",
          "state": {
            "_model_module": "@jupyter-widgets/controls",
            "_model_module_version": "1.5.0",
            "_model_name": "DescriptionStyleModel",
            "_view_count": null,
            "_view_module": "@jupyter-widgets/base",
            "_view_module_version": "1.2.0",
            "_view_name": "StyleView",
            "description_width": ""
          }
        },
        "8768db315d9c4be0a44ab7e1653b74dc": {
          "model_module": "@jupyter-widgets/base",
          "model_module_version": "1.2.0",
          "model_name": "LayoutModel",
          "state": {
            "_model_module": "@jupyter-widgets/base",
            "_model_module_version": "1.2.0",
            "_model_name": "LayoutModel",
            "_view_count": null,
            "_view_module": "@jupyter-widgets/base",
            "_view_module_version": "1.2.0",
            "_view_name": "LayoutView",
            "align_content": null,
            "align_items": null,
            "align_self": null,
            "border": null,
            "bottom": null,
            "display": null,
            "flex": null,
            "flex_flow": null,
            "grid_area": null,
            "grid_auto_columns": null,
            "grid_auto_flow": null,
            "grid_auto_rows": null,
            "grid_column": null,
            "grid_gap": null,
            "grid_row": null,
            "grid_template_areas": null,
            "grid_template_columns": null,
            "grid_template_rows": null,
            "height": null,
            "justify_content": null,
            "justify_items": null,
            "left": null,
            "margin": null,
            "max_height": null,
            "max_width": null,
            "min_height": null,
            "min_width": null,
            "object_fit": null,
            "object_position": null,
            "order": null,
            "overflow": null,
            "overflow_x": null,
            "overflow_y": null,
            "padding": null,
            "right": null,
            "top": null,
            "visibility": null,
            "width": null
          }
        },
        "999a30c94d7448b089a2ed1cdcbf0161": {
          "model_module": "@jupyter-widgets/controls",
          "model_module_version": "1.5.0",
          "model_name": "FloatProgressModel",
          "state": {
            "_dom_classes": [],
            "_model_module": "@jupyter-widgets/controls",
            "_model_module_version": "1.5.0",
            "_model_name": "FloatProgressModel",
            "_view_count": null,
            "_view_module": "@jupyter-widgets/controls",
            "_view_module_version": "1.5.0",
            "_view_name": "ProgressView",
            "bar_style": "success",
            "description": "",
            "description_tooltip": null,
            "layout": "IPY_MODEL_c9c287c260bf4da8bb76df35a3261d82",
            "max": 498818054,
            "min": 0,
            "orientation": "horizontal",
            "style": "IPY_MODEL_2a637c30aae449e2ba5dab75dbe61c48",
            "value": 498818054
          }
        },
        "99b22fc5882545f2bda812ae84cf8c3d": {
          "model_module": "@jupyter-widgets/base",
          "model_module_version": "1.2.0",
          "model_name": "LayoutModel",
          "state": {
            "_model_module": "@jupyter-widgets/base",
            "_model_module_version": "1.2.0",
            "_model_name": "LayoutModel",
            "_view_count": null,
            "_view_module": "@jupyter-widgets/base",
            "_view_module_version": "1.2.0",
            "_view_name": "LayoutView",
            "align_content": null,
            "align_items": null,
            "align_self": null,
            "border": null,
            "bottom": null,
            "display": null,
            "flex": null,
            "flex_flow": null,
            "grid_area": null,
            "grid_auto_columns": null,
            "grid_auto_flow": null,
            "grid_auto_rows": null,
            "grid_column": null,
            "grid_gap": null,
            "grid_row": null,
            "grid_template_areas": null,
            "grid_template_columns": null,
            "grid_template_rows": null,
            "height": null,
            "justify_content": null,
            "justify_items": null,
            "left": null,
            "margin": null,
            "max_height": null,
            "max_width": null,
            "min_height": null,
            "min_width": null,
            "object_fit": null,
            "object_position": null,
            "order": null,
            "overflow": null,
            "overflow_x": null,
            "overflow_y": null,
            "padding": null,
            "right": null,
            "top": null,
            "visibility": null,
            "width": null
          }
        },
        "a1258dbeea3549e9921a1145fdacda63": {
          "model_module": "@jupyter-widgets/controls",
          "model_module_version": "1.5.0",
          "model_name": "HTMLModel",
          "state": {
            "_dom_classes": [],
            "_model_module": "@jupyter-widgets/controls",
            "_model_module_version": "1.5.0",
            "_model_name": "HTMLModel",
            "_view_count": null,
            "_view_module": "@jupyter-widgets/controls",
            "_view_module_version": "1.5.0",
            "_view_name": "HTMLView",
            "description": "",
            "description_tooltip": null,
            "layout": "IPY_MODEL_6b0b4ef306ac4fecb03fb7f27d8f72d7",
            "placeholder": "​",
            "style": "IPY_MODEL_7d09594c403c47b5b76fbd22ea891847",
            "value": " 499M/499M [00:01&lt;00:00, 506MB/s]"
          }
        },
        "c9c287c260bf4da8bb76df35a3261d82": {
          "model_module": "@jupyter-widgets/base",
          "model_module_version": "1.2.0",
          "model_name": "LayoutModel",
          "state": {
            "_model_module": "@jupyter-widgets/base",
            "_model_module_version": "1.2.0",
            "_model_name": "LayoutModel",
            "_view_count": null,
            "_view_module": "@jupyter-widgets/base",
            "_view_module_version": "1.2.0",
            "_view_name": "LayoutView",
            "align_content": null,
            "align_items": null,
            "align_self": null,
            "border": null,
            "bottom": null,
            "display": null,
            "flex": null,
            "flex_flow": null,
            "grid_area": null,
            "grid_auto_columns": null,
            "grid_auto_flow": null,
            "grid_auto_rows": null,
            "grid_column": null,
            "grid_gap": null,
            "grid_row": null,
            "grid_template_areas": null,
            "grid_template_columns": null,
            "grid_template_rows": null,
            "height": null,
            "justify_content": null,
            "justify_items": null,
            "left": null,
            "margin": null,
            "max_height": null,
            "max_width": null,
            "min_height": null,
            "min_width": null,
            "object_fit": null,
            "object_position": null,
            "order": null,
            "overflow": null,
            "overflow_x": null,
            "overflow_y": null,
            "padding": null,
            "right": null,
            "top": null,
            "visibility": null,
            "width": null
          }
        },
        "d63cf501fef844738ef09be85df6bcb9": {
          "model_module": "@jupyter-widgets/controls",
          "model_module_version": "1.5.0",
          "model_name": "HTMLModel",
          "state": {
            "_dom_classes": [],
            "_model_module": "@jupyter-widgets/controls",
            "_model_module_version": "1.5.0",
            "_model_name": "HTMLModel",
            "_view_count": null,
            "_view_module": "@jupyter-widgets/controls",
            "_view_module_version": "1.5.0",
            "_view_name": "HTMLView",
            "description": "",
            "description_tooltip": null,
            "layout": "IPY_MODEL_99b22fc5882545f2bda812ae84cf8c3d",
            "placeholder": "​",
            "style": "IPY_MODEL_36120d738e6a4f83b1604eda1c7337f6",
            "value": "model.safetensors: 100%"
          }
        }
      }
    }
  },
  "nbformat": 4,
  "nbformat_minor": 5
}
