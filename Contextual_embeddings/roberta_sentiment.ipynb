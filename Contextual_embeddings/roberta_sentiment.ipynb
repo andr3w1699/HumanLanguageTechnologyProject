{
 "cells": [
  {
   "cell_type": "code",
   "execution_count": null,
   "id": "2e3d1942",
   "metadata": {},
   "outputs": [],
   "source": [
    "%pip install gdown transformers datasets tensorflow scikit-learn tf-keras"
   ]
  },
  {
   "cell_type": "markdown",
   "id": "0c78b836",
   "metadata": {},
   "source": [
    "## Dataset loading options"
   ]
  },
  {
   "cell_type": "markdown",
   "id": "d8dee970",
   "metadata": {},
   "source": [
    "From Google Drive"
   ]
  },
  {
   "cell_type": "code",
   "execution_count": null,
   "id": "cf067321",
   "metadata": {},
   "outputs": [],
   "source": [
    "file_id = \"0Bz8a_Dbh9QhbZVhsUnRWRDhETzA\"\n",
    "output_name = 'amazon_review_full_csv.tar.gz'\n",
    "!gdown --fuzzy https://drive.google.com/uc?id={file_id} -O {output_name}"
   ]
  },
  {
   "cell_type": "markdown",
   "id": "eb5ca0e5",
   "metadata": {},
   "source": [
    "From local storage"
   ]
  },
  {
   "cell_type": "code",
   "execution_count": null,
   "id": "1e6f754e",
   "metadata": {},
   "outputs": [],
   "source": [
    "# from google.colab import files\n",
    "\n",
    "# uploaded = files.upload()\n",
    "# # Assume che il CSV sia il primo file caricato\n",
    "# print(f\"Select train dataset .csv from your local storage:. . .\")\n",
    "# train_data_filename = list(uploaded.keys())[0]"
   ]
  },
  {
   "cell_type": "code",
   "execution_count": null,
   "id": "4ba79991",
   "metadata": {},
   "outputs": [],
   "source": [
    "# uploaded = files.upload()\n",
    "# # Assume che il CSV sia il primo file caricato\n",
    "# print(f\"Select test dataset .csv from your local storage:. . .\")\n",
    "# test_data_filename = list(uploaded.keys())[0]"
   ]
  },
  {
   "cell_type": "code",
   "execution_count": null,
   "id": "9ea5673f",
   "metadata": {},
   "outputs": [],
   "source": [
    "import tarfile\n",
    "\n",
    "with tarfile.open(output_name, \"r:gz\") as tar:\n",
    "    tar.extractall(\"Dataset\")"
   ]
  },
  {
   "cell_type": "code",
   "execution_count": null,
   "id": "cef4ca3c",
   "metadata": {},
   "outputs": [],
   "source": [
    "!ls -R Dataset"
   ]
  },
  {
   "cell_type": "markdown",
   "id": "3e61bd72",
   "metadata": {},
   "source": [
    "## Import Libraries"
   ]
  },
  {
   "cell_type": "code",
   "execution_count": null,
   "id": "82ce21f2",
   "metadata": {},
   "outputs": [],
   "source": [
    "import pandas as pd\n",
    "import json\n",
    "import tensorflow as tf\n",
    "import tf_keras as keras \n",
    "from sklearn.model_selection import train_test_split\n",
    "from transformers import AutoTokenizer, TFAutoModel"
   ]
  },
  {
   "cell_type": "markdown",
   "id": "873a888d",
   "metadata": {},
   "source": [
    "## Model settings"
   ]
  },
  {
   "cell_type": "code",
   "execution_count": null,
   "id": "e6dd8615",
   "metadata": {},
   "outputs": [],
   "source": [
    "MODEL_NAME    = \"roberta-base\"\n",
    "BATCH_SIZE    = 32\n",
    "EPOCHS        = 5\n",
    "LEARNING_RATE = 2e-5\n",
    "NUM_LABELS    = 2\n",
    "RANDOM_STATE = 42"
   ]
  },
  {
   "cell_type": "code",
   "execution_count": null,
   "id": "bde2bb2d",
   "metadata": {},
   "outputs": [],
   "source": [
    "train_data_filename = \"./Dataset/amazon_review_full_csv/train.csv\"\n",
    "test_data_filename = \"./Dataset/amazon_review_full_csv/test.csv\""
   ]
  },
  {
   "cell_type": "markdown",
   "id": "f2dc5d45",
   "metadata": {},
   "source": [
    "## Train dataset loading"
   ]
  },
  {
   "cell_type": "code",
   "execution_count": 60,
   "id": "85b1959a",
   "metadata": {},
   "outputs": [
    {
     "name": "stdout",
     "output_type": "stream",
     "text": [
      "Loading dataset from: ../Dataset/amazon_review_full_csv/train.csv\n"
     ]
    }
   ],
   "source": [
    "print(f\"Loading dataset from: {train_data_filename}\")\n",
    "\n",
    "df_train = pd.read_csv(\n",
    "    train_data_filename,\n",
    "    header=None,\n",
    "    names=['label', 'title', 'text'],\n",
    "    quotechar='\"',\n",
    "    doublequote=True,\n",
    "    escapechar='\\\\',\n",
    "    engine='python',\n",
    "    encoding='utf-8',\n",
    "    on_bad_lines='skip'  \n",
    "    )"
   ]
  },
  {
   "cell_type": "code",
   "execution_count": 61,
   "id": "aba6757c",
   "metadata": {},
   "outputs": [
    {
     "data": {
      "text/plain": [
       "2999746"
      ]
     },
     "execution_count": 61,
     "metadata": {},
     "output_type": "execute_result"
    }
   ],
   "source": [
    "df_train.shape[0]"
   ]
  },
  {
   "cell_type": "code",
   "execution_count": 62,
   "id": "3b3d37b1",
   "metadata": {},
   "outputs": [
    {
     "data": {
      "text/html": [
       "<div>\n",
       "<style scoped>\n",
       "    .dataframe tbody tr th:only-of-type {\n",
       "        vertical-align: middle;\n",
       "    }\n",
       "\n",
       "    .dataframe tbody tr th {\n",
       "        vertical-align: top;\n",
       "    }\n",
       "\n",
       "    .dataframe thead th {\n",
       "        text-align: right;\n",
       "    }\n",
       "</style>\n",
       "<table border=\"1\" class=\"dataframe\">\n",
       "  <thead>\n",
       "    <tr style=\"text-align: right;\">\n",
       "      <th></th>\n",
       "      <th>label</th>\n",
       "    </tr>\n",
       "  </thead>\n",
       "  <tbody>\n",
       "    <tr>\n",
       "      <th>count</th>\n",
       "      <td>2.999746e+06</td>\n",
       "    </tr>\n",
       "    <tr>\n",
       "      <th>mean</th>\n",
       "      <td>3.000022e+00</td>\n",
       "    </tr>\n",
       "    <tr>\n",
       "      <th>std</th>\n",
       "      <td>1.414218e+00</td>\n",
       "    </tr>\n",
       "    <tr>\n",
       "      <th>min</th>\n",
       "      <td>1.000000e+00</td>\n",
       "    </tr>\n",
       "    <tr>\n",
       "      <th>25%</th>\n",
       "      <td>2.000000e+00</td>\n",
       "    </tr>\n",
       "    <tr>\n",
       "      <th>50%</th>\n",
       "      <td>3.000000e+00</td>\n",
       "    </tr>\n",
       "    <tr>\n",
       "      <th>75%</th>\n",
       "      <td>4.000000e+00</td>\n",
       "    </tr>\n",
       "    <tr>\n",
       "      <th>max</th>\n",
       "      <td>5.000000e+00</td>\n",
       "    </tr>\n",
       "  </tbody>\n",
       "</table>\n",
       "</div>"
      ],
      "text/plain": [
       "              label\n",
       "count  2.999746e+06\n",
       "mean   3.000022e+00\n",
       "std    1.414218e+00\n",
       "min    1.000000e+00\n",
       "25%    2.000000e+00\n",
       "50%    3.000000e+00\n",
       "75%    4.000000e+00\n",
       "max    5.000000e+00"
      ]
     },
     "execution_count": 62,
     "metadata": {},
     "output_type": "execute_result"
    }
   ],
   "source": [
    "df_train.describe()"
   ]
  },
  {
   "cell_type": "code",
   "execution_count": 63,
   "id": "abe7de8e",
   "metadata": {},
   "outputs": [
    {
     "data": {
      "text/html": [
       "<div>\n",
       "<style scoped>\n",
       "    .dataframe tbody tr th:only-of-type {\n",
       "        vertical-align: middle;\n",
       "    }\n",
       "\n",
       "    .dataframe tbody tr th {\n",
       "        vertical-align: top;\n",
       "    }\n",
       "\n",
       "    .dataframe thead th {\n",
       "        text-align: right;\n",
       "    }\n",
       "</style>\n",
       "<table border=\"1\" class=\"dataframe\">\n",
       "  <thead>\n",
       "    <tr style=\"text-align: right;\">\n",
       "      <th></th>\n",
       "      <th>label</th>\n",
       "      <th>title</th>\n",
       "      <th>text</th>\n",
       "    </tr>\n",
       "  </thead>\n",
       "  <tbody>\n",
       "    <tr>\n",
       "      <th>0</th>\n",
       "      <td>3</td>\n",
       "      <td>more like funchuck</td>\n",
       "      <td>Gave this to my dad for a gag gift after direc...</td>\n",
       "    </tr>\n",
       "    <tr>\n",
       "      <th>1</th>\n",
       "      <td>5</td>\n",
       "      <td>Inspiring</td>\n",
       "      <td>I hope a lot of people hear this cd. We need m...</td>\n",
       "    </tr>\n",
       "    <tr>\n",
       "      <th>2</th>\n",
       "      <td>5</td>\n",
       "      <td>The best soundtrack ever to anything.</td>\n",
       "      <td>I'm reading a lot of reviews saying that this ...</td>\n",
       "    </tr>\n",
       "    <tr>\n",
       "      <th>3</th>\n",
       "      <td>4</td>\n",
       "      <td>Chrono Cross OST</td>\n",
       "      <td>The music of Yasunori Misuda is without questi...</td>\n",
       "    </tr>\n",
       "    <tr>\n",
       "      <th>4</th>\n",
       "      <td>5</td>\n",
       "      <td>Too good to be true</td>\n",
       "      <td>Probably the greatest soundtrack in history! U...</td>\n",
       "    </tr>\n",
       "  </tbody>\n",
       "</table>\n",
       "</div>"
      ],
      "text/plain": [
       "   label                                  title  \\\n",
       "0      3                     more like funchuck   \n",
       "1      5                              Inspiring   \n",
       "2      5  The best soundtrack ever to anything.   \n",
       "3      4                       Chrono Cross OST   \n",
       "4      5                    Too good to be true   \n",
       "\n",
       "                                                text  \n",
       "0  Gave this to my dad for a gag gift after direc...  \n",
       "1  I hope a lot of people hear this cd. We need m...  \n",
       "2  I'm reading a lot of reviews saying that this ...  \n",
       "3  The music of Yasunori Misuda is without questi...  \n",
       "4  Probably the greatest soundtrack in history! U...  "
      ]
     },
     "execution_count": 63,
     "metadata": {},
     "output_type": "execute_result"
    }
   ],
   "source": [
    "df_train.head()"
   ]
  },
  {
   "cell_type": "code",
   "execution_count": 64,
   "id": "6e99c9e5",
   "metadata": {},
   "outputs": [
    {
     "data": {
      "text/plain": [
       "label      0\n",
       "title    188\n",
       "text       0\n",
       "dtype: int64"
      ]
     },
     "execution_count": 64,
     "metadata": {},
     "output_type": "execute_result"
    }
   ],
   "source": [
    "df_train.isna().sum()"
   ]
  },
  {
   "cell_type": "markdown",
   "id": "fc0bf385",
   "metadata": {},
   "source": [
    "Drop rows with at least a null value"
   ]
  },
  {
   "cell_type": "code",
   "execution_count": 65,
   "id": "f7e52a31",
   "metadata": {},
   "outputs": [
    {
     "data": {
      "text/plain": [
       "2999558"
      ]
     },
     "execution_count": 65,
     "metadata": {},
     "output_type": "execute_result"
    }
   ],
   "source": [
    "df_train.dropna(inplace=True)\n",
    "df_train.shape[0]"
   ]
  },
  {
   "cell_type": "code",
   "execution_count": 66,
   "id": "f542eb76",
   "metadata": {},
   "outputs": [
    {
     "data": {
      "text/plain": [
       "label    0\n",
       "title    0\n",
       "text     0\n",
       "dtype: int64"
      ]
     },
     "execution_count": 66,
     "metadata": {},
     "output_type": "execute_result"
    }
   ],
   "source": [
    "df_train.isna().sum()"
   ]
  },
  {
   "cell_type": "code",
   "execution_count": 67,
   "id": "ab1acb79",
   "metadata": {},
   "outputs": [],
   "source": [
    "df_test = pd.read_csv(\n",
    "    test_data_filename,\n",
    "    header=None,\n",
    "    names=['label', 'title', 'text'],\n",
    "    quotechar='\"',\n",
    "    doublequote=True,\n",
    "    escapechar='\\\\',\n",
    "    engine='python',\n",
    "    encoding='utf-8',\n",
    "    on_bad_lines='skip'  \n",
    "    )"
   ]
  },
  {
   "cell_type": "code",
   "execution_count": 68,
   "id": "8bd19b80",
   "metadata": {},
   "outputs": [
    {
     "data": {
      "text/html": [
       "<div>\n",
       "<style scoped>\n",
       "    .dataframe tbody tr th:only-of-type {\n",
       "        vertical-align: middle;\n",
       "    }\n",
       "\n",
       "    .dataframe tbody tr th {\n",
       "        vertical-align: top;\n",
       "    }\n",
       "\n",
       "    .dataframe thead th {\n",
       "        text-align: right;\n",
       "    }\n",
       "</style>\n",
       "<table border=\"1\" class=\"dataframe\">\n",
       "  <thead>\n",
       "    <tr style=\"text-align: right;\">\n",
       "      <th></th>\n",
       "      <th>label</th>\n",
       "    </tr>\n",
       "  </thead>\n",
       "  <tbody>\n",
       "    <tr>\n",
       "      <th>count</th>\n",
       "      <td>649954.000000</td>\n",
       "    </tr>\n",
       "    <tr>\n",
       "      <th>mean</th>\n",
       "      <td>3.000011</td>\n",
       "    </tr>\n",
       "    <tr>\n",
       "      <th>std</th>\n",
       "      <td>1.414217</td>\n",
       "    </tr>\n",
       "    <tr>\n",
       "      <th>min</th>\n",
       "      <td>1.000000</td>\n",
       "    </tr>\n",
       "    <tr>\n",
       "      <th>25%</th>\n",
       "      <td>2.000000</td>\n",
       "    </tr>\n",
       "    <tr>\n",
       "      <th>50%</th>\n",
       "      <td>3.000000</td>\n",
       "    </tr>\n",
       "    <tr>\n",
       "      <th>75%</th>\n",
       "      <td>4.000000</td>\n",
       "    </tr>\n",
       "    <tr>\n",
       "      <th>max</th>\n",
       "      <td>5.000000</td>\n",
       "    </tr>\n",
       "  </tbody>\n",
       "</table>\n",
       "</div>"
      ],
      "text/plain": [
       "               label\n",
       "count  649954.000000\n",
       "mean        3.000011\n",
       "std         1.414217\n",
       "min         1.000000\n",
       "25%         2.000000\n",
       "50%         3.000000\n",
       "75%         4.000000\n",
       "max         5.000000"
      ]
     },
     "execution_count": 68,
     "metadata": {},
     "output_type": "execute_result"
    }
   ],
   "source": [
    "df_test.describe()"
   ]
  },
  {
   "cell_type": "code",
   "execution_count": 69,
   "id": "81be5993",
   "metadata": {},
   "outputs": [
    {
     "data": {
      "text/plain": [
       "649954"
      ]
     },
     "execution_count": 69,
     "metadata": {},
     "output_type": "execute_result"
    }
   ],
   "source": [
    "df_test.shape[0]"
   ]
  },
  {
   "cell_type": "code",
   "execution_count": 70,
   "id": "0d1ef4ff",
   "metadata": {},
   "outputs": [
    {
     "data": {
      "text/plain": [
       "label     0\n",
       "title    26\n",
       "text      0\n",
       "dtype: int64"
      ]
     },
     "execution_count": 70,
     "metadata": {},
     "output_type": "execute_result"
    }
   ],
   "source": [
    "df_test.isna().sum()"
   ]
  },
  {
   "cell_type": "code",
   "execution_count": 71,
   "id": "88fc9f52",
   "metadata": {},
   "outputs": [],
   "source": [
    "df_test.dropna(inplace=True)"
   ]
  },
  {
   "cell_type": "code",
   "execution_count": 72,
   "id": "5d4b09a5",
   "metadata": {},
   "outputs": [
    {
     "data": {
      "text/plain": [
       "label    0\n",
       "title    0\n",
       "text     0\n",
       "dtype: int64"
      ]
     },
     "execution_count": 72,
     "metadata": {},
     "output_type": "execute_result"
    }
   ],
   "source": [
    "df_test.isna().sum()"
   ]
  },
  {
   "cell_type": "code",
   "execution_count": 73,
   "id": "1b31abf6",
   "metadata": {},
   "outputs": [
    {
     "data": {
      "text/plain": [
       "649928"
      ]
     },
     "execution_count": 73,
     "metadata": {},
     "output_type": "execute_result"
    }
   ],
   "source": [
    "df_test.shape[0]"
   ]
  },
  {
   "cell_type": "markdown",
   "id": "5f8eb724",
   "metadata": {},
   "source": [
    "Drop rows with rating '3' from both train and test sets"
   ]
  },
  {
   "cell_type": "code",
   "execution_count": 74,
   "id": "02225547",
   "metadata": {},
   "outputs": [],
   "source": [
    "df_train = df_train[df_train['label'] != 3]\n",
    "df_test = df_test[df_test['label'] != 3]"
   ]
  },
  {
   "cell_type": "code",
   "execution_count": 75,
   "id": "d17a8952",
   "metadata": {},
   "outputs": [
    {
     "data": {
      "text/plain": [
       "2399666"
      ]
     },
     "execution_count": 75,
     "metadata": {},
     "output_type": "execute_result"
    }
   ],
   "source": [
    "df_train.shape[0]"
   ]
  },
  {
   "cell_type": "code",
   "execution_count": 76,
   "id": "823f365e",
   "metadata": {},
   "outputs": [
    {
     "data": {
      "text/plain": [
       "519942"
      ]
     },
     "execution_count": 76,
     "metadata": {},
     "output_type": "execute_result"
    }
   ],
   "source": [
    "df_test.shape[0]"
   ]
  },
  {
   "cell_type": "markdown",
   "id": "b915f4af",
   "metadata": {},
   "source": [
    "## Ratings binary mapping"
   ]
  },
  {
   "cell_type": "code",
   "execution_count": 77,
   "id": "81cb55ee",
   "metadata": {},
   "outputs": [],
   "source": [
    "# Function to convert ratings (1-5) into 3 classes:\n",
    "def map_rating(row):\n",
    "    rating = row['label']\n",
    "    if rating <= 2:\n",
    "        return 0  # negative\n",
    "    else:\n",
    "        return 1  # positive"
   ]
  },
  {
   "cell_type": "code",
   "execution_count": 78,
   "id": "fc866e8a",
   "metadata": {},
   "outputs": [],
   "source": [
    "df_train_mapped = df_train.copy(deep=True)\n",
    "\n",
    "df_train_mapped['sentiment'] = df_train_mapped.apply(map_rating, axis=1)\n"
   ]
  },
  {
   "cell_type": "markdown",
   "id": "089adb71",
   "metadata": {},
   "source": [
    " ### Downsample Balanced Train Set"
   ]
  },
  {
   "cell_type": "code",
   "execution_count": 79,
   "id": "efc56d7d",
   "metadata": {},
   "outputs": [],
   "source": [
    "from sklearn.model_selection import train_test_split"
   ]
  },
  {
   "cell_type": "markdown",
   "id": "2b2d463c",
   "metadata": {},
   "source": [
    "### Experiment with a trainset of 1k samples"
   ]
  },
  {
   "cell_type": "code",
   "execution_count": null,
   "id": "66065f1b",
   "metadata": {},
   "outputs": [],
   "source": [
    "SAMPLE_SIZE = 30000"
   ]
  },
  {
   "cell_type": "code",
   "execution_count": null,
   "id": "a180c52e",
   "metadata": {},
   "outputs": [
    {
     "name": "stdout",
     "output_type": "stream",
     "text": [
      "Train size: 100000\n"
     ]
    }
   ],
   "source": [
    "df_train_mapped, _ = train_test_split(\n",
    "    df_train_mapped,\n",
    "    train_size=SAMPLE_SIZE,\n",
    "    random_state=RANDOM_STATE,\n",
    "    stratify=df_train_mapped['label']\n",
    ")\n",
    "print(f\"Train size: {len(df_train_mapped)}\")"
   ]
  },
  {
   "cell_type": "markdown",
   "id": "34867a12",
   "metadata": {},
   "source": [
    "Let's check whether classes are balanced"
   ]
  },
  {
   "cell_type": "code",
   "execution_count": 81,
   "id": "50abc7e0",
   "metadata": {},
   "outputs": [
    {
     "name": "stdout",
     "output_type": "stream",
     "text": [
      "label\n",
      "5    25001\n",
      "4    25001\n",
      "2    24999\n",
      "1    24999\n",
      "Name: count, dtype: int64\n"
     ]
    }
   ],
   "source": [
    "print(df_train_mapped['label'].value_counts())"
   ]
  },
  {
   "cell_type": "code",
   "execution_count": 82,
   "id": "33edf751",
   "metadata": {},
   "outputs": [
    {
     "data": {
      "text/html": [
       "<div>\n",
       "<style scoped>\n",
       "    .dataframe tbody tr th:only-of-type {\n",
       "        vertical-align: middle;\n",
       "    }\n",
       "\n",
       "    .dataframe tbody tr th {\n",
       "        vertical-align: top;\n",
       "    }\n",
       "\n",
       "    .dataframe thead th {\n",
       "        text-align: right;\n",
       "    }\n",
       "</style>\n",
       "<table border=\"1\" class=\"dataframe\">\n",
       "  <thead>\n",
       "    <tr style=\"text-align: right;\">\n",
       "      <th></th>\n",
       "      <th>title</th>\n",
       "      <th>text</th>\n",
       "      <th>sentiment</th>\n",
       "    </tr>\n",
       "  </thead>\n",
       "  <tbody>\n",
       "    <tr>\n",
       "      <th>2281053</th>\n",
       "      <td>Great Game</td>\n",
       "      <td>I purchased this as a gift for my brother and ...</td>\n",
       "      <td>1</td>\n",
       "    </tr>\n",
       "    <tr>\n",
       "      <th>1535186</th>\n",
       "      <td>Grainy and blocky</td>\n",
       "      <td>The movie was good, its the video compression ...</td>\n",
       "      <td>0</td>\n",
       "    </tr>\n",
       "    <tr>\n",
       "      <th>942601</th>\n",
       "      <td>doesn't even deserve 1 star</td>\n",
       "      <td>This is the worst horror movie ever written..V...</td>\n",
       "      <td>0</td>\n",
       "    </tr>\n",
       "    <tr>\n",
       "      <th>1523608</th>\n",
       "      <td>semi scholarship</td>\n",
       "      <td>Although based on the premise of a real book o...</td>\n",
       "      <td>0</td>\n",
       "    </tr>\n",
       "    <tr>\n",
       "      <th>1081248</th>\n",
       "      <td>It doesn&amp;#65533;t make you cool to dislike thi...</td>\n",
       "      <td>If you genuinely don't like this movie, I unde...</td>\n",
       "      <td>1</td>\n",
       "    </tr>\n",
       "  </tbody>\n",
       "</table>\n",
       "</div>"
      ],
      "text/plain": [
       "                                                     title  \\\n",
       "2281053                                         Great Game   \n",
       "1535186                                  Grainy and blocky   \n",
       "942601                         doesn't even deserve 1 star   \n",
       "1523608                                   semi scholarship   \n",
       "1081248  It doesn&#65533;t make you cool to dislike thi...   \n",
       "\n",
       "                                                      text  sentiment  \n",
       "2281053  I purchased this as a gift for my brother and ...          1  \n",
       "1535186  The movie was good, its the video compression ...          0  \n",
       "942601   This is the worst horror movie ever written..V...          0  \n",
       "1523608  Although based on the premise of a real book o...          0  \n",
       "1081248  If you genuinely don't like this movie, I unde...          1  "
      ]
     },
     "metadata": {},
     "output_type": "display_data"
    }
   ],
   "source": [
    "df_train_mapped.drop(columns=[\"label\"], inplace=True)\n",
    "display(df_train_mapped.head())"
   ]
  },
  {
   "cell_type": "code",
   "execution_count": 83,
   "id": "e9a458df",
   "metadata": {},
   "outputs": [],
   "source": [
    "df_train_mapped['review'] = df_train_mapped['title'].fillna('') + ' ' + df_train_mapped['text'].fillna('')\n",
    "\n",
    "train_samples = df_train_mapped['review']\n",
    "train_labels = df_train_mapped['sentiment'].values"
   ]
  },
  {
   "cell_type": "markdown",
   "id": "1cfcfa47",
   "metadata": {},
   "source": [
    "## NLTK libraries"
   ]
  },
  {
   "cell_type": "code",
   "execution_count": 84,
   "id": "c572061f",
   "metadata": {},
   "outputs": [
    {
     "name": "stderr",
     "output_type": "stream",
     "text": [
      "[nltk_data] Downloading package stopwords to\n",
      "[nltk_data]     /Users/lorisgiunta/nltk_data...\n",
      "[nltk_data]   Package stopwords is already up-to-date!\n",
      "[nltk_data] Downloading package wordnet to\n",
      "[nltk_data]     /Users/lorisgiunta/nltk_data...\n",
      "[nltk_data]   Package wordnet is already up-to-date!\n",
      "[nltk_data] Downloading collection 'popular'\n",
      "[nltk_data]    | \n",
      "[nltk_data]    | Downloading package cmudict to\n",
      "[nltk_data]    |     /Users/lorisgiunta/nltk_data...\n",
      "[nltk_data]    |   Package cmudict is already up-to-date!\n",
      "[nltk_data]    | Downloading package gazetteers to\n",
      "[nltk_data]    |     /Users/lorisgiunta/nltk_data...\n",
      "[nltk_data]    |   Package gazetteers is already up-to-date!\n",
      "[nltk_data]    | Downloading package genesis to\n",
      "[nltk_data]    |     /Users/lorisgiunta/nltk_data...\n",
      "[nltk_data]    |   Package genesis is already up-to-date!\n",
      "[nltk_data]    | Downloading package gutenberg to\n",
      "[nltk_data]    |     /Users/lorisgiunta/nltk_data...\n",
      "[nltk_data]    |   Package gutenberg is already up-to-date!\n",
      "[nltk_data]    | Downloading package inaugural to\n",
      "[nltk_data]    |     /Users/lorisgiunta/nltk_data...\n",
      "[nltk_data]    |   Package inaugural is already up-to-date!\n",
      "[nltk_data]    | Downloading package movie_reviews to\n",
      "[nltk_data]    |     /Users/lorisgiunta/nltk_data...\n",
      "[nltk_data]    |   Package movie_reviews is already up-to-date!\n",
      "[nltk_data]    | Downloading package names to\n",
      "[nltk_data]    |     /Users/lorisgiunta/nltk_data...\n",
      "[nltk_data]    |   Package names is already up-to-date!\n",
      "[nltk_data]    | Downloading package shakespeare to\n",
      "[nltk_data]    |     /Users/lorisgiunta/nltk_data...\n",
      "[nltk_data]    |   Package shakespeare is already up-to-date!\n",
      "[nltk_data]    | Downloading package stopwords to\n",
      "[nltk_data]    |     /Users/lorisgiunta/nltk_data...\n",
      "[nltk_data]    |   Package stopwords is already up-to-date!\n",
      "[nltk_data]    | Downloading package treebank to\n",
      "[nltk_data]    |     /Users/lorisgiunta/nltk_data...\n",
      "[nltk_data]    |   Package treebank is already up-to-date!\n",
      "[nltk_data]    | Downloading package twitter_samples to\n",
      "[nltk_data]    |     /Users/lorisgiunta/nltk_data...\n",
      "[nltk_data]    |   Package twitter_samples is already up-to-date!\n",
      "[nltk_data]    | Downloading package omw to\n",
      "[nltk_data]    |     /Users/lorisgiunta/nltk_data...\n",
      "[nltk_data]    |   Package omw is already up-to-date!\n",
      "[nltk_data]    | Downloading package omw-1.4 to\n",
      "[nltk_data]    |     /Users/lorisgiunta/nltk_data...\n",
      "[nltk_data]    |   Package omw-1.4 is already up-to-date!\n",
      "[nltk_data]    | Downloading package wordnet to\n",
      "[nltk_data]    |     /Users/lorisgiunta/nltk_data...\n",
      "[nltk_data]    |   Package wordnet is already up-to-date!\n",
      "[nltk_data]    | Downloading package wordnet2021 to\n",
      "[nltk_data]    |     /Users/lorisgiunta/nltk_data...\n",
      "[nltk_data]    |   Package wordnet2021 is already up-to-date!\n",
      "[nltk_data]    | Downloading package wordnet31 to\n",
      "[nltk_data]    |     /Users/lorisgiunta/nltk_data...\n",
      "[nltk_data]    |   Package wordnet31 is already up-to-date!\n",
      "[nltk_data]    | Downloading package wordnet_ic to\n",
      "[nltk_data]    |     /Users/lorisgiunta/nltk_data...\n",
      "[nltk_data]    |   Package wordnet_ic is already up-to-date!\n",
      "[nltk_data]    | Downloading package words to\n",
      "[nltk_data]    |     /Users/lorisgiunta/nltk_data...\n",
      "[nltk_data]    |   Package words is already up-to-date!\n",
      "[nltk_data]    | Downloading package maxent_ne_chunker to\n",
      "[nltk_data]    |     /Users/lorisgiunta/nltk_data...\n",
      "[nltk_data]    |   Package maxent_ne_chunker is already up-to-date!\n",
      "[nltk_data]    | Downloading package punkt to\n",
      "[nltk_data]    |     /Users/lorisgiunta/nltk_data...\n",
      "[nltk_data]    |   Package punkt is already up-to-date!\n",
      "[nltk_data]    | Downloading package snowball_data to\n",
      "[nltk_data]    |     /Users/lorisgiunta/nltk_data...\n",
      "[nltk_data]    |   Package snowball_data is already up-to-date!\n",
      "[nltk_data]    | Downloading package averaged_perceptron_tagger to\n",
      "[nltk_data]    |     /Users/lorisgiunta/nltk_data...\n",
      "[nltk_data]    |   Package averaged_perceptron_tagger is already up-\n",
      "[nltk_data]    |       to-date!\n",
      "[nltk_data]    | \n",
      "[nltk_data]  Done downloading collection popular\n"
     ]
    },
    {
     "data": {
      "text/plain": [
       "True"
      ]
     },
     "execution_count": 84,
     "metadata": {},
     "output_type": "execute_result"
    }
   ],
   "source": [
    "import nltk\n",
    "nltk.download('stopwords')\n",
    "nltk.download('wordnet')\n",
    "nltk.download('popular')"
   ]
  },
  {
   "cell_type": "code",
   "execution_count": 85,
   "id": "4ad2a4de",
   "metadata": {},
   "outputs": [],
   "source": [
    "train_samples = train_samples.str.replace('\\n', ' ', regex=False) \n",
    "train_samples = train_samples.str.lower()"
   ]
  },
  {
   "cell_type": "markdown",
   "id": "b24d71d9",
   "metadata": {},
   "source": [
    "## Setting Tokenizer"
   ]
  },
  {
   "cell_type": "markdown",
   "id": "aed56545",
   "metadata": {},
   "source": [
    "This approach uses the same tokenizer used during the model `MODEL_NAME` pretraining. This allow to preserve the context and language semantics.\n",
    "\n",
    "`AutoTokenizer` is able to infer automatically the model used.\n",
    "\n",
    "For example we can possible use RobertaTokenizer, but only if we are sure that we'll use RoBERTa model."
   ]
  },
  {
   "cell_type": "markdown",
   "id": "13b68529",
   "metadata": {},
   "source": [
    "## Analyze tokens distribution to choose the best trade-off for MAX_LEN.\n",
    "The idea is to use the 95th percentile to reduce padding and truncate only outliers."
   ]
  },
  {
   "cell_type": "code",
   "execution_count": null,
   "id": "636bcc1a",
   "metadata": {},
   "outputs": [],
   "source": [
    "import numpy as np\n",
    "\n",
    "# 50000 samples are good enough to get a stable estimation of tokens distribution\n",
    "sample_texts = train_samples.sample(n=2000, random_state=RANDOM_STATE).tolist()\n",
    "\n",
    "# Tokenizza solo per analisi (senza padding)\n",
    "tokenizer = AutoTokenizer.from_pretrained(MODEL_NAME)\n",
    "token_lens = [len(tokenizer.tokenize(t)) for t in sample_texts]\n"
   ]
  },
  {
   "cell_type": "code",
   "execution_count": 87,
   "id": "10136de2",
   "metadata": {},
   "outputs": [
    {
     "data": {
      "image/png": "[encoded data removed]",
      "text/plain": [
       "<Figure size 640x480 with 1 Axes>"
      ]
     },
     "metadata": {},
     "output_type": "display_data"
    }
   ],
   "source": [
    "import matplotlib.pyplot as plt\n",
    "\n",
    "plt.hist(token_lens, bins=50)\n",
    "plt.title(\"Distribution length per token\")\n",
    "plt.xlabel(\"Token per review\")\n",
    "plt.ylabel(\"Frequence\")\n",
    "plt.show()"
   ]
  },
  {
   "cell_type": "code",
   "execution_count": 88,
   "id": "da42b81a",
   "metadata": {},
   "outputs": [
    {
     "name": "stdout",
     "output_type": "stream",
     "text": [
      "Token length stats:\n",
      "Mean: 98.8\n",
      "95th percentile: 203\n",
      "Max: 335\n"
     ]
    }
   ],
   "source": [
    "print(\"Token length stats:\")\n",
    "print(f\"Mean: {np.mean(token_lens):.1f}\")\n",
    "print(f\"95th percentile: {np.percentile(token_lens, 95):.0f}\")\n",
    "print(f\"Max: {np.max(token_lens)}\")"
   ]
  },
  {
   "cell_type": "markdown",
   "id": "1a9d96ce",
   "metadata": {},
   "source": [
    "The 95th percentile of tokenized length is around ~200, meaning that 95% of the reviews are shorter than this threshold.\n",
    "\n",
    "To balance memory efficiency and minimize information loss, we set `MAX_LEN = 205`:\n",
    "- This truncates only the top 5% longest reviews (outliers).\n",
    "- It reduces unnecessary padding for the remaining 95% of the data.\n",
    "- It ensures consistent input size for the model without significant loss of content."
   ]
  },
  {
   "cell_type": "code",
   "execution_count": null,
   "id": "64141753",
   "metadata": {},
   "outputs": [],
   "source": [
    "MAX_LEN = 205"
   ]
  },
  {
   "cell_type": "code",
   "execution_count": 90,
   "id": "156c674e",
   "metadata": {},
   "outputs": [
    {
     "data": {
      "text/plain": [
       "(100000,)"
      ]
     },
     "execution_count": 90,
     "metadata": {},
     "output_type": "execute_result"
    }
   ],
   "source": [
    "train_samples.shape"
   ]
  },
  {
   "cell_type": "markdown",
   "id": "a6eae6b8",
   "metadata": {},
   "source": [
    "### Una-tantum tokenization"
   ]
  },
  {
   "cell_type": "code",
   "execution_count": null,
   "id": "6579f4bb",
   "metadata": {},
   "outputs": [],
   "source": [
    "tokenizer = AutoTokenizer.from_pretrained(MODEL_NAME)\n",
    "\n",
    "texts   = train_samples.tolist()\n",
    "\n",
    "encodings = tokenizer(\n",
    "    texts,\n",
    "    max_length=MAX_LEN,\n",
    "    truncation=True,\n",
    "    padding='do_not_pad',\n",
    "    return_attention_mask=True,\n",
    "   \n",
    ")\n"
   ]
  },
  {
   "cell_type": "code",
   "execution_count": null,
   "id": "3671b3bc",
   "metadata": {},
   "outputs": [
    {
     "ename": "ModuleNotFoundError",
     "evalue": "No module named 'google.colab'",
     "output_type": "error",
     "traceback": [
      "\u001b[0;31m---------------------------------------------------------------------------\u001b[0m",
      "\u001b[0;31mModuleNotFoundError\u001b[0m                       Traceback (most recent call last)",
      "Cell \u001b[0;32mIn[1], line 1\u001b[0m\n\u001b[0;32m----> 1\u001b[0m \u001b[38;5;28;01mfrom\u001b[39;00m \u001b[38;5;21;01mgoogle\u001b[39;00m\u001b[38;5;21;01m.\u001b[39;00m\u001b[38;5;21;01mcolab\u001b[39;00m \u001b[38;5;28;01mimport\u001b[39;00m drive\n\u001b[1;32m      2\u001b[0m \u001b[38;5;28;01mimport\u001b[39;00m \u001b[38;5;21;01mos\u001b[39;00m\n\u001b[1;32m      3\u001b[0m drive\u001b[38;5;241m.\u001b[39mmount(\u001b[38;5;124m\"\u001b[39m\u001b[38;5;124m/content/drive\u001b[39m\u001b[38;5;124m\"\u001b[39m)         \n",
      "\u001b[0;31mModuleNotFoundError\u001b[0m: No module named 'google.colab'"
     ]
    }
   ],
   "source": [
    "from google.colab import drive\n",
    "import os\n",
    "# drive.mount(\"/content/drive\")         \n",
    "\n",
    "# save_dir = \"/content/drive/MyDrive/Tokenization_cache\"\n",
    "# os.makedirs(save_dir, exist_ok=True)\n",
    "\n",
    "# # save on disk\n",
    "# np.savez_compressed(\n",
    "#     os.path.join(save_dir,\"train_enc_roberta_30k.npz\"),\n",
    "#     ids   = np.array(encodings[\"input_ids\"], dtype=object),\n",
    "#     attn  = np.array(encodings[\"attention_mask\"], dtype=object),\n",
    "#     label = train_labels\n",
    "# )\n",
    "\n",
    "# save on temporary session\n",
    "np.savez_compressed(\n",
    "   \"train_enc_roberta_30k.npz\",\n",
    "    ids   = np.array(encodings[\"input_ids\"], dtype=object),\n",
    "    attn  = np.array(encodings[\"attention_mask\"], dtype=object),\n",
    "    label = train_labels\n",
    ")\n",
    "\n",
    "# print(\"Tokenization completed and saved in\", save_dir)"
   ]
  },
  {
   "cell_type": "markdown",
   "id": "25538040",
   "metadata": {},
   "source": [
    "### Load saved indexes"
   ]
  },
  {
   "cell_type": "code",
   "execution_count": null,
   "id": "9087fd90",
   "metadata": {},
   "outputs": [],
   "source": [
    "d = np.load(\"train_enc_roberta_30k.npz\", allow_pickle=True)"
   ]
  },
  {
   "cell_type": "code",
   "execution_count": null,
   "id": "37d100c6",
   "metadata": {},
   "outputs": [],
   "source": [
    "def generator():\n",
    "    for ids, attentions, labels in zip(d[\"ids\"], d[\"attn\"], d[\"label\"]):\n",
    "        yield {\n",
    "            \"input_ids\":     np.array(ids,  dtype=np.int32),\n",
    "            \"attention_mask\": np.array(attentions, dtype=np.int32)\n",
    "        }, np.int32(labels)"
   ]
  },
  {
   "cell_type": "code",
   "execution_count": null,
   "id": "5de46d8a",
   "metadata": {},
   "outputs": [],
   "source": [
    "raw_ds = tf.data.Dataset.from_generator(\n",
    "    generator,\n",
    "    output_signature=(\n",
    "        {\n",
    "            \"input_ids\":      tf.TensorSpec(shape=(None,), dtype=tf.int32),\n",
    "            \"attention_mask\": tf.TensorSpec(shape=(None,), dtype=tf.int32),\n",
    "        },\n",
    "        tf.TensorSpec(shape=(), dtype=tf.int32),\n",
    "    ),\n",
    ")"
   ]
  },
  {
   "cell_type": "markdown",
   "id": "c4a13916",
   "metadata": {},
   "source": [
    "### Custom encoder to enable dynamic padding. It inserts padding till the max length of the current batch."
   ]
  },
  {
   "cell_type": "markdown",
   "id": "7115d116",
   "metadata": {},
   "source": [
    "This code is used only for on the fly encoding"
   ]
  },
  {
   "cell_type": "code",
   "execution_count": null,
   "id": "0cc8a0bc",
   "metadata": {},
   "outputs": [],
   "source": [
    "# from transformers import AutoTokenizer\n",
    "# tokenizer = AutoTokenizer.from_pretrained('roberta-base')\n",
    "\n",
    "# # funzione Python pura: restituisce SOLO tensori, senza dict\n",
    "# def _py_encode(text, label):\n",
    "#     enc = tokenizer(\n",
    "#         text.numpy().decode(),\n",
    "#         truncation=True,\n",
    "#         max_length=MAX_LEN,\n",
    "#         return_attention_mask=True,\n",
    "#     )\n",
    "#     return (                # tuple flat di tre tensor\n",
    "#         tf.constant(enc[\"input_ids\"],      dtype=tf.int32),\n",
    "#         tf.constant(enc[\"attention_mask\"], dtype=tf.int32),\n",
    "#         tf.cast(label, tf.int32),\n",
    "#     )\n",
    "\n",
    "# # wrapper tf → rimappa la tupla in un dict per Keras\n",
    "# def tf_encode(text, label):\n",
    "#     input_ids, attn_mask, lab = tf.py_function(\n",
    "#         _py_encode,\n",
    "#         inp=[text, label],\n",
    "#         Tout=(tf.int32, tf.int32, tf.int32)   # usato per dichiarare a TensorFlow il tipo di ciascun tensore che la funzione Python restituirà.\n",
    "#     )\n",
    "#     # Imposta le shape dinamiche, altrimenti sono <unknown>\n",
    "#     input_ids.set_shape([None])\n",
    "#     attn_mask.set_shape([None])\n",
    "#     lab.set_shape([])\n",
    "\n",
    "#     return {'input_ids': input_ids,\n",
    "#             'attention_mask': attn_mask}, lab\n",
    "\n"
   ]
  },
  {
   "cell_type": "code",
   "execution_count": null,
   "id": "01a8a9cb",
   "metadata": {},
   "outputs": [],
   "source": [
    "# tensor_dataset = (\n",
    "#     raw_ds\n",
    "#     .map(tf_encode, num_parallel_calls=tf.data.AUTOTUNE)\n",
    "#     .padded_batch(\n",
    "#         BATCH_SIZE,\n",
    "#         padded_shapes=({'input_ids':[None], 'attention_mask':[None]}, []),\n",
    "#         padding_values=({'input_ids': tokenizer.pad_token_id,\n",
    "#                          'attention_mask': 0}, 0),\n",
    "#     )\n",
    "#     .prefetch(tf.data.AUTOTUNE)                       \n",
    "# )"
   ]
  },
  {
   "cell_type": "code",
   "execution_count": null,
   "id": "800512b0",
   "metadata": {},
   "outputs": [],
   "source": [
    "tensor_dataset = (\n",
    "    raw_ds\n",
    "    .shuffle(len(d[\"label\"]), seed=RANDOM_STATE)\n",
    "    .padded_batch(\n",
    "        BATCH_SIZE,\n",
    "        padded_shapes=({'input_ids':[None], 'attention_mask':[None]}, []),\n",
    "        padding_values=({'input_ids': tokenizer.pad_token_id,\n",
    "                         'attention_mask': 0}, 0),\n",
    "    )\n",
    "    .prefetch(tf.data.AUTOTUNE)\n",
    ")"
   ]
  },
  {
   "cell_type": "markdown",
   "id": "bf250613",
   "metadata": {},
   "source": [
    "## Choose whether retrain encoder or not"
   ]
  },
  {
   "cell_type": "code",
   "execution_count": null,
   "id": "1f9ceee4",
   "metadata": {},
   "outputs": [],
   "source": [
    "ENCODER_TRAINABLE = True"
   ]
  },
  {
   "cell_type": "code",
   "execution_count": null,
   "id": "c87de259",
   "metadata": {},
   "outputs": [],
   "source": [
    "from keras import mixed_precision\n",
    "mixed_precision.set_global_policy('mixed_float16')"
   ]
  },
  {
   "cell_type": "code",
   "execution_count": null,
   "id": "66ed4ede",
   "metadata": {},
   "outputs": [
    {
     "name": "stderr",
     "output_type": "stream",
     "text": [
      "Some weights of the PyTorch model were not used when initializing the TF 2.0 model TFRobertaModel: ['lm_head.layer_norm.weight', 'roberta.embeddings.position_ids', 'lm_head.dense.bias', 'lm_head.layer_norm.bias', 'lm_head.dense.weight', 'lm_head.bias']\n",
      "- This IS expected if you are initializing TFRobertaModel from a PyTorch model trained on another task or with another architecture (e.g. initializing a TFBertForSequenceClassification model from a BertForPreTraining model).\n",
      "- This IS NOT expected if you are initializing TFRobertaModel from a PyTorch model that you expect to be exactly identical (e.g. initializing a TFBertForSequenceClassification model from a BertForSequenceClassification model).\n",
      "Some weights or buffers of the TF 2.0 model TFRobertaModel were not initialized from the PyTorch model and are newly initialized: ['roberta.pooler.dense.weight', 'roberta.pooler.dense.bias']\n",
      "You should probably TRAIN this model on a down-stream task to be able to use it for predictions and inference.\n"
     ]
    }
   ],
   "source": [
    "from transformers import TFRobertaModel\n",
    "encoder = TFRobertaModel.from_pretrained(MODEL_NAME)\n",
    "encoder.trainable = True\n"
   ]
  },
  {
   "cell_type": "code",
   "execution_count": null,
   "id": "29aa6b67",
   "metadata": {},
   "outputs": [],
   "source": [
    "input_ids      = keras.Input(shape=(None,), dtype=\"int32\", name=\"input_ids\")\n",
    "attention_mask = keras.Input(shape=(None,), dtype=\"int32\", name=\"attention_mask\")"
   ]
  },
  {
   "cell_type": "markdown",
   "id": "823fddc6",
   "metadata": {},
   "source": [
    "Link to pretrained encoders info: https://huggingface.co/transformers/v2.4.0/pretrained_models.html"
   ]
  },
  {
   "cell_type": "code",
   "execution_count": null,
   "id": "4b1884dd",
   "metadata": {},
   "outputs": [],
   "source": [
    "# executed for each batch\n",
    "# here roberta converts input_ids into embedding vectors (batch_size, seq_len, hidden_size) where hidden_size = 768 for roberta-base.\n",
    "encoder_outputs = encoder({'input_ids': input_ids, 'attention_mask': attention_mask}, training = True)\n",
    "pooled_output = encoder_outputs.pooler_output\n",
    "\n",
    "# last hidden state is a tensor (batch_size, seq_len, hidden_size) containing the contextual representation of each token.\n",
    "# cls is used to represent the entire sentence\n",
    "# hidden_states = encoder_outputs.last_hidden_state\n",
    "# cls_token = hidden_states[:, 0, :]"
   ]
  },
  {
   "cell_type": "markdown",
   "id": "2ff079eb",
   "metadata": {},
   "source": [
    "### Building Classification Head"
   ]
  },
  {
   "cell_type": "code",
   "execution_count": null,
   "id": "9e570ee6",
   "metadata": {},
   "outputs": [],
   "source": [
    "\n",
    "x = keras.layers.Dense(256, activation='relu', name='dense_relu')(pooled_output)\n",
    "x = keras.layers.Dropout(0.2)(x)\n",
    "x = keras.layers.Dense(64, activation='relu')(x)\n",
    "x = keras.layers.LayerNormalization()(x)\n",
    "\n",
    "logits = keras.layers.Dense(NUM_LABELS, name='logits')(x)\n"
   ]
  },
  {
   "cell_type": "markdown",
   "id": "e6ed55ae",
   "metadata": {},
   "source": [
    "### Entire model"
   ]
  },
  {
   "cell_type": "code",
   "execution_count": null,
   "id": "4a69c6ed",
   "metadata": {},
   "outputs": [
    {
     "name": "stdout",
     "output_type": "stream",
     "text": [
      "Model: \"model_1\"\n",
      "__________________________________________________________________________________________________\n",
      " Layer (type)                Output Shape                 Param #   Connected to                  \n",
      "==================================================================================================\n",
      " attention_mask (InputLayer  [(None, 210)]                0         []                            \n",
      " )                                                                                                \n",
      "                                                                                                  \n",
      " input_ids (InputLayer)      [(None, 210)]                0         []                            \n",
      "                                                                                                  \n",
      " tf_roberta_model_1 (TFRobe  TFBaseModelOutputWithPooli   1246456   ['attention_mask[0][0]',      \n",
      " rtaModel)                   ngAndCrossAttentions(last_   32         'input_ids[0][0]']           \n",
      "                             hidden_state=(None, 210, 7                                           \n",
      "                             68),                                                                 \n",
      "                              pooler_output=(None, 768)                                           \n",
      "                             , past_key_values=None, hi                                           \n",
      "                             dden_states=None, attentio                                           \n",
      "                             ns=None, cross_attentions=                                           \n",
      "                             None)                                                                \n",
      "                                                                                                  \n",
      " tf.__operators__.getitem_1  (None, 768)                  0         ['tf_roberta_model_1[0][0]']  \n",
      "  (SlicingOpLambda)                                                                               \n",
      "                                                                                                  \n",
      " dense_relu (Dense)          (None, 256)                  196864    ['tf.__operators__.getitem_1[0\n",
      "                                                                    ][0]']                        \n",
      "                                                                                                  \n",
      " logits (Dense)              (None, 2)                    514       ['dense_relu[0][0]']          \n",
      "                                                                                                  \n",
      "==================================================================================================\n",
      "Total params: 124843010 (476.24 MB)\n",
      "Trainable params: 197378 (771.01 KB)\n",
      "Non-trainable params: 124645632 (475.49 MB)\n",
      "__________________________________________________________________________________________________\n"
     ]
    }
   ],
   "source": [
    "model = keras.Model(inputs=[input_ids, attention_mask], outputs=logits)\n",
    "model.summary()"
   ]
  },
  {
   "cell_type": "markdown",
   "id": "a5c83ae9",
   "metadata": {},
   "source": [
    "Check that encoder parameters are not retrainable"
   ]
  },
  {
   "cell_type": "code",
   "execution_count": 105,
   "id": "7a6c81df",
   "metadata": {},
   "outputs": [
    {
     "name": "stdout",
     "output_type": "stream",
     "text": [
      "attention_mask             trainable=True\n",
      "input_ids                  trainable=True\n",
      "tf_roberta_model_1         trainable=False\n",
      "tf.__operators__.getitem_1  trainable=True\n",
      "dense_relu                 trainable=True\n",
      "logits                     trainable=True\n"
     ]
    }
   ],
   "source": [
    "for i, layer in enumerate(model.layers):\n",
    "    print(f\"{layer.name:25s}  trainable={layer.trainable}\")"
   ]
  },
  {
   "cell_type": "code",
   "execution_count": null,
   "id": "6953b8e5",
   "metadata": {},
   "outputs": [],
   "source": [
    "base_opt = keras.optimizers.AdamW(           # da tensorflow-addons\n",
    "    learning_rate = LEARNING_RATE,\n",
    "    weight_decay  = 1e-2,\n",
    "    epsilon       = 1e-8,\n",
    "    clipnorm      = 1.0,\n",
    "\n",
    ")\n",
    "\n",
    "optimizer = keras.mixed_precision.LossScaleOptimizer(base_opt)\n",
    "loss=  keras.losses.SparseCategoricalCrossentropy(from_logits=True) \n",
    "model.compile(optimizer=optimizer, loss=loss, metrics=[\"sparse_categorical_accuracy\"])"
   ]
  },
  {
   "cell_type": "code",
   "execution_count": null,
   "id": "1d854fd5",
   "metadata": {},
   "outputs": [],
   "source": [
    "total_batches = tf.data.experimental.cardinality(tensor_dataset).numpy() \n",
    "val_batches   = int(total_batches * 0.2)               \n",
    "\n",
    "val_dataset   = tensor_dataset.take(val_batches)      \n",
    "train_dataset = tensor_dataset.skip(val_batches)"
   ]
  },
  {
   "cell_type": "markdown",
   "id": "4305a2d0",
   "metadata": {},
   "source": [
    "Define batches"
   ]
  },
  {
   "cell_type": "code",
   "execution_count": null,
   "id": "6dc54c27",
   "metadata": {},
   "outputs": [],
   "source": [
    "N = len(d[\"label\"])\n",
    "steps_per_epoch = N // BATCH_SIZE\n",
    "val_size      = int(0.2 * N)\n",
    "val_batches   = val_size // BATCH_SIZE\n",
    "train_batches = (N - val_size) // BATCH_SIZE"
   ]
  },
  {
   "cell_type": "markdown",
   "id": "d3c51f5f",
   "metadata": {},
   "source": [
    "Split dataset"
   ]
  },
  {
   "cell_type": "code",
   "execution_count": null,
   "id": "261b5524",
   "metadata": {},
   "outputs": [],
   "source": [
    "val_dataset   = tensor_dataset.take(val_batches)\n",
    "train_dataset = tensor_dataset.skip(val_batches)"
   ]
  },
  {
   "cell_type": "code",
   "execution_count": null,
   "id": "d80c2b3b",
   "metadata": {},
   "outputs": [],
   "source": [
    "import time\n",
    "start_time = time.time()"
   ]
  },
  {
   "cell_type": "code",
   "execution_count": null,
   "id": "b7ed0b12",
   "metadata": {},
   "outputs": [],
   "source": [
    "from tf_keras.callbacks import EarlyStopping\n",
    "\n",
    "early_stop = EarlyStopping(\n",
    "    monitor='val_loss',        # controlla la loss di validazione\n",
    "    patience=2,                # se non migliora per 2 epoche, interrompe\n",
    "    restore_best_weights=True, # ricarica i pesi migliori visti finora\n",
    "    verbose=1                  # stampa un messaggio quando scatta\n",
    ")"
   ]
  },
  {
   "cell_type": "code",
   "execution_count": null,
   "id": "9f3bff6b",
   "metadata": {},
   "outputs": [
    {
     "name": "stdout",
     "output_type": "stream",
     "text": [
      "Epoch 1/5\n",
      "  11/5000 [..............................] - ETA: 1:57:49 - loss: 6.4087 - accuracy: 0.4943"
     ]
    },
    {
     "ename": "KeyboardInterrupt",
     "evalue": "",
     "output_type": "error",
     "traceback": [
      "\u001b[0;31m---------------------------------------------------------------------------\u001b[0m",
      "\u001b[0;31mKeyboardInterrupt\u001b[0m                         Traceback (most recent call last)",
      "Cell \u001b[0;32mIn[114], line 1\u001b[0m\n\u001b[0;32m----> 1\u001b[0m history \u001b[38;5;241m=\u001b[39m \u001b[43mmodel\u001b[49m\u001b[38;5;241;43m.\u001b[39;49m\u001b[43mfit\u001b[49m\u001b[43m(\u001b[49m\n\u001b[1;32m      2\u001b[0m \u001b[43m    \u001b[49m\u001b[43mtrain_dataset\u001b[49m\u001b[43m,\u001b[49m\n\u001b[1;32m      3\u001b[0m \u001b[43m    \u001b[49m\u001b[43mvalidation_data\u001b[49m\u001b[38;5;241;43m=\u001b[39;49m\u001b[43m \u001b[49m\u001b[43mval_dataset\u001b[49m\u001b[43m,\u001b[49m\n\u001b[1;32m      4\u001b[0m \u001b[43m    \u001b[49m\u001b[43mepochs\u001b[49m\u001b[38;5;241;43m=\u001b[39;49m\u001b[43mEPOCHS\u001b[49m\n\u001b[1;32m      5\u001b[0m \u001b[43m)\u001b[49m\n",
      "File \u001b[0;32m~/.pyenv/versions/3.12.4/lib/python3.12/site-packages/tf_keras/src/utils/traceback_utils.py:65\u001b[0m, in \u001b[0;36mfilter_traceback.<locals>.error_handler\u001b[0;34m(*args, **kwargs)\u001b[0m\n\u001b[1;32m     63\u001b[0m filtered_tb \u001b[38;5;241m=\u001b[39m \u001b[38;5;28;01mNone\u001b[39;00m\n\u001b[1;32m     64\u001b[0m \u001b[38;5;28;01mtry\u001b[39;00m:\n\u001b[0;32m---> 65\u001b[0m     \u001b[38;5;28;01mreturn\u001b[39;00m \u001b[43mfn\u001b[49m\u001b[43m(\u001b[49m\u001b[38;5;241;43m*\u001b[39;49m\u001b[43margs\u001b[49m\u001b[43m,\u001b[49m\u001b[43m \u001b[49m\u001b[38;5;241;43m*\u001b[39;49m\u001b[38;5;241;43m*\u001b[39;49m\u001b[43mkwargs\u001b[49m\u001b[43m)\u001b[49m\n\u001b[1;32m     66\u001b[0m \u001b[38;5;28;01mexcept\u001b[39;00m \u001b[38;5;167;01mException\u001b[39;00m \u001b[38;5;28;01mas\u001b[39;00m e:\n\u001b[1;32m     67\u001b[0m     filtered_tb \u001b[38;5;241m=\u001b[39m _process_traceback_frames(e\u001b[38;5;241m.\u001b[39m__traceback__)\n",
      "File \u001b[0;32m~/.pyenv/versions/3.12.4/lib/python3.12/site-packages/tf_keras/src/engine/training.py:1804\u001b[0m, in \u001b[0;36mModel.fit\u001b[0;34m(self, x, y, batch_size, epochs, verbose, callbacks, validation_split, validation_data, shuffle, class_weight, sample_weight, initial_epoch, steps_per_epoch, validation_steps, validation_batch_size, validation_freq, max_queue_size, workers, use_multiprocessing)\u001b[0m\n\u001b[1;32m   1796\u001b[0m \u001b[38;5;28;01mwith\u001b[39;00m tf\u001b[38;5;241m.\u001b[39mprofiler\u001b[38;5;241m.\u001b[39mexperimental\u001b[38;5;241m.\u001b[39mTrace(\n\u001b[1;32m   1797\u001b[0m     \u001b[38;5;124m\"\u001b[39m\u001b[38;5;124mtrain\u001b[39m\u001b[38;5;124m\"\u001b[39m,\n\u001b[1;32m   1798\u001b[0m     epoch_num\u001b[38;5;241m=\u001b[39mepoch,\n\u001b[0;32m   (...)\u001b[0m\n\u001b[1;32m   1801\u001b[0m     _r\u001b[38;5;241m=\u001b[39m\u001b[38;5;241m1\u001b[39m,\n\u001b[1;32m   1802\u001b[0m ):\n\u001b[1;32m   1803\u001b[0m     callbacks\u001b[38;5;241m.\u001b[39mon_train_batch_begin(step)\n\u001b[0;32m-> 1804\u001b[0m     tmp_logs \u001b[38;5;241m=\u001b[39m \u001b[38;5;28;43mself\u001b[39;49m\u001b[38;5;241;43m.\u001b[39;49m\u001b[43mtrain_function\u001b[49m\u001b[43m(\u001b[49m\u001b[43miterator\u001b[49m\u001b[43m)\u001b[49m\n\u001b[1;32m   1805\u001b[0m     \u001b[38;5;28;01mif\u001b[39;00m data_handler\u001b[38;5;241m.\u001b[39mshould_sync:\n\u001b[1;32m   1806\u001b[0m         context\u001b[38;5;241m.\u001b[39masync_wait()\n",
      "File \u001b[0;32m~/.pyenv/versions/3.12.4/lib/python3.12/site-packages/tensorflow/python/util/traceback_utils.py:150\u001b[0m, in \u001b[0;36mfilter_traceback.<locals>.error_handler\u001b[0;34m(*args, **kwargs)\u001b[0m\n\u001b[1;32m    148\u001b[0m filtered_tb \u001b[38;5;241m=\u001b[39m \u001b[38;5;28;01mNone\u001b[39;00m\n\u001b[1;32m    149\u001b[0m \u001b[38;5;28;01mtry\u001b[39;00m:\n\u001b[0;32m--> 150\u001b[0m   \u001b[38;5;28;01mreturn\u001b[39;00m \u001b[43mfn\u001b[49m\u001b[43m(\u001b[49m\u001b[38;5;241;43m*\u001b[39;49m\u001b[43margs\u001b[49m\u001b[43m,\u001b[49m\u001b[43m \u001b[49m\u001b[38;5;241;43m*\u001b[39;49m\u001b[38;5;241;43m*\u001b[39;49m\u001b[43mkwargs\u001b[49m\u001b[43m)\u001b[49m\n\u001b[1;32m    151\u001b[0m \u001b[38;5;28;01mexcept\u001b[39;00m \u001b[38;5;167;01mException\u001b[39;00m \u001b[38;5;28;01mas\u001b[39;00m e:\n\u001b[1;32m    152\u001b[0m   filtered_tb \u001b[38;5;241m=\u001b[39m _process_traceback_frames(e\u001b[38;5;241m.\u001b[39m__traceback__)\n",
      "File \u001b[0;32m~/.pyenv/versions/3.12.4/lib/python3.12/site-packages/tensorflow/python/eager/polymorphic_function/polymorphic_function.py:833\u001b[0m, in \u001b[0;36mFunction.__call__\u001b[0;34m(self, *args, **kwds)\u001b[0m\n\u001b[1;32m    830\u001b[0m compiler \u001b[38;5;241m=\u001b[39m \u001b[38;5;124m\"\u001b[39m\u001b[38;5;124mxla\u001b[39m\u001b[38;5;124m\"\u001b[39m \u001b[38;5;28;01mif\u001b[39;00m \u001b[38;5;28mself\u001b[39m\u001b[38;5;241m.\u001b[39m_jit_compile \u001b[38;5;28;01melse\u001b[39;00m \u001b[38;5;124m\"\u001b[39m\u001b[38;5;124mnonXla\u001b[39m\u001b[38;5;124m\"\u001b[39m\n\u001b[1;32m    832\u001b[0m \u001b[38;5;28;01mwith\u001b[39;00m OptionalXlaContext(\u001b[38;5;28mself\u001b[39m\u001b[38;5;241m.\u001b[39m_jit_compile):\n\u001b[0;32m--> 833\u001b[0m   result \u001b[38;5;241m=\u001b[39m \u001b[38;5;28;43mself\u001b[39;49m\u001b[38;5;241;43m.\u001b[39;49m\u001b[43m_call\u001b[49m\u001b[43m(\u001b[49m\u001b[38;5;241;43m*\u001b[39;49m\u001b[43margs\u001b[49m\u001b[43m,\u001b[49m\u001b[43m \u001b[49m\u001b[38;5;241;43m*\u001b[39;49m\u001b[38;5;241;43m*\u001b[39;49m\u001b[43mkwds\u001b[49m\u001b[43m)\u001b[49m\n\u001b[1;32m    835\u001b[0m new_tracing_count \u001b[38;5;241m=\u001b[39m \u001b[38;5;28mself\u001b[39m\u001b[38;5;241m.\u001b[39mexperimental_get_tracing_count()\n\u001b[1;32m    836\u001b[0m without_tracing \u001b[38;5;241m=\u001b[39m (tracing_count \u001b[38;5;241m==\u001b[39m new_tracing_count)\n",
      "File \u001b[0;32m~/.pyenv/versions/3.12.4/lib/python3.12/site-packages/tensorflow/python/eager/polymorphic_function/polymorphic_function.py:869\u001b[0m, in \u001b[0;36mFunction._call\u001b[0;34m(self, *args, **kwds)\u001b[0m\n\u001b[1;32m    866\u001b[0m   \u001b[38;5;28mself\u001b[39m\u001b[38;5;241m.\u001b[39m_lock\u001b[38;5;241m.\u001b[39mrelease()\n\u001b[1;32m    867\u001b[0m   \u001b[38;5;66;03m# In this case we have created variables on the first call, so we run the\u001b[39;00m\n\u001b[1;32m    868\u001b[0m   \u001b[38;5;66;03m# defunned version which is guaranteed to never create variables.\u001b[39;00m\n\u001b[0;32m--> 869\u001b[0m   \u001b[38;5;28;01mreturn\u001b[39;00m \u001b[43mtracing_compilation\u001b[49m\u001b[38;5;241;43m.\u001b[39;49m\u001b[43mcall_function\u001b[49m\u001b[43m(\u001b[49m\n\u001b[1;32m    870\u001b[0m \u001b[43m      \u001b[49m\u001b[43margs\u001b[49m\u001b[43m,\u001b[49m\u001b[43m \u001b[49m\u001b[43mkwds\u001b[49m\u001b[43m,\u001b[49m\u001b[43m \u001b[49m\u001b[38;5;28;43mself\u001b[39;49m\u001b[38;5;241;43m.\u001b[39;49m\u001b[43m_no_variable_creation_config\u001b[49m\n\u001b[1;32m    871\u001b[0m \u001b[43m  \u001b[49m\u001b[43m)\u001b[49m\n\u001b[1;32m    872\u001b[0m \u001b[38;5;28;01melif\u001b[39;00m \u001b[38;5;28mself\u001b[39m\u001b[38;5;241m.\u001b[39m_variable_creation_config \u001b[38;5;129;01mis\u001b[39;00m \u001b[38;5;129;01mnot\u001b[39;00m \u001b[38;5;28;01mNone\u001b[39;00m:\n\u001b[1;32m    873\u001b[0m   \u001b[38;5;66;03m# Release the lock early so that multiple threads can perform the call\u001b[39;00m\n\u001b[1;32m    874\u001b[0m   \u001b[38;5;66;03m# in parallel.\u001b[39;00m\n\u001b[1;32m    875\u001b[0m   \u001b[38;5;28mself\u001b[39m\u001b[38;5;241m.\u001b[39m_lock\u001b[38;5;241m.\u001b[39mrelease()\n",
      "File \u001b[0;32m~/.pyenv/versions/3.12.4/lib/python3.12/site-packages/tensorflow/python/eager/polymorphic_function/tracing_compilation.py:139\u001b[0m, in \u001b[0;36mcall_function\u001b[0;34m(args, kwargs, tracing_options)\u001b[0m\n\u001b[1;32m    137\u001b[0m bound_args \u001b[38;5;241m=\u001b[39m function\u001b[38;5;241m.\u001b[39mfunction_type\u001b[38;5;241m.\u001b[39mbind(\u001b[38;5;241m*\u001b[39margs, \u001b[38;5;241m*\u001b[39m\u001b[38;5;241m*\u001b[39mkwargs)\n\u001b[1;32m    138\u001b[0m flat_inputs \u001b[38;5;241m=\u001b[39m function\u001b[38;5;241m.\u001b[39mfunction_type\u001b[38;5;241m.\u001b[39munpack_inputs(bound_args)\n\u001b[0;32m--> 139\u001b[0m \u001b[38;5;28;01mreturn\u001b[39;00m \u001b[43mfunction\u001b[49m\u001b[38;5;241;43m.\u001b[39;49m\u001b[43m_call_flat\u001b[49m\u001b[43m(\u001b[49m\u001b[43m  \u001b[49m\u001b[38;5;66;43;03m# pylint: disable=protected-access\u001b[39;49;00m\n\u001b[1;32m    140\u001b[0m \u001b[43m    \u001b[49m\u001b[43mflat_inputs\u001b[49m\u001b[43m,\u001b[49m\u001b[43m \u001b[49m\u001b[43mcaptured_inputs\u001b[49m\u001b[38;5;241;43m=\u001b[39;49m\u001b[43mfunction\u001b[49m\u001b[38;5;241;43m.\u001b[39;49m\u001b[43mcaptured_inputs\u001b[49m\n\u001b[1;32m    141\u001b[0m \u001b[43m\u001b[49m\u001b[43m)\u001b[49m\n",
      "File \u001b[0;32m~/.pyenv/versions/3.12.4/lib/python3.12/site-packages/tensorflow/python/eager/polymorphic_function/concrete_function.py:1322\u001b[0m, in \u001b[0;36mConcreteFunction._call_flat\u001b[0;34m(self, tensor_inputs, captured_inputs)\u001b[0m\n\u001b[1;32m   1318\u001b[0m possible_gradient_type \u001b[38;5;241m=\u001b[39m gradients_util\u001b[38;5;241m.\u001b[39mPossibleTapeGradientTypes(args)\n\u001b[1;32m   1319\u001b[0m \u001b[38;5;28;01mif\u001b[39;00m (possible_gradient_type \u001b[38;5;241m==\u001b[39m gradients_util\u001b[38;5;241m.\u001b[39mPOSSIBLE_GRADIENT_TYPES_NONE\n\u001b[1;32m   1320\u001b[0m     \u001b[38;5;129;01mand\u001b[39;00m executing_eagerly):\n\u001b[1;32m   1321\u001b[0m   \u001b[38;5;66;03m# No tape is watching; skip to running the function.\u001b[39;00m\n\u001b[0;32m-> 1322\u001b[0m   \u001b[38;5;28;01mreturn\u001b[39;00m \u001b[38;5;28;43mself\u001b[39;49m\u001b[38;5;241;43m.\u001b[39;49m\u001b[43m_inference_function\u001b[49m\u001b[38;5;241;43m.\u001b[39;49m\u001b[43mcall_preflattened\u001b[49m\u001b[43m(\u001b[49m\u001b[43margs\u001b[49m\u001b[43m)\u001b[49m\n\u001b[1;32m   1323\u001b[0m forward_backward \u001b[38;5;241m=\u001b[39m \u001b[38;5;28mself\u001b[39m\u001b[38;5;241m.\u001b[39m_select_forward_and_backward_functions(\n\u001b[1;32m   1324\u001b[0m     args,\n\u001b[1;32m   1325\u001b[0m     possible_gradient_type,\n\u001b[1;32m   1326\u001b[0m     executing_eagerly)\n\u001b[1;32m   1327\u001b[0m forward_function, args_with_tangents \u001b[38;5;241m=\u001b[39m forward_backward\u001b[38;5;241m.\u001b[39mforward()\n",
      "File \u001b[0;32m~/.pyenv/versions/3.12.4/lib/python3.12/site-packages/tensorflow/python/eager/polymorphic_function/atomic_function.py:216\u001b[0m, in \u001b[0;36mAtomicFunction.call_preflattened\u001b[0;34m(self, args)\u001b[0m\n\u001b[1;32m    214\u001b[0m \u001b[38;5;28;01mdef\u001b[39;00m \u001b[38;5;21mcall_preflattened\u001b[39m(\u001b[38;5;28mself\u001b[39m, args: Sequence[core\u001b[38;5;241m.\u001b[39mTensor]) \u001b[38;5;241m-\u001b[39m\u001b[38;5;241m>\u001b[39m Any:\n\u001b[1;32m    215\u001b[0m \u001b[38;5;250m  \u001b[39m\u001b[38;5;124;03m\"\"\"Calls with flattened tensor inputs and returns the structured output.\"\"\"\u001b[39;00m\n\u001b[0;32m--> 216\u001b[0m   flat_outputs \u001b[38;5;241m=\u001b[39m \u001b[38;5;28;43mself\u001b[39;49m\u001b[38;5;241;43m.\u001b[39;49m\u001b[43mcall_flat\u001b[49m\u001b[43m(\u001b[49m\u001b[38;5;241;43m*\u001b[39;49m\u001b[43margs\u001b[49m\u001b[43m)\u001b[49m\n\u001b[1;32m    217\u001b[0m   \u001b[38;5;28;01mreturn\u001b[39;00m \u001b[38;5;28mself\u001b[39m\u001b[38;5;241m.\u001b[39mfunction_type\u001b[38;5;241m.\u001b[39mpack_output(flat_outputs)\n",
      "File \u001b[0;32m~/.pyenv/versions/3.12.4/lib/python3.12/site-packages/tensorflow/python/eager/polymorphic_function/atomic_function.py:251\u001b[0m, in \u001b[0;36mAtomicFunction.call_flat\u001b[0;34m(self, *args)\u001b[0m\n\u001b[1;32m    249\u001b[0m \u001b[38;5;28;01mwith\u001b[39;00m record\u001b[38;5;241m.\u001b[39mstop_recording():\n\u001b[1;32m    250\u001b[0m   \u001b[38;5;28;01mif\u001b[39;00m \u001b[38;5;28mself\u001b[39m\u001b[38;5;241m.\u001b[39m_bound_context\u001b[38;5;241m.\u001b[39mexecuting_eagerly():\n\u001b[0;32m--> 251\u001b[0m     outputs \u001b[38;5;241m=\u001b[39m \u001b[38;5;28;43mself\u001b[39;49m\u001b[38;5;241;43m.\u001b[39;49m\u001b[43m_bound_context\u001b[49m\u001b[38;5;241;43m.\u001b[39;49m\u001b[43mcall_function\u001b[49m\u001b[43m(\u001b[49m\n\u001b[1;32m    252\u001b[0m \u001b[43m        \u001b[49m\u001b[38;5;28;43mself\u001b[39;49m\u001b[38;5;241;43m.\u001b[39;49m\u001b[43mname\u001b[49m\u001b[43m,\u001b[49m\n\u001b[1;32m    253\u001b[0m \u001b[43m        \u001b[49m\u001b[38;5;28;43mlist\u001b[39;49m\u001b[43m(\u001b[49m\u001b[43margs\u001b[49m\u001b[43m)\u001b[49m\u001b[43m,\u001b[49m\n\u001b[1;32m    254\u001b[0m \u001b[43m        \u001b[49m\u001b[38;5;28;43mlen\u001b[39;49m\u001b[43m(\u001b[49m\u001b[38;5;28;43mself\u001b[39;49m\u001b[38;5;241;43m.\u001b[39;49m\u001b[43mfunction_type\u001b[49m\u001b[38;5;241;43m.\u001b[39;49m\u001b[43mflat_outputs\u001b[49m\u001b[43m)\u001b[49m\u001b[43m,\u001b[49m\n\u001b[1;32m    255\u001b[0m \u001b[43m    \u001b[49m\u001b[43m)\u001b[49m\n\u001b[1;32m    256\u001b[0m   \u001b[38;5;28;01melse\u001b[39;00m:\n\u001b[1;32m    257\u001b[0m     outputs \u001b[38;5;241m=\u001b[39m make_call_op_in_graph(\n\u001b[1;32m    258\u001b[0m         \u001b[38;5;28mself\u001b[39m,\n\u001b[1;32m    259\u001b[0m         \u001b[38;5;28mlist\u001b[39m(args),\n\u001b[1;32m    260\u001b[0m         \u001b[38;5;28mself\u001b[39m\u001b[38;5;241m.\u001b[39m_bound_context\u001b[38;5;241m.\u001b[39mfunction_call_options\u001b[38;5;241m.\u001b[39mas_attrs(),\n\u001b[1;32m    261\u001b[0m     )\n",
      "File \u001b[0;32m~/.pyenv/versions/3.12.4/lib/python3.12/site-packages/tensorflow/python/eager/context.py:1688\u001b[0m, in \u001b[0;36mContext.call_function\u001b[0;34m(self, name, tensor_inputs, num_outputs)\u001b[0m\n\u001b[1;32m   1686\u001b[0m cancellation_context \u001b[38;5;241m=\u001b[39m cancellation\u001b[38;5;241m.\u001b[39mcontext()\n\u001b[1;32m   1687\u001b[0m \u001b[38;5;28;01mif\u001b[39;00m cancellation_context \u001b[38;5;129;01mis\u001b[39;00m \u001b[38;5;28;01mNone\u001b[39;00m:\n\u001b[0;32m-> 1688\u001b[0m   outputs \u001b[38;5;241m=\u001b[39m \u001b[43mexecute\u001b[49m\u001b[38;5;241;43m.\u001b[39;49m\u001b[43mexecute\u001b[49m\u001b[43m(\u001b[49m\n\u001b[1;32m   1689\u001b[0m \u001b[43m      \u001b[49m\u001b[43mname\u001b[49m\u001b[38;5;241;43m.\u001b[39;49m\u001b[43mdecode\u001b[49m\u001b[43m(\u001b[49m\u001b[38;5;124;43m\"\u001b[39;49m\u001b[38;5;124;43mutf-8\u001b[39;49m\u001b[38;5;124;43m\"\u001b[39;49m\u001b[43m)\u001b[49m\u001b[43m,\u001b[49m\n\u001b[1;32m   1690\u001b[0m \u001b[43m      \u001b[49m\u001b[43mnum_outputs\u001b[49m\u001b[38;5;241;43m=\u001b[39;49m\u001b[43mnum_outputs\u001b[49m\u001b[43m,\u001b[49m\n\u001b[1;32m   1691\u001b[0m \u001b[43m      \u001b[49m\u001b[43minputs\u001b[49m\u001b[38;5;241;43m=\u001b[39;49m\u001b[43mtensor_inputs\u001b[49m\u001b[43m,\u001b[49m\n\u001b[1;32m   1692\u001b[0m \u001b[43m      \u001b[49m\u001b[43mattrs\u001b[49m\u001b[38;5;241;43m=\u001b[39;49m\u001b[43mattrs\u001b[49m\u001b[43m,\u001b[49m\n\u001b[1;32m   1693\u001b[0m \u001b[43m      \u001b[49m\u001b[43mctx\u001b[49m\u001b[38;5;241;43m=\u001b[39;49m\u001b[38;5;28;43mself\u001b[39;49m\u001b[43m,\u001b[49m\n\u001b[1;32m   1694\u001b[0m \u001b[43m  \u001b[49m\u001b[43m)\u001b[49m\n\u001b[1;32m   1695\u001b[0m \u001b[38;5;28;01melse\u001b[39;00m:\n\u001b[1;32m   1696\u001b[0m   outputs \u001b[38;5;241m=\u001b[39m execute\u001b[38;5;241m.\u001b[39mexecute_with_cancellation(\n\u001b[1;32m   1697\u001b[0m       name\u001b[38;5;241m.\u001b[39mdecode(\u001b[38;5;124m\"\u001b[39m\u001b[38;5;124mutf-8\u001b[39m\u001b[38;5;124m\"\u001b[39m),\n\u001b[1;32m   1698\u001b[0m       num_outputs\u001b[38;5;241m=\u001b[39mnum_outputs,\n\u001b[0;32m   (...)\u001b[0m\n\u001b[1;32m   1702\u001b[0m       cancellation_manager\u001b[38;5;241m=\u001b[39mcancellation_context,\n\u001b[1;32m   1703\u001b[0m   )\n",
      "File \u001b[0;32m~/.pyenv/versions/3.12.4/lib/python3.12/site-packages/tensorflow/python/eager/execute.py:53\u001b[0m, in \u001b[0;36mquick_execute\u001b[0;34m(op_name, num_outputs, inputs, attrs, ctx, name)\u001b[0m\n\u001b[1;32m     51\u001b[0m \u001b[38;5;28;01mtry\u001b[39;00m:\n\u001b[1;32m     52\u001b[0m   ctx\u001b[38;5;241m.\u001b[39mensure_initialized()\n\u001b[0;32m---> 53\u001b[0m   tensors \u001b[38;5;241m=\u001b[39m \u001b[43mpywrap_tfe\u001b[49m\u001b[38;5;241;43m.\u001b[39;49m\u001b[43mTFE_Py_Execute\u001b[49m\u001b[43m(\u001b[49m\u001b[43mctx\u001b[49m\u001b[38;5;241;43m.\u001b[39;49m\u001b[43m_handle\u001b[49m\u001b[43m,\u001b[49m\u001b[43m \u001b[49m\u001b[43mdevice_name\u001b[49m\u001b[43m,\u001b[49m\u001b[43m \u001b[49m\u001b[43mop_name\u001b[49m\u001b[43m,\u001b[49m\n\u001b[1;32m     54\u001b[0m \u001b[43m                                      \u001b[49m\u001b[43minputs\u001b[49m\u001b[43m,\u001b[49m\u001b[43m \u001b[49m\u001b[43mattrs\u001b[49m\u001b[43m,\u001b[49m\u001b[43m \u001b[49m\u001b[43mnum_outputs\u001b[49m\u001b[43m)\u001b[49m\n\u001b[1;32m     55\u001b[0m \u001b[38;5;28;01mexcept\u001b[39;00m core\u001b[38;5;241m.\u001b[39m_NotOkStatusException \u001b[38;5;28;01mas\u001b[39;00m e:\n\u001b[1;32m     56\u001b[0m   \u001b[38;5;28;01mif\u001b[39;00m name \u001b[38;5;129;01mis\u001b[39;00m \u001b[38;5;129;01mnot\u001b[39;00m \u001b[38;5;28;01mNone\u001b[39;00m:\n",
      "\u001b[0;31mKeyboardInterrupt\u001b[0m: "
     ]
    }
   ],
   "source": [
    "history = model.fit(\n",
    "    train_dataset,\n",
    "    validation_data= val_dataset,\n",
    "    epochs=EPOCHS,\n",
    "    callbacks=[early_stop] \n",
    ")"
   ]
  },
  {
   "cell_type": "code",
   "execution_count": null,
   "id": "a21f469e",
   "metadata": {},
   "outputs": [],
   "source": [
    "end_time = time.time()\n",
    "elapsed = end_time - start_time\n",
    "\n",
    "print(f\"⏱️ Total training time: {elapsed:.1f} s ({elapsed/60:.2f} min)\")"
   ]
  },
  {
   "cell_type": "markdown",
   "id": "9745017b",
   "metadata": {},
   "source": [
    "### Save model"
   ]
  },
  {
   "cell_type": "code",
   "execution_count": null,
   "id": "87aeb5f8",
   "metadata": {},
   "outputs": [],
   "source": [
    "import time, json, os\n",
    "from google.colab import drive\n",
    "\n",
    "drive.mount('/content/drive')\n",
    "\n",
    "save_path = '/content/drive/HLT_models/roberta-keras-custom'\n",
    "os.makedirs(save_path, exist_ok=True)\n",
    "\n",
    "model.save_pretrained(save_path)\n",
    "tokenizer.save_pretrained(save_path)\n",
    "\n",
    "metadata = {\n",
    "    \"timestamp\":          time.strftime(\"%Y-%m-%d %H:%M:%S\"),\n",
    "    \"total_training_time_s\": round(elapsed, 1),\n",
    "    \"num_train_samples\":     SAMPLE_SIZE,\n",
    "    \"batch_size\":            BATCH_SIZE,\n",
    "    \"epochs\":                EPOCHS,\n",
    "    \"encoder_trainable\":     ENCODER_TRAINABLE,\n",
    "    \"history\":               history.history   # contiene loss & metriche per epoca\n",
    "}\n",
    "\n",
    "with open(os.path.join(save_path, 'training_metadata_roberta_custom.json'), 'w') as f:\n",
    "    json.dump(metadata, f, indent=2)\n",
    "\n",
    "print(f\"Saved model + tokenizer + metadata in {save_path}\")"
   ]
  }
 ],
 "metadata": {
  "kernelspec": {
   "display_name": "3.12.4",
   "language": "python",
   "name": "python3"
  },
  "language_info": {
   "codemirror_mode": {
    "name": "ipython",
    "version": 3
   },
   "file_extension": ".py",
   "mimetype": "text/x-python",
   "name": "python",
   "nbconvert_exporter": "python",
   "pygments_lexer": "ipython3",
   "version": "3.12.4"
  }
 },
 "nbformat": 4,
 "nbformat_minor": 5
}
